{
  "cells": [
    {
      "cell_type": "markdown",
      "metadata": {
        "id": "z_xhvUO10XD6"
      },
      "source": [
        "# 教師なし学習法（編集中）"
      ]
    },
    {
      "cell_type": "markdown",
      "metadata": {
        "id": "CZQz79CS4WfU"
      },
      "source": [
        "## 教師なし学習法とは"
      ]
    },
    {
      "cell_type": "markdown",
      "metadata": {
        "id": "2h6iDCxGOk2p"
      },
      "source": [
        "ほげ"
      ]
    },
    {
      "cell_type": "markdown",
      "metadata": {
        "id": "hRH4_yZ_4Wfa"
      },
      "source": [
        "### 対象となるデータ"
      ]
    },
    {
      "cell_type": "markdown",
      "metadata": {
        "id": "bKTIvsvhOk2q"
      },
      "source": [
        "ほげ"
      ]
    },
    {
      "cell_type": "markdown",
      "metadata": {
        "id": "GY_5W2UBOk2q"
      },
      "source": [
        "### 機械学習アルゴリズム"
      ]
    },
    {
      "cell_type": "markdown",
      "metadata": {
        "id": "6-V6Zd8XOk2q"
      },
      "source": [
        "ほげ"
      ]
    },
    {
      "cell_type": "markdown",
      "metadata": {
        "id": "BQLfpnwoOk2r"
      },
      "source": [
        "## scikit-learn による実装"
      ]
    },
    {
      "cell_type": "markdown",
      "metadata": {
        "id": "AcnoJlnfOk2r"
      },
      "source": [
        "ほげ"
      ]
    },
    {
      "cell_type": "markdown",
      "metadata": {
        "id": "7JIH6ZHaOk2s"
      },
      "source": [
        "### 階層的クラスタリング法"
      ]
    },
    {
      "cell_type": "markdown",
      "metadata": {
        "id": "zRbtig5lOk2s"
      },
      "source": [
        "ほげ"
      ]
    },
    {
      "cell_type": "markdown",
      "metadata": {
        "id": "JdFQn5noOk2s"
      },
      "source": [
        "### $k$-means"
      ]
    },
    {
      "cell_type": "markdown",
      "metadata": {
        "id": "YT9agRvoOk2t"
      },
      "source": [
        "ほげ"
      ]
    },
    {
      "cell_type": "markdown",
      "metadata": {
        "id": "6cwUb15zOk2t"
      },
      "source": [
        "### 主成分分析法"
      ]
    },
    {
      "cell_type": "markdown",
      "metadata": {
        "id": "MFRSh4DUOk2t"
      },
      "source": [
        "ほげ"
      ]
    },
    {
      "cell_type": "markdown",
      "metadata": {
        "id": "PxolXhqEOk2t"
      },
      "source": [
        "### 自己組織化マップ"
      ]
    },
    {
      "cell_type": "markdown",
      "metadata": {
        "id": "M9Mh-KoTOk2t"
      },
      "source": [
        "ほげ"
      ]
    },
    {
      "cell_type": "markdown",
      "metadata": {
        "id": "_rfC8Kj03omW"
      },
      "source": [
        "```{note}\n",
        "終わりです．\n",
        "```"
      ]
    }
  ],
  "metadata": {
    "colab": {
      "collapsed_sections": [],
      "name": "scikit-learn-2.ipynb",
      "provenance": [],
      "toc_visible": true
    },
    "kernelspec": {
      "display_name": "Python 3 (ipykernel)",
      "language": "python",
      "name": "python3"
    },
    "language_info": {
      "codemirror_mode": {
        "name": "ipython",
        "version": 3
      },
      "file_extension": ".py",
      "mimetype": "text/x-python",
      "name": "python",
      "nbconvert_exporter": "python",
      "pygments_lexer": "ipython3",
      "version": "3.7.7"
    }
  },
  "nbformat": 4,
  "nbformat_minor": 0
}