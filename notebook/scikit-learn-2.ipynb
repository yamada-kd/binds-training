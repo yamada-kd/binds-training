{
  "cells": [
    {
      "cell_type": "markdown",
      "metadata": {
        "id": "z_xhvUO10XD6"
      },
      "source": [
        "# 教師なし学習法（編集中）"
      ]
    },
    {
      "cell_type": "markdown",
      "metadata": {
        "id": "CZQz79CS4WfU"
      },
      "source": [
        "## 教師なし学習法の種類"
      ]
    },
    {
      "cell_type": "markdown",
      "metadata": {
        "id": "2h6iDCxGOk2p"
      },
      "source": [
        "教師なし学習法には様々な種類があります．https://scikit-learn.org/stable/unsupervised_learning.html にはそれらがまとめられています．リンク先のページには以下に示すものが列挙されています．\n",
        "\n",
        "*   混合ガウスモデル\n",
        "*   多様体学習\n",
        "*   クラスタリング\n",
        "*   バイクラスタリング\n",
        "*   行列分解\n",
        "*   共分散推定\n",
        "*   外れ値検知\n",
        "*   密度推定\n",
        "*   制約付きボルツマンマシン\n",
        "\n",
        "中でも代表的なものには，階層的クラスタリング法，非階層的クラスタリング法（特に K-means），主成分分析法，t-SNE，カーネル密度推定法，自己組織化マップ，敵対的生成ネットワークがあります．教師なし学習法は主に与えられたデータの性質を理解するために利用されます．与えられたデータの中で類似しているインスタンスを集めるとか，与えられたデータの関係性を人間が理解しやすい方法（次元削減）で可視化するとかです．また，敵対的生成ネットワークはこれらとは異なり特殊な機械学習アルゴリズムで，新たなデータを生成するために利用されます．このコンテンツでは教師なし学習法の中でも scikit-learn を利用して簡単に実装できる最も代表的な手法の使い方を紹介します．"
      ]
    },
    {
      "cell_type": "markdown",
      "source": [
        "```{note}\n",
        "敵対的生成ネットワークは別に紹介します．\n",
        "```"
      ],
      "metadata": {
        "id": "3mAPiZjtfkWx"
      }
    },
    {
      "cell_type": "markdown",
      "metadata": {
        "id": "BQLfpnwoOk2r"
      },
      "source": [
        "## scikit-learn による実装"
      ]
    },
    {
      "cell_type": "markdown",
      "metadata": {
        "id": "AcnoJlnfOk2r"
      },
      "source": [
        "この節では scikit-learn を利用して，階層的クラスタリング法，K-means 法（非階層的クラスタリング法の代表的なもの），主成分分析法，カーネル密度推定法を実装します．"
      ]
    },
    {
      "cell_type": "markdown",
      "metadata": {
        "id": "7JIH6ZHaOk2s"
      },
      "source": [
        "### 階層的クラスタリング法"
      ]
    },
    {
      "cell_type": "markdown",
      "metadata": {
        "id": "zRbtig5lOk2s"
      },
      "source": [
        "ほげ"
      ]
    },
    {
      "cell_type": "markdown",
      "metadata": {
        "id": "JdFQn5noOk2s"
      },
      "source": [
        "### K-means"
      ]
    },
    {
      "cell_type": "markdown",
      "metadata": {
        "id": "YT9agRvoOk2t"
      },
      "source": [
        "ほげ"
      ]
    },
    {
      "cell_type": "markdown",
      "metadata": {
        "id": "6cwUb15zOk2t"
      },
      "source": [
        "### 主成分分析法"
      ]
    },
    {
      "cell_type": "markdown",
      "metadata": {
        "id": "MFRSh4DUOk2t"
      },
      "source": [
        "ほげ"
      ]
    },
    {
      "cell_type": "markdown",
      "metadata": {
        "id": "PxolXhqEOk2t"
      },
      "source": [
        "### カーネル密度推定法"
      ]
    },
    {
      "cell_type": "markdown",
      "metadata": {
        "id": "M9Mh-KoTOk2t"
      },
      "source": [
        "ほげ"
      ]
    },
    {
      "cell_type": "markdown",
      "metadata": {
        "id": "_rfC8Kj03omW"
      },
      "source": [
        "```{note}\n",
        "終わりです．\n",
        "```"
      ]
    }
  ],
  "metadata": {
    "colab": {
      "collapsed_sections": [],
      "name": "scikit-learn-2.ipynb",
      "provenance": [],
      "toc_visible": true
    },
    "kernelspec": {
      "display_name": "Python 3 (ipykernel)",
      "language": "python",
      "name": "python3"
    },
    "language_info": {
      "codemirror_mode": {
        "name": "ipython",
        "version": 3
      },
      "file_extension": ".py",
      "mimetype": "text/x-python",
      "name": "python",
      "nbconvert_exporter": "python",
      "pygments_lexer": "ipython3",
      "version": "3.7.7"
    }
  },
  "nbformat": 4,
  "nbformat_minor": 0
}