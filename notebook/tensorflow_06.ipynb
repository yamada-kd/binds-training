{
  "cells": [
    {
      "cell_type": "markdown",
      "metadata": {
        "id": "z_xhvUO10XD6"
      },
      "source": [
        "# アテンションネットワーク"
      ]
    },
    {
      "cell_type": "markdown",
      "source": [
        "```{note}\n",
        "作成中．\n",
        "```"
      ],
      "metadata": {
        "id": "jLJitgHzn8VQ"
      }
    },
    {
      "cell_type": "markdown",
      "metadata": {
        "id": "82Sx06lGrg3K"
      },
      "source": [
        "## 基本的な事柄"
      ]
    },
    {
      "cell_type": "markdown",
      "source": [
        "この節ではアテンションがどのようなものなのか，また，アテンションの計算方法について紹介します．"
      ],
      "metadata": {
        "id": "WmGHP_Rg9bPw"
      }
    },
    {
      "cell_type": "markdown",
      "source": [
        "### アテンションとは"
      ],
      "metadata": {
        "id": "jFZgNUUUojhl"
      }
    },
    {
      "cell_type": "markdown",
      "source": [
        "アテンション機構とは単にアテンションとも呼ばれる，ニューラルネットワークが入力データのどの部分に注目するかを明示することで予測の性能向上をさせるため技術です．例えば，何らかの風景が写っている画像を人工知能に処理させ，その画像に関する何らかの説明を自然言語によってさせるタスクを考えます．そのような場合において，人工知能が空の色に関する話題に触れる場合には，空が写っている部分の色を重点的に処理するかもしれないし，海の大きさを話題にする場合は海が写っている部分の面積を重点的に処理するかもしれません．少なくとも人は何かの意思決定をする際に，意識を対象に集中させることで複雑な情報から自身が処理すべき情報のみを抽出する能力を有しています．人工知能は人とは全く違う情報処理をしているかもしれないので，このような直接的な対応があるかどうかは定かではないですが，人の情報処理方法にヒントを得て，このような注意を払うべき部分を人工知能に教えるための技術がアテンション機構です．アテンションを有するニューラルネットワークの性能は凄まじく，アテンションネットワークの登場は CNN や RNN 等のアテンション以前に用いられていたニューラルネットワークを過去のものとしました．"
      ],
      "metadata": {
        "id": "hxoa7yuRR1a0"
      }
    },
    {
      "cell_type": "markdown",
      "source": [
        "### アテンションの計算方法"
      ],
      "metadata": {
        "id": "uN1qXrBl-ZbY"
      }
    },
    {
      "cell_type": "markdown",
      "source": [
        "アテンション機構の処理は非常に単純で簡単な式によって定義されます．アテンションの基本的な計算は以下に示す通りです．アテンション機構とは，$[\\boldsymbol{h}_1,\\boldsymbol{h}_2,\\dots,\\boldsymbol{h}_I]$ のようなデータに対して以下のような計算をして，$\\boldsymbol{c}$ を得るものです．\n",
        "\n",
        "$\n",
        "\\displaystyle \\boldsymbol{c}=\\sum_{i=1}^I{\\phi}_i\\boldsymbol{h}_i\n",
        "$\n",
        "\n",
        "このとき，スカラである $\\phi_i$ は $[0,1]$ の範囲にあり，また，以下の式を満たす値です．\n",
        "\n",
        "$\n",
        "\\displaystyle \\sum_{i=1}^I{\\phi}_i=1\n",
        "$\n",
        "\n",
        "すなわち，${\\phi}_i$ は何らかの入力に対して得られるソフトマックス関数の出力の $\\boldsymbol{\\phi}$ の $i$ 番目の要素です．よって，この $\\boldsymbol{c}$ は単に $[\\boldsymbol{h}_1,\\boldsymbol{h}_2,\\dots,\\boldsymbol{h}_I]$ の加重平均です．人工知能にこのベクトル $\\boldsymbol{c}$ を入力値として処理させる場合，$\\boldsymbol{h}_i$ に対する ${\\phi}_i$ の値を大きな値とすることで $\\boldsymbol{h}_i$ が注目すべき要素として認識されるという仕組みです．"
      ],
      "metadata": {
        "id": "k0A5sjHenmnI"
      }
    },
    {
      "cell_type": "markdown",
      "source": [
        "```{note}\n",
        "ソフトマックス関数とはベクトルを入力として，各要素が 0 から 1 の範囲内にあり，各要素の総和が 1 となるベクトルを出力する関数のひとつでした．出力データを確率として解釈できるようになるというものです．入力ベクトルと出力ベクトルの長さは等しいです．\n",
        "```"
      ],
      "metadata": {
        "id": "jSIdq9UGZw6V"
      }
    },
    {
      "cell_type": "markdown",
      "source": [
        "### セルフアテンション"
      ],
      "metadata": {
        "id": "KpdQuCalThRu"
      }
    },
    {
      "cell_type": "markdown",
      "source": [
        "あるベクトル（ソースベクトル）の各要素が別のベクトル（ターゲットベクトル）のどの要素に関連性が強いかということを明らかにしたい際にはソース・ターゲットアテンションというアテンションを計算します．これに対してこの章ではセルフアテンションを主に扱うのでこれを紹介します．セルフアテンションとは配列データの各トークン間の関連性を計算するためのものです．\n",
        "\n",
        "セルフアテンションを視覚的に紹介します．ここでは，$x_1$，$x_2$，$x_3$ という 3 個のトークン（要素）からなるベクトルを入力として $y_1$，$y_2$，$y_3$ という 3 個のトークンからなるベクトルを得ようとします．各々のトークンもベクトルであるとします．\n",
        "\n",
        "<img src=\"https://github.com/yamada-kd/binds-training/blob/main/image/selfAttention.svg?raw=1\" width=\"100%\" />\n",
        "\n",
        "アテンションの計算では最初に，$x_1$ に 3 個の別々の重みパラメータを掛け，キー，バリュー，クエリという値を得ます．図ではぞれぞれ，$k_1$，$v_1$，$q_1$ と表されています．同様の計算を $x_2$ と $x_3$ についても行います．この図は既に $y_1$ の計算は終了して $y_2$ の計算が行われているところなので，$x_2$ を例に計算を進めます．$x_2$ に対して計算したクエリの値，$q_2$ をすべてのキーの値との内積を計算します．図中の $\\odot$ は内積を計算する記号です．これによって得られた 3 個のスカラ値をその合計値が 1 となるように標準化します．これによって，0.7，0.2，0.1 という値が得られています．次にこれらの値をバリューに掛けます．これによって得られた 3 個のベクトルを足し合わせた値が $y_2$ です．これがセルフアテンションの計算です．クエリとキーの内積を計算することで，元のトークンと別のトークンの関係性を計算し，それを元のトークンに由来するバリューに掛けることで最終的に得られるベクトル（ここでは $y_2$）は別のすべてのトークンの情報を保持しているということになります．文脈情報を下流のネットワークに伝えることができるということです．\n",
        "\n",
        "以下では数式を利用してセルフアテンションを紹介します．入力配列データを $x$ とします．これは，$N$ 行 $m$ 列の行列であるとします．つまり，$N$ 個のトークンからなる配列データです．各トークンの特徴量は $m$ の長さからなるということです．セルフアテンションの計算では最初に，クエリ，キー，バリューの値を計算するのでした．$W_q$，$W_k$，$W_v$ という 3 個の重みパラメータを用いて以下のように計算します．この重みパラメータはそれぞれ $m$ 行 $d$ 列であるとします．\n",
        "\n",
        "$\n",
        "Q=  xW_q\n",
        "$\n",
        "\n",
        "$\n",
        "K=  xW_k\n",
        "$\n",
        "\n",
        "$\n",
        "V=  xW_v\n",
        "$\n",
        "\n",
        "これらを用いてアテンション $A$ は以下のように計算します．\n",
        "\n",
        "$\n",
        "\\displaystyle A(x)=\\sigma\\left(\\frac{QK^\\mathsf{T}}{\\sqrt{d}}\\right)V\n",
        "$\n",
        "\n",
        "この式の $\\sigma$ は $QK^\\mathsf{T}$ の行方向に対して計算するソフトマックス関数です．これでアテンションの計算は終わりなのですが，アテンションの計算に出てくる項の掛け算の順番を変更するという操作でアテンションの計算量を改良した線形アテンションというものがあるのでそれもあわせて紹介します．線形アテンション $L$ は以下のように計算します．\n",
        "\n",
        "$\n",
        "L(x)=\\tau(Q)(\\tau(K)^\\mathsf{T}V)\n",
        "$\n",
        "\n",
        "ここで，$\\tau$ は以下の関数です．\n",
        "\n",
        "$\n",
        "\\displaystyle \\tau(x)=\\begin{cases}\n",
        "x+1 & (x > 0) \\\\\n",
        "e^x & (x \\leq 0)\n",
        "\\end{cases}\n",
        "$\n",
        "\n",
        "アテンションの時間計算量は配列の長さ $N$ に対して $O(N^2)$ なのですが，線形アテンションの時間計算量は線形 $O(N)$ です．とても簡単な工夫なのに恐ろしくスピードアップしています．"
      ],
      "metadata": {
        "id": "1JRh3JIlTlRw"
      }
    },
    {
      "cell_type": "markdown",
      "source": [
        "```{note}\n",
        "この項ではベクトルを英小文字の太字ではなくて普通のフォントで記述していることに注意してください．\n",
        "```"
      ],
      "metadata": {
        "id": "dSgafAa00Nk2"
      }
    },
    {
      "cell_type": "markdown",
      "source": [
        "## トランスフォーマー"
      ],
      "metadata": {
        "id": "bsZO62pM6qlh"
      }
    },
    {
      "cell_type": "markdown",
      "source": [
        "トランスフォーマーはアテンションの最も有用な応用先のひとつです．トランスフォーマーの構造やその構成要素を紹介します．"
      ],
      "metadata": {
        "id": "8hudhPS2-oUE"
      }
    },
    {
      "cell_type": "markdown",
      "source": [
        "### 基本構造"
      ],
      "metadata": {
        "id": "7dJxIMos7ysQ"
      }
    },
    {
      "cell_type": "markdown",
      "metadata": {
        "id": "t3P_sTkDzu4O"
      },
      "source": [
        "トランスフォーマーとはアテンションと位置エンコード（ポジショナルエンコード）といわれる技術を用いて，再帰型ニューラルネットワークとは異なる方法で文字列を処理することができるニューラルネットワークの構造です．機械翻訳や質問応答に利用することができます．\n",
        "\n",
        "例えば，機械翻訳の場合，翻訳したい文字列を入力データ，翻訳結果の文字列を教師データとして利用します．構築した人工知能は翻訳したい文字列を入力値として受け取り，配列を出力します．配列の各要素は文字の個数と同じサイズのベクトル（その要素が何の文字なのかを示す確率ベクトル）です．\n",
        "\n",
        "トランスフォーマーはエンコーダーとデコーダーという構造からなります．エンコーダーは配列（機械翻訳の場合，翻訳したい配列）を入力にして，同じ長さの配列を出力します．デコーダーも配列（機械翻訳の場合，翻訳で得たい配列）とエンコーダーが出力した配列を入力にして同じ長さの配列（各要素は確率ベクトル）を出力します．エンコーダーが出力した配列情報をデコーダーで処理する際にアテンションが利用されます．\n",
        "\n",
        "<img src=\"https://github.com/yamada-kd/binds-training/blob/main/image/transformer.svg?raw=1\" width=\"100%\" />\n",
        "\n",
        "エンコーダーとデコーダー間のアテンション以外にも，エンコーダーとデコーダーの内部でもそれぞれアテンション（セルフアテンション）が計算されます．アテンションは文字列内における文字の関連性を計算します．\n",
        "\n",
        "トランスフォーマーは再帰型ニューラルネットワークで行うような文字の逐次的な処理が不要です．よって，計算機の並列化性能をより引き出せます．扱える文脈の長さも無限です．\n",
        "\n",
        "このトランスフォーマーはものすごい性能を発揮しており，これまでに作られてきた様々な構造を過去のものとしました．特に応用の範囲が広いのはトランスフォーマーのエンコーダーの部分です．BERT と呼ばれる方法を筆頭に自然言語からなる配列を入力にして何らかの分散表現を出力する方法として自然言語処理に関わる様々な研究開発に利用されています．"
      ]
    },
    {
      "cell_type": "markdown",
      "source": [
        "```{note}\n",
        "再帰型ニューラルネットワークでも扱える配列の長さは理論上無限です．\n",
        "```"
      ],
      "metadata": {
        "id": "u1UJTTz9Ym8k"
      }
    },
    {
      "cell_type": "markdown",
      "source": [
        "```{note}\n",
        "会話でトランスフォーマーという場合は，トランスフォーマーのエンコーダーまたはデコーダーのことを言っている場合があります．エンコーダー・デコーダー，エンコーダー，デコーダー，この3個でそれぞれできることが異なります．\n",
        "```"
      ],
      "metadata": {
        "id": "WzWR-IJ3Fve4"
      }
    },
    {
      "cell_type": "markdown",
      "metadata": {
        "id": "i8ViTfSl3gha"
      },
      "source": [
        "```{hint}\n",
        "実用上，配列を入力にして配列を返す構造とだけ覚えておけば問題はないと思います．\n",
        "```"
      ]
    },
    {
      "cell_type": "markdown",
      "source": [
        "### 構成要素"
      ],
      "metadata": {
        "id": "2qmocqeY6whM"
      }
    },
    {
      "cell_type": "markdown",
      "source": [
        "トランスフォーマーは大きく分けると 3 個の要素から構成されています．アテンション（セルフアテンション），位置エンコード，ポイントワイズ MLP です．アテンションは上の節で紹介した通り，入力データのトークン間の関係性を下流のネットワークに伝えるための機構です．\n",
        "\n",
        "**位置エンコード**は入力データの各トークンの位置関係を下流のネットワークに伝える仕組みです．RNN では入力された配列情報を最初，または，最後から順番に処理します．よって，人工知能は読み込まれた要素の順序，位置情報を明確に認識できています．これに対して，セルフアテンションを導入して文脈情報を扱えるようにした MLP はその認識ができません．アテンションで計算しているものは要素間の関連性であり，位置関係は考慮されていないのです．例えば，「これ　は　私　の　ラーメン　です」という文を考えた場合，アテンション機構では「これ」に対して「は」，「私」，「の」，「ラーメン」，「です」の関連度を計算していますが，「2 番目のタイムステップのは」や「3 番目のタイムステップの私」を認識しているわけではありません．よって，この文章の要素を並び替え，「は　です　の　私　これ　ラーメン」としても同じ計算結果が得られます．この例においては，そのような処理をしたとしても最終的な結果に影響はないかもしれませんが，例えば，「ラーメン　より　牛丼　が　好き　です　か」のような文章を考えた場合には問題が生じます．この文章では「ラーメンより牛丼が好き」かということを問うているのであって，「牛丼よりラーメンが好き」かということは問うていないのです．「より」の前後にある文字列の登場順が重要な意味を持ちます．このような情報を処理する際には各要素の位置情報を人工知能に認識させる必要があります．これは様々な方法で実現できますが，トランスフォーマーで用いている方法を紹介します．ここでは，以下のような配列情報を処理するものとします．\n",
        "\n",
        "$\n",
        "\\boldsymbol{x}=[[x_{11},x_{12},\\dots,x_{1d}],[x_{21},x_{22},\\dots,x_{2d}],\\dots,[x_{l1},x_{l2},\\dots,x_{ld}]]\n",
        "$\n",
        "\n",
        "すなわち，配列 $\\boldsymbol{x}$ は $l$ 個の長さからなり，その $l$ 個の各要素は $d$ 個の要素からなるベクトルです．この $[x_{11},x_{12},\\dots,x_{1d}]$ のような要素は例えば自然言語においては単語のことを示します．単語が $d$ 個の要素からなる何らかのベクトルとしてエンコードされているとします．このような配列情報に位置情報を持たせるには以下のような位置情報を含んだ配列を用意します．\n",
        "\n",
        "$\n",
        "\\boldsymbol{p}=[[p_{11},p_{12},\\dots,p_{1d}],[p_{21},p_{22},\\dots,p_{2d}],\\dots,[p_{l1},p_{l2},\\dots,p_{ld}]]\n",
        "$\n",
        "\n",
        "この配列は入力配列 $\\boldsymbol{x}$ と同じ形をしています．よって $\\boldsymbol{x}$ に加算することができます．$\\boldsymbol{x}$ に $\\boldsymbol{p}$ を加算することで位置情報を保持した配列を生成することができるのです．トランスフォーマーでは位置情報を含んだ配列の要素 $p_{ik}$ を $p_{i(2j)}$ と $p_{i(2j+1)}$ によって，トークンを示すベクトルの要素の偶数番目と奇数番目で場合分けし，それぞれ正弦関数と余弦関数で定義します．偶数番目は以下のように表されます．\n",
        "\n",
        "$\n",
        "\\displaystyle p_{i(2j)}=\\sin\\left(\\frac{i}{10000^{\\frac{2j}{d}}}\\right)\n",
        "$\n",
        "\n",
        "奇数番目は以下のように表されます．\n",
        "\n",
        "$\n",
        "\\displaystyle  p_{i(2j+1)}=\\cos\\left(\\frac{i}{10000^{\\frac{2j}{d}}}\\right)\n",
        "$\n",
        "\n",
        "\n",
        "**ポイントワイズ MLP** は可変長の配列データを処理するための MLP です．機械学習モデルを学習させる際には様々なデータをモデルに読み込ませますが，配列データにおいては，それらのデータの長さが不揃いであることがあります．そのような場合において固定長のデータを処理するための方法である MLP を使おうとするとどのような長さのデータに対応させるためにはかなり長い入力層のサイズを用意しなければなりません．かなり長い入力層を利用したとしても，その入力層よりさらに長い入力データを処理しなければならない可能性は排除できません．これに対してポイントワイズ MLP は入力配列の各トークンに対してたったひとつの MLP の計算をする方法です．入力配列のどのトークンに対しても同じパラメータを持った MLP の計算が行われます．10 の長さの入力配列に対しては同じ MLP による計算が 10 回行われ，10 の長さの配列が出力されます．100 の長さの入力配列に対しては同じ MLP による計算が 100 回行われ，100 の長さの配列が出力されます．"
      ],
      "metadata": {
        "id": "-twxcsKPA0uf"
      }
    },
    {
      "cell_type": "markdown",
      "source": [
        "### 現実世界での利用方法"
      ],
      "metadata": {
        "id": "xlmNfm2H62JV"
      }
    },
    {
      "cell_type": "markdown",
      "metadata": {
        "id": "fRGjF8pHdtO1"
      },
      "source": [
        "トランスフォーマーの現実世界での応用先としては，感情分析，特徴抽出，穴埋め，固有表現抽出（文章中の固有表現を見つける），質問応答，要約，文章生成，翻訳等があります．これらの問題を解決しようとする際には，実際には，事前学習モデルを活用する場合が多いです．事前学習モデルとは解きたい問題ではなくて，あらかじめ別の何らかの問題に対して（大量の）データを利用して学習した学習済みのモデルです．学習済みモデルにはそのドメインにおける知識を獲得していることを期待しています．\n",
        "\n",
        "事前学習モデルとして有名なものには BERT（bidirectional encoder representations from transformers）があります．上述のようにトランスフォーマーはエンコーダー・デコーダー構造を有しますが，BERT はトランスフォーマーのエンコーダー構造を利用して構築されるものです．BERT は自然言語からなる配列データを入力として何らかの配列データを出力する汎用言語表現モデルです．利用方法は多岐にわたりますが，自然言語の分散表現を生成するモデルと言えます．事前学習モデルとして公開されており，自然言語からなる配列を入力として得られる BERT の出力を別の何らかの問題を解くための人工知能アルゴリズムの入力として用いることで，様々な問題を解決するための基礎として利用することができます．\n",
        "    "
      ]
    },
    {
      "cell_type": "markdown",
      "source": [
        "```{note}\n",
        "次の章では BERT の利用方法を紹介します．\n",
        "```"
      ],
      "metadata": {
        "id": "rtCiubEwAJ5L"
      }
    },
    {
      "cell_type": "markdown",
      "source": [
        "## エンコーダーの実装"
      ],
      "metadata": {
        "id": "YmOpSUB86-mK"
      }
    },
    {
      "cell_type": "markdown",
      "source": [
        "この節ではトランスフォーマーのエンコーダーに相当する部分の実装をアテンションの計算部分から作ります．"
      ],
      "metadata": {
        "id": "qUxYfz67-1sq"
      }
    },
    {
      "cell_type": "markdown",
      "source": [
        "### 扱うデータ"
      ],
      "metadata": {
        "id": "tb-ehKh_5eVJ"
      }
    },
    {
      "cell_type": "markdown",
      "source": [
        "この節では以下のようなデータを利用して，3 個の値の分類問題を解きます．入力データの長さは一定ではありません．このデータには特徴があります．`0` に分類される 3 個の入力データの最初の要素はそれぞれ `1`，`3`，`7` です．また，`1` に分類される 3 個の入力データの最初の要素もそれぞれ `1`，`3`，`7` です．さらに，`2` に分類される 3 個の入力データの最初の要素も同じく `1`，`3`，`7` です．\n",
        "\n",
        "入力ベクトル | ターゲットベクトル\n",
        ":---: | :---:\n",
        "[1, 2, 3, 4, 5, 6, 7, 8, 9, 1] | [0]\n",
        "[3, 9, 3, 4, 7] | [0]\n",
        "[7, 5, 8] | [0]\n",
        "[1, 5, 8] | [1]\n",
        "[3, 9, 3, 4, 6] | [1]\n",
        "[7, 3, 4, 1] | [1]\n",
        "[1, 3] | [2]\n",
        "[3, 9, 3, 4, 1] | [2]\n",
        "[7, 5, 5, 7, 7, 5] | [2]\n"
      ],
      "metadata": {
        "id": "dHW_ao6UIQ67"
      }
    },
    {
      "cell_type": "markdown",
      "source": [
        "### 普通のアテンション"
      ],
      "metadata": {
        "id": "A9Xw442l7Mnh"
      }
    },
    {
      "cell_type": "markdown",
      "source": [
        ""
      ],
      "metadata": {
        "id": "nu_Y3cu05iOk"
      }
    },
    {
      "cell_type": "code",
      "source": [
        "#!/usr/bin/env python3\n",
        "import tensorflow as tf\n",
        "import numpy as np\n",
        "import math\n",
        "tf.random.set_seed(0)\n",
        "np.random.seed(0)\n",
        "\n",
        "def main():\n",
        "    # データの生成．\n",
        "    trainx = [[1,2,3,4,5,6,7,8,9,1], [3,9,3,4,7], [7,5,8], [1,5,8], [3,9,3,4,6], [7,3,4,1], [1,3], [3,9,3,4,1], [7,5,5,7,7,5]]\n",
        "    trainx = tf.keras.preprocessing.sequence.pad_sequences(trainx, padding=\"post\", dtype=np.int32, value=0)\n",
        "    traint = np.asarray([0, 0, 0, 1, 1, 1, 2, 2, 2], dtype=np.int32)\n",
        "    \n",
        "    # ハイパーパラメータの設定．\n",
        "    maxEpochSize = 2000\n",
        "    embedSize = 16\n",
        "    attentionUnitSize = 32\n",
        "    middleUnitSize = 32\n",
        "    dropoutRate = 0.5\n",
        "    minibatchSize = 3\n",
        "    \n",
        "    # データのサイズや長さの取得．\n",
        "    trainSize = trainx.shape[0]\n",
        "    outputSize = len(np.unique(traint))\n",
        "    vocabNumber = len(np.unique(trainx))\n",
        "    minibatchNumber = trainSize // minibatchSize\n",
        "    \n",
        "    # モデルの生成．\n",
        "    model = Network(attentionUnitSize, middleUnitSize, vocabNumber, embedSize, outputSize, dropoutRate)\n",
        "    cceComputer = tf.keras.losses.SparseCategoricalCrossentropy()\n",
        "    accComputer = tf.keras.metrics.SparseCategoricalAccuracy()\n",
        "    optimizer = tf.keras.optimizers.Adam()\n",
        "    \n",
        "    # tf.keras.Modelを継承したクラスからモデルを生成したとき，以下のように入力データの形に等しいデータを読み込ませてsummary()を利用するとモデルの詳細を表示可能．\n",
        "    model(tf.zeros((minibatchSize, trainx.shape[1])), False)\n",
        "    model.summary()\n",
        "    \n",
        "    # デバッグプリント．入力に対してどのような出力が得られるかを確認する．\n",
        "#    dp = model.call(trainx, False)\n",
        "#    print(dp)\n",
        "#    exit()\n",
        "    \n",
        "    # 以下は勾配を計算してコストや正確度を計算するための記述．\n",
        "    @tf.function\n",
        "    def run(tx, tt, flag):\n",
        "        with tf.GradientTape() as tape:\n",
        "            model.trainable = flag\n",
        "            ty = model.call(tx, flag)\n",
        "            costvalue = cceComputer(tt, ty)\n",
        "        gradient = tape.gradient(costvalue, model.trainable_variables)\n",
        "        optimizer.apply_gradients(zip(gradient, model.trainable_variables))\n",
        "        accvalue = accComputer(tt, ty)\n",
        "        return costvalue, accvalue\n",
        "    \n",
        "    # 以下は学習のための記述．\n",
        "    for epoch in range(1, maxEpochSize+1):\n",
        "        trainIndex = np.random.permutation(trainSize) # トレーニングデータセットのサイズに相当する整数からなるランダムな配列を生成．\n",
        "        trainCost, trainAcc = 0, 0\n",
        "        for subepoch in range(minibatchNumber):\n",
        "            startIndex = subepoch * minibatchSize\n",
        "            endIndex = (subepoch+1) * minibatchSize\n",
        "            miniTrainx = trainx[trainIndex[startIndex:endIndex]] # ランダムに決められた数だけデータを抽出する．\n",
        "            miniTraint = traint[trainIndex[startIndex:endIndex]]\n",
        "            miniTrainCost, miniTrainAcc = run(miniTrainx, miniTraint, True) # パラメータの更新をするのでフラッグはTrueにする．\n",
        "            trainCost += miniTrainCost * minibatchNumber**(-1)\n",
        "            trainAcc += miniTrainAcc * minibatchNumber**(-1)\n",
        "        if epoch % 50 == 0:\n",
        "            print(\"Epoch {:5d}: Training cost= {:.4f}, Training ACC= {:.4f}\".format(epoch, trainCost, trainAcc))\n",
        "            prediction = model.call(trainx, False)\n",
        "            print(\"Prediction:\", np.argmax(prediction, axis=1)) # 予測値を出力．\n",
        "\n",
        "class Network(tf.keras.Model):\n",
        "    def __init__(self, attentionUnitSize, middleUnitSize, vocabNumber, embedSize, outputSize, dropoutRate):\n",
        "        super(Network, self).__init__()\n",
        "        self.a = Attention(attentionUnitSize, dropoutRate)\n",
        "        self.embed = tf.keras.layers.Embedding(input_dim=vocabNumber, output_dim=embedSize, mask_zero=True)\n",
        "        self.pe = PositionalEncoder()\n",
        "        self.masker = Masker()\n",
        "        self.w1 = tf.keras.layers.Dense(middleUnitSize)\n",
        "        self.w2 = tf.keras.layers.Dense(outputSize)\n",
        "        self.lr = tf.keras.layers.LeakyReLU()\n",
        "        self.dropout = tf.keras.layers.Dropout(dropoutRate)\n",
        "    def call(self, x, learningFlag):\n",
        "        maskSeq, minNumber = self.masker(x)\n",
        "        x = self.embed(x) # エンベッド．質的変数をエンコードする．1を[0.3 0.1 0.7]，2を[0.4 0.9 0.3]のような指定した長さの浮動小数点数からなるベクトルへ変換する行為．\n",
        "        x = self.pe(x) # 位置エンコード情報の計算．\n",
        "        y = self.a(x, x, maskSeq, minNumber, learningFlag)\n",
        "        y = self.lr(y)\n",
        "        y = self.dropout(y, training=learningFlag)\n",
        "        y = self.w1(y)\n",
        "        y = self.lr(y)\n",
        "        y = y[:, 0, :] # 入力データの最初のトークンに相当する値だけを用いて以降の計算を行う．\n",
        "        y = self.w2(y)\n",
        "        y = tf.nn.softmax(y) # 3個の値の分類問題であるため．\n",
        "        return y\n",
        "\n",
        "class Attention(tf.keras.Model):\n",
        "    def __init__(self, attentionUnitSize, dropoutRate):\n",
        "        super(Attention, self).__init__()\n",
        "        self.attentionUnitSize = attentionUnitSize\n",
        "        self.queryLayer = tf.keras.layers.Dense(attentionUnitSize, use_bias=False)\n",
        "        self.keyLayer = tf.keras.layers.Dense(attentionUnitSize, use_bias=False)\n",
        "        self.valueLayer = tf.keras.layers.Dense(attentionUnitSize, use_bias=False)\n",
        "        self.outputLayer = tf.keras.layers.Dense(attentionUnitSize, use_bias=False)\n",
        "        self.dropout = tf.keras.layers.Dropout(dropoutRate)\n",
        "    def call(self, x1, x2, maskSeq, minNumber, learningFlag):\n",
        "        q = self.queryLayer(x1) # クエリベクトルの生成．\n",
        "        k = self.keyLayer(x2) # キーベクトルの生成．\n",
        "        v = self.valueLayer(x2) # バリューベクトルの生成．\n",
        "        q = q * self.attentionUnitSize**(-0.5) # 正規化のため．\n",
        "        a = tf.matmul(q, k, transpose_b=True)\n",
        "        a = a + tf.cast(maskSeq, dtype=tf.float32) * minNumber # 次のソフトマックス関数の操作でゼロパディングした要素の値をゼロと出力するためにとても小さい値を加える．\n",
        "        a = tf.nn.softmax(a) # ゼロパティングされたところの値はゼロになる．\n",
        "        y = tf.matmul(a, v)\n",
        "        y = tf.keras.activations.relu(y)\n",
        "        y = self.dropout(y, training=learningFlag)\n",
        "        y = self.outputLayer(y)\n",
        "        return y\n",
        "\n",
        "class Masker(tf.keras.Model):\n",
        "    # 以下は入力データが質的データのときに利用するもので，ゼロパディングされたトークンの位置（と小さい値）を返すもの．\n",
        "    def call(self, x):\n",
        "        x = tf.cast(x, dtype=tf.int32) # 浮動小数点数を整数にする．扱うデータがラベルデータのため．入力データが浮動小数点数であるなら不要．\n",
        "        inputBatchSize, inputLength = tf.unstack(tf.shape(x)) # バッチサイズと入力データの長さを取得．\n",
        "        maskSeq = tf.equal(x, 0) # 元データのゼロパディングした要素をTrue，そうでない要素をFalseとしたデータを生成．\n",
        "        maskSeq = tf.reshape(maskSeq, [inputBatchSize, 1, inputLength]) # データの形の整形．\n",
        "        return maskSeq, x.dtype.min # 整数の最も小さい値を後で利用するため返す．\n",
        "\n",
        "class PositionalEncoder(tf.keras.layers.Layer):\n",
        "    # 以下は位置エンコードをしたデータを返すもの．\n",
        "    def call(self, x):\n",
        "        inputBatchSize, inputLength, inputEmbedSize = tf.unstack(tf.shape(x)) # バッチサイズ，入力データの長さ，エンベッドサイズを取得．\n",
        "        j = tf.range(inputEmbedSize) // 2 * 2 # 2jの生成．2jではなくjという変数名を利用．\n",
        "        j = tf.tile(tf.expand_dims(j, 0),[inputLength, 1]) # データの形の整形．\n",
        "        denominator = tf.pow(float(10000), tf.cast(j/inputEmbedSize, x.dtype)) # 10000**(2j/d)の計算．\n",
        "        phase = tf.cast(tf.range(inputEmbedSize)%2, x.dtype) * math.pi / 2 # 位相の計算．後でsin(90度+x)=cos(x)を利用するため．math.piは3.14ラジアン（180度）．\n",
        "        phase = tf.tile(tf.expand_dims(phase, 0), [inputLength, 1]) # データの形の整形\n",
        "        i = tf.range(inputLength) # iの生成．\n",
        "        i = tf.cast(tf.tile(tf.expand_dims(i, 1), [1, inputEmbedSize]), x.dtype) # データの形の整形．\n",
        "        encordedPosition = tf.sin(i / denominator + phase) # 位置エンコードの式の計算．\n",
        "        encordedPosition = tf.tile(tf.expand_dims(encordedPosition, 0), [inputBatchSize, 1, 1]) # データの形の整形．\n",
        "        return x + encordedPosition\n",
        "\n",
        "if __name__ == \"__main__\":\n",
        "    main()"
      ],
      "metadata": {
        "id": "h8dxB9CR5iaR"
      },
      "execution_count": null,
      "outputs": []
    },
    {
      "cell_type": "markdown",
      "source": [
        "### 線形計算量のアテンション"
      ],
      "metadata": {
        "id": "AyqvL3JM7VE2"
      }
    },
    {
      "cell_type": "markdown",
      "metadata": {
        "id": "_rfC8Kj03omW"
      },
      "source": [
        "```{note}\n",
        "終わりです．\n",
        "```"
      ]
    }
  ],
  "metadata": {
    "accelerator": "GPU",
    "colab": {
      "collapsed_sections": [],
      "name": "tensorflow_06.ipynb",
      "provenance": [],
      "toc_visible": true
    },
    "kernelspec": {
      "display_name": "Python 3 (ipykernel)",
      "language": "python",
      "name": "python3"
    },
    "language_info": {
      "codemirror_mode": {
        "name": "ipython",
        "version": 3
      },
      "file_extension": ".py",
      "mimetype": "text/x-python",
      "name": "python",
      "nbconvert_exporter": "python",
      "pygments_lexer": "ipython3",
      "version": "3.7.7"
    }
  },
  "nbformat": 4,
  "nbformat_minor": 0
}