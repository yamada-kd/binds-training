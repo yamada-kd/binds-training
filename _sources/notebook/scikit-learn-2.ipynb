{
  "cells": [
    {
      "cell_type": "markdown",
      "metadata": {
        "id": "z_xhvUO10XD6"
      },
      "source": [
        "# 教師なし学習法（編集中）"
      ]
    },
    {
      "cell_type": "markdown",
      "metadata": {
        "id": "CZQz79CS4WfU"
      },
      "source": [
        "## 教師なし学習法の種類"
      ]
    },
    {
      "cell_type": "markdown",
      "metadata": {
        "id": "2h6iDCxGOk2p"
      },
      "source": [
        "教師なし学習法には様々な種類があります．https://scikit-learn.org/stable/unsupervised_learning.html にはそれらがまとめられています．リンク先のページには以下に示すものが列挙されています．\n",
        "\n",
        "*   混合ガウスモデル\n",
        "*   多様体学習\n",
        "*   クラスタリング\n",
        "*   バイクラスタリング\n",
        "*   行列分解\n",
        "*   共分散推定\n",
        "*   外れ値検知\n",
        "*   密度推定\n",
        "*   制約付きボルツマンマシン\n",
        "\n",
        "中でも代表的なものには，階層的クラスタリング法，非階層的クラスタリング法（特に K-means），主成分分析法，t-SNE，カーネル密度推定法，自己組織化マップ，敵対的生成ネットワークがあります．教師なし学習法は主に与えられたデータの性質を理解するために利用されます．与えられたデータの中で類似しているインスタンスを集めるとか，与えられたデータの関係性を人間が理解しやすい方法（次元削減）で可視化するとかです．また，敵対的生成ネットワークはこれらとは異なり特殊な機械学習アルゴリズムで，新たなデータを生成するために利用されます．このコンテンツでは教師なし学習法の中でも scikit-learn を利用して簡単に実装できる最も代表的な手法の使い方を紹介します．"
      ]
    },
    {
      "cell_type": "markdown",
      "source": [
        "```{note}\n",
        "敵対的生成ネットワークは別に紹介します．\n",
        "```"
      ],
      "metadata": {
        "id": "3mAPiZjtfkWx"
      }
    },
    {
      "cell_type": "markdown",
      "metadata": {
        "id": "AcnoJlnfOk2r"
      },
      "source": [
        "次の節では scikit-learn を利用して，階層的クラスタリング法，K-means 法（非階層的クラスタリング法の代表的な手法），主成分分析法，カーネル密度推定法を実装します．"
      ]
    },
    {
      "cell_type": "markdown",
      "metadata": {
        "id": "7JIH6ZHaOk2s"
      },
      "source": [
        "## 階層的クラスタリング法"
      ]
    },
    {
      "cell_type": "markdown",
      "metadata": {
        "id": "zRbtig5lOk2s"
      },
      "source": [
        "ほげ"
      ]
    },
    {
      "cell_type": "markdown",
      "metadata": {
        "id": "JdFQn5noOk2s"
      },
      "source": [
        "## K-means"
      ]
    },
    {
      "cell_type": "markdown",
      "metadata": {
        "id": "YT9agRvoOk2t"
      },
      "source": [
        "ほげ"
      ]
    },
    {
      "cell_type": "markdown",
      "metadata": {
        "id": "6cwUb15zOk2t"
      },
      "source": [
        "## 主成分分析法"
      ]
    },
    {
      "cell_type": "markdown",
      "metadata": {
        "id": "MFRSh4DUOk2t"
      },
      "source": [
        "ほげ"
      ]
    },
    {
      "cell_type": "markdown",
      "metadata": {
        "id": "PxolXhqEOk2t"
      },
      "source": [
        "## カーネル密度推定法"
      ]
    },
    {
      "cell_type": "markdown",
      "source": [
        "### 基本的な事柄"
      ],
      "metadata": {
        "id": "jZTDZ9lperCn"
      }
    },
    {
      "cell_type": "markdown",
      "metadata": {
        "id": "M9Mh-KoTOk2t"
      },
      "source": [
        "カーネル密度推定法は与えられたデータの分布を推定する方法です．与えられたデータ中の疎なインスタンスを入力としてそのデータが従うと思われる分布を推定する方法です．$x_1, x_2, \\dots, x_n$ を何らかの確率分布から得られたサンプルとします．このときにカーネル密度推定量 $f$ は以下のように計算されます．\n",
        "\n",
        "$\n",
        "\\displaystyle f(x)=\\frac{1}{nh}\\sum_{i=1}^{n}K\\left(\\frac{x-x_i}{h}\\right)\n",
        "$\n",
        "\n",
        "このとき，$K$ はカーネル関数と呼ばれる確率分布を近似するための関数で，$h$ はバンド幅と呼ばれるハイパーパラメータです．カーネル関数として利用される関数には様々なものがありますが，以下の標準正規分布（平均値が0で分散が1である正規分布）の確率密度関数を利用することが多いです．\n",
        "\n",
        "$\n",
        "\\displaystyle K(x)=\\frac{1}{\\sqrt{2\\pi}}e^{-\\frac{x^2}{2}}\n",
        "$"
      ]
    },
    {
      "cell_type": "markdown",
      "source": [
        "```{note}\n",
        "このカーネルのことはガウシアンカーネルとも言いますね．\n",
        "```"
      ],
      "metadata": {
        "id": "6ShGJD1icm9z"
      }
    },
    {
      "cell_type": "markdown",
      "source": [
        "### 発展的な利用方法"
      ],
      "metadata": {
        "id": "EqZ5v9xgeuH8"
      }
    },
    {
      "cell_type": "markdown",
      "source": [
        "昨今の深層学習ブームで専ら利用されている深層ニューラルネットワークは通常たくさんのハイパーパラメータを持ちます．良いハイパーパラメータを同定することは良い人工知能を構築するために重要なことであるため，その探索方法の開発が活発です．ブルートフォース（しらみつぶし）な探索，ランダムな探索，手動による探索，進化戦略法を利用した探索，ベイズ探索等の様々な方法が利用されていますが，その中でも最も有効なもののひとつに代理モデルを利用した逐次最適化法（sequential model-based optimization（SMBO））と呼ばれるベイズ最適化法の範疇に入る方法があります．ハイパーパラメータが従うであろう分布を推定して（この推定した分布を代理モデルと言います），その分布から予想したハイパーパラメータを利用して構築した人工知能の評価を行い，さらにその評価結果から分布の推定を繰り返す，というようなハイパーパラメータの従う分布の推定と人工知能の評価を交互に繰り返すことで最適なハイパーパラメータを持つ人工知能を同定しようとする方法です．この SMBO を行う際の代理モデルの構築にカーネル密度推定法が利用されることがあります．そして，カーネル密度推定法を利用した SMBO は従来の代理モデルの推定法（例えば，ガウス過程回帰法）より良い性能を示すことがあります．"
      ],
      "metadata": {
        "id": "TXpe9scXfcjW"
      }
    },
    {
      "cell_type": "markdown",
      "source": [
        "```{note}\n",
        "SMBO の領域ではカーネル密度推定量はパルツェン推定量と呼ばれています．\n",
        "```"
      ],
      "metadata": {
        "id": "RnrjFTUaiDku"
      }
    },
    {
      "cell_type": "markdown",
      "source": [
        "```{note}\n",
        "ハイパーパラメータの最適化は深層学習の分野で最も重要なトピックのひとつなので紹介してみました．\n",
        "```"
      ],
      "metadata": {
        "id": "uVkVj79MiSMH"
      }
    },
    {
      "cell_type": "markdown",
      "source": [
        "### 元の確率分布の推定"
      ],
      "metadata": {
        "id": "ZA7TKdR4e6gk"
      }
    },
    {
      "cell_type": "markdown",
      "source": [
        ""
      ],
      "metadata": {
        "id": "BlaLyet4fB4U"
      }
    },
    {
      "cell_type": "markdown",
      "source": [
        "### 画像の生成"
      ],
      "metadata": {
        "id": "A6pr7p42fCTx"
      }
    },
    {
      "cell_type": "code",
      "source": [
        "#!/usr/bin/env python3\n",
        "import sklearn\n",
        "from sklearn.datasets import load_iris\n",
        "from sklearn.model_selection import train_test_split\n",
        "from sklearn.tree import DecisionTreeClassifier\n",
        " \n",
        "def main():\n",
        "    diris = load_iris()\n",
        "    learnx, testx, learnt, testt = train_test_split(diris.data, diris.target, test_size = 0.2, random_state = 0)\n",
        "    predictor = DecisionTreeClassifier(random_state=0) # 予測器を生成．ここも乱数の種に注意．\n",
        "    predictor.fit(learnx, learnt) # 学習．\n",
        "    print(predictor.predict(testx)) # テストデータセットの入力データを予測器に入れて結果を予測．\n",
        "    print(testt) # 教師データ．\n",
        "\n",
        "if __name__ == \"__main__\":\n",
        "    main()"
      ],
      "metadata": {
        "id": "zu4ZCq2xRfab"
      },
      "execution_count": null,
      "outputs": []
    },
    {
      "cell_type": "markdown",
      "metadata": {
        "id": "_rfC8Kj03omW"
      },
      "source": [
        "```{note}\n",
        "終わりです．\n",
        "```"
      ]
    }
  ],
  "metadata": {
    "colab": {
      "collapsed_sections": [],
      "name": "scikit-learn-2.ipynb",
      "provenance": [],
      "toc_visible": true
    },
    "kernelspec": {
      "display_name": "Python 3 (ipykernel)",
      "language": "python",
      "name": "python3"
    },
    "language_info": {
      "codemirror_mode": {
        "name": "ipython",
        "version": 3
      },
      "file_extension": ".py",
      "mimetype": "text/x-python",
      "name": "python",
      "nbconvert_exporter": "python",
      "pygments_lexer": "ipython3",
      "version": "3.7.7"
    }
  },
  "nbformat": 4,
  "nbformat_minor": 0
}