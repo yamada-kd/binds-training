{
  "cells": [
    {
      "cell_type": "markdown",
      "metadata": {
        "id": "z_xhvUO10XD6"
      },
      "source": [
        "# 演習問題"
      ]
    },
    {
      "cell_type": "markdown",
      "source": [
        "## はじめに"
      ],
      "metadata": {
        "id": "1JlXkjPhYL87"
      }
    },
    {
      "cell_type": "markdown",
      "source": [
        "この演習問題集に関する説明をします．"
      ],
      "metadata": {
        "id": "PxaFvsIKdfdi"
      }
    },
    {
      "cell_type": "markdown",
      "source": [
        "### 問題について"
      ],
      "metadata": {
        "id": "BCC7jmUTdfnr"
      }
    },
    {
      "cell_type": "markdown",
      "source": [
        "この演習問題集では，簡単に答えが見つからない，回答者に難易度の設定すら委ねるような問題がいくつか含まれています．この講義の対象者がデータ科学的な解析技術を有しないものの，自身の専門を持つ研究者であるからです．データ科学は問題解決のアプローチに過ぎず，既に研究をされている研究者なら解くべき問題に対する調査や取り組み方法を持っていると思ったからこのようにしました．解答のためのコードセルは適宜増やしてください．"
      ],
      "metadata": {
        "id": "LIwP7uJvdn0g"
      }
    },
    {
      "cell_type": "markdown",
      "source": [
        "### 配点と採点基準"
      ],
      "metadata": {
        "id": "qXTmyC8Wdcls"
      }
    },
    {
      "cell_type": "markdown",
      "source": [
        "配点は各問題についてそれぞれ 10 点です．採点者は以下のような採点基準で点数をつけます．\n",
        "\n",
        "| 点 | 基準 |\n",
        "| --- | --- |\n",
        "| 10 | この解答が良い評価を得ないのであれば二度と採点者を引き受けない． |\n",
        "| 9 | この解答が良い評価が与えられるために戦う． |\n",
        "| 8 | この解答は良い評価を得るべきである． |\n",
        "| 7 | この解答は良い評価を得るべきであるが，場合によって悪い評価を得たしても許容可能． |\n",
        "| 6 | この解答が良い評価を得てほしいものの，そうでなくても問題ない． |\n",
        "| 5 | この解答が良い評価を得てほしくないものの，そうでなくても問題ない． |\n",
        "| 4 | この解答は良い評価を得ないべきであるが，場合によって良い評価を得たとしても許容可能． |\n",
        "| 3 | この解答は良い評価を得ないべきである． |\n",
        "| 2 | この解答に良い評価を与えられないために戦う． |\n",
        "| 1 | この解答が良い評価を得るのだとしたら二度と採点者を引き受けない． |\n",
        "| 0 | 解答がないため採点できない． |\n"
      ],
      "metadata": {
        "id": "wI_5ESSrYSdD"
      }
    },
    {
      "cell_type": "markdown",
      "metadata": {
        "id": "82Sx06lGrg3K"
      },
      "source": [
        "## プログラミングの基礎\n",
        "\n"
      ]
    },
    {
      "cell_type": "markdown",
      "metadata": {
        "id": "k-S6ghDZpmSG"
      },
      "source": [
        "「プログラミングの基礎」で触れた事柄に関する問題集です．講義資料に載っていない事柄に取り組みますが，現実世界でプログラミングはそういう課題に取り組むことではじめて実力がつきます．"
      ]
    },
    {
      "cell_type": "markdown",
      "metadata": {
        "id": "q_JF0juYn7zh"
      },
      "source": [
        "### 1-1 行列の掛け算"
      ]
    },
    {
      "cell_type": "markdown",
      "source": [
        "以下の行列の掛け算を NumPy 等のライブラリを用いずに計算するためのプログラムを書いてください．\n",
        "\n",
        "$\n",
        "  \\left[\n",
        "    \\begin{array}{ccc}\n",
        "      1 & 2 & 3 \\\\\n",
        "      3 & 4 & 5\\\\\n",
        "    \\end{array}\n",
        "  \\right]\n",
        "  \\times\n",
        "  \\left[\n",
        "    \\begin{array}{cc}\n",
        "      5 & 6 \\\\\n",
        "      6 & 7 \\\\\n",
        "      7 & 8 \\\\\n",
        "    \\end{array}\n",
        "  \\right]\n",
        "$"
      ],
      "metadata": {
        "id": "Glcf3sb6n3Q7"
      }
    },
    {
      "cell_type": "code",
      "source": [
        "#!/usr/bin/env python3\n",
        "\n",
        "def main():\n",
        "    # ここにプログラムを書く．\n",
        "\n",
        "if __name__ == \"__main__\":\n",
        "    main()"
      ],
      "metadata": {
        "id": "sNZW1PBkwNGR"
      },
      "execution_count": null,
      "outputs": []
    },
    {
      "cell_type": "markdown",
      "source": [
        "```{note}\n",
        "行列の掛け算なんてライブラリ使わずにやることなんてないからなんて不毛な問題なんだ，と思うかもしれないのですが，プログラミング初心者がこれをできるようになるということは `for` の使い方と動き方をしっかり理解していることの確認となり，その観点からは有意義です．\n",
        "```"
      ],
      "metadata": {
        "id": "SvR9Vk92akjY"
      }
    },
    {
      "cell_type": "markdown",
      "metadata": {
        "id": "EliP-z_krg3N"
      },
      "source": [
        "### 1-2 ファイルの処理"
      ]
    },
    {
      "cell_type": "markdown",
      "source": [
        "シェルのコマンドに `wget` というものがありますが，これを使うとインターネット上から情報を取得することができます．Wikipedia の「334」という項目は以下の URL に載っています．\n",
        "\n",
        "https://ja.wikipedia.org/wiki/334\n",
        "\n",
        "この URL にアクセスして表示されるテキストの中に `334` という値が何個あるか数えるプログラムを作ってください．"
      ],
      "metadata": {
        "id": "BCZ44f1Bn7zi"
      }
    },
    {
      "cell_type": "markdown",
      "source": [
        "最初に，`wget` で URL にアクセスしてその情報全部を `wikipedia-334.txt` というファイル名で現在のディレクトリに保存してください．"
      ],
      "metadata": {
        "id": "ZRSePUhH6oZE"
      }
    },
    {
      "cell_type": "code",
      "source": [
        "# ここにシェルのコマンドを書く．"
      ],
      "metadata": {
        "id": "o1HGyEdM55_F"
      },
      "execution_count": null,
      "outputs": []
    },
    {
      "cell_type": "markdown",
      "source": [
        "```{hint}\n",
        "オプションコマンド `-O` を利用するとファイル名を指定して保存できます．\n",
        "```"
      ],
      "metadata": {
        "id": "vQ_ydu5H64hY"
      }
    },
    {
      "cell_type": "markdown",
      "source": [
        "次に，このファイルを Python で読んで `334` という文字列が何個あるかカウントして，カウントした結果だけを出力してください．"
      ],
      "metadata": {
        "id": "hSoMjlQn-dhg"
      }
    },
    {
      "cell_type": "code",
      "source": [
        "#!/usr/bin/env python3\n",
        "\n",
        "def main():\n",
        "    # ここにプログラムを書く．\n",
        "\n",
        "if __name__ == \"__main__\":\n",
        "    main()"
      ],
      "metadata": {
        "id": "kiEly6NQn3mi"
      },
      "execution_count": null,
      "outputs": []
    },
    {
      "cell_type": "markdown",
      "source": [
        "```{hint}\n",
        "ファイルがどこにあるかわからない人は「カレントディレクトリ」という概念を調べてみましょう．\n",
        "```"
      ],
      "metadata": {
        "id": "_m0ohV2Y-vrQ"
      }
    },
    {
      "cell_type": "markdown",
      "metadata": {
        "id": "zGnQnFjooH3u"
      },
      "source": [
        "## scikit-learn を利用した機械学習\n",
        "\n"
      ]
    },
    {
      "cell_type": "markdown",
      "metadata": {
        "id": "zd-MotPPoH3w"
      },
      "source": [
        "「scikit-learn を利用した機械学習」で触れた事柄に関する問題集です．これも講義資料に載っていない事柄に取り組みますが，現実世界でプログラミングはそういう課題に取り組むことではじめて実力がつきます．"
      ]
    },
    {
      "cell_type": "markdown",
      "metadata": {
        "id": "Ygl-97P2oH3w"
      },
      "source": [
        "### 2-1 探索的データ解析"
      ]
    },
    {
      "cell_type": "markdown",
      "source": [
        "探索的データ解析とはこれから利用しようとするデータセットを様々な角度から観察してデータの性質を把握しようとする行為のことです．英語では exploratory data analysis（EDA）と呼ばれます．ここでは，scikit-learn から利用可能な breast cancer wisconsin (diagnostic) dataset なるデータセットを利用します．以下のように読み込むことができます．"
      ],
      "metadata": {
        "id": "P_f9XQ5UoH3x"
      }
    },
    {
      "cell_type": "code",
      "source": [
        "#!/usr/bin/env python3\n",
        "import sklearn\n",
        "from sklearn.datasets import load_breast_cancer\n",
        "\n",
        "def main():\n",
        "    dBreastCancer = load_breast_cancer()\n",
        "    print(dBreastCancer)\n",
        "\n",
        "if __name__ == \"__main__\":\n",
        "    main()"
      ],
      "metadata": {
        "id": "QkmmaCAOoH3x"
      },
      "execution_count": null,
      "outputs": []
    },
    {
      "cell_type": "markdown",
      "source": [
        "```{hint}\n",
        "なんとなく紹介したくなくて触れなかったのですが，`pandas` ていうライブラリのデータフレームというものの使い方を調べるとこのデータを上手に扱えるようになると思います．\n",
        "```"
      ],
      "metadata": {
        "id": "hwZ-_Ws2IRz7"
      }
    },
    {
      "cell_type": "markdown",
      "source": [
        "最も簡単な解析はデータセットのインスタンスサイズを知ることであったり，各アトリビュートの意味を知ることであったり，教師データの性質を知ることであったりするでしょう．次に，各アトリビュートと教師データの関連性を図で表現することが考えられます．"
      ],
      "metadata": {
        "id": "TJgTtNCnWFmA"
      }
    },
    {
      "cell_type": "markdown",
      "source": [
        "最初に，何か図を利用しない解析を行う何らかのプログラムを書いてください．思いつく限りの解析をたくさん行ってください．"
      ],
      "metadata": {
        "id": "TMbotVS0W1yz"
      }
    },
    {
      "cell_type": "code",
      "source": [
        "#!/usr/bin/env python3\n",
        "import sklearn\n",
        "from sklearn.datasets import load_breast_cancer\n",
        "\n",
        "def main():\n",
        "    dBreastCancer = load_breast_cancer()\n",
        "    # ここにプログラムを書く．\n",
        "\n",
        "if __name__ == \"__main__\":\n",
        "    main()"
      ],
      "metadata": {
        "id": "NHZYwdR8W0My"
      },
      "execution_count": null,
      "outputs": []
    },
    {
      "cell_type": "markdown",
      "source": [
        "```{hint}\n",
        "平均値，中央値，最頻値，最大値，最小値とか色々ありますよね\n",
        "```"
      ],
      "metadata": {
        "id": "EjGgW-FtOwbM"
      }
    },
    {
      "cell_type": "markdown",
      "source": [
        "次に，何か図を描画することでデータの性質を把握するためのプログラムを書いてください．"
      ],
      "metadata": {
        "id": "UtU-NgQhXDDJ"
      }
    },
    {
      "cell_type": "code",
      "source": [
        "#!/usr/bin/env python3\n",
        "import sklearn\n",
        "from sklearn.datasets import load_breast_cancer\n",
        "%matplotlib inline\n",
        "import matplotlib.pyplot as plt\n",
        "\n",
        "def main():\n",
        "    dBreastCancer = load_breast_cancer()\n",
        "    # ここにプログラムを書く．\n",
        "\n",
        "if __name__ == \"__main__\":\n",
        "    main()"
      ],
      "metadata": {
        "id": "2uRe0-N2XDDK"
      },
      "execution_count": null,
      "outputs": []
    },
    {
      "cell_type": "markdown",
      "source": [
        "```{hint}\n",
        "図示すると変数間の関連性を理解しやすいですよね．\n",
        "```"
      ],
      "metadata": {
        "id": "d3ValBBmO8yV"
      }
    },
    {
      "cell_type": "markdown",
      "metadata": {
        "id": "k9ZYETQ4oH3x"
      },
      "source": [
        "### 2-2 人工知能の性能比較"
      ]
    },
    {
      "cell_type": "markdown",
      "source": [
        "データセット breast cancer wisconsin (diagnostic) dataset は肺の良性腫瘍と悪性腫瘍に関するデータを含んでいます．この分類器を決定木を用いて構築してファイルとして保存してください．このとき，以下のことをやってください．\n",
        "\n",
        "*   元のデータセットの 20% をテストデータセットとする．\n",
        "*   乱数の種を固定する．\n",
        "*   グリッドサーチとクロスバリデーションでハイパーパラメータを最適化する．\n",
        "\n",
        "\n"
      ],
      "metadata": {
        "id": "4stxC3iloH3y"
      }
    },
    {
      "cell_type": "code",
      "source": [
        "#!/usr/bin/env python3\n",
        "import sklearn\n",
        "from sklearn.datasets import load_breast_cancer\n",
        "\n",
        "def main():\n",
        "    # ここにプログラムを書く．\n",
        "\n",
        "if __name__ == \"__main__\":\n",
        "    main()"
      ],
      "metadata": {
        "id": "iR-LQ-JQUn1N"
      },
      "execution_count": null,
      "outputs": []
    },
    {
      "cell_type": "markdown",
      "source": [
        "上で保存した人工知能を新たに呼び出して，テストデータセットを利用していくつかの評価指標を用いて性能の評価値を出力してください．"
      ],
      "metadata": {
        "id": "wfiRds21Usfp"
      }
    },
    {
      "cell_type": "code",
      "source": [
        "#!/usr/bin/env python3\n",
        "import sklearn\n",
        "from sklearn.datasets import load_breast_cancer\n",
        "\n",
        "def main():\n",
        "    # ここにプログラムを書く．\n",
        "\n",
        "if __name__ == \"__main__\":\n",
        "    main()"
      ],
      "metadata": {
        "id": "eKNb3mENUrDS"
      },
      "execution_count": null,
      "outputs": []
    },
    {
      "cell_type": "markdown",
      "source": [
        "勾配ブースティングと呼ばれる機械学習モデルを利用して予測器を構築し，上と同様のテストデータセットで同様の評価指標を用いて性能の評価値を出力してください．"
      ],
      "metadata": {
        "id": "EZbUyvqGVEZm"
      }
    },
    {
      "cell_type": "code",
      "source": [
        "#!/usr/bin/env python3\n",
        "import sklearn\n",
        "from sklearn.datasets import load_breast_cancer\n",
        "\n",
        "def main():\n",
        "    # ここにプログラムを書く．\n",
        "\n",
        "if __name__ == \"__main__\":\n",
        "    main()"
      ],
      "metadata": {
        "id": "Xo29K8oBUrOU"
      },
      "execution_count": null,
      "outputs": []
    },
    {
      "cell_type": "markdown",
      "source": [
        "決定木の性能と勾配ブースティングの性能の差に意味のある差がありそうなのかについて，適切な統計検定法を用いて，有意水準 1% で評価してください．"
      ],
      "metadata": {
        "id": "Eude9wTOVUd4"
      }
    },
    {
      "cell_type": "code",
      "source": [
        "#!/usr/bin/env python3\n",
        "\n",
        "def main():\n",
        "    # ここにプログラムを書く．\n",
        "\n",
        "if __name__ == \"__main__\":\n",
        "    main()"
      ],
      "metadata": {
        "id": "3zTdYlAsUrYC"
      },
      "execution_count": null,
      "outputs": []
    },
    {
      "cell_type": "markdown",
      "source": [
        "```{hint}\n",
        "対応のない t 検定，対応のある t 検定，ウィルコクソンの順位和検定，ウィルコクソンの符号順位検定，ダネット検定，チューキー・クレーマー検定，スティール検定，スティール・ドゥワス検定．たくさん検定法があってその比較に適した方法を選ばなければなりませんよね．\n",
        "```"
      ],
      "metadata": {
        "id": "Gb3J83GCVb2w"
      }
    },
    {
      "cell_type": "markdown",
      "metadata": {
        "id": "DhapWHNZoH3y"
      },
      "source": [
        "### 2-3 計算の速さの比較"
      ]
    },
    {
      "cell_type": "markdown",
      "source": [
        "以下のようにすると MNIST というデータセットをダウンとロードして読み込むことができます．ここでは MNIST が何であるかに触れませんが，10 個のクラス分類のためのデータセットであり，各インスタンスは 784 の長さのベクトルであり，公式から提供されている学習データセットのサイズは 60000 個であることだけお知らせします．"
      ],
      "metadata": {
        "id": "truVl6S3oH30"
      }
    },
    {
      "cell_type": "code",
      "source": [
        "#!/usr/bin/env python3\n",
        "import tensorflow as tf\n",
        "\n",
        "def main():\n",
        "    (learnX, learnT), (textX, testT) = tf.keras.datasets.mnist.load_data()\n",
        "\n",
        "if __name__ == \"__main__\":\n",
        "    main()"
      ],
      "metadata": {
        "id": "ZHgqNMQxCrl9"
      },
      "execution_count": null,
      "outputs": []
    },
    {
      "cell_type": "markdown",
      "source": [
        "このデータセットは以下のようにすることで簡単に scikit-learn で利用することができます．"
      ],
      "metadata": {
        "id": "L9ojkAL0PvdZ"
      }
    },
    {
      "cell_type": "code",
      "source": [
        "#!/usr/bin/env python3\n",
        "import tensorflow as tf\n",
        "from sklearn.tree import DecisionTreeClassifier\n",
        "\n",
        "def main():\n",
        "    (learnX, learnT), (textX, testT) = tf.keras.datasets.mnist.load_data()\n",
        "    learnX = learnX.reshape(-1, 784)\n",
        "    predictor = DecisionTreeClassifier()\n",
        "    predictor.fit(learnX, learnT)\n",
        "\n",
        "if __name__ == \"__main__\":\n",
        "    main()"
      ],
      "metadata": {
        "id": "_3SXlRG-O8ud"
      },
      "execution_count": null,
      "outputs": []
    },
    {
      "cell_type": "markdown",
      "source": [
        "利用する機械学習モデルを変えるとその評価性能が変わるのと同じように，利用する機械学習モデルによって学習に要する計算時間も変わります．各モデルの計算時間はデータセットのサイズはデータセットに含まれるインスタンスのサイズや実装の方法に依存して変わります．例えば，サポートベクトルマシンはサンプルサイズの 3 乗に依存して計算時間が増加します．計算時間の観点から自身が解析したいデータセットの特性に合わせて機械学習モデルを選択することもあり得るでしょう．この問題では，サポートベクトルマシンを含めて少なくとも 5 個の機械学習モデルを自由に選択してそれらを MNIST を用いて学習させてください．テストデータセットにおける評価値と共にそれぞれの方法が学習に要した時間を出力してください．"
      ],
      "metadata": {
        "id": "1MS8-hZ7QAUJ"
      }
    },
    {
      "cell_type": "code",
      "source": [
        "#!/usr/bin/env python3\n",
        "import tensorflow as tf\n",
        "\n",
        "def main():\n",
        "    (learnX, learnT), (textX, testT) = tf.keras.datasets.mnist.load_data()\n",
        "    # ここにプログラムを書く．\n",
        "\n",
        "if __name__ == \"__main__\":\n",
        "    main()"
      ],
      "metadata": {
        "id": "8o6o1SptQAon"
      },
      "execution_count": null,
      "outputs": []
    },
    {
      "cell_type": "markdown",
      "source": [
        "```{note}\n",
        "良い予測性能が出るように工夫することも忘れないでくださいね．ただし，それぞれのモデルを同じ基準で比較しなければなりませんよね．\n",
        "```"
      ],
      "metadata": {
        "id": "8woo4jDVRv3l"
      }
    },
    {
      "cell_type": "markdown",
      "source": [
        "```{note}\n",
        "ここではデータセットとして MNIST を利用しました．MNIST のデータセットのサイズが大きいため計算時間に差が出やすいためです．\n",
        "```"
      ],
      "metadata": {
        "id": "QsY18mxaRSEM"
      }
    },
    {
      "cell_type": "markdown",
      "metadata": {
        "id": "YzEZvAPFoIap"
      },
      "source": [
        "## 深層学習\n",
        "\n"
      ]
    },
    {
      "cell_type": "markdown",
      "metadata": {
        "id": "ZIPVON4koIar"
      },
      "source": [
        "「深層学習」で触れた事柄に関する問題集です．またしても講義資料に載っていない事柄に取り組みますが，現実世界でプログラミングはそういう課題に取り組むことではじめて実力がつきます．"
      ]
    },
    {
      "cell_type": "markdown",
      "metadata": {
        "id": "gg78KvPqoIas"
      },
      "source": [
        "### 3-1 ほげ"
      ]
    },
    {
      "cell_type": "markdown",
      "source": [],
      "metadata": {
        "id": "hs9e2PWFoIat"
      }
    },
    {
      "cell_type": "code",
      "source": [],
      "metadata": {
        "id": "hhYmWOb4oIav"
      },
      "execution_count": null,
      "outputs": []
    },
    {
      "cell_type": "markdown",
      "metadata": {
        "id": "zVlnPNEsoIav"
      },
      "source": [
        "### 3-2 ほげ"
      ]
    },
    {
      "cell_type": "markdown",
      "source": [],
      "metadata": {
        "id": "4HB5PKYpoIaw"
      }
    },
    {
      "cell_type": "code",
      "source": [],
      "metadata": {
        "id": "l8sVgHZjoIax"
      },
      "execution_count": null,
      "outputs": []
    },
    {
      "cell_type": "markdown",
      "metadata": {
        "id": "l9DYMiWSoIay"
      },
      "source": [
        "### 3-3 ほげ"
      ]
    },
    {
      "cell_type": "markdown",
      "source": [],
      "metadata": {
        "id": "5kSHed99oIay"
      }
    },
    {
      "cell_type": "code",
      "source": [],
      "metadata": {
        "id": "ank0w_7GoIaz"
      },
      "execution_count": null,
      "outputs": []
    },
    {
      "cell_type": "markdown",
      "metadata": {
        "id": "V2h2QaWZoIa0"
      },
      "source": [
        "### 3-4 普通の CGAN の実装"
      ]
    },
    {
      "cell_type": "markdown",
      "source": [
        "教材において CGAN の実装をしたときには WGAN-gp のコスト関数を利用しましたが，最も基本的な GAN と同じコスト関数を利用して CGAN を書き直してください．WGAN-gp を応用した場合の CGAN と比べて性能が落ちていることを目て見て確認してください．"
      ],
      "metadata": {
        "id": "pcEQn6tFoIa1"
      }
    },
    {
      "cell_type": "code",
      "source": [
        "#!/usr/bin/env python3\n",
        "\n",
        "def main():\n",
        "    # ここにプログラムを書く．\n",
        "\n",
        "if __name__ == \"__main__\":\n",
        "    main()"
      ],
      "metadata": {
        "id": "U9KatlSLb0d9"
      },
      "execution_count": null,
      "outputs": []
    },
    {
      "cell_type": "markdown",
      "source": [
        "```{hint}\n",
        "基本的な GAN を少しずつ変えていく方が WGAN-gp のコスト関数を利用した CGAN を少しずつ変えるやり方より簡単でしょう．\n",
        "```"
      ],
      "metadata": {
        "id": "UjRgohPszmbK"
      }
    },
    {
      "cell_type": "markdown",
      "metadata": {
        "id": "g4I_5CeIoIvs"
      },
      "source": [
        "### 3-5 強化学習法の実装"
      ]
    },
    {
      "cell_type": "markdown",
      "source": [
        "以下のような 5 行 9 列の行列を考えます．このグリッドワールド上で何らかのオブジェクト動かしてゴール（G）を目指すこととします．オブジェクトはフィールド上のグリッド線で囲まれたどこかの位置に存在できることとします．オブジェクトは上下左右に動かせるものとします．ただし，フィールドは壁に囲まれており，オブジェクトはこのグリッドワールドの外には出られません．また，フィールドには障害物（X）があり，障害物が存在する位置にオブジェクトは行けないこととします．オブジェクトは最初ゴールでも障害物でもないオブジェクトが移動可能なマス（S）に位置しているものとします．このオブジェクトをうまく移動させてゴールまで導くエージェントを何らかの強化学習法を用いて作ってください．\n",
        "\n",
        "<img src=\"https://github.com/yamada-kd/binds-training/blob/main/image/largeField.svg?raw=1\" width=\"100%\" />"
      ],
      "metadata": {
        "id": "9E7HTzVLoIvs"
      }
    },
    {
      "cell_type": "code",
      "source": [
        "#!/usr/bin/env python3\n",
        "\n",
        "def main():\n",
        "    # ここにプログラムを書く．\n",
        "\n",
        "if __name__ == \"__main__\":\n",
        "    main()"
      ],
      "metadata": {
        "id": "Expk9MEgzFZj"
      },
      "execution_count": null,
      "outputs": []
    },
    {
      "cell_type": "markdown",
      "source": [
        "```{hint}\n",
        "深層 Q ネットワークを利用しても良いし，ニューラルネットワークを用いない Q 学習法でも他の方法でも何でも良いです．\n",
        "```"
      ],
      "metadata": {
        "id": "66M2245MzMDM"
      }
    },
    {
      "cell_type": "markdown",
      "metadata": {
        "id": "_rfC8Kj03omW"
      },
      "source": [
        "```{note}\n",
        "終わりです．\n",
        "```"
      ]
    }
  ],
  "metadata": {
    "accelerator": "GPU",
    "colab": {
      "collapsed_sections": [],
      "provenance": [],
      "toc_visible": true
    },
    "kernelspec": {
      "display_name": "Python 3 (ipykernel)",
      "language": "python",
      "name": "python3"
    },
    "language_info": {
      "codemirror_mode": {
        "name": "ipython",
        "version": 3
      },
      "file_extension": ".py",
      "mimetype": "text/x-python",
      "name": "python",
      "nbconvert_exporter": "python",
      "pygments_lexer": "ipython3",
      "version": "3.7.7"
    }
  },
  "nbformat": 4,
  "nbformat_minor": 0
}