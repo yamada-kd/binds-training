{
  "cells": [
    {
      "cell_type": "markdown",
      "metadata": {
        "id": "z_xhvUO10XD6"
      },
      "source": [
        "# 演習問題"
      ]
    },
    {
      "cell_type": "markdown",
      "metadata": {
        "id": "82Sx06lGrg3K"
      },
      "source": [
        "## プログラミングの基礎\n",
        "\n"
      ]
    },
    {
      "cell_type": "markdown",
      "metadata": {
        "id": "k-S6ghDZpmSG"
      },
      "source": [
        "「プログラミングの基礎」で触れた事柄に関する問題集です．"
      ]
    },
    {
      "cell_type": "markdown",
      "source": [
        "```{hint}\n",
        "講義資料に載っていない事柄に関する問題がたくさんありますが，現実世界でプログラミングはそういう課題に取り組むことではじめて実力がつきます．\n",
        "```"
      ],
      "metadata": {
        "id": "JtrlaboQwbBU"
      }
    },
    {
      "cell_type": "markdown",
      "metadata": {
        "id": "q_JF0juYn7zh"
      },
      "source": [
        "### 1-1 行列の掛け算"
      ]
    },
    {
      "cell_type": "markdown",
      "source": [
        "以下の行列の掛け算を NumPy 等のライブラリを用いずに行ってください．\n",
        "\n",
        "$\n",
        "  \\left[\n",
        "    \\begin{array}{ccc}\n",
        "      1 & 2 & 3 \\\\\n",
        "      3 & 4 & 5\\\\\n",
        "    \\end{array}\n",
        "  \\right]\n",
        "  \\times\n",
        "  \\left[\n",
        "    \\begin{array}{cc}\n",
        "      5 & 6 \\\\\n",
        "      6 & 7 \\\\\n",
        "      7 & 8 \\\\\n",
        "    \\end{array}\n",
        "  \\right]\n",
        "$"
      ],
      "metadata": {
        "id": "Glcf3sb6n3Q7"
      }
    },
    {
      "cell_type": "markdown",
      "source": [
        "```{note}\n",
        "行列の掛け算なんてライブラリ使わずにやることなんてないからなんて不毛な問題なんだ，と思うかもしれないのですが，プログラミング初心者がこれをできるようになるということは `for` の使い方と動き方をしっかり理解していることの確認となり，その観点からは有意義です．\n",
        "```"
      ],
      "metadata": {
        "id": "SvR9Vk92akjY"
      }
    },
    {
      "cell_type": "code",
      "source": [
        "#!/usr/bin/env python3\n",
        "\n",
        "def main():\n",
        "    # ここにプログラムを書く．\n",
        "\n",
        "if __name__ == \"__main__\":\n",
        "    main()"
      ],
      "metadata": {
        "id": "sNZW1PBkwNGR"
      },
      "execution_count": null,
      "outputs": []
    },
    {
      "cell_type": "markdown",
      "metadata": {
        "id": "EliP-z_krg3N"
      },
      "source": [
        "### 1-2 ファイルの処理"
      ]
    },
    {
      "cell_type": "markdown",
      "source": [
        "シェルのコマンドに `wget` というものがありますが，これを使うとインターネット上から情報を取得することができます．Wikipedia の「334」という項目は以下の URL に載っています．\n",
        "\n",
        "https://ja.wikipedia.org/wiki/334\n",
        "\n",
        "この URL にアクセスして表示されるテキストの中に `334` という値が何個あるか数えるプログラムを作ってください．"
      ],
      "metadata": {
        "id": "BCZ44f1Bn7zi"
      }
    },
    {
      "cell_type": "markdown",
      "source": [
        "最初に，`wget` で URL にアクセスしてその情報全部を `wikipedia334.txt` というファイル名で現在のディレクトリに保存してください．"
      ],
      "metadata": {
        "id": "ZRSePUhH6oZE"
      }
    },
    {
      "cell_type": "code",
      "source": [
        "# ここにシェルのコマンドを書く．"
      ],
      "metadata": {
        "id": "o1HGyEdM55_F"
      },
      "execution_count": null,
      "outputs": []
    },
    {
      "cell_type": "markdown",
      "source": [
        "```{hint}\n",
        "オプションコマンド `-O` を利用するとファイル名を指定して保存できます．\n",
        "```"
      ],
      "metadata": {
        "id": "vQ_ydu5H64hY"
      }
    },
    {
      "cell_type": "code",
      "source": [
        "#!/usr/bin/env python3\n",
        "\n",
        "def main():\n",
        "    # ここにプログラムを書く．\n",
        "\n",
        "if __name__ == \"__main__\":\n",
        "    main()"
      ],
      "metadata": {
        "id": "kiEly6NQn3mi"
      },
      "execution_count": null,
      "outputs": []
    },
    {
      "cell_type": "markdown",
      "metadata": {
        "id": "zGnQnFjooH3u"
      },
      "source": [
        "## scikit-learn を利用した機械学習\n",
        "\n"
      ]
    },
    {
      "cell_type": "markdown",
      "metadata": {
        "id": "zd-MotPPoH3w"
      },
      "source": [
        "「scikit-learn を利用した機械学習」で触れた事柄に関する問題集です．"
      ]
    },
    {
      "cell_type": "markdown",
      "metadata": {
        "id": "Ygl-97P2oH3w"
      },
      "source": [
        "### 2-1 ほげ"
      ]
    },
    {
      "cell_type": "markdown",
      "source": [],
      "metadata": {
        "id": "P_f9XQ5UoH3x"
      }
    },
    {
      "cell_type": "code",
      "source": [],
      "metadata": {
        "id": "QkmmaCAOoH3x"
      },
      "execution_count": null,
      "outputs": []
    },
    {
      "cell_type": "markdown",
      "metadata": {
        "id": "k9ZYETQ4oH3x"
      },
      "source": [
        "### 2-2 ほげ"
      ]
    },
    {
      "cell_type": "markdown",
      "source": [],
      "metadata": {
        "id": "4stxC3iloH3y"
      }
    },
    {
      "cell_type": "code",
      "source": [],
      "metadata": {
        "id": "ymkB5baIoH3y"
      },
      "execution_count": null,
      "outputs": []
    },
    {
      "cell_type": "markdown",
      "metadata": {
        "id": "DhapWHNZoH3y"
      },
      "source": [
        "### 2-3 ほげ"
      ]
    },
    {
      "cell_type": "markdown",
      "source": [],
      "metadata": {
        "id": "truVl6S3oH30"
      }
    },
    {
      "cell_type": "code",
      "source": [],
      "metadata": {
        "id": "A5SpSP54oH30"
      },
      "execution_count": null,
      "outputs": []
    },
    {
      "cell_type": "markdown",
      "metadata": {
        "id": "YzEZvAPFoIap"
      },
      "source": [
        "## 深層学習\n",
        "\n"
      ]
    },
    {
      "cell_type": "markdown",
      "metadata": {
        "id": "ZIPVON4koIar"
      },
      "source": [
        "「深層学習」で触れた事柄に関する問題集です．"
      ]
    },
    {
      "cell_type": "markdown",
      "metadata": {
        "id": "gg78KvPqoIas"
      },
      "source": [
        "### 3-1 ほげ"
      ]
    },
    {
      "cell_type": "markdown",
      "source": [],
      "metadata": {
        "id": "hs9e2PWFoIat"
      }
    },
    {
      "cell_type": "code",
      "source": [],
      "metadata": {
        "id": "hhYmWOb4oIav"
      },
      "execution_count": null,
      "outputs": []
    },
    {
      "cell_type": "markdown",
      "metadata": {
        "id": "zVlnPNEsoIav"
      },
      "source": [
        "### 3-2 ほげ"
      ]
    },
    {
      "cell_type": "markdown",
      "source": [],
      "metadata": {
        "id": "4HB5PKYpoIaw"
      }
    },
    {
      "cell_type": "code",
      "source": [],
      "metadata": {
        "id": "l8sVgHZjoIax"
      },
      "execution_count": null,
      "outputs": []
    },
    {
      "cell_type": "markdown",
      "metadata": {
        "id": "l9DYMiWSoIay"
      },
      "source": [
        "### 3-3 ほげ"
      ]
    },
    {
      "cell_type": "markdown",
      "source": [],
      "metadata": {
        "id": "5kSHed99oIay"
      }
    },
    {
      "cell_type": "code",
      "source": [],
      "metadata": {
        "id": "ank0w_7GoIaz"
      },
      "execution_count": null,
      "outputs": []
    },
    {
      "cell_type": "markdown",
      "metadata": {
        "id": "V2h2QaWZoIa0"
      },
      "source": [
        "### 3-4 ほげ"
      ]
    },
    {
      "cell_type": "markdown",
      "source": [],
      "metadata": {
        "id": "pcEQn6tFoIa1"
      }
    },
    {
      "cell_type": "code",
      "source": [],
      "metadata": {
        "id": "Nkjja1XBoIa2"
      },
      "execution_count": null,
      "outputs": []
    },
    {
      "cell_type": "markdown",
      "metadata": {
        "id": "g4I_5CeIoIvs"
      },
      "source": [
        "### 3-5 ほげ"
      ]
    },
    {
      "cell_type": "markdown",
      "source": [],
      "metadata": {
        "id": "9E7HTzVLoIvs"
      }
    },
    {
      "cell_type": "code",
      "source": [],
      "metadata": {
        "id": "cvq_zfjVoIvt"
      },
      "execution_count": null,
      "outputs": []
    },
    {
      "cell_type": "markdown",
      "metadata": {
        "id": "_rfC8Kj03omW"
      },
      "source": [
        "```{note}\n",
        "終わりです．\n",
        "```"
      ]
    }
  ],
  "metadata": {
    "accelerator": "GPU",
    "colab": {
      "collapsed_sections": [],
      "provenance": [],
      "toc_visible": true
    },
    "kernelspec": {
      "display_name": "Python 3 (ipykernel)",
      "language": "python",
      "name": "python3"
    },
    "language_info": {
      "codemirror_mode": {
        "name": "ipython",
        "version": 3
      },
      "file_extension": ".py",
      "mimetype": "text/x-python",
      "name": "python",
      "nbconvert_exporter": "python",
      "pygments_lexer": "ipython3",
      "version": "3.7.7"
    }
  },
  "nbformat": 4,
  "nbformat_minor": 0
}