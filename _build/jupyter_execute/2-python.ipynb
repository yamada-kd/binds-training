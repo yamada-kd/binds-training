{
 "cells": [
  {
   "cell_type": "markdown",
   "metadata": {
    "id": "0gHkEusdHkhA"
   },
   "source": [
    "<font color=\"Crimson\" size=6em>グーグルコラボラトリーを利用した Python 入門</font>"
   ]
  },
  {
   "cell_type": "markdown",
   "metadata": {
    "id": "XQa2VzwChFvV"
   },
   "source": [
    "教材作成者：東北大学大学院 情報科学研究科"
   ]
  },
  {
   "cell_type": "markdown",
   "metadata": {
    "id": "2y0XN6ARACog"
   },
   "source": [
    "#1. <font color=\"Crimson\">はじめに</font>\n"
   ]
  },
  {
   "cell_type": "markdown",
   "metadata": {
    "id": "ds95DHqtKlJ4"
   },
   "source": [
    "##1-1. <font color=\"Crimson\">このコンテンツで学ぶこと</font>"
   ]
  },
  {
   "cell_type": "markdown",
   "metadata": {
    "id": "vUG2j-uyHlSq"
   },
   "source": [
    "このコンテンツの目的は，ウェブベースの計算環境である Jupyter Notebook（このウェブページを形作っているもの）を利用して，Python の基本的な動作を習得することです．このコンテンツは東北大学大学院情報科学研究のプログラミング初学者向けの授業「ビッグデータスキルアップ演習（Big Data Skillup Training）」の内容の一部を日本語の e-learning コンテンツとして再構築したものです．"
   ]
  },
  {
   "cell_type": "markdown",
   "metadata": {
    "id": "FFyHBSbbl63j"
   },
   "source": [
    "##1-2. <font color=\"Crimson\">この環境について</font>"
   ]
  },
  {
   "cell_type": "markdown",
   "metadata": {
    "id": "oCUAqNGVix9c"
   },
   "source": [
    "### 1-2-1. <font color=\"Crimson\">Jupyter Notebook</font>\n"
   ]
  },
  {
   "cell_type": "markdown",
   "metadata": {
    "id": "nfntKMZRmCJL"
   },
   "source": [
    "Jupyter Notebook は Python を実行するための環境です．メモを取りながら Python のコードを実行することができます．この環境は，Python プログラムがコマンドライン上で実行される実際の環境とは少し異なるのですが，Python プログラムがどのように動くかということを簡単に確認しながら学習することができます．"
   ]
  },
  {
   "cell_type": "markdown",
   "metadata": {
    "id": "5JnCGCP7i726"
   },
   "source": [
    "### 1-2-2. <font color=\"Crimson\">GPU の利用方法</font>\n"
   ]
  },
  {
   "cell_type": "markdown",
   "metadata": {
    "id": "K_0Ng2Iziu0I"
   },
   "source": [
    "この環境で GPU を利用するには上のメニューの「ランタイム」から「ランタイムのタイプを変更」と進み，「ハードウェアアクセラレータ」の「GPU」を選択します．"
   ]
  },
  {
   "cell_type": "markdown",
   "metadata": {
    "id": "NL2sAPrOMmM7"
   },
   "source": [
    "##1-3. <font color=\"Crimson\">開始前に行うこと（重要）</font>"
   ]
  },
  {
   "cell_type": "markdown",
   "metadata": {
    "id": "T39orNPCHtVX"
   },
   "source": [
    "<font color=\"Crimson\">上の（このグーグルコラボラトリー自体の一番上の）「ファイル」をクリックし，さらにポップアップで出てくる項目から「ドライブにコピーを保存」をクリックし，自身のグーグルドライブにこのウェブページ全体のソースを保存します（グーグルのアカウントが必要です）．</font>こうすることによって，自分で書いたプログラムを実行することができるようになります．また，メモ等を自由に以下のスペースに追加することができるようになります．"
   ]
  },
  {
   "cell_type": "markdown",
   "metadata": {
    "id": "Q2ce0vlXKqht"
   },
   "source": [
    "##1-4. <font color=\"Crimson\">コンパニオン</font>"
   ]
  },
  {
   "cell_type": "markdown",
   "metadata": {
    "id": "KJDm_MN-H5TA"
   },
   "source": [
    "このコンテンツには，受講者の理解を助けるためのコンパニオンがいます．以下のものは「サミー先生」です．サミー先生はこの教材の英語版の制作者です．分かり難いところを詳しく教えてくれます．\n",
    "\n",
    "<font color=\"Crimson\">(9｀･ω･)9 ｡oO(ちゃお！)</font>"
   ]
  },
  {
   "cell_type": "markdown",
   "metadata": {
    "id": "ZPGxwSQwKwwX"
   },
   "source": [
    "##1-5. <font color=\"Crimson\">利用方法</font>\n"
   ]
  },
  {
   "cell_type": "markdown",
   "metadata": {
    "id": "FnlHAwtui3L3"
   },
   "source": [
    "### 1-5-1. <font color=\"Crimson\">進め方</font>"
   ]
  },
  {
   "cell_type": "markdown",
   "metadata": {
    "id": "BSbaWx4iIAfr"
   },
   "source": [
    "上から順番に読み進めます．Python のコードが書かれている場合は実行ボタンをクリックして実行します．コード内の値を変えたり，関数を変えたりして挙動を確かめてみてください．"
   ]
  },
  {
   "cell_type": "markdown",
   "metadata": {
    "id": "V7LaVjNbi_qK"
   },
   "source": [
    "### 1-5-2. <font color=\"Crimson\">コードセル</font>\n"
   ]
  },
  {
   "cell_type": "markdown",
   "metadata": {
    "id": "A2PNw4wYIIxm"
   },
   "source": [
    "コードセルとは，Python のコードを書き込み実行するためのセルです．以下のような灰色のボックスです．ここにコードを書きます．実行はコードセルの左に表示される「実行ボタン」をクリックするか，コードセルを選択した状態で `Ctrl + Enter` を押します．環境によっては行番号が表示されていると思いますので注意してください（行番号の数字はプログラムの構成要素ではありません）．\n",
    "\n"
   ]
  },
  {
   "cell_type": "code",
   "execution_count": 1,
   "metadata": {
    "id": "sfMQnC_QjxhL"
   },
   "outputs": [
    {
     "name": "stdout",
     "output_type": "stream",
     "text": [
      "This is a code cell.\n"
     ]
    }
   ],
   "source": [
    "print(\"This is a code cell.\")"
   ]
  },
  {
   "cell_type": "markdown",
   "metadata": {
    "id": "MwjGI-8iYFGo"
   },
   "source": [
    "#2. <font color=\"Crimson\">Python の基本的な使用方法</font>"
   ]
  },
  {
   "cell_type": "markdown",
   "metadata": {
    "id": "yWX-6FICG05q"
   },
   "source": [
    "##2-1. <font color=\"Crimson\">Python とは</font>"
   ]
  },
  {
   "cell_type": "markdown",
   "metadata": {
    "id": "6xbi2Q8bIQkN"
   },
   "source": [
    "Python は，科学技術界隈，特にデータ科学に関する分野において昨今，最も利用されていると言って過言ではないプログラミング言語です．これを習得することで今後，プログラミング技術なしでは為し得なかったような大量データの解析ができるようになります．Python は C言語とか Fortran とかの伝統的なプログラミング言語と比べて簡単に学ぶことができるプログラミング言語です．ものすごく人気がある言語であり，たくさんのライブラリ（補助ツール）が存在しているので，色々なことができます．計算の速さもそこそこで，少なくとも悪くはありません．ここでは，Python のバージョン3（Python3）の使い方を学びます．"
   ]
  },
  {
   "cell_type": "markdown",
   "metadata": {
    "id": "Gq6XDGXpJtlT"
   },
   "source": [
    "##2-2. <font color=\"Crimson\">Python の実行方法</font>"
   ]
  },
  {
   "cell_type": "markdown",
   "metadata": {
    "id": "V0dOgGiJJ-cd"
   },
   "source": [
    "### 2-2-1. <font color=\"Crimson\">実行の手順</font>"
   ]
  },
  {
   "cell_type": "markdown",
   "metadata": {
    "id": "xT39M44LLrHk"
   },
   "source": [
    "普通，Python は以下のような手順で使います．\n",
    "\n",
    "1.   プログラムを書きます．プログラムの本体をソースコードと呼びます．\n",
    "2.   書いたソースコードを保存します．拡張子は「.py」とします．\n",
    "3.   そのプログラムを（コマンドライン等から）呼び出します．\n"
   ]
  },
  {
   "cell_type": "markdown",
   "metadata": {
    "id": "tSJ4CvsXb0Dj"
   },
   "source": [
    "<font color=\"Crimson\">(9｀･ω･)9 ｡oO(このチュートリアルでは，グーグルコラボラトリーを利用するので，2番と3番はやりません（やれません）．)</font>"
   ]
  },
  {
   "cell_type": "markdown",
   "metadata": {
    "id": "Ob1MHdrxL3CB"
   },
   "source": [
    "### 2-2-2. <font color=\"Crimson\">Python プログラムの構造</font>"
   ]
  },
  {
   "cell_type": "markdown",
   "metadata": {
    "id": "lLVWXcwCL9Hl"
   },
   "source": [
    "以下のようなプログラムを書いて，それを実行するとターミナルウィンドウ等に「Hello world」という表示が出力されます．以下のプログラムにおいて，1～3と5～7行は Python にとって常に必要になる表記です．これは，いかなるときにも取り敢えず書いておくと良いでしょう．なので，以下のプログラムの本体は実質，4行目だけです．これは，「Hello world」という文を画面に表示しなさいという命令です．`print()` という表記の前に存在する空白は，キーボードの `Tab` を押すと入力できる空白文字です．Pythonではこのように空白文字をきちんと入れる必要があります．`def main():` 以下に書いた，タブの右側の表記だけがプログラムとして認識されます．"
   ]
  },
  {
   "cell_type": "code",
   "execution_count": 2,
   "metadata": {
    "id": "tUm59f0LM55C"
   },
   "outputs": [
    {
     "name": "stdout",
     "output_type": "stream",
     "text": [
      "Hello world\n"
     ]
    }
   ],
   "source": [
    "#!/usr/bin/env python3\n",
    "\n",
    "def main():\n",
    "    print(\"Hello world\")\n",
    "     \n",
    "if __name__ == \"__main__\":\n",
    "    main()"
   ]
  },
  {
   "cell_type": "markdown",
   "metadata": {
    "id": "oSBV_mUo37EC"
   },
   "source": [
    "<font color=\"Crimson\">(9｀･ω･)9 ｡oO(実は `print(\"Hello world\")` だけでコードは問題なく動きます．特にこの Google Colaboratory を使う場合，コードセルで実行した結果はメモリ上に保存されるので寧ろコマンドだけ書いた方が良い場合もあります．Google Colaboratory は本来そのようなプログラミング環境として利用することを想定されているのかもしれません．しかし，今回の実習の目的は最終的には Python プログラムを自身の計算機で動かせるようになることとしているので，この書き方を続けます．このようにすることで，コードセルをコピーして別の環境に持って行ったとしても問題なく利用できます．)</font>"
   ]
  },
  {
   "cell_type": "markdown",
   "metadata": {
    "id": "JfGon_89n9Qh"
   },
   "source": [
    "<font color=\"Crimson\">(9｀･ω･)9 ｡oO(Python コードをプログラムファイルとして実行した場合，`__name__` という変数に `\"__main__\"` という文字列が割り当てられます．一方で，`hoge.py` という名前の Python コードをライブラリとして別のプログラムから `import hoge` で呼び出した場合，`__name__` という変数に `\"hoge\"` が割り当てられます．つまり，`if __name__ == \"__main__\":` を書かないコードを別のファイルから呼び出して使おうとすると，望んでもいないのにそのコードの全部がインポート時に勝手に実行されてしまうという弊害が起きてしまうのです．)</font>"
   ]
  },
  {
   "cell_type": "markdown",
   "metadata": {
    "id": "zn3NeaMPL9zs"
   },
   "source": [
    "### 2-2-3. <font color=\"Crimson\">Python コーディング</font>"
   ]
  },
  {
   "cell_type": "markdown",
   "metadata": {
    "id": "d7dGuF_UME1i"
   },
   "source": [
    "Python でコーディングをする際に統一的なルール（エチケット？） として PEP8 が定義されています．PEP とは Python Enhancement Proposal の略です．PEP8 に従って書かれたコードは可読性が高くなります．\n",
    "\n",
    "*   https://pep8-ja.readthedocs.io/ja/latest/\n",
    "\n",
    "このコンテンツのコードは必ずしも PEP8 に従っていないかもしれません．\n"
   ]
  },
  {
   "cell_type": "markdown",
   "metadata": {
    "id": "GlT6jAOTb6fl"
   },
   "source": [
    "<font color=\"Crimson\">(9｀･ω･)9 ｡oO(Python に愛を持つ人はひたすら読み込みましょう！)</font>"
   ]
  },
  {
   "cell_type": "markdown",
   "metadata": {
    "id": "l2MpA5VMNb5-"
   },
   "source": [
    "##2-3. <font color=\"Crimson\">Python の基本操作</font>"
   ]
  },
  {
   "cell_type": "markdown",
   "metadata": {
    "id": "XpI3MkGVNp54"
   },
   "source": [
    "以降，実際にプログラムを書いてそれらを実行してみます．"
   ]
  },
  {
   "cell_type": "markdown",
   "metadata": {
    "id": "EuIaGYu9NjZp"
   },
   "source": [
    "###2-3-1. <font color=\"Crimson\">四則計算</font>"
   ]
  },
  {
   "cell_type": "markdown",
   "metadata": {
    "id": "T0Kz9mUzT1oW"
   },
   "source": [
    "以下のように書くと足し算ができます．プログラム中の「#」はコメントの宣言のための記号で，これが書いてある部分から右側はプログラムとして認識されません．"
   ]
  },
  {
   "cell_type": "code",
   "execution_count": 3,
   "metadata": {
    "id": "Hk-0z56UTxL1"
   },
   "outputs": [
    {
     "name": "stdout",
     "output_type": "stream",
     "text": [
      "18\n"
     ]
    }
   ],
   "source": [
    "#!/usr/bin/env python3\n",
    " \n",
    "def main():\n",
    "    print(3 + 15) # addition\n",
    " \n",
    "if __name__ == \"__main__\":\n",
    "    main()"
   ]
  },
  {
   "cell_type": "markdown",
   "metadata": {
    "id": "z-mSy7rjqGcj"
   },
   "source": [
    "<font color=\"Crimson\">(9｀･ω･)9 ｡oO(ハッシュとシャープは実は違うものですよね．)</font>"
   ]
  },
  {
   "cell_type": "markdown",
   "metadata": {
    "id": "4kcO2RFAUFml"
   },
   "source": [
    "その他の四則計算は以下のように書きます．"
   ]
  },
  {
   "cell_type": "code",
   "execution_count": 4,
   "metadata": {
    "id": "xvvcze6EULi2"
   },
   "outputs": [
    {
     "name": "stdout",
     "output_type": "stream",
     "text": [
      "8\n",
      "30.0\n",
      "255\n"
     ]
    }
   ],
   "source": [
    "#!/usr/bin/env python3\n",
    " \n",
    "def main():\n",
    "    print(10 - 2) # subtraction\n",
    "    print(90 / 3) # division\n",
    "    print(51 * 5) # multiplication\n",
    " \n",
    "if __name__ == \"__main__\":\n",
    "    main()"
   ]
  },
  {
   "cell_type": "markdown",
   "metadata": {
    "id": "LACRWfSnVC4s"
   },
   "source": [
    "<font color=\"Crimson\">(9｀･ω･)9 ｡oO(コードセルを追加して何か書いてみましょう！)</font>"
   ]
  },
  {
   "cell_type": "markdown",
   "metadata": {
    "id": "AQhcZizUgF2Y"
   },
   "source": [
    "###2-3-2. <font color=\"Crimson\">変数</font>"
   ]
  },
  {
   "cell_type": "markdown",
   "metadata": {
    "id": "yawsnFL_gKA8"
   },
   "source": [
    "上では，実際の数値を入力してプログラムを書きました．しかし，これではただの電卓です．以下のようにすると，変数を定義することができます．例えば，4行目で「a」という変数を生成し，これに「3」という数値を代入しています．ここで注意しなければならないことは，プログラミング言語において「=」は「その右側と左側が等しい」という意味ではなく，「右側を左側に代入する」という意味で用いられる点です．このように変数というものを使うことでプログラムは色々な処理を一般化することができます．"
   ]
  },
  {
   "cell_type": "code",
   "execution_count": 5,
   "metadata": {
    "id": "5QHKOBLsggMt"
   },
   "outputs": [
    {
     "name": "stdout",
     "output_type": "stream",
     "text": [
      "21\n",
      "-15\n",
      "6.0\n",
      "54\n"
     ]
    }
   ],
   "source": [
    "#!/usr/bin/env python3\n",
    " \n",
    "def main():\n",
    "    a = 3 # assign a value \"3\" to a variable \"a\"  ==\n",
    "    b = 18\n",
    "    print(a + b) # addition\n",
    "    print(a - b) # subtraction\n",
    "    print(b / a) # division\n",
    "    print(a * b) # multiplication\n",
    " \n",
    "if __name__ == \"__main__\":\n",
    "    main()"
   ]
  },
  {
   "cell_type": "markdown",
   "metadata": {
    "id": "NACQwG6sgv6b"
   },
   "source": [
    "変数として使うことができるものは英語アルファベットの中の一文字だけではありません．以下のように文字列を使用することができます．"
   ]
  },
  {
   "cell_type": "code",
   "execution_count": 6,
   "metadata": {
    "id": "E6r70gBwgyGm"
   },
   "outputs": [],
   "source": [
    "#!/usr/bin/env python3\n",
    " \n",
    "def main():\n",
    "    aaa = 5\n",
    " \n",
    "if __name__ == \"__main__\":\n",
    "    main()"
   ]
  },
  {
   "cell_type": "markdown",
   "metadata": {
    "id": "AlEr0YfDg0eh"
   },
   "source": [
    "変数として使用できる文字は以下のものを含みます．\n",
    "\n",
    "*   英語アルファベットに含まれる文字\n",
    "*   数字\n",
    "*   _ (アンダースコア)\n",
    "\n",
    "しかし以下のようなことは禁止事項です．\n",
    "\n",
    "*   変数の最初の文字が数字であること．\n",
    "*   予約語と等しい文字列．例えば，「print」という変数を使おうとしても使えません．これは Python が「print」という関数を備えているためです．\n",
    "\n",
    "変数には数値だけでなく，文字列や文字も代入することができます．以下のようにすると，「greeting」という変数が「print()」という関数に処理されて画面に表示されますが，「greeting」に代入された値は「Hello world」なので，画面に表示される文字列は同じく「Hello world」となります．"
   ]
  },
  {
   "cell_type": "code",
   "execution_count": 7,
   "metadata": {
    "id": "WgUlShVchW0f"
   },
   "outputs": [
    {
     "name": "stdout",
     "output_type": "stream",
     "text": [
      "Hello world\n"
     ]
    }
   ],
   "source": [
    "#!/usr/bin/env python3\n",
    " \n",
    "def main():\n",
    "    greeting = \"Hello world\"\n",
    "    print(greeting)\n",
    " \n",
    "if __name__ == \"__main__\":\n",
    "    main()"
   ]
  },
  {
   "cell_type": "markdown",
   "metadata": {
    "id": "Dmp40j1WmS8R"
   },
   "source": [
    "<font color=\"Crimson\">(9｀･ω･)9 ｡oO(Python では数値と文字列は明確に区別されます．数値を変数に代入したときは `\"` を利用しませんでした．`\"` に囲まれた部分は文字列としてみなされます．)</font>"
   ]
  },
  {
   "cell_type": "markdown",
   "metadata": {
    "id": "xDR8vpoEbw2K"
   },
   "source": [
    "ダブルクォーテーション（`\"`）に囲まれた部分には何を書いてもそれは文字列とみなされます．よって，上の例で `\"greeting\"` と書いてその内容（`Hello world`）を出力しようとしても，`greeting` という文字列が出力されるだけで中身を出力できません．目的の動作をさせるには変数の中身をダブルクォーテション内で「展開」しなければならないのです．変数を文字列の中で展開したい場合は `{` と `}` と `format()` を組み合わせて使います．"
   ]
  },
  {
   "cell_type": "code",
   "execution_count": 8,
   "metadata": {
    "id": "z6Jagfnvby7R"
   },
   "outputs": [
    {
     "name": "stdout",
     "output_type": "stream",
     "text": [
      "Ken, which is 6 years old is now sitting.\n"
     ]
    }
   ],
   "source": [
    "#!/usr/bin/env python3\n",
    " \n",
    "def main():\n",
    "    name = \"Ken\"\n",
    "    age = 6\n",
    "    print(\"{0}, which is {1} years old is now sitting.\".format(name, age))\n",
    " \n",
    "if __name__ == \"__main__\":\n",
    "    main()"
   ]
  },
  {
   "cell_type": "markdown",
   "metadata": {
    "id": "6GKHfaKrmUu7"
   },
   "source": [
    "###2-3-3. <font color=\"Crimson\">リストとディクショナリ</font>"
   ]
  },
  {
   "cell_type": "markdown",
   "metadata": {
    "id": "DkWyUww5mbib"
   },
   "source": [
    "複数個の値を代入することができる変数があります．これのことをただの変数ではなく，Python ではリスト（list）と呼びます．リスト変数は `[` と `]` と `,` を使って生成します．以下のように生成した変数「list_a」の要素にアクセスするには「list_a[0]」のような感じでリスト変数に添字を付けて書きます．こうすることで「list_a」に格納されている最初の値である「10」にアクセスできます．多くのプログラミング言語ではリストの一番最初を示すインデックスは「0」です（1ではありません．）．こういうシステムのことはゼロオリジンと呼称します．"
   ]
  },
  {
   "cell_type": "code",
   "execution_count": 9,
   "metadata": {
    "id": "ihzJ3CZim1VB"
   },
   "outputs": [
    {
     "name": "stdout",
     "output_type": "stream",
     "text": [
      "10\n",
      "4\n",
      "aaa\n"
     ]
    }
   ],
   "source": [
    "#!/usr/bin/env python3\n",
    " \n",
    "def main():\n",
    "    list_a = [10, 4, \"aaa\"] # declaration of a variable, list_a, this list variable contains three values\n",
    "    print(list_a[0]) # access first element of list_a\n",
    "    print(list_a[1]) # access second element of list_a\n",
    "    print(list_a[2]) # access third element of list_a\n",
    " \n",
    "if __name__ == \"__main__\":\n",
    "    main()"
   ]
  },
  {
   "cell_type": "markdown",
   "metadata": {
    "id": "K2dgE8JOm6v3"
   },
   "source": [
    "Python のリストでは上のように数値と文字（列）をひとつのリストに同時に入れることができます．リストを使うことが可能な多くのプログラミング言語ではこのような操作はできない場合が多いです．"
   ]
  },
  {
   "cell_type": "markdown",
   "metadata": {
    "id": "xZgUX0pVunDW"
   },
   "source": [
    "また，以下のような特別な変数も存在します．これをディクショナリ（dictionary）と呼びます．ディクショナリ変数は `{` と `}` と `,` と `:` を使って生成します．ディクショナリ変数には，キー（key）とそれに対応する値（value）を一組にして代入します．その後，キーの値を使って以下のようにしてディクショナリ変数にアクセスすることで，そのキーに対応する値を取得することができます．"
   ]
  },
  {
   "cell_type": "code",
   "execution_count": 10,
   "metadata": {
    "id": "6z91aRd9nrRO"
   },
   "outputs": [
    {
     "name": "stdout",
     "output_type": "stream",
     "text": [
      "1\n"
     ]
    }
   ],
   "source": [
    "#!/usr/bin/env python3\n",
    " \n",
    "def main():\n",
    "    dict_a = {\"January\" : \"1\", \"February\" : \"2\"} # declaration of dictionary, dict_a. this dictionary contains two keys and two values\n",
    "    print(dict_a[\"January\"]) # access a value corresponding to a key \"January\"\n",
    " \n",
    "if __name__ == \"__main__\":\n",
    "    main()"
   ]
  },
  {
   "cell_type": "markdown",
   "metadata": {
    "id": "N2R56V9Hnv6k"
   },
   "source": [
    "<font color=\"Crimson\">(9｀･ω･)9 ｡oO(便利ですね．)</font>"
   ]
  },
  {
   "cell_type": "markdown",
   "metadata": {
    "id": "xI6Ri8_8o7x6"
   },
   "source": [
    "###2-3-4. <font color=\"Crimson\">繰り返し処理</font>"
   ]
  },
  {
   "cell_type": "markdown",
   "metadata": {
    "id": "YkYLxTicr20H"
   },
   "source": [
    "Python で繰り返し処理をするには「for」を使います．以下のように書くと，`range(5)` に格納されている「0，1，2，3，4」という値が一行ごとに表示されます．プログラムではこの「for」を様々な局面で利用することによって人間ではできないような同じことの繰り返し作業を実現します．この繰り返し処理の方法と後に出る条件分岐の方法（if）さえ用いればどのようなプログラムでも実現することができます．繰り返し操作が終わった次の行からは，インデントを再びアウトデントするのを忘れないよう注意しましょう．"
   ]
  },
  {
   "cell_type": "code",
   "execution_count": 11,
   "metadata": {
    "id": "ZJ--uUJssBwv"
   },
   "outputs": [
    {
     "name": "stdout",
     "output_type": "stream",
     "text": [
      "0\n",
      "1\n",
      "2\n",
      "3\n",
      "4\n",
      "hoge\n"
     ]
    }
   ],
   "source": [
    "#!/usr/bin/env python3\n",
    " \n",
    "def main():\n",
    "    for i in [0,1,2,3,4]:\n",
    "        print(i)\n",
    "    print(\"hoge\")\n",
    " \n",
    "if __name__ == \"__main__\":\n",
    "    main()"
   ]
  },
  {
   "cell_type": "markdown",
   "metadata": {
    "id": "sGdYm3qms7Nj"
   },
   "source": [
    "<font color=\"Crimson\">(9｀･ω･)9 ｡oO(`range(5)` は `[0，1，2，3，4]` の配列を生成するものと考えて問題ないです．)</font>"
   ]
  },
  {
   "cell_type": "markdown",
   "metadata": {
    "id": "4rkSvLdDn7Xe"
   },
   "source": [
    "以下のように書くとリストに格納されているデータ全てにひとつずつアクセスすることができます．"
   ]
  },
  {
   "cell_type": "code",
   "execution_count": 12,
   "metadata": {
    "id": "7Rp9po27oQD2"
   },
   "outputs": [
    {
     "name": "stdout",
     "output_type": "stream",
     "text": [
      "10\n",
      "4\n",
      "aaa\n"
     ]
    }
   ],
   "source": [
    "#!/usr/bin/env python3\n",
    " \n",
    "def main():\n",
    "    list_a = [10, 4, \"aaa\"] # declaration of variable list_a\n",
    "    for w in list_a: # repetitive access of list_a. w represents an element.\n",
    "        print(w) # when you start a \"function\" you have to insert [tab] (and when you finish the function, also you need outdent)\n",
    " \n",
    "if __name__ == \"__main__\":\n",
    "    main()"
   ]
  },
  {
   "cell_type": "markdown",
   "metadata": {
    "id": "y7LxU-RgocvX"
   },
   "source": [
    "ディクショナリに対する繰り返しのアクセスは以下のようにします．"
   ]
  },
  {
   "cell_type": "code",
   "execution_count": 13,
   "metadata": {
    "id": "TXjR5-Yhoewk"
   },
   "outputs": [
    {
     "name": "stdout",
     "output_type": "stream",
     "text": [
      "January 1\n",
      "February 2\n"
     ]
    }
   ],
   "source": [
    "#!/usr/bin/env python3\n",
    " \n",
    "def main():\n",
    "    dict_a={\"January\" : \"1\", \"February\" : \"2\"}\n",
    "    for k in dict_a.keys(): # dict_a.keys() is a list containing only keys of \"dict_a\". or you can write simply \"dict_a\" instead of \"dict_a.keys()\"\n",
    "        print(k, dict_a[k]) # k is a key and dict_a[k] is a value corresponding to the key.\n",
    " \n",
    "if __name__ == \"__main__\":\n",
    "    main()"
   ]
  },
  {
   "cell_type": "markdown",
   "metadata": {
    "id": "jepGsAriue5r"
   },
   "source": [
    "<font color=\"Crimson\">(9｀･ω･)9 ｡oO(ディクショナリ変数に `.keys()` をつけることでディクショナリ変数に含まれるキーからなるリストを生成することができます．)</font>"
   ]
  },
  {
   "cell_type": "markdown",
   "metadata": {
    "id": "6eUSxsKEox5F"
   },
   "source": [
    "以下のように書いても，上と全く同じ挙動を示します．"
   ]
  },
  {
   "cell_type": "code",
   "execution_count": 14,
   "metadata": {
    "id": "QFA4CCVooyoa"
   },
   "outputs": [
    {
     "name": "stdout",
     "output_type": "stream",
     "text": [
      "January 1\n",
      "February 2\n"
     ]
    }
   ],
   "source": [
    "#!/usr/bin/env python3\n",
    " \n",
    "def main():\n",
    "    dict_a={\"January\" : \"1\", \"February\" : \"2\"}\n",
    "    for k, v in dict_a.items():\n",
    "        print(k, v) # k is a key and dict_a[k] is a value corresponding to the key.\n",
    " \n",
    "if __name__ == \"__main__\":\n",
    "    main()"
   ]
  },
  {
   "cell_type": "markdown",
   "metadata": {
    "id": "fCnp8d_nolo9"
   },
   "source": [
    "<font color=\"Crimson\">(9｀･ω･)9 ｡oO(この場合，`.items()` によってキーと値のペアが同時に抜き出されているのです．変数の内容を変更して，挙動を確認してみましょう！)</font>"
   ]
  },
  {
   "cell_type": "markdown",
   "metadata": {
    "id": "17lN6S8UsZhp"
   },
   "source": [
    "繰り返し処理をする方法にはその他に，「while」があります．以下のようにして使います．「while」の右側に書いた条件が満たされる場合のみ，それ以下の処理を繰り返すというものです．この場合，i という変数が10より小さいとき処理が繰り返されます．そして，この「i」の値は「while」が1回実行されるたびに1ずつインクリメント（増加）されています．その表記が，「i = i + 1」です．これは，「i」に「iに1を足した値」を代入しろという意味です．なので，この表記の前の i に比べて，表記の後の i は1だけ大きい値です．"
   ]
  },
  {
   "cell_type": "code",
   "execution_count": 15,
   "metadata": {
    "id": "MTDcp7SMsvbE"
   },
   "outputs": [
    {
     "name": "stdout",
     "output_type": "stream",
     "text": [
      "0\n",
      "1\n",
      "2\n",
      "3\n",
      "4\n",
      "5\n",
      "6\n",
      "7\n",
      "8\n",
      "9\n"
     ]
    }
   ],
   "source": [
    "#!/usr/bin/env python3\n",
    " \n",
    "def main():\n",
    "    i = 0\n",
    "    while i < 10: # If the condition \"i < 10\" is satisfied,\n",
    "        print(i) \n",
    "        i = i + 1 # these two lines are processed.\n",
    " \n",
    "if __name__ == \"__main__\":\n",
    "    main()"
   ]
  },
  {
   "cell_type": "markdown",
   "metadata": {
    "id": "vGP1bBqJs0w9"
   },
   "source": [
    "また，while は以下のようにして用いることもできます．この「!=」は「この記号の右側と左側の値が等しくない」ということを意味します．"
   ]
  },
  {
   "cell_type": "code",
   "execution_count": 16,
   "metadata": {
    "id": "AKAYR7sws0D1"
   },
   "outputs": [
    {
     "name": "stdout",
     "output_type": "stream",
     "text": [
      "0\n",
      "1\n",
      "2\n",
      "3\n",
      "4\n",
      "5\n",
      "6\n",
      "7\n",
      "8\n",
      "9\n"
     ]
    }
   ],
   "source": [
    "#!/usr/bin/env python3\n",
    " \n",
    "def main():\n",
    "    i = 0\n",
    "    while i != 10:\n",
    "        print(i)\n",
    "        i = i + 1\n",
    " \n",
    "if __name__ == \"__main__\":\n",
    "    main()"
   ]
  },
  {
   "cell_type": "markdown",
   "metadata": {
    "id": "Cfr0TZoWo8ac"
   },
   "source": [
    "###2-3-5. <font color=\"Crimson\">条件分岐</font>"
   ]
  },
  {
   "cell_type": "markdown",
   "metadata": {
    "id": "Rhrmjdi9tsuW"
   },
   "source": [
    "プログラミング言語にとって重要な要素として「if」があります．これは条件分岐のためのシステムです．以下のように書くと，もし `i` の値が2であるときのみ出力がされます．ここで，`==` という記号は「記号の右側と左側の値が等しい」ということを意味し，現実世界の「=」と同義です．"
   ]
  },
  {
   "cell_type": "code",
   "execution_count": 17,
   "metadata": {
    "id": "4IGme4HwuIzb"
   },
   "outputs": [
    {
     "name": "stdout",
     "output_type": "stream",
     "text": [
      "2\n"
     ]
    }
   ],
   "source": [
    "#!/usr/bin/env python3\n",
    " \n",
    "def main():\n",
    "    for i in range(5):\n",
    "        if i == 2:\n",
    "            print(i)\n",
    " \n",
    "if __name__ == \"__main__\":\n",
    "    main()"
   ]
  },
  {
   "cell_type": "markdown",
   "metadata": {
    "id": "ljhCaX-9oJ_b"
   },
   "source": [
    "繰り返し処理と条件分岐を組み合わせることで複雑な動作を実現することができます．以下のように書くと，もしキーが「January」であった場合，「1」が表示されます．それ以外でもし，「ディクショナリ変数の値が2」であった場合，`February corresponds to 2 in dict_a.` と表示されます．それら以外の全ての場合おいては，`key is not January or February.` と表示されます．"
   ]
  },
  {
   "cell_type": "code",
   "execution_count": 18,
   "metadata": {
    "id": "_1ArCYSboJ_b"
   },
   "outputs": [
    {
     "name": "stdout",
     "output_type": "stream",
     "text": [
      "1\n",
      "February corresponds to 2 in dict_a.\n",
      "May is not January or February.\n"
     ]
    }
   ],
   "source": [
    "#!/usr/bin/env python3\n",
    " \n",
    "def main():\n",
    "    dict_a={\"January\" : \"1\", \"February\" : \"2\", \"May\" : \"5\"}\n",
    "    for k in dict_a.keys():\n",
    "        if k == \"January\": # a condition means if variable \"k\" is same as \"January\"\n",
    "            print(dict_a[k]) # If the above condition is satisfied, this line is executed. do not forget an indent\n",
    "        elif dict_a[k] == \"2\": # If \"k\" is not \"January\" and \"dict_a[k]\" is same as \"2\",\n",
    "            print(k,\"corresponds to\",dict_a[k],\"in dict_a.\") # this line is executed.\n",
    "        else: # In all situation except above two condition,\n",
    "            print(k,\"is not January or February.\") # this line is executed.\n",
    " \n",
    "if __name__ == \"__main__\":\n",
    "    main()"
   ]
  },
  {
   "cell_type": "markdown",
   "metadata": {
    "id": "QKQulKmAq03g"
   },
   "source": [
    "###2-3-6. <font color=\"Crimson\">関数</font>"
   ]
  },
  {
   "cell_type": "markdown",
   "metadata": {
    "id": "BWTa03rRv9tz"
   },
   "source": [
    "プログラミングをするにあたり，関数というものはとても大事な概念です．関数はあるプロセスの一群をまとめるためのシステムです．書いたプロセスを関数化することで，ソースコードの可読性が上がります．また，処理に汎用性を与えることができるようになります．同じ処理を変数の値だけを変えて何度も行いたい場合は同じ処理を何度も書くより，関数化して，必要なときにその関数を呼び出す，といったやり方が効率的です．関数は， `def` というものを使って生成します．これまでに書いてきたプログラムにも `def main()` という表記がありました．これは， `main()` という関数を定義するものです．そして，その `main()` という関数をソースコードの一番下，`if __name__ == \"__main__\":`で呼び出して使っていたということです．この `main()` 以外にも，プログラマーは自由に関数を定義することができます．以下のように `func_1()` という関数を作って，それを `main()` の中で実行することができます．"
   ]
  },
  {
   "cell_type": "code",
   "execution_count": 19,
   "metadata": {
    "id": "Kl4KMzRr8lBL"
   },
   "outputs": [
    {
     "name": "stdout",
     "output_type": "stream",
     "text": [
      "Hello\n"
     ]
    }
   ],
   "source": [
    "#!/usr/bin/env python3\n",
    " \n",
    "def main():\n",
    "    func_1(); # The function \"func_1()\" is executed in a function \"main()\".\n",
    "     \n",
    "def func_1(): # Declaration of a novel function \"func_1()\".\n",
    "    print(\"Hello\") # substance of \"func_1()\"\n",
    " \n",
    "if __name__ == \"__main__\":\n",
    "    main() # The function \"main()\" is executed (and \"main()\" execute \"func_1()\" and \"func_1()\" execute \"print(\"Hello\")\")."
   ]
  },
  {
   "cell_type": "markdown",
   "metadata": {
    "id": "yvt6kpne8rKL"
   },
   "source": [
    "<font color=\"Crimson\">(9｀･ω･)9 ｡oO(`if __name__ == \"__main__\":` を書かない人結構いますが，では，その書いたプログラム，hoge.py としましょう，別のプログラムでインポート `import hoge` したときの挙動は期待したものと異なると思いますのでので試してみましょう！あと，変数のスコープの管理もしやすいです．)</font>"
   ]
  },
  {
   "cell_type": "markdown",
   "metadata": {
    "id": "riNA0n-x-4AL"
   },
   "source": [
    "関数を生成する際に `()` が付属していますが，これは，引数（ひきすう，パラメータ）の受け渡しに使うためのものです．以下のように書くと，`Python` という文字列が格納された変数 `str_1` を関数 `func_1()` のパラメータとして関数が実行されます．その後，`func_1()` 内では，パラメータ `str_1 == Python` を `func_1()` の中でのみ定義されるパラメータ変数である `arg_1` で受け取りそれを利用して新たな処理が実行されます．"
   ]
  },
  {
   "cell_type": "code",
   "execution_count": 20,
   "metadata": {
    "id": "1wXM3Bcv_XW6"
   },
   "outputs": [
    {
     "name": "stdout",
     "output_type": "stream",
     "text": [
      "Hello Python\n"
     ]
    }
   ],
   "source": [
    "#!/usr/bin/env python3\n",
    " \n",
    "def main():\n",
    "    str_1 = \"Python\"\n",
    "    func_1(str_1); # pass the variable \"str_1\" to the function \"func_1\"\n",
    "     \n",
    "def func_1(arg_1): # To get argument from external call, you need to set a variable to receive the argument. In this case, it is \"arg_1\".\n",
    "    print(\"Hello\", arg_1) # print \"Hello\" and arg_1 (= str_1 in main() = \"Python\").\n",
    " \n",
    "if __name__ == \"__main__\":\n",
    "    main()"
   ]
  },
  {
   "cell_type": "markdown",
   "metadata": {
    "id": "QDknS-A5_j9j"
   },
   "source": [
    "また，関数はその関数内で処理された結果の値を関数の呼び出し元に返す (呼び出し元の関数内で使うことができるように値を渡す) ことができます．例えば，以下の書くと，`summation()` の呼び出し元に対して，`summation()` で計算した結果（リスト内の数値の和）が返ってきます．その返ってきた値を変数 `result_1` に格納してその後の処理に利用することができます．\n",
    "\n"
   ]
  },
  {
   "cell_type": "code",
   "execution_count": 21,
   "metadata": {
    "id": "ZQ05_m3w_smr"
   },
   "outputs": [
    {
     "name": "stdout",
     "output_type": "stream",
     "text": [
      "12\n"
     ]
    }
   ],
   "source": [
    "#!/usr/bin/env python3\n",
    " \n",
    "def main():\n",
    "    numbers = [2, 4, 5, -2, 3] # a list to be calculated\n",
    "    result_1 = summation(numbers) # execution of summation(). Numbers is passed to the function. And the result of the function is assigned to the variable \"result_1\"\n",
    "    print(result_1)\n",
    "     \n",
    "def summation(arg_1): # arg_1 is a variable to contain the argument (numbers in main()).\n",
    "    sumvalue = 0 # A variable to contain a result of summation.\n",
    "    for number in arg_1:\n",
    "        sumvalue = sumvalue + number # this means \"sum is renewed by the value of sum + number\"\n",
    "    return sumvalue # return the result of above calculation to the function caller by the word \"return\"\n",
    " \n",
    "if __name__ == \"__main__\":\n",
    "    main()"
   ]
  },
  {
   "cell_type": "markdown",
   "metadata": {
    "id": "BPWfExMduZ7f"
   },
   "source": [
    "###2-3-7. <font color=\"Crimson\">ライブラリのインポート</font>"
   ]
  },
  {
   "cell_type": "markdown",
   "metadata": {
    "id": "p5YvrBRDuU3L"
   },
   "source": [
    "上では関数を作ってプログラムを便利にしてきましたが，世界には様々な便利な関数をまとめたライブラリが存在します．これを使うと様々な便利なことをすごく簡単な記述で実現可能です．そういった関数の集まりをライブラリと言いますが，ここではそれらライブラリの使い方を学びます．ライブラリは以下のように，`#!/usr/bin/env python3` の下に `import` という表記によりプログラム中で使うことを宣言します（利用する直前に呼び出しても良い）．以下では，「statistics」というモジュールを使うことを明示しています．以下は実行しても何もしない（ライブラリをインポートすることだけをする）プログラムです．"
   ]
  },
  {
   "cell_type": "code",
   "execution_count": 22,
   "metadata": {
    "executionInfo": {
     "elapsed": 352,
     "status": "ok",
     "timestamp": 1645849963698,
     "user": {
      "displayName": "Kazunori Yamada",
      "photoUrl": "https://lh3.googleusercontent.com/a/default-user=s64",
      "userId": "02505806892387628048"
     },
     "user_tz": -540
    },
    "id": "-mMg_RKlvcyb"
   },
   "outputs": [],
   "source": [
    "#!/usr/bin/env python3\n",
    "import statistics\n",
    " \n",
    "def main():\n",
    "    pass\n",
    " \n",
    "if __name__ == \"__main__\":\n",
    "    main()"
   ]
  },
  {
   "cell_type": "markdown",
   "metadata": {
    "id": "b7xo0a6JzJGE"
   },
   "source": [
    "<font color=\"Crimson\">(9｀･ω･)9 ｡oO(この世にどんなライブラリがあるのかは人に聞くとか Google で調べることとかで知ることができます．)</font>"
   ]
  },
  {
   "cell_type": "markdown",
   "metadata": {
    "id": "rdew3XbxO5p6"
   },
   "source": [
    "複数個のモジュールを呼び込むときは以下のように書くことができます．"
   ]
  },
  {
   "cell_type": "code",
   "execution_count": 23,
   "metadata": {
    "id": "KqsgYxtUO6YE"
   },
   "outputs": [],
   "source": [
    "#!/usr/bin/env python3\n",
    "import statistics\n",
    "import sys\n",
    " \n",
    "def main():\n",
    "    pass\n",
    " \n",
    "if __name__ == \"__main__\":\n",
    "    main()"
   ]
  },
  {
   "cell_type": "markdown",
   "metadata": {
    "id": "CRge8BCEPDci"
   },
   "source": [
    "例えば，モジュール「statistics」を用いれば平均や標準偏差の計算が1行で可能です．モジュールに入っている関数（メソッド）を使うときは「モジュール名.関数名()」という形式で書きます．"
   ]
  },
  {
   "cell_type": "code",
   "execution_count": 24,
   "metadata": {
    "id": "fFdFGqyxPH00"
   },
   "outputs": [
    {
     "name": "stdout",
     "output_type": "stream",
     "text": [
      "mean: 4.5\n",
      "sd: 2.449489742783178\n"
     ]
    }
   ],
   "source": [
    "#!/usr/bin/env python3\n",
    "import statistics\n",
    " \n",
    "def main():\n",
    "    linumber=[1, 2, 3, 4, 5, 6, 7, 8]\n",
    "     \n",
    "    print(\"mean:\", statistics.mean(linumber))\n",
    "    print(\"sd:\", statistics.stdev(linumber))\n",
    " \n",
    "if __name__ == \"__main__\":\n",
    "    main()"
   ]
  },
  {
   "cell_type": "markdown",
   "metadata": {
    "id": "X7jfZBjuPOXa"
   },
   "source": [
    "また，モジュール「math」を用いれば数学で用いられる様々な関数 (数学における関数) を簡単に記述することができます．"
   ]
  },
  {
   "cell_type": "code",
   "execution_count": 25,
   "metadata": {
    "id": "9s4K-PKXPRWT"
   },
   "outputs": [
    {
     "name": "stdout",
     "output_type": "stream",
     "text": [
      "log_10: 1.0\n",
      "log_2: 3.321928094887362\n",
      "log_e: 2.302585092994046\n",
      "1.2246467991473532e-16\n",
      "-1.0\n",
      "-1.2246467991473532e-16\n"
     ]
    }
   ],
   "source": [
    "#!/usr/bin/env python3\n",
    "import math\n",
    " \n",
    "def main():\n",
    "    x=10\n",
    "    print(\"log_10:\", math.log10(x))\n",
    "    print(\"log_2:\", math.log2(x))\n",
    "    print(\"log_e:\", math.log(x))\n",
    "     \n",
    "    x=math.radians(180) #This is radian of an angle of 90 degrees\n",
    "    print(math.sin(x))\n",
    "    print(math.cos(x))\n",
    "    print(math.tan(x))\n",
    " \n",
    "if __name__ == \"__main__\":\n",
    "    main()"
   ]
  },
  {
   "cell_type": "markdown",
   "metadata": {
    "id": "RjikywjwPb_3"
   },
   "source": [
    "これまでは Python にデフォルトで組み込まれているモジュールのみを使ってきましたが，外部で用意されているモジュールを使うことも可能です．外部のモジュールはインストールしなければなりません．そのためにはコマンドライン上で「pip3」というコマンドを用います．例えば，数値計算を行うためのモジュール「NumPy」は以下のようにすることでインストールすることができます．現在使っている Python（正確には Python3）と pip3 が紐付いており，pip3 で外部からインストールしたライブラリは Python3 から呼び出すことができるのです．"
   ]
  },
  {
   "cell_type": "code",
   "execution_count": 26,
   "metadata": {
    "id": "i4660oYgPkFv"
   },
   "outputs": [
    {
     "name": "stdout",
     "output_type": "stream",
     "text": [
      "Collecting numpy\r\n"
     ]
    },
    {
     "name": "stdout",
     "output_type": "stream",
     "text": [
      "  Downloading numpy-1.21.6-cp37-cp37m-manylinux_2_12_x86_64.manylinux2010_x86_64.whl (15.7 MB)\r\n",
      "\u001b[?25l\r",
      "\u001b[K     |                                | 10 kB 15.6 MB/s eta 0:00:02\r",
      "\u001b[K     |                                | 20 kB 14.2 MB/s eta 0:00:02\r",
      "\u001b[K     |                                | 30 kB 12.4 MB/s eta 0:00:02\r",
      "\u001b[K     |                                | 40 kB 6.5 MB/s eta 0:00:03\r",
      "\u001b[K     |                                | 51 kB 6.1 MB/s eta 0:00:03\r",
      "\u001b[K     |▏                               | 61 kB 7.2 MB/s eta 0:00:03\r",
      "\u001b[K     |▏                               | 71 kB 7.8 MB/s eta 0:00:03\r",
      "\u001b[K     |▏                               | 81 kB 8.8 MB/s eta 0:00:02\r",
      "\u001b[K     |▏                               | 92 kB 9.4 MB/s eta 0:00:02\r",
      "\u001b[K     |▏                               | 102 kB 8.3 MB/s eta 0:00:02\r",
      "\u001b[K     |▎                               | 112 kB 8.3 MB/s eta 0:00:02\r",
      "\u001b[K     |▎                               | 122 kB 8.3 MB/s eta 0:00:02\r",
      "\u001b[K     |▎                               | 133 kB 8.3 MB/s eta 0:00:02\r",
      "\u001b[K     |▎                               | 143 kB 8.3 MB/s eta 0:00:02"
     ]
    },
    {
     "name": "stdout",
     "output_type": "stream",
     "text": [
      "\r",
      "\u001b[K     |▎                               | 153 kB 8.3 MB/s eta 0:00:02\r",
      "\u001b[K     |▍                               | 163 kB 8.3 MB/s eta 0:00:02\r",
      "\u001b[K     |▍                               | 174 kB 8.3 MB/s eta 0:00:02\r",
      "\u001b[K     |▍                               | 184 kB 8.3 MB/s eta 0:00:02\r",
      "\u001b[K     |▍                               | 194 kB 8.3 MB/s eta 0:00:02\r",
      "\u001b[K     |▍                               | 204 kB 8.3 MB/s eta 0:00:02\r",
      "\u001b[K     |▍                               | 215 kB 8.3 MB/s eta 0:00:02\r",
      "\u001b[K     |▌                               | 225 kB 8.3 MB/s eta 0:00:02\r",
      "\u001b[K     |▌                               | 235 kB 8.3 MB/s eta 0:00:02\r",
      "\u001b[K     |▌                               | 245 kB 8.3 MB/s eta 0:00:02\r",
      "\u001b[K     |▌                               | 256 kB 8.3 MB/s eta 0:00:02\r",
      "\u001b[K     |▌                               | 266 kB 8.3 MB/s eta 0:00:02\r",
      "\u001b[K     |▋                               | 276 kB 8.3 MB/s eta 0:00:02\r",
      "\u001b[K     |▋                               | 286 kB 8.3 MB/s eta 0:00:02\r",
      "\u001b[K     |▋                               | 296 kB 8.3 MB/s eta 0:00:02\r",
      "\u001b[K     |▋                               | 307 kB 8.3 MB/s eta 0:00:02\r",
      "\u001b[K     |▋                               | 317 kB 8.3 MB/s eta 0:00:02\r",
      "\u001b[K     |▊                               | 327 kB 8.3 MB/s eta 0:00:02\r",
      "\u001b[K     |▊                               | 337 kB 8.3 MB/s eta 0:00:02\r",
      "\u001b[K     |▊                               | 348 kB 8.3 MB/s eta 0:00:02\r",
      "\u001b[K     |▊                               | 358 kB 8.3 MB/s eta 0:00:02\r",
      "\u001b[K     |▊                               | 368 kB 8.3 MB/s eta 0:00:02\r",
      "\u001b[K     |▊                               | 378 kB 8.3 MB/s eta 0:00:02\r",
      "\u001b[K     |▉                               | 389 kB 8.3 MB/s eta 0:00:02\r",
      "\u001b[K     |▉                               | 399 kB 8.3 MB/s eta 0:00:02\r",
      "\u001b[K     |▉                               | 409 kB 8.3 MB/s eta 0:00:02\r",
      "\u001b[K     |▉                               | 419 kB 8.3 MB/s eta 0:00:02\r",
      "\u001b[K     |▉                               | 430 kB 8.3 MB/s eta 0:00:02\r",
      "\u001b[K     |█                               | 440 kB 8.3 MB/s eta 0:00:02\r",
      "\u001b[K     |█                               | 450 kB 8.3 MB/s eta 0:00:02\r",
      "\u001b[K     |█                               | 460 kB 8.3 MB/s eta 0:00:02\r",
      "\u001b[K     |█                               | 471 kB 8.3 MB/s eta 0:00:02\r",
      "\u001b[K     |█                               | 481 kB 8.3 MB/s eta 0:00:02\r",
      "\u001b[K     |█                               | 491 kB 8.3 MB/s eta 0:00:02\r",
      "\u001b[K     |█                               | 501 kB 8.3 MB/s eta 0:00:02\r",
      "\u001b[K     |█                               | 512 kB 8.3 MB/s eta 0:00:02\r",
      "\u001b[K     |█                               | 522 kB 8.3 MB/s eta 0:00:02\r",
      "\u001b[K     |█                               | 532 kB 8.3 MB/s eta 0:00:02\r",
      "\u001b[K     |█                               | 542 kB 8.3 MB/s eta 0:00:02\r",
      "\u001b[K     |█▏                              | 552 kB 8.3 MB/s eta 0:00:02\r",
      "\u001b[K     |█▏                              | 563 kB 8.3 MB/s eta 0:00:02\r",
      "\u001b[K     |█▏                              | 573 kB 8.3 MB/s eta 0:00:02\r",
      "\u001b[K     |█▏                              | 583 kB 8.3 MB/s eta 0:00:02\r",
      "\u001b[K     |█▏                              | 593 kB 8.3 MB/s eta 0:00:02\r",
      "\u001b[K     |█▎                              | 604 kB 8.3 MB/s eta 0:00:02\r",
      "\u001b[K     |█▎                              | 614 kB 8.3 MB/s eta 0:00:02\r",
      "\u001b[K     |█▎                              | 624 kB 8.3 MB/s eta 0:00:02\r",
      "\u001b[K     |█▎                              | 634 kB 8.3 MB/s eta 0:00:02\r",
      "\u001b[K     |█▎                              | 645 kB 8.3 MB/s eta 0:00:02\r",
      "\u001b[K     |█▍                              | 655 kB 8.3 MB/s eta 0:00:02\r",
      "\u001b[K     |█▍                              | 665 kB 8.3 MB/s eta 0:00:02\r",
      "\u001b[K     |█▍                              | 675 kB 8.3 MB/s eta 0:00:02\r",
      "\u001b[K     |█▍                              | 686 kB 8.3 MB/s eta 0:00:02\r",
      "\u001b[K     |█▍                              | 696 kB 8.3 MB/s eta 0:00:02\r",
      "\u001b[K     |█▍                              | 706 kB 8.3 MB/s eta 0:00:02\r",
      "\u001b[K     |█▌                              | 716 kB 8.3 MB/s eta 0:00:02\r",
      "\u001b[K     |█▌                              | 727 kB 8.3 MB/s eta 0:00:02\r",
      "\u001b[K     |█▌                              | 737 kB 8.3 MB/s eta 0:00:02\r",
      "\u001b[K     |█▌                              | 747 kB 8.3 MB/s eta 0:00:02\r",
      "\u001b[K     |█▌                              | 757 kB 8.3 MB/s eta 0:00:02\r",
      "\u001b[K     |█▋                              | 768 kB 8.3 MB/s eta 0:00:02\r",
      "\u001b[K     |█▋                              | 778 kB 8.3 MB/s eta 0:00:02\r",
      "\u001b[K     |█▋                              | 788 kB 8.3 MB/s eta 0:00:02\r",
      "\u001b[K     |█▋                              | 798 kB 8.3 MB/s eta 0:00:02\r",
      "\u001b[K     |█▋                              | 808 kB 8.3 MB/s eta 0:00:02\r",
      "\u001b[K     |█▊                              | 819 kB 8.3 MB/s eta 0:00:02\r",
      "\u001b[K     |█▊                              | 829 kB 8.3 MB/s eta 0:00:02\r",
      "\u001b[K     |█▊                              | 839 kB 8.3 MB/s eta 0:00:02\r",
      "\u001b[K     |█▊                              | 849 kB 8.3 MB/s eta 0:00:02\r",
      "\u001b[K     |█▊                              | 860 kB 8.3 MB/s eta 0:00:02\r",
      "\u001b[K     |█▊                              | 870 kB 8.3 MB/s eta 0:00:02\r",
      "\u001b[K     |█▉                              | 880 kB 8.3 MB/s eta 0:00:02\r",
      "\u001b[K     |█▉                              | 890 kB 8.3 MB/s eta 0:00:02\r",
      "\u001b[K     |█▉                              | 901 kB 8.3 MB/s eta 0:00:02\r",
      "\u001b[K     |█▉                              | 911 kB 8.3 MB/s eta 0:00:02\r",
      "\u001b[K     |█▉                              | 921 kB 8.3 MB/s eta 0:00:02\r",
      "\u001b[K     |██                              | 931 kB 8.3 MB/s eta 0:00:02\r",
      "\u001b[K     |██                              | 942 kB 8.3 MB/s eta 0:00:02\r",
      "\u001b[K     |██                              | 952 kB 8.3 MB/s eta 0:00:02\r",
      "\u001b[K     |██                              | 962 kB 8.3 MB/s eta 0:00:02\r",
      "\u001b[K     |██                              | 972 kB 8.3 MB/s eta 0:00:02\r",
      "\u001b[K     |██                              | 983 kB 8.3 MB/s eta 0:00:02\r",
      "\u001b[K     |██                              | 993 kB 8.3 MB/s eta 0:00:02\r",
      "\u001b[K     |██                              | 1.0 MB 8.3 MB/s eta 0:00:02\r",
      "\u001b[K     |██                              | 1.0 MB 8.3 MB/s eta 0:00:02\r",
      "\u001b[K     |██                              | 1.0 MB 8.3 MB/s eta 0:00:02\r",
      "\u001b[K     |██                              | 1.0 MB 8.3 MB/s eta 0:00:02\r",
      "\u001b[K     |██▏                             | 1.0 MB 8.3 MB/s eta 0:00:02\r",
      "\u001b[K     |██▏                             | 1.1 MB 8.3 MB/s eta 0:00:02\r",
      "\u001b[K     |██▏                             | 1.1 MB 8.3 MB/s eta 0:00:02\r",
      "\u001b[K     |██▏                             | 1.1 MB 8.3 MB/s eta 0:00:02\r",
      "\u001b[K     |██▏                             | 1.1 MB 8.3 MB/s eta 0:00:02\r",
      "\u001b[K     |██▎                             | 1.1 MB 8.3 MB/s eta 0:00:02\r",
      "\u001b[K     |██▎                             | 1.1 MB 8.3 MB/s eta 0:00:02\r",
      "\u001b[K     |██▎                             | 1.1 MB 8.3 MB/s eta 0:00:02\r",
      "\u001b[K     |██▎                             | 1.1 MB 8.3 MB/s eta 0:00:02\r",
      "\u001b[K     |██▎                             | 1.1 MB 8.3 MB/s eta 0:00:02\r",
      "\u001b[K     |██▍                             | 1.1 MB 8.3 MB/s eta 0:00:02\r",
      "\u001b[K     |██▍                             | 1.2 MB 8.3 MB/s eta 0:00:02\r",
      "\u001b[K     |██▍                             | 1.2 MB 8.3 MB/s eta 0:00:02\r",
      "\u001b[K     |██▍                             | 1.2 MB 8.3 MB/s eta 0:00:02\r",
      "\u001b[K     |██▍                             | 1.2 MB 8.3 MB/s eta 0:00:02\r",
      "\u001b[K     |██▍                             | 1.2 MB 8.3 MB/s eta 0:00:02\r",
      "\u001b[K     |██▌                             | 1.2 MB 8.3 MB/s eta 0:00:02\r",
      "\u001b[K     |██▌                             | 1.2 MB 8.3 MB/s eta 0:00:02\r",
      "\u001b[K     |██▌                             | 1.2 MB 8.3 MB/s eta 0:00:02\r",
      "\u001b[K     |██▌                             | 1.2 MB 8.3 MB/s eta 0:00:02\r",
      "\u001b[K     |██▌                             | 1.2 MB 8.3 MB/s eta 0:00:02\r",
      "\u001b[K     |██▋                             | 1.3 MB 8.3 MB/s eta 0:00:02\r",
      "\u001b[K     |██▋                             | 1.3 MB 8.3 MB/s eta 0:00:02\r",
      "\u001b[K     |██▋                             | 1.3 MB 8.3 MB/s eta 0:00:02\r",
      "\u001b[K     |██▋                             | 1.3 MB 8.3 MB/s eta 0:00:02\r",
      "\u001b[K     |██▋                             | 1.3 MB 8.3 MB/s eta 0:00:02\r",
      "\u001b[K     |██▊                             | 1.3 MB 8.3 MB/s eta 0:00:02\r",
      "\u001b[K     |██▊                             | 1.3 MB 8.3 MB/s eta 0:00:02\r",
      "\u001b[K     |██▊                             | 1.3 MB 8.3 MB/s eta 0:00:02\r",
      "\u001b[K     |██▊                             | 1.3 MB 8.3 MB/s eta 0:00:02\r",
      "\u001b[K     |██▊                             | 1.4 MB 8.3 MB/s eta 0:00:02\r",
      "\u001b[K     |██▊                             | 1.4 MB 8.3 MB/s eta 0:00:02\r",
      "\u001b[K     |██▉                             | 1.4 MB 8.3 MB/s eta 0:00:02\r",
      "\u001b[K     |██▉                             | 1.4 MB 8.3 MB/s eta 0:00:02\r",
      "\u001b[K     |██▉                             | 1.4 MB 8.3 MB/s eta 0:00:02\r",
      "\u001b[K     |██▉                             | 1.4 MB 8.3 MB/s eta 0:00:02\r",
      "\u001b[K     |██▉                             | 1.4 MB 8.3 MB/s eta 0:00:02\r",
      "\u001b[K     |███                             | 1.4 MB 8.3 MB/s eta 0:00:02\r",
      "\u001b[K     |███                             | 1.4 MB 8.3 MB/s eta 0:00:02\r",
      "\u001b[K     |███                             | 1.4 MB 8.3 MB/s eta 0:00:02\r",
      "\u001b[K     |███                             | 1.5 MB 8.3 MB/s eta 0:00:02\r",
      "\u001b[K     |███                             | 1.5 MB 8.3 MB/s eta 0:00:02\r",
      "\u001b[K     |███                             | 1.5 MB 8.3 MB/s eta 0:00:02\r",
      "\u001b[K     |███                             | 1.5 MB 8.3 MB/s eta 0:00:02\r",
      "\u001b[K     |███                             | 1.5 MB 8.3 MB/s eta 0:00:02\r",
      "\u001b[K     |███                             | 1.5 MB 8.3 MB/s eta 0:00:02\r",
      "\u001b[K     |███                             | 1.5 MB 8.3 MB/s eta 0:00:02\r",
      "\u001b[K     |███                             | 1.5 MB 8.3 MB/s eta 0:00:02\r",
      "\u001b[K     |███▏                            | 1.5 MB 8.3 MB/s eta 0:00:02\r",
      "\u001b[K     |███▏                            | 1.5 MB 8.3 MB/s eta 0:00:02\r",
      "\u001b[K     |███▏                            | 1.6 MB 8.3 MB/s eta 0:00:02\r",
      "\u001b[K     |███▏                            | 1.6 MB 8.3 MB/s eta 0:00:02\r",
      "\u001b[K     |███▏                            | 1.6 MB 8.3 MB/s eta 0:00:02\r",
      "\u001b[K     |███▎                            | 1.6 MB 8.3 MB/s eta 0:00:02\r",
      "\u001b[K     |███▎                            | 1.6 MB 8.3 MB/s eta 0:00:02\r",
      "\u001b[K     |███▎                            | 1.6 MB 8.3 MB/s eta 0:00:02\r",
      "\u001b[K     |███▎                            | 1.6 MB 8.3 MB/s eta 0:00:02\r",
      "\u001b[K     |███▎                            | 1.6 MB 8.3 MB/s eta 0:00:02\r",
      "\u001b[K     |███▍                            | 1.6 MB 8.3 MB/s eta 0:00:02\r",
      "\u001b[K     |███▍                            | 1.6 MB 8.3 MB/s eta 0:00:02\r",
      "\u001b[K     |███▍                            | 1.7 MB 8.3 MB/s eta 0:00:02\r",
      "\u001b[K     |███▍                            | 1.7 MB 8.3 MB/s eta 0:00:02\r",
      "\u001b[K     |███▍                            | 1.7 MB 8.3 MB/s eta 0:00:02\r",
      "\u001b[K     |███▍                            | 1.7 MB 8.3 MB/s eta 0:00:02\r",
      "\u001b[K     |███▌                            | 1.7 MB 8.3 MB/s eta 0:00:02\r",
      "\u001b[K     |███▌                            | 1.7 MB 8.3 MB/s eta 0:00:02\r",
      "\u001b[K     |███▌                            | 1.7 MB 8.3 MB/s eta 0:00:02\r",
      "\u001b[K     |███▌                            | 1.7 MB 8.3 MB/s eta 0:00:02\r",
      "\u001b[K     |███▌                            | 1.7 MB 8.3 MB/s eta 0:00:02\r",
      "\u001b[K     |███▋                            | 1.8 MB 8.3 MB/s eta 0:00:02\r",
      "\u001b[K     |███▋                            | 1.8 MB 8.3 MB/s eta 0:00:02\r",
      "\u001b[K     |███▋                            | 1.8 MB 8.3 MB/s eta 0:00:02\r",
      "\u001b[K"
     ]
    },
    {
     "name": "stdout",
     "output_type": "stream",
     "text": [
      "     |███▋                            | 1.8 MB 8.3 MB/s eta 0:00:02\r",
      "\u001b[K     |███▋                            | 1.8 MB 8.3 MB/s eta 0:00:02\r",
      "\u001b[K     |███▊                            | 1.8 MB 8.3 MB/s eta 0:00:02\r",
      "\u001b[K     |███▊                            | 1.8 MB 8.3 MB/s eta 0:00:02\r",
      "\u001b[K     |███▊                            | 1.8 MB 8.3 MB/s eta 0:00:02\r",
      "\u001b[K     |███▊                            | 1.8 MB 8.3 MB/s eta 0:00:02\r",
      "\u001b[K     |███▊                            | 1.8 MB 8.3 MB/s eta 0:00:02\r",
      "\u001b[K     |███▊                            | 1.9 MB 8.3 MB/s eta 0:00:02\r",
      "\u001b[K     |███▉                            | 1.9 MB 8.3 MB/s eta 0:00:02\r",
      "\u001b[K     |███▉                            | 1.9 MB 8.3 MB/s eta 0:00:02\r",
      "\u001b[K     |███▉                            | 1.9 MB 8.3 MB/s eta 0:00:02\r",
      "\u001b[K     |███▉                            | 1.9 MB 8.3 MB/s eta 0:00:02\r",
      "\u001b[K     |███▉                            | 1.9 MB 8.3 MB/s eta 0:00:02\r",
      "\u001b[K     |████                            | 1.9 MB 8.3 MB/s eta 0:00:02\r",
      "\u001b[K     |████                            | 1.9 MB 8.3 MB/s eta 0:00:02\r",
      "\u001b[K     |████                            | 1.9 MB 8.3 MB/s eta 0:00:02\r",
      "\u001b[K     |████                            | 1.9 MB 8.3 MB/s eta 0:00:02\r",
      "\u001b[K     |████                            | 2.0 MB 8.3 MB/s eta 0:00:02\r",
      "\u001b[K     |████                            | 2.0 MB 8.3 MB/s eta 0:00:02\r",
      "\u001b[K     |████                            | 2.0 MB 8.3 MB/s eta 0:00:02\r",
      "\u001b[K     |████                            | 2.0 MB 8.3 MB/s eta 0:00:02\r",
      "\u001b[K     |████                            | 2.0 MB 8.3 MB/s eta 0:00:02\r",
      "\u001b[K     |████                            | 2.0 MB 8.3 MB/s eta 0:00:02\r",
      "\u001b[K     |████                            | 2.0 MB 8.3 MB/s eta 0:00:02\r",
      "\u001b[K     |████▏                           | 2.0 MB 8.3 MB/s eta 0:00:02\r",
      "\u001b[K     |████▏                           | 2.0 MB 8.3 MB/s eta 0:00:02\r",
      "\u001b[K     |████▏                           | 2.0 MB 8.3 MB/s eta 0:00:02\r",
      "\u001b[K     |████▏                           | 2.1 MB 8.3 MB/s eta 0:00:02\r",
      "\u001b[K     |████▏                           | 2.1 MB 8.3 MB/s eta 0:00:02\r",
      "\u001b[K     |████▎                           | 2.1 MB 8.3 MB/s eta 0:00:02\r",
      "\u001b[K     |████▎                           | 2.1 MB 8.3 MB/s eta 0:00:02\r",
      "\u001b[K     |████▎                           | 2.1 MB 8.3 MB/s eta 0:00:02\r",
      "\u001b[K     |████▎                           | 2.1 MB 8.3 MB/s eta 0:00:02\r",
      "\u001b[K     |████▎                           | 2.1 MB 8.3 MB/s eta 0:00:02\r",
      "\u001b[K     |████▍                           | 2.1 MB 8.3 MB/s eta 0:00:02\r",
      "\u001b[K     |████▍                           | 2.1 MB 8.3 MB/s eta 0:00:02\r",
      "\u001b[K     |████▍                           | 2.2 MB 8.3 MB/s eta 0:00:02\r",
      "\u001b[K     |████▍                           | 2.2 MB 8.3 MB/s eta 0:00:02\r",
      "\u001b[K     |████▍                           | 2.2 MB 8.3 MB/s eta 0:00:02\r",
      "\u001b[K     |████▌                           | 2.2 MB 8.3 MB/s eta 0:00:02\r",
      "\u001b[K     |████▌                           | 2.2 MB 8.3 MB/s eta 0:00:02\r",
      "\u001b[K     |████▌                           | 2.2 MB 8.3 MB/s eta 0:00:02\r",
      "\u001b[K     |████▌                           | 2.2 MB 8.3 MB/s eta 0:00:02\r",
      "\u001b[K     |████▌                           | 2.2 MB 8.3 MB/s eta 0:00:02\r",
      "\u001b[K     |████▌                           | 2.2 MB 8.3 MB/s eta 0:00:02\r",
      "\u001b[K     |████▋                           | 2.2 MB 8.3 MB/s eta 0:00:02\r",
      "\u001b[K     |████▋                           | 2.3 MB 8.3 MB/s eta 0:00:02\r",
      "\u001b[K     |████▋                           | 2.3 MB 8.3 MB/s eta 0:00:02\r",
      "\u001b[K     |████▋                           | 2.3 MB 8.3 MB/s eta 0:00:02\r",
      "\u001b[K     |████▋                           | 2.3 MB 8.3 MB/s eta 0:00:02\r",
      "\u001b[K     |████▊                           | 2.3 MB 8.3 MB/s eta 0:00:02\r",
      "\u001b[K     |████▊                           | 2.3 MB 8.3 MB/s eta 0:00:02\r",
      "\u001b[K     |████▊                           | 2.3 MB 8.3 MB/s eta 0:00:02\r",
      "\u001b[K     |████▊                           | 2.3 MB 8.3 MB/s eta 0:00:02\r",
      "\u001b[K     |████▊                           | 2.3 MB 8.3 MB/s eta 0:00:02\r",
      "\u001b[K     |████▉                           | 2.3 MB 8.3 MB/s eta 0:00:02\r",
      "\u001b[K     |████▉                           | 2.4 MB 8.3 MB/s eta 0:00:02\r",
      "\u001b[K     |████▉                           | 2.4 MB 8.3 MB/s eta 0:00:02\r",
      "\u001b[K     |████▉                           | 2.4 MB 8.3 MB/s eta 0:00:02\r",
      "\u001b[K     |████▉                           | 2.4 MB 8.3 MB/s eta 0:00:02\r",
      "\u001b[K     |████▉                           | 2.4 MB 8.3 MB/s eta 0:00:02\r",
      "\u001b[K     |█████                           | 2.4 MB 8.3 MB/s eta 0:00:02\r",
      "\u001b[K     |█████                           | 2.4 MB 8.3 MB/s eta 0:00:02\r",
      "\u001b[K     |█████                           | 2.4 MB 8.3 MB/s eta 0:00:02\r",
      "\u001b[K     |█████                           | 2.4 MB 8.3 MB/s eta 0:00:02\r",
      "\u001b[K     |█████                           | 2.4 MB 8.3 MB/s eta 0:00:02\r",
      "\u001b[K     |█████                           | 2.5 MB 8.3 MB/s eta 0:00:02\r",
      "\u001b[K     |█████                           | 2.5 MB 8.3 MB/s eta 0:00:02\r",
      "\u001b[K     |█████                           | 2.5 MB 8.3 MB/s eta 0:00:02\r",
      "\u001b[K     |█████                           | 2.5 MB 8.3 MB/s eta 0:00:02\r",
      "\u001b[K     |█████                           | 2.5 MB 8.3 MB/s eta 0:00:02\r",
      "\u001b[K     |█████▏                          | 2.5 MB 8.3 MB/s eta 0:00:02\r",
      "\u001b[K     |█████▏                          | 2.5 MB 8.3 MB/s eta 0:00:02\r",
      "\u001b[K     |█████▏                          | 2.5 MB 8.3 MB/s eta 0:00:02\r",
      "\u001b[K     |█████▏                          | 2.5 MB 8.3 MB/s eta 0:00:02\r",
      "\u001b[K     |█████▏                          | 2.5 MB 8.3 MB/s eta 0:00:02\r",
      "\u001b[K     |█████▏                          | 2.6 MB 8.3 MB/s eta 0:00:02\r",
      "\u001b[K     |█████▎                          | 2.6 MB 8.3 MB/s eta 0:00:02\r",
      "\u001b[K     |█████▎                          | 2.6 MB 8.3 MB/s eta 0:00:02\r",
      "\u001b[K     |█████▎                          | 2.6 MB 8.3 MB/s eta 0:00:02\r",
      "\u001b[K     |█████▎                          | 2.6 MB 8.3 MB/s eta 0:00:02\r",
      "\u001b[K     |█████▎                          | 2.6 MB 8.3 MB/s eta 0:00:02\r",
      "\u001b[K     |█████▍                          | 2.6 MB 8.3 MB/s eta 0:00:02\r",
      "\u001b[K     |█████▍                          | 2.6 MB 8.3 MB/s eta 0:00:02\r",
      "\u001b[K     |█████▍                          | 2.6 MB 8.3 MB/s eta 0:00:02\r",
      "\u001b[K     |█████▍                          | 2.7 MB 8.3 MB/s eta 0:00:02\r",
      "\u001b[K     |█████▍                          | 2.7 MB 8.3 MB/s eta 0:00:02\r",
      "\u001b[K     |█████▌                          | 2.7 MB 8.3 MB/s eta 0:00:02\r",
      "\u001b[K     |█████▌                          | 2.7 MB 8.3 MB/s eta 0:00:02\r",
      "\u001b[K     |█████▌                          | 2.7 MB 8.3 MB/s eta 0:00:02\r",
      "\u001b[K     |█████▌                          | 2.7 MB 8.3 MB/s eta 0:00:02\r",
      "\u001b[K     |█████▌                          | 2.7 MB 8.3 MB/s eta 0:00:02\r",
      "\u001b[K     |█████▌                          | 2.7 MB 8.3 MB/s eta 0:00:02\r",
      "\u001b[K     |█████▋                          | 2.7 MB 8.3 MB/s eta 0:00:02\r",
      "\u001b[K     |█████▋                          | 2.7 MB 8.3 MB/s eta 0:00:02\r",
      "\u001b[K     |█████▋                          | 2.8 MB 8.3 MB/s eta 0:00:02\r",
      "\u001b[K     |█████▋                          | 2.8 MB 8.3 MB/s eta 0:00:02\r",
      "\u001b[K     |█████▋                          | 2.8 MB 8.3 MB/s eta 0:00:02\r",
      "\u001b[K     |█████▊                          | 2.8 MB 8.3 MB/s eta 0:00:02\r",
      "\u001b[K     |█████▊                          | 2.8 MB 8.3 MB/s eta 0:00:02\r",
      "\u001b[K     |█████▊                          | 2.8 MB 8.3 MB/s eta 0:00:02\r",
      "\u001b[K     |█████▊                          | 2.8 MB 8.3 MB/s eta 0:00:02\r",
      "\u001b[K     |█████▊                          | 2.8 MB 8.3 MB/s eta 0:00:02\r",
      "\u001b[K     |█████▉                          | 2.8 MB 8.3 MB/s eta 0:00:02\r",
      "\u001b[K     |█████▉                          | 2.8 MB 8.3 MB/s eta 0:00:02\r",
      "\u001b[K     |█████▉                          | 2.9 MB 8.3 MB/s eta 0:00:02\r",
      "\u001b[K     |█████▉                          | 2.9 MB 8.3 MB/s eta 0:00:02\r",
      "\u001b[K     |█████▉                          | 2.9 MB 8.3 MB/s eta 0:00:02\r",
      "\u001b[K     |█████▉                          | 2.9 MB 8.3 MB/s eta 0:00:02\r",
      "\u001b[K     |██████                          | 2.9 MB 8.3 MB/s eta 0:00:02\r",
      "\u001b[K     |██████                          | 2.9 MB 8.3 MB/s eta 0:00:02\r",
      "\u001b[K     |██████                          | 2.9 MB 8.3 MB/s eta 0:00:02\r",
      "\u001b[K     |██████                          | 2.9 MB 8.3 MB/s eta 0:00:02\r",
      "\u001b[K     |██████                          | 2.9 MB 8.3 MB/s eta 0:00:02\r",
      "\u001b[K     |██████                          | 2.9 MB 8.3 MB/s eta 0:00:02\r",
      "\u001b[K     |██████                          | 3.0 MB 8.3 MB/s eta 0:00:02\r",
      "\u001b[K     |██████                          | 3.0 MB 8.3 MB/s eta 0:00:02\r",
      "\u001b[K     |██████                          | 3.0 MB 8.3 MB/s eta 0:00:02\r",
      "\u001b[K     |██████                          | 3.0 MB 8.3 MB/s eta 0:00:02\r",
      "\u001b[K     |██████▏                         | 3.0 MB 8.3 MB/s eta 0:00:02\r",
      "\u001b[K     |██████▏                         | 3.0 MB 8.3 MB/s eta 0:00:02\r",
      "\u001b[K     |██████▏                         | 3.0 MB 8.3 MB/s eta 0:00:02\r",
      "\u001b[K     |██████▏                         | 3.0 MB 8.3 MB/s eta 0:00:02\r",
      "\u001b[K     |██████▏                         | 3.0 MB 8.3 MB/s eta 0:00:02\r",
      "\u001b[K     |██████▏                         | 3.1 MB 8.3 MB/s eta 0:00:02\r",
      "\u001b[K     |██████▎                         | 3.1 MB 8.3 MB/s eta 0:00:02\r",
      "\u001b[K     |██████▎                         | 3.1 MB 8.3 MB/s eta 0:00:02\r",
      "\u001b[K     |██████▎                         | 3.1 MB 8.3 MB/s eta 0:00:02\r",
      "\u001b[K     |██████▎                         | 3.1 MB 8.3 MB/s eta 0:00:02\r",
      "\u001b[K     |██████▎                         | 3.1 MB 8.3 MB/s eta 0:00:02\r",
      "\u001b[K     |██████▍                         | 3.1 MB 8.3 MB/s eta 0:00:02\r",
      "\u001b[K     |██████▍                         | 3.1 MB 8.3 MB/s eta 0:00:02\r",
      "\u001b[K     |██████▍                         | 3.1 MB 8.3 MB/s eta 0:00:02\r",
      "\u001b[K     |██████▍                         | 3.1 MB 8.3 MB/s eta 0:00:02\r",
      "\u001b[K     |██████▍                         | 3.2 MB 8.3 MB/s eta 0:00:02\r",
      "\u001b[K     |██████▌                         | 3.2 MB 8.3 MB/s eta 0:00:02\r",
      "\u001b[K     |██████▌                         | 3.2 MB 8.3 MB/s eta 0:00:02\r",
      "\u001b[K     |██████▌                         | 3.2 MB 8.3 MB/s eta 0:00:02\r",
      "\u001b[K     |██████▌                         | 3.2 MB 8.3 MB/s eta 0:00:02\r",
      "\u001b[K     |██████▌                         | 3.2 MB 8.3 MB/s eta 0:00:02\r",
      "\u001b[K     |██████▌                         | 3.2 MB 8.3 MB/s eta 0:00:02\r",
      "\u001b[K     |██████▋                         | 3.2 MB 8.3 MB/s eta 0:00:02\r",
      "\u001b[K     |██████▋                         | 3.2 MB 8.3 MB/s eta 0:00:02\r",
      "\u001b[K     |██████▋                         | 3.2 MB 8.3 MB/s eta 0:00:02\r",
      "\u001b[K     |██████▋                         | 3.3 MB 8.3 MB/s eta 0:00:02\r",
      "\u001b[K     |██████▋                         | 3.3 MB 8.3 MB/s eta 0:00:02\r",
      "\u001b[K     |██████▊                         | 3.3 MB 8.3 MB/s eta 0:00:02\r",
      "\u001b[K     |██████▊                         | 3.3 MB 8.3 MB/s eta 0:00:02\r",
      "\u001b[K     |██████▊                         | 3.3 MB 8.3 MB/s eta 0:00:02\r",
      "\u001b[K     |██████▊                         | 3.3 MB 8.3 MB/s eta 0:00:02\r",
      "\u001b[K     |██████▊                         | 3.3 MB 8.3 MB/s eta 0:00:02\r",
      "\u001b[K     |██████▉                         | 3.3 MB 8.3 MB/s eta 0:00:02\r",
      "\u001b[K     |██████▉                         | 3.3 MB 8.3 MB/s eta 0:00:02\r",
      "\u001b[K     |██████▉                         | 3.3 MB 8.3 MB/s eta 0:00:02\r",
      "\u001b[K     |██████▉                         | 3.4 MB 8.3 MB/s eta 0:00:02\r",
      "\u001b[K     |██████▉                         | 3.4 MB 8.3 MB/s eta 0:00:02\r",
      "\u001b[K     |██████▉                         | 3.4 MB 8.3 MB/s eta 0:00:02\r",
      "\u001b[K     |███████                         | 3.4 MB 8.3 MB/s eta 0:00:02\r",
      "\u001b[K     |███████                         | 3.4 MB 8.3 MB/s eta 0:00:02\r",
      "\u001b[K     |███████                         | 3.4 MB 8.3 MB/s eta 0:00:02\r",
      "\u001b[K     |███████                         | 3.4 MB 8.3 MB/s eta 0:00:02\r",
      "\u001b[K     |███████                         | 3.4 MB 8.3 MB/s eta 0:00:02\r",
      "\u001b[K     |███████                         | 3.4 MB 8.3 MB/s eta 0:00:02\r",
      "\u001b[K     |███████                         | 3.5 MB 8.3 MB/s eta 0:00:02\r",
      "\u001b[K     |███████                         | 3.5 MB 8.3 MB/s eta 0:00:02\r",
      "\u001b[K     |███████                         | 3.5 MB 8.3 MB/s eta 0:00:02\r",
      "\u001b[K     |███████                         | 3.5 MB 8.3 MB/s eta 0:00:02\r",
      "\u001b[K     |███████▏                        | 3.5 MB 8.3 MB/s eta 0:00:02\r",
      "\u001b[K     |███████▏                        | 3.5 MB 8.3 MB/s eta 0:00:02\r",
      "\u001b[K     |███████▏                        | 3.5 MB 8.3 MB/s eta 0:00:02\r",
      "\u001b[K     |███████▏                        | 3.5 MB 8.3 MB/s eta 0:00:02\r",
      "\u001b[K     |███████▏                        | 3.5 MB 8.3 MB/s eta 0:00:02\r",
      "\u001b[K     |███████▏                        | 3.5 MB 8.3 MB/s eta 0:00:02\r",
      "\u001b[K     |███████▎                        | 3.6 MB 8.3 MB/s eta 0:00:02\r",
      "\u001b[K     |███████▎                        | 3.6 MB 8.3 MB/s eta 0:00:02\r",
      "\u001b[K     |███████▎                        | 3.6 MB 8.3 MB/s eta 0:00:02\r",
      "\u001b[K     |███████▎                        | 3.6 MB 8.3 MB/s eta 0:00:02\r",
      "\u001b[K     |███████▎                        | 3.6 MB 8.3 MB/s eta 0:00:02\r",
      "\u001b[K     |███████▍                        | 3.6 MB 8.3 MB/s eta 0:00:02\r",
      "\u001b[K     |███████▍                        | 3.6 MB 8.3 MB/s eta 0:00:02\r",
      "\u001b[K     |███████▍                        | 3.6 MB 8.3 MB/s eta 0:00:02\r",
      "\u001b[K     |███████▍                        | 3.6 MB 8.3 MB/s eta 0:00:02\r",
      "\u001b[K     |███████▍                        | 3.6 MB 8.3 MB/s eta 0:00:02\r",
      "\u001b[K     |███████▌                        | 3.7 MB 8.3 MB/s eta 0:00:02\r",
      "\u001b[K     |███████▌                        | 3.7 MB 8.3 MB/s eta 0:00:02\r",
      "\u001b[K     |███████▌                        | 3.7 MB 8.3 MB/s eta 0:00:02\r",
      "\u001b[K     |███████▌                        | 3.7 MB 8.3 MB/s eta 0:00:02\r",
      "\u001b[K     |███████▌                        | 3.7 MB 8.3 MB/s eta 0:00:02\r",
      "\u001b[K     |███████▌                        | 3.7 MB 8.3 MB/s eta 0:00:02\r",
      "\u001b[K     |███████▋                        | 3.7 MB 8.3 MB/s eta 0:00:02\r",
      "\u001b[K     |███████▋                        | 3.7 MB 8.3 MB/s eta 0:00:02\r",
      "\u001b[K     |███████▋                        | 3.7 MB 8.3 MB/s eta 0:00:02\r",
      "\u001b[K     |███████▋                        | 3.7 MB 8.3 MB/s eta 0:00:02\r",
      "\u001b[K     |███████▋                        | 3.8 MB 8.3 MB/s eta 0:00:02\r",
      "\u001b[K     |███████▊                        | 3.8 MB 8.3 MB/s eta 0:00:02\r",
      "\u001b[K     |███████▊                        | 3.8 MB 8.3 MB/s eta 0:00:02\r",
      "\u001b[K     |███████▊                        | 3.8 MB 8.3 MB/s eta 0:00:02\r",
      "\u001b[K     |███████▊                        | 3.8 MB 8.3 MB/s eta 0:00:02\r",
      "\u001b[K     |███████▊                        | 3.8 MB 8.3 MB/s eta 0:00:02\r",
      "\u001b[K     |███████▉                        | 3.8 MB 8.3 MB/s eta 0:00:02\r",
      "\u001b[K     |███████▉                        | 3.8 MB 8.3 MB/s eta 0:00:02\r",
      "\u001b[K     |███████▉                        | 3.8 MB 8.3 MB/s eta 0:00:02\r",
      "\u001b[K     |███████▉                        | 3.9 MB 8.3 MB/s eta 0:00:02\r",
      "\u001b[K     |███████▉                        | 3.9 MB 8.3 MB/s eta 0:00:02\r",
      "\u001b[K     |███████▉                        | 3.9 MB 8.3 MB/s eta 0:00:02\r",
      "\u001b[K     |████████                        | 3.9 MB 8.3 MB/s eta 0:00:02\r",
      "\u001b[K     |████████                        | 3.9 MB 8.3 MB/s eta 0:00:02\r",
      "\u001b[K     |████████                        | 3.9 MB 8.3 MB/s eta 0:00:02\r",
      "\u001b[K     |████████                        | 3.9 MB 8.3 MB/s eta 0:00:02\r",
      "\u001b[K     |████████                        | 3.9 MB 8.3 MB/s eta 0:00:02\r",
      "\u001b[K     |████████                        | 3.9 MB 8.3 MB/s eta 0:00:02\r",
      "\u001b[K     |████████                        | 3.9 MB 8.3 MB/s eta 0:00:02\r",
      "\u001b[K     |████████                        | 4.0 MB 8.3 MB/s eta 0:00:02\r",
      "\u001b[K     |████████                        | 4.0 MB 8.3 MB/s eta 0:00:02\r",
      "\u001b[K     |████████                        | 4.0 MB 8.3 MB/s eta 0:00:02\r",
      "\u001b[K     |████████▏                       | 4.0 MB 8.3 MB/s eta 0:00:02\r",
      "\u001b[K     |████████▏                       | 4.0 MB 8.3 MB/s eta 0:00:02\r",
      "\u001b[K     |████████▏                       | 4.0 MB 8.3 MB/s eta 0:00:02\r",
      "\u001b[K     |████████▏                       | 4.0 MB 8.3 MB/s eta 0:00:02\r",
      "\u001b[K     |████████▏                       | 4.0 MB 8.3 MB/s eta 0:00:02\r",
      "\u001b[K     |████████▏                       | 4.0 MB 8.3 MB/s eta 0:00:02\r",
      "\u001b[K     |████████▎                       | 4.0 MB 8.3 MB/s eta 0:00:02\r",
      "\u001b[K     |████████▎                       | 4.1 MB 8.3 MB/s eta 0:00:02\r",
      "\u001b[K     |████████▎                       | 4.1 MB 8.3 MB/s eta 0:00:02\r",
      "\u001b[K     |████████▎                       | 4.1 MB 8.3 MB/s eta 0:00:02\r",
      "\u001b[K     |████████▎                       | 4.1 MB 8.3 MB/s eta 0:00:02\r",
      "\u001b[K     |████████▍                       | 4.1 MB 8.3 MB/s eta 0:00:02\r",
      "\u001b[K     |████████▍                       | 4.1 MB 8.3 MB/s eta 0:00:02\r",
      "\u001b[K     |████████▍                       | 4.1 MB 8.3 MB/s eta 0:00:02\r",
      "\u001b[K     |████████▍                       | 4.1 MB 8.3 MB/s eta 0:00:02\r",
      "\u001b[K     |████████▍                       | 4.1 MB 8.3 MB/s eta 0:00:02\r",
      "\u001b[K     |████████▌                       | 4.1 MB 8.3 MB/s eta 0:00:02\r",
      "\u001b[K     |████████▌                       | 4.2 MB 8.3 MB/s eta 0:00:02\r",
      "\u001b[K     |████████▌                       | 4.2 MB 8.3 MB/s eta 0:00:02\r",
      "\u001b[K     |████████▌                       | 4.2 MB 8.3 MB/s eta 0:00:02\r",
      "\u001b[K     |████████▌                       | 4.2 MB 8.3 MB/s eta 0:00:02\r",
      "\u001b[K     |████████▋                       | 4.2 MB 8.3 MB/s eta 0:00:02\r",
      "\u001b[K     |████████▋                       | 4.2 MB 8.3 MB/s eta 0:00:02\r",
      "\u001b[K     |████████▋                       | 4.2 MB 8.3 MB/s eta 0:00:02\r",
      "\u001b[K     |████████▋                       | 4.2 MB 8.3 MB/s eta 0:00:02\r",
      "\u001b[K     |████████▋                       | 4.2 MB 8.3 MB/s eta 0:00:02\r",
      "\u001b[K     |████████▋                       | 4.2 MB 8.3 MB/s eta 0:00:02\r",
      "\u001b[K     |████████▊                       | 4.3 MB 8.3 MB/s eta 0:00:02\r",
      "\u001b[K     |████████▊                       | 4.3 MB 8.3 MB/s eta 0:00:02\r",
      "\u001b[K     |████████▊                       | 4.3 MB 8.3 MB/s eta 0:00:02\r",
      "\u001b[K     |████████▊                       | 4.3 MB 8.3 MB/s eta 0:00:02\r",
      "\u001b[K     |████████▊                       | 4.3 MB 8.3 MB/s eta 0:00:02\r",
      "\u001b[K     |████████▉                       | 4.3 MB 8.3 MB/s eta 0:00:02\r",
      "\u001b[K     |████████▉                       | 4.3 MB 8.3 MB/s eta 0:00:02\r",
      "\u001b[K     |████████▉                       | 4.3 MB 8.3 MB/s eta 0:00:02\r",
      "\u001b[K     |████████▉                       | 4.3 MB 8.3 MB/s eta 0:00:02\r",
      "\u001b[K     |████████▉                       | 4.4 MB 8.3 MB/s eta 0:00:02\r",
      "\u001b[K     |█████████                       | 4.4 MB 8.3 MB/s eta 0:00:02\r",
      "\u001b[K     |█████████                       | 4.4 MB 8.3 MB/s eta 0:00:02\r",
      "\u001b[K     |█████████                       | 4.4 MB 8.3 MB/s eta 0:00:02\r",
      "\u001b[K     |█████████                       | 4.4 MB 8.3 MB/s eta 0:00:02\r",
      "\u001b[K     |█████████                       | 4.4 MB 8.3 MB/s eta 0:00:02\r",
      "\u001b[K     |█████████                       | 4.4 MB 8.3 MB/s eta 0:00:02\r",
      "\u001b[K     |█████████                       | 4.4 MB 8.3 MB/s eta 0:00:02\r",
      "\u001b[K     |█████████                       | 4.4 MB 8.3 MB/s eta 0:00:02\r",
      "\u001b[K     |█████████                       | 4.4 MB 8.3 MB/s eta 0:00:02\r",
      "\u001b[K     |█████████                       | 4.5 MB 8.3 MB/s eta 0:00:02\r",
      "\u001b[K     |█████████                       | 4.5 MB 8.3 MB/s eta 0:00:02\r",
      "\u001b[K     |█████████▏                      | 4.5 MB 8.3 MB/s eta 0:00:02\r",
      "\u001b[K     |█████████▏                      | 4.5 MB 8.3 MB/s eta 0:00:02\r",
      "\u001b[K     |█████████▏                      | 4.5 MB 8.3 MB/s eta 0:00:02\r",
      "\u001b[K     |█████████▏                      | 4.5 MB 8.3 MB/s eta 0:00:02\r",
      "\u001b[K     |█████████▏                      | 4.5 MB 8.3 MB/s eta 0:00:02\r",
      "\u001b[K     |█████████▎                      | 4.5 MB 8.3 MB/s eta 0:00:02\r",
      "\u001b[K     |█████████▎                      | 4.5 MB 8.3 MB/s eta 0:00:02\r",
      "\u001b[K     |█████████▎                      | 4.5 MB 8.3 MB/s eta 0:00:02\r",
      "\u001b[K     |█████████▎                      | 4.6 MB 8.3 MB/s eta 0:00:02\r",
      "\u001b[K     |█████████▎                      | 4.6 MB 8.3 MB/s eta 0:00:02\r",
      "\u001b[K     |█████████▎                      | 4.6 MB 8.3 MB/s eta 0:00:02\r",
      "\u001b[K     |█████████▍                      | 4.6 MB 8.3 MB/s eta 0:00:02\r",
      "\u001b[K     |█████████▍                      | 4.6 MB 8.3 MB/s eta 0:00:02\r",
      "\u001b[K     |█████████▍                      | 4.6 MB 8.3 MB/s eta 0:00:02\r",
      "\u001b[K     |█████████▍                      | 4.6 MB 8.3 MB/s eta 0:00:02\r",
      "\u001b[K     |█████████▍                      | 4.6 MB 8.3 MB/s eta 0:00:02\r",
      "\u001b[K     |█████████▌                      | 4.6 MB 8.3 MB/s eta 0:00:02\r",
      "\u001b[K     |█████████▌                      | 4.6 MB 8.3 MB/s eta 0:00:02\r",
      "\u001b[K     |█████████▌                      | 4.7 MB 8.3 MB/s eta 0:00:02\r",
      "\u001b[K     |█████████▌                      | 4.7 MB 8.3 MB/s eta 0:00:02\r",
      "\u001b[K     |█████████▌                      | 4.7 MB 8.3 MB/s eta 0:00:02\r",
      "\u001b[K     |█████████▋                      | 4.7 MB 8.3 MB/s eta 0:00:02\r",
      "\u001b[K     |█████████▋                      | 4.7 MB 8.3 MB/s eta 0:00:02"
     ]
    },
    {
     "name": "stdout",
     "output_type": "stream",
     "text": [
      "\r",
      "\u001b[K     |█████████▋                      | 4.7 MB 8.3 MB/s eta 0:00:02\r",
      "\u001b[K     |█████████▋                      | 4.7 MB 8.3 MB/s eta 0:00:02\r",
      "\u001b[K     |█████████▋                      | 4.7 MB 8.3 MB/s eta 0:00:02\r",
      "\u001b[K     |█████████▋                      | 4.7 MB 8.3 MB/s eta 0:00:02\r",
      "\u001b[K     |█████████▊                      | 4.8 MB 8.3 MB/s eta 0:00:02\r",
      "\u001b[K     |█████████▊                      | 4.8 MB 8.3 MB/s eta 0:00:02\r",
      "\u001b[K     |█████████▊                      | 4.8 MB 8.3 MB/s eta 0:00:02\r",
      "\u001b[K     |█████████▊                      | 4.8 MB 8.3 MB/s eta 0:00:02\r",
      "\u001b[K     |█████████▊                      | 4.8 MB 8.3 MB/s eta 0:00:02\r",
      "\u001b[K     |█████████▉                      | 4.8 MB 8.3 MB/s eta 0:00:02\r",
      "\u001b[K     |█████████▉                      | 4.8 MB 8.3 MB/s eta 0:00:02\r",
      "\u001b[K     |█████████▉                      | 4.8 MB 8.3 MB/s eta 0:00:02\r",
      "\u001b[K     |█████████▉                      | 4.8 MB 8.3 MB/s eta 0:00:02\r",
      "\u001b[K     |█████████▉                      | 4.8 MB 8.3 MB/s eta 0:00:02\r",
      "\u001b[K     |██████████                      | 4.9 MB 8.3 MB/s eta 0:00:02\r",
      "\u001b[K     |██████████                      | 4.9 MB 8.3 MB/s eta 0:00:02\r",
      "\u001b[K     |██████████                      | 4.9 MB 8.3 MB/s eta 0:00:02\r",
      "\u001b[K     |██████████                      | 4.9 MB 8.3 MB/s eta 0:00:02\r",
      "\u001b[K     |██████████                      | 4.9 MB 8.3 MB/s eta 0:00:02\r",
      "\u001b[K     |██████████                      | 4.9 MB 8.3 MB/s eta 0:00:02\r",
      "\u001b[K     |██████████                      | 4.9 MB 8.3 MB/s eta 0:00:02\r",
      "\u001b[K     |██████████                      | 4.9 MB 8.3 MB/s eta 0:00:02\r",
      "\u001b[K     |██████████                      | 4.9 MB 8.3 MB/s eta 0:00:02\r",
      "\u001b[K     |██████████                      | 4.9 MB 8.3 MB/s eta 0:00:02\r",
      "\u001b[K     |██████████                      | 5.0 MB 8.3 MB/s eta 0:00:02\r",
      "\u001b[K     |██████████▏                     | 5.0 MB 8.3 MB/s eta 0:00:02\r",
      "\u001b[K     |██████████▏                     | 5.0 MB 8.3 MB/s eta 0:00:02\r",
      "\u001b[K     |██████████▏                     | 5.0 MB 8.3 MB/s eta 0:00:02\r",
      "\u001b[K     |██████████▏                     | 5.0 MB 8.3 MB/s eta 0:00:02\r",
      "\u001b[K     |██████████▏                     | 5.0 MB 8.3 MB/s eta 0:00:02\r",
      "\u001b[K     |██████████▎                     | 5.0 MB 8.3 MB/s eta 0:00:02\r",
      "\u001b[K     |██████████▎                     | 5.0 MB 8.3 MB/s eta 0:00:02\r",
      "\u001b[K     |██████████▎                     | 5.0 MB 8.3 MB/s eta 0:00:02\r",
      "\u001b[K     |██████████▎                     | 5.0 MB 8.3 MB/s eta 0:00:02\r",
      "\u001b[K     |██████████▎                     | 5.1 MB 8.3 MB/s eta 0:00:02\r",
      "\u001b[K     |██████████▎                     | 5.1 MB 8.3 MB/s eta 0:00:02\r",
      "\u001b[K     |██████████▍                     | 5.1 MB 8.3 MB/s eta 0:00:02\r",
      "\u001b[K     |██████████▍                     | 5.1 MB 8.3 MB/s eta 0:00:02\r",
      "\u001b[K     |██████████▍                     | 5.1 MB 8.3 MB/s eta 0:00:02\r",
      "\u001b[K     |██████████▍                     | 5.1 MB 8.3 MB/s eta 0:00:02\r",
      "\u001b[K     |██████████▍                     | 5.1 MB 8.3 MB/s eta 0:00:02\r",
      "\u001b[K     |██████████▌                     | 5.1 MB 8.3 MB/s eta 0:00:02\r",
      "\u001b[K     |██████████▌                     | 5.1 MB 8.3 MB/s eta 0:00:02\r",
      "\u001b[K     |██████████▌                     | 5.2 MB 8.3 MB/s eta 0:00:02\r",
      "\u001b[K     |██████████▌                     | 5.2 MB 8.3 MB/s eta 0:00:02\r",
      "\u001b[K     |██████████▌                     | 5.2 MB 8.3 MB/s eta 0:00:02\r",
      "\u001b[K     |██████████▋                     | 5.2 MB 8.3 MB/s eta 0:00:02\r",
      "\u001b[K     |██████████▋                     | 5.2 MB 8.3 MB/s eta 0:00:02\r",
      "\u001b[K     |██████████▋                     | 5.2 MB 8.3 MB/s eta 0:00:02\r",
      "\u001b[K     |██████████▋                     | 5.2 MB 8.3 MB/s eta 0:00:02\r",
      "\u001b[K     |██████████▋                     | 5.2 MB 8.3 MB/s eta 0:00:02\r",
      "\u001b[K     |██████████▋                     | 5.2 MB 8.3 MB/s eta 0:00:02\r",
      "\u001b[K     |██████████▊                     | 5.2 MB 8.3 MB/s eta 0:00:02\r",
      "\u001b[K     |██████████▊                     | 5.3 MB 8.3 MB/s eta 0:00:02\r",
      "\u001b[K     |██████████▊                     | 5.3 MB 8.3 MB/s eta 0:00:02\r",
      "\u001b[K     |██████████▊                     | 5.3 MB 8.3 MB/s eta 0:00:02\r",
      "\u001b[K     |██████████▊                     | 5.3 MB 8.3 MB/s eta 0:00:02\r",
      "\u001b[K     |██████████▉                     | 5.3 MB 8.3 MB/s eta 0:00:02\r",
      "\u001b[K     |██████████▉                     | 5.3 MB 8.3 MB/s eta 0:00:02\r",
      "\u001b[K     |██████████▉                     | 5.3 MB 8.3 MB/s eta 0:00:02\r",
      "\u001b[K     |██████████▉                     | 5.3 MB 8.3 MB/s eta 0:00:02\r",
      "\u001b[K     |██████████▉                     | 5.3 MB 8.3 MB/s eta 0:00:02\r",
      "\u001b[K     |███████████                     | 5.3 MB 8.3 MB/s eta 0:00:02\r",
      "\u001b[K     |███████████                     | 5.4 MB 8.3 MB/s eta 0:00:02\r",
      "\u001b[K     |███████████                     | 5.4 MB 8.3 MB/s eta 0:00:02\r",
      "\u001b[K     |███████████                     | 5.4 MB 8.3 MB/s eta 0:00:02\r",
      "\u001b[K     |███████████                     | 5.4 MB 8.3 MB/s eta 0:00:02\r",
      "\u001b[K     |███████████                     | 5.4 MB 8.3 MB/s eta 0:00:02\r",
      "\u001b[K     |███████████                     | 5.4 MB 8.3 MB/s eta 0:00:02\r",
      "\u001b[K     |███████████                     | 5.4 MB 8.3 MB/s eta 0:00:02\r",
      "\u001b[K     |███████████                     | 5.4 MB 8.3 MB/s eta 0:00:02\r",
      "\u001b[K     |███████████                     | 5.4 MB 8.3 MB/s eta 0:00:02\r",
      "\u001b[K     |███████████                     | 5.4 MB 8.3 MB/s eta 0:00:02\r",
      "\u001b[K     |███████████▏                    | 5.5 MB 8.3 MB/s eta 0:00:02\r",
      "\u001b[K     |███████████▏                    | 5.5 MB 8.3 MB/s eta 0:00:02\r",
      "\u001b[K     |███████████▏                    | 5.5 MB 8.3 MB/s eta 0:00:02\r",
      "\u001b[K     |███████████▏                    | 5.5 MB 8.3 MB/s eta 0:00:02\r",
      "\u001b[K     |███████████▏                    | 5.5 MB 8.3 MB/s eta 0:00:02\r",
      "\u001b[K     |███████████▎                    | 5.5 MB 8.3 MB/s eta 0:00:02\r",
      "\u001b[K     |███████████▎                    | 5.5 MB 8.3 MB/s eta 0:00:02\r",
      "\u001b[K     |███████████▎                    | 5.5 MB 8.3 MB/s eta 0:00:02\r",
      "\u001b[K     |███████████▎                    | 5.5 MB 8.3 MB/s eta 0:00:02\r",
      "\u001b[K     |███████████▎                    | 5.6 MB 8.3 MB/s eta 0:00:02\r",
      "\u001b[K     |███████████▎                    | 5.6 MB 8.3 MB/s eta 0:00:02\r",
      "\u001b[K     |███████████▍                    | 5.6 MB 8.3 MB/s eta 0:00:02\r",
      "\u001b[K     |███████████▍                    | 5.6 MB 8.3 MB/s eta 0:00:02\r",
      "\u001b[K     |███████████▍                    | 5.6 MB 8.3 MB/s eta 0:00:02\r",
      "\u001b[K     |███████████▍                    | 5.6 MB 8.3 MB/s eta 0:00:02\r",
      "\u001b[K     |███████████▍                    | 5.6 MB 8.3 MB/s eta 0:00:02\r",
      "\u001b[K     |███████████▌                    | 5.6 MB 8.3 MB/s eta 0:00:02\r",
      "\u001b[K     |███████████▌                    | 5.6 MB 8.3 MB/s eta 0:00:02\r",
      "\u001b[K     |███████████▌                    | 5.6 MB 8.3 MB/s eta 0:00:02\r",
      "\u001b[K     |███████████▌                    | 5.7 MB 8.3 MB/s eta 0:00:02\r",
      "\u001b[K     |███████████▌                    | 5.7 MB 8.3 MB/s eta 0:00:02\r",
      "\u001b[K     |███████████▋                    | 5.7 MB 8.3 MB/s eta 0:00:02\r",
      "\u001b[K     |███████████▋                    | 5.7 MB 8.3 MB/s eta 0:00:02\r",
      "\u001b[K     |███████████▋                    | 5.7 MB 8.3 MB/s eta 0:00:02\r",
      "\u001b[K     |███████████▋                    | 5.7 MB 8.3 MB/s eta 0:00:02\r",
      "\u001b[K     |███████████▋                    | 5.7 MB 8.3 MB/s eta 0:00:02\r",
      "\u001b[K     |███████████▋                    | 5.7 MB 8.3 MB/s eta 0:00:02\r",
      "\u001b[K     |███████████▊                    | 5.7 MB 8.3 MB/s eta 0:00:02\r",
      "\u001b[K     |███████████▊                    | 5.7 MB 8.3 MB/s eta 0:00:02\r",
      "\u001b[K     |███████████▊                    | 5.8 MB 8.3 MB/s eta 0:00:02\r",
      "\u001b[K     |███████████▊                    | 5.8 MB 8.3 MB/s eta 0:00:02\r",
      "\u001b[K     |███████████▊                    | 5.8 MB 8.3 MB/s eta 0:00:02\r",
      "\u001b[K     |███████████▉                    | 5.8 MB 8.3 MB/s eta 0:00:02\r",
      "\u001b[K     |███████████▉                    | 5.8 MB 8.3 MB/s eta 0:00:02\r",
      "\u001b[K     |███████████▉                    | 5.8 MB 8.3 MB/s eta 0:00:02\r",
      "\u001b[K     |███████████▉                    | 5.8 MB 8.3 MB/s eta 0:00:02\r",
      "\u001b[K     |███████████▉                    | 5.8 MB 8.3 MB/s eta 0:00:02\r",
      "\u001b[K     |████████████                    | 5.8 MB 8.3 MB/s eta 0:00:02\r",
      "\u001b[K     |████████████                    | 5.8 MB 8.3 MB/s eta 0:00:02\r",
      "\u001b[K     |████████████                    | 5.9 MB 8.3 MB/s eta 0:00:02\r",
      "\u001b[K     |████████████                    | 5.9 MB 8.3 MB/s eta 0:00:02\r",
      "\u001b[K     |████████████                    | 5.9 MB 8.3 MB/s eta 0:00:02\r",
      "\u001b[K     |████████████                    | 5.9 MB 8.3 MB/s eta 0:00:02\r",
      "\u001b[K     |████████████                    | 5.9 MB 8.3 MB/s eta 0:00:02\r",
      "\u001b[K     |████████████                    | 5.9 MB 8.3 MB/s eta 0:00:02\r",
      "\u001b[K     |████████████                    | 5.9 MB 8.3 MB/s eta 0:00:02\r",
      "\u001b[K     |████████████                    | 5.9 MB 8.3 MB/s eta 0:00:02\r",
      "\u001b[K     |████████████                    | 5.9 MB 8.3 MB/s eta 0:00:02\r",
      "\u001b[K     |████████████▏                   | 5.9 MB 8.3 MB/s eta 0:00:02\r",
      "\u001b[K     |████████████▏                   | 6.0 MB 8.3 MB/s eta 0:00:02\r",
      "\u001b[K     |████████████▏                   | 6.0 MB 8.3 MB/s eta 0:00:02\r",
      "\u001b[K     |████████████▏                   | 6.0 MB 8.3 MB/s eta 0:00:02\r",
      "\u001b[K     |████████████▏                   | 6.0 MB 8.3 MB/s eta 0:00:02\r",
      "\u001b[K     |████████████▎                   | 6.0 MB 8.3 MB/s eta 0:00:02\r",
      "\u001b[K     |████████████▎                   | 6.0 MB 8.3 MB/s eta 0:00:02\r",
      "\u001b[K     |████████████▎                   | 6.0 MB 8.3 MB/s eta 0:00:02\r",
      "\u001b[K     |████████████▎                   | 6.0 MB 8.3 MB/s eta 0:00:02\r",
      "\u001b[K     |████████████▎                   | 6.0 MB 8.3 MB/s eta 0:00:02\r",
      "\u001b[K     |████████████▎                   | 6.1 MB 8.3 MB/s eta 0:00:02\r",
      "\u001b[K     |████████████▍                   | 6.1 MB 8.3 MB/s eta 0:00:02\r",
      "\u001b[K     |████████████▍                   | 6.1 MB 8.3 MB/s eta 0:00:02\r",
      "\u001b[K     |████████████▍                   | 6.1 MB 8.3 MB/s eta 0:00:02\r",
      "\u001b[K     |████████████▍                   | 6.1 MB 8.3 MB/s eta 0:00:02\r",
      "\u001b[K     |████████████▍                   | 6.1 MB 8.3 MB/s eta 0:00:02\r",
      "\u001b[K     |████████████▌                   | 6.1 MB 8.3 MB/s eta 0:00:02\r",
      "\u001b[K     |████████████▌                   | 6.1 MB 8.3 MB/s eta 0:00:02\r",
      "\u001b[K     |████████████▌                   | 6.1 MB 8.3 MB/s eta 0:00:02\r",
      "\u001b[K     |████████████▌                   | 6.1 MB 8.3 MB/s eta 0:00:02\r",
      "\u001b[K     |████████████▌                   | 6.2 MB 8.3 MB/s eta 0:00:02\r",
      "\u001b[K     |████████████▋                   | 6.2 MB 8.3 MB/s eta 0:00:02\r",
      "\u001b[K     |████████████▋                   | 6.2 MB 8.3 MB/s eta 0:00:02\r",
      "\u001b[K     |████████████▋                   | 6.2 MB 8.3 MB/s eta 0:00:02\r",
      "\u001b[K     |████████████▋                   | 6.2 MB 8.3 MB/s eta 0:00:02\r",
      "\u001b[K     |████████████▋                   | 6.2 MB 8.3 MB/s eta 0:00:02\r",
      "\u001b[K     |████████████▊                   | 6.2 MB 8.3 MB/s eta 0:00:02\r",
      "\u001b[K     |████████████▊                   | 6.2 MB 8.3 MB/s eta 0:00:02\r",
      "\u001b[K     |████████████▊                   | 6.2 MB 8.3 MB/s eta 0:00:02\r",
      "\u001b[K     |████████████▊                   | 6.2 MB 8.3 MB/s eta 0:00:02\r",
      "\u001b[K     |████████████▊                   | 6.3 MB 8.3 MB/s eta 0:00:02\r",
      "\u001b[K     |████████████▊                   | 6.3 MB 8.3 MB/s eta 0:00:02\r",
      "\u001b[K     |████████████▉                   | 6.3 MB 8.3 MB/s eta 0:00:02\r",
      "\u001b[K     |████████████▉                   | 6.3 MB 8.3 MB/s eta 0:00:02\r",
      "\u001b[K     |████████████▉                   | 6.3 MB 8.3 MB/s eta 0:00:02\r",
      "\u001b[K     |████████████▉                   | 6.3 MB 8.3 MB/s eta 0:00:02\r",
      "\u001b[K     |████████████▉                   | 6.3 MB 8.3 MB/s eta 0:00:02\r",
      "\u001b[K     |█████████████                   | 6.3 MB 8.3 MB/s eta 0:00:02\r",
      "\u001b[K     |█████████████                   | 6.3 MB 8.3 MB/s eta 0:00:02\r",
      "\u001b[K     |█████████████                   | 6.3 MB 8.3 MB/s eta 0:00:02\r",
      "\u001b[K     |█████████████                   | 6.4 MB 8.3 MB/s eta 0:00:02\r",
      "\u001b[K     |█████████████                   | 6.4 MB 8.3 MB/s eta 0:00:02\r",
      "\u001b[K     |█████████████                   | 6.4 MB 8.3 MB/s eta 0:00:02\r",
      "\u001b[K     |█████████████                   | 6.4 MB 8.3 MB/s eta 0:00:02\r",
      "\u001b[K     |█████████████                   | 6.4 MB 8.3 MB/s eta 0:00:02\r",
      "\u001b[K     |█████████████                   | 6.4 MB 8.3 MB/s eta 0:00:02\r",
      "\u001b[K     |█████████████                   | 6.4 MB 8.3 MB/s eta 0:00:02\r",
      "\u001b[K     |█████████████                   | 6.4 MB 8.3 MB/s eta 0:00:02\r",
      "\u001b[K     |█████████████▏                  | 6.4 MB 8.3 MB/s eta 0:00:02\r",
      "\u001b[K     |█████████████▏                  | 6.5 MB 8.3 MB/s eta 0:00:02\r",
      "\u001b[K     |█████████████▏                  | 6.5 MB 8.3 MB/s eta 0:00:02\r",
      "\u001b[K     |█████████████▏                  | 6.5 MB 8.3 MB/s eta 0:00:02\r",
      "\u001b[K     |█████████████▏                  | 6.5 MB 8.3 MB/s eta 0:00:02\r",
      "\u001b[K     |█████████████▎                  | 6.5 MB 8.3 MB/s eta 0:00:02\r",
      "\u001b[K     |█████████████▎                  | 6.5 MB 8.3 MB/s eta 0:00:02\r",
      "\u001b[K     |█████████████▎                  | 6.5 MB 8.3 MB/s eta 0:00:02\r",
      "\u001b[K     |█████████████▎                  | 6.5 MB 8.3 MB/s eta 0:00:02\r",
      "\u001b[K     |█████████████▎                  | 6.5 MB 8.3 MB/s eta 0:00:02\r",
      "\u001b[K     |█████████████▍                  | 6.5 MB 8.3 MB/s eta 0:00:02\r",
      "\u001b[K     |█████████████▍                  | 6.6 MB 8.3 MB/s eta 0:00:02\r",
      "\u001b[K     |█████████████▍                  | 6.6 MB 8.3 MB/s eta 0:00:02\r",
      "\u001b[K     |█████████████▍                  | 6.6 MB 8.3 MB/s eta 0:00:02\r",
      "\u001b[K     |█████████████▍                  | 6.6 MB 8.3 MB/s eta 0:00:02\r",
      "\u001b[K     |█████████████▍                  | 6.6 MB 8.3 MB/s eta 0:00:02\r",
      "\u001b[K     |█████████████▌                  | 6.6 MB 8.3 MB/s eta 0:00:02\r",
      "\u001b[K     |█████████████▌                  | 6.6 MB 8.3 MB/s eta 0:00:02\r",
      "\u001b[K     |█████████████▌                  | 6.6 MB 8.3 MB/s eta 0:00:02\r",
      "\u001b[K     |█████████████▌                  | 6.6 MB 8.3 MB/s eta 0:00:02\r",
      "\u001b[K     |█████████████▌                  | 6.6 MB 8.3 MB/s eta 0:00:02\r",
      "\u001b[K     |█████████████▋                  | 6.7 MB 8.3 MB/s eta 0:00:02\r",
      "\u001b[K     |█████████████▋                  | 6.7 MB 8.3 MB/s eta 0:00:02\r",
      "\u001b[K     |█████████████▋                  | 6.7 MB 8.3 MB/s eta 0:00:02\r",
      "\u001b[K     |█████████████▋                  | 6.7 MB 8.3 MB/s eta 0:00:02\r",
      "\u001b[K     |█████████████▋                  | 6.7 MB 8.3 MB/s eta 0:00:02\r",
      "\u001b[K     |█████████████▊                  | 6.7 MB 8.3 MB/s eta 0:00:02\r",
      "\u001b[K     |█████████████▊                  | 6.7 MB 8.3 MB/s eta 0:00:02\r",
      "\u001b[K     |█████████████▊                  | 6.7 MB 8.3 MB/s eta 0:00:02\r",
      "\u001b[K     |█████████████▊                  | 6.7 MB 8.3 MB/s eta 0:00:02\r",
      "\u001b[K     |█████████████▊                  | 6.7 MB 8.3 MB/s eta 0:00:02\r",
      "\u001b[K     |█████████████▊                  | 6.8 MB 8.3 MB/s eta 0:00:02\r",
      "\u001b[K     |█████████████▉                  | 6.8 MB 8.3 MB/s eta 0:00:02\r",
      "\u001b[K     |█████████████▉                  | 6.8 MB 8.3 MB/s eta 0:00:02\r",
      "\u001b[K     |█████████████▉                  | 6.8 MB 8.3 MB/s eta 0:00:02\r",
      "\u001b[K     |█████████████▉                  | 6.8 MB 8.3 MB/s eta 0:00:02\r",
      "\u001b[K     |█████████████▉                  | 6.8 MB 8.3 MB/s eta 0:00:02\r",
      "\u001b[K     |██████████████                  | 6.8 MB 8.3 MB/s eta 0:00:02\r",
      "\u001b[K     |██████████████                  | 6.8 MB 8.3 MB/s eta 0:00:02\r",
      "\u001b[K     |██████████████                  | 6.8 MB 8.3 MB/s eta 0:00:02\r",
      "\u001b[K     |██████████████                  | 6.9 MB 8.3 MB/s eta 0:00:02\r",
      "\u001b[K     |██████████████                  | 6.9 MB 8.3 MB/s eta 0:00:02\r",
      "\u001b[K     |██████████████                  | 6.9 MB 8.3 MB/s eta 0:00:02\r",
      "\u001b[K     |██████████████                  | 6.9 MB 8.3 MB/s eta 0:00:02\r",
      "\u001b[K     |██████████████                  | 6.9 MB 8.3 MB/s eta 0:00:02\r",
      "\u001b[K     |██████████████                  | 6.9 MB 8.3 MB/s eta 0:00:02\r",
      "\u001b[K     |██████████████                  | 6.9 MB 8.3 MB/s eta 0:00:02\r",
      "\u001b[K     |██████████████                  | 6.9 MB 8.3 MB/s eta 0:00:02\r",
      "\u001b[K     |██████████████▏                 | 6.9 MB 8.3 MB/s eta 0:00:02\r",
      "\u001b[K     |██████████████▏                 | 6.9 MB 8.3 MB/s eta 0:00:02\r",
      "\u001b[K     |██████████████▏                 | 7.0 MB 8.3 MB/s eta 0:00:02\r",
      "\u001b[K     |██████████████▏                 | 7.0 MB 8.3 MB/s eta 0:00:02\r",
      "\u001b[K     |██████████████▏                 | 7.0 MB 8.3 MB/s eta 0:00:02\r",
      "\u001b[K     |██████████████▎                 | 7.0 MB 8.3 MB/s eta 0:00:02\r",
      "\u001b[K     |██████████████▎                 | 7.0 MB 8.3 MB/s eta 0:00:02\r",
      "\u001b[K     |██████████████▎                 | 7.0 MB 8.3 MB/s eta 0:00:02\r",
      "\u001b[K     |██████████████▎                 | 7.0 MB 8.3 MB/s eta 0:00:02\r",
      "\u001b[K     |██████████████▎                 | 7.0 MB 8.3 MB/s eta 0:00:02\r",
      "\u001b[K     |██████████████▍                 | 7.0 MB 8.3 MB/s eta 0:00:02\r",
      "\u001b[K     |██████████████▍                 | 7.0 MB 8.3 MB/s eta 0:00:02\r",
      "\u001b[K     |██████████████▍                 | 7.1 MB 8.3 MB/s eta 0:00:02\r",
      "\u001b[K     |██████████████▍                 | 7.1 MB 8.3 MB/s eta 0:00:02\r",
      "\u001b[K     |██████████████▍                 | 7.1 MB 8.3 MB/s eta 0:00:02\r",
      "\u001b[K     |██████████████▍                 | 7.1 MB 8.3 MB/s eta 0:00:02\r",
      "\u001b[K     |██████████████▌                 | 7.1 MB 8.3 MB/s eta 0:00:02\r",
      "\u001b[K     |██████████████▌                 | 7.1 MB 8.3 MB/s eta 0:00:02\r",
      "\u001b[K     |██████████████▌                 | 7.1 MB 8.3 MB/s eta 0:00:02\r",
      "\u001b[K     |██████████████▌                 | 7.1 MB 8.3 MB/s eta 0:00:02\r",
      "\u001b[K     |██████████████▌                 | 7.1 MB 8.3 MB/s eta 0:00:02\r",
      "\u001b[K     |██████████████▋                 | 7.1 MB 8.3 MB/s eta 0:00:02\r",
      "\u001b[K     |██████████████▋                 | 7.2 MB 8.3 MB/s eta 0:00:02\r",
      "\u001b[K     |██████████████▋                 | 7.2 MB 8.3 MB/s eta 0:00:02\r",
      "\u001b[K     |██████████████▋                 | 7.2 MB 8.3 MB/s eta 0:00:02\r",
      "\u001b[K     |██████████████▋                 | 7.2 MB 8.3 MB/s eta 0:00:02\r",
      "\u001b[K     |██████████████▊                 | 7.2 MB 8.3 MB/s eta 0:00:02\r",
      "\u001b[K     |██████████████▊                 | 7.2 MB 8.3 MB/s eta 0:00:02\r",
      "\u001b[K     |██████████████▊                 | 7.2 MB 8.3 MB/s eta 0:00:02\r",
      "\u001b[K     |██████████████▊                 | 7.2 MB 8.3 MB/s eta 0:00:02\r",
      "\u001b[K     |██████████████▊                 | 7.2 MB 8.3 MB/s eta 0:00:02\r",
      "\u001b[K     |██████████████▊                 | 7.2 MB 8.3 MB/s eta 0:00:02\r",
      "\u001b[K     |██████████████▉                 | 7.3 MB 8.3 MB/s eta 0:00:02\r",
      "\u001b[K     |██████████████▉                 | 7.3 MB 8.3 MB/s eta 0:00:02\r",
      "\u001b[K     |██████████████▉                 | 7.3 MB 8.3 MB/s eta 0:00:02\r",
      "\u001b[K     |██████████████▉                 | 7.3 MB 8.3 MB/s eta 0:00:02\r",
      "\u001b[K     |██████████████▉                 | 7.3 MB 8.3 MB/s eta 0:00:02\r",
      "\u001b[K     |███████████████                 | 7.3 MB 8.3 MB/s eta 0:00:02\r",
      "\u001b[K     |███████████████                 | 7.3 MB 8.3 MB/s eta 0:00:02\r",
      "\u001b[K     |███████████████                 | 7.3 MB 8.3 MB/s eta 0:00:02\r",
      "\u001b[K     |███████████████                 | 7.3 MB 8.3 MB/s eta 0:00:02\r",
      "\u001b[K     |███████████████                 | 7.4 MB 8.3 MB/s eta 0:00:02\r",
      "\u001b[K     |███████████████                 | 7.4 MB 8.3 MB/s eta 0:00:02"
     ]
    },
    {
     "name": "stdout",
     "output_type": "stream",
     "text": [
      "\r",
      "\u001b[K     |███████████████                 | 7.4 MB 8.3 MB/s eta 0:00:02\r",
      "\u001b[K     |███████████████                 | 7.4 MB 8.3 MB/s eta 0:00:02\r",
      "\u001b[K     |███████████████                 | 7.4 MB 8.3 MB/s eta 0:00:02\r",
      "\u001b[K     |███████████████                 | 7.4 MB 8.3 MB/s eta 0:00:02\r",
      "\u001b[K     |███████████████                 | 7.4 MB 8.3 MB/s eta 0:00:02\r",
      "\u001b[K     |███████████████▏                | 7.4 MB 8.3 MB/s eta 0:00:01\r",
      "\u001b[K     |███████████████▏                | 7.4 MB 8.3 MB/s eta 0:00:01\r",
      "\u001b[K     |███████████████▏                | 7.4 MB 8.3 MB/s eta 0:00:01\r",
      "\u001b[K     |███████████████▏                | 7.5 MB 8.3 MB/s eta 0:00:01\r",
      "\u001b[K     |███████████████▏                | 7.5 MB 8.3 MB/s eta 0:00:01\r",
      "\u001b[K     |███████████████▎                | 7.5 MB 8.3 MB/s eta 0:00:01\r",
      "\u001b[K     |███████████████▎                | 7.5 MB 8.3 MB/s eta 0:00:01\r",
      "\u001b[K     |███████████████▎                | 7.5 MB 8.3 MB/s eta 0:00:01\r",
      "\u001b[K     |███████████████▎                | 7.5 MB 8.3 MB/s eta 0:00:01\r",
      "\u001b[K     |███████████████▎                | 7.5 MB 8.3 MB/s eta 0:00:01\r",
      "\u001b[K     |███████████████▍                | 7.5 MB 8.3 MB/s eta 0:00:01\r",
      "\u001b[K     |███████████████▍                | 7.5 MB 8.3 MB/s eta 0:00:01\r",
      "\u001b[K     |███████████████▍                | 7.5 MB 8.3 MB/s eta 0:00:01\r",
      "\u001b[K     |███████████████▍                | 7.6 MB 8.3 MB/s eta 0:00:01\r",
      "\u001b[K     |███████████████▍                | 7.6 MB 8.3 MB/s eta 0:00:01\r",
      "\u001b[K     |███████████████▍                | 7.6 MB 8.3 MB/s eta 0:00:01\r",
      "\u001b[K     |███████████████▌                | 7.6 MB 8.3 MB/s eta 0:00:01\r",
      "\u001b[K     |███████████████▌                | 7.6 MB 8.3 MB/s eta 0:00:01\r",
      "\u001b[K     |███████████████▌                | 7.6 MB 8.3 MB/s eta 0:00:01\r",
      "\u001b[K     |███████████████▌                | 7.6 MB 8.3 MB/s eta 0:00:01\r",
      "\u001b[K     |███████████████▌                | 7.6 MB 8.3 MB/s eta 0:00:01\r",
      "\u001b[K     |███████████████▋                | 7.6 MB 8.3 MB/s eta 0:00:01\r",
      "\u001b[K     |███████████████▋                | 7.6 MB 8.3 MB/s eta 0:00:01\r",
      "\u001b[K     |███████████████▋                | 7.7 MB 8.3 MB/s eta 0:00:01\r",
      "\u001b[K     |███████████████▋                | 7.7 MB 8.3 MB/s eta 0:00:01\r",
      "\u001b[K     |███████████████▋                | 7.7 MB 8.3 MB/s eta 0:00:01\r",
      "\u001b[K     |███████████████▊                | 7.7 MB 8.3 MB/s eta 0:00:01\r",
      "\u001b[K     |███████████████▊                | 7.7 MB 8.3 MB/s eta 0:00:01\r",
      "\u001b[K     |███████████████▊                | 7.7 MB 8.3 MB/s eta 0:00:01\r",
      "\u001b[K     |███████████████▊                | 7.7 MB 8.3 MB/s eta 0:00:01\r",
      "\u001b[K     |███████████████▊                | 7.7 MB 8.3 MB/s eta 0:00:01\r",
      "\u001b[K     |███████████████▊                | 7.7 MB 8.3 MB/s eta 0:00:01\r",
      "\u001b[K     |███████████████▉                | 7.8 MB 8.3 MB/s eta 0:00:01\r",
      "\u001b[K     |███████████████▉                | 7.8 MB 8.3 MB/s eta 0:00:01\r",
      "\u001b[K     |███████████████▉                | 7.8 MB 8.3 MB/s eta 0:00:01\r",
      "\u001b[K     |███████████████▉                | 7.8 MB 8.3 MB/s eta 0:00:01\r",
      "\u001b[K     |███████████████▉                | 7.8 MB 8.3 MB/s eta 0:00:01\r",
      "\u001b[K     |████████████████                | 7.8 MB 8.3 MB/s eta 0:00:01\r",
      "\u001b[K     |████████████████                | 7.8 MB 8.3 MB/s eta 0:00:01\r",
      "\u001b[K     |████████████████                | 7.8 MB 8.3 MB/s eta 0:00:01\r",
      "\u001b[K     |████████████████                | 7.8 MB 8.3 MB/s eta 0:00:01\r",
      "\u001b[K     |████████████████                | 7.8 MB 8.3 MB/s eta 0:00:01\r",
      "\u001b[K     |████████████████                | 7.9 MB 8.3 MB/s eta 0:00:01\r",
      "\u001b[K     |████████████████                | 7.9 MB 8.3 MB/s eta 0:00:01\r",
      "\u001b[K     |████████████████                | 7.9 MB 8.3 MB/s eta 0:00:01\r",
      "\u001b[K     |████████████████                | 7.9 MB 8.3 MB/s eta 0:00:01\r",
      "\u001b[K     |████████████████                | 7.9 MB 8.3 MB/s eta 0:00:01\r",
      "\u001b[K     |████████████████                | 7.9 MB 8.3 MB/s eta 0:00:01\r",
      "\u001b[K     |████████████████▏               | 7.9 MB 8.3 MB/s eta 0:00:01\r",
      "\u001b[K     |████████████████▏               | 7.9 MB 8.3 MB/s eta 0:00:01\r",
      "\u001b[K     |████████████████▏               | 7.9 MB 8.3 MB/s eta 0:00:01\r",
      "\u001b[K     |████████████████▏               | 7.9 MB 8.3 MB/s eta 0:00:01\r",
      "\u001b[K     |████████████████▏               | 8.0 MB 8.3 MB/s eta 0:00:01\r",
      "\u001b[K     |████████████████▎               | 8.0 MB 8.3 MB/s eta 0:00:01\r",
      "\u001b[K     |████████████████▎               | 8.0 MB 8.3 MB/s eta 0:00:01\r",
      "\u001b[K     |████████████████▎               | 8.0 MB 8.3 MB/s eta 0:00:01\r",
      "\u001b[K     |████████████████▎               | 8.0 MB 8.3 MB/s eta 0:00:01\r",
      "\u001b[K     |████████████████▎               | 8.0 MB 8.3 MB/s eta 0:00:01\r",
      "\u001b[K     |████████████████▍               | 8.0 MB 8.3 MB/s eta 0:00:01\r",
      "\u001b[K     |████████████████▍               | 8.0 MB 8.3 MB/s eta 0:00:01\r",
      "\u001b[K     |████████████████▍               | 8.0 MB 8.3 MB/s eta 0:00:01\r",
      "\u001b[K     |████████████████▍               | 8.0 MB 8.3 MB/s eta 0:00:01\r",
      "\u001b[K     |████████████████▍               | 8.1 MB 8.3 MB/s eta 0:00:01\r",
      "\u001b[K     |████████████████▍               | 8.1 MB 8.3 MB/s eta 0:00:01\r",
      "\u001b[K     |████████████████▌               | 8.1 MB 8.3 MB/s eta 0:00:01\r",
      "\u001b[K     |████████████████▌               | 8.1 MB 8.3 MB/s eta 0:00:01\r",
      "\u001b[K     |████████████████▌               | 8.1 MB 8.3 MB/s eta 0:00:01\r",
      "\u001b[K     |████████████████▌               | 8.1 MB 8.3 MB/s eta 0:00:01\r",
      "\u001b[K     |████████████████▌               | 8.1 MB 8.3 MB/s eta 0:00:01\r",
      "\u001b[K     |████████████████▋               | 8.1 MB 8.3 MB/s eta 0:00:01\r",
      "\u001b[K     |████████████████▋               | 8.1 MB 8.3 MB/s eta 0:00:01\r",
      "\u001b[K     |████████████████▋               | 8.2 MB 8.3 MB/s eta 0:00:01\r",
      "\u001b[K     |████████████████▋               | 8.2 MB 8.3 MB/s eta 0:00:01\r",
      "\u001b[K     |████████████████▋               | 8.2 MB 8.3 MB/s eta 0:00:01\r",
      "\u001b[K     |████████████████▊               | 8.2 MB 8.3 MB/s eta 0:00:01\r",
      "\u001b[K     |████████████████▊               | 8.2 MB 8.3 MB/s eta 0:00:01\r",
      "\u001b[K     |████████████████▊               | 8.2 MB 8.3 MB/s eta 0:00:01\r",
      "\u001b[K     |████████████████▊               | 8.2 MB 8.3 MB/s eta 0:00:01\r",
      "\u001b[K     |████████████████▊               | 8.2 MB 8.3 MB/s eta 0:00:01\r",
      "\u001b[K     |████████████████▉               | 8.2 MB 8.3 MB/s eta 0:00:01\r",
      "\u001b[K     |████████████████▉               | 8.2 MB 8.3 MB/s eta 0:00:01\r",
      "\u001b[K     |████████████████▉               | 8.3 MB 8.3 MB/s eta 0:00:01\r",
      "\u001b[K     |████████████████▉               | 8.3 MB 8.3 MB/s eta 0:00:01\r",
      "\u001b[K     |████████████████▉               | 8.3 MB 8.3 MB/s eta 0:00:01\r",
      "\u001b[K     |████████████████▉               | 8.3 MB 8.3 MB/s eta 0:00:01\r",
      "\u001b[K     |█████████████████               | 8.3 MB 8.3 MB/s eta 0:00:01\r",
      "\u001b[K     |█████████████████               | 8.3 MB 8.3 MB/s eta 0:00:01\r",
      "\u001b[K     |█████████████████               | 8.3 MB 8.3 MB/s eta 0:00:01\r",
      "\u001b[K     |█████████████████               | 8.3 MB 8.3 MB/s eta 0:00:01\r",
      "\u001b[K     |█████████████████               | 8.3 MB 8.3 MB/s eta 0:00:01\r",
      "\u001b[K     |█████████████████               | 8.3 MB 8.3 MB/s eta 0:00:01\r",
      "\u001b[K     |█████████████████               | 8.4 MB 8.3 MB/s eta 0:00:01\r",
      "\u001b[K     |█████████████████               | 8.4 MB 8.3 MB/s eta 0:00:01\r",
      "\u001b[K     |█████████████████               | 8.4 MB 8.3 MB/s eta 0:00:01\r",
      "\u001b[K     |█████████████████               | 8.4 MB 8.3 MB/s eta 0:00:01\r",
      "\u001b[K     |█████████████████▏              | 8.4 MB 8.3 MB/s eta 0:00:01\r",
      "\u001b[K     |█████████████████▏              | 8.4 MB 8.3 MB/s eta 0:00:01\r",
      "\u001b[K     |█████████████████▏              | 8.4 MB 8.3 MB/s eta 0:00:01\r",
      "\u001b[K     |█████████████████▏              | 8.4 MB 8.3 MB/s eta 0:00:01\r",
      "\u001b[K     |█████████████████▏              | 8.4 MB 8.3 MB/s eta 0:00:01\r",
      "\u001b[K     |█████████████████▏              | 8.4 MB 8.3 MB/s eta 0:00:01\r",
      "\u001b[K     |█████████████████▎              | 8.5 MB 8.3 MB/s eta 0:00:01\r",
      "\u001b[K     |█████████████████▎              | 8.5 MB 8.3 MB/s eta 0:00:01\r",
      "\u001b[K     |█████████████████▎              | 8.5 MB 8.3 MB/s eta 0:00:01\r",
      "\u001b[K     |█████████████████▎              | 8.5 MB 8.3 MB/s eta 0:00:01\r",
      "\u001b[K     |█████████████████▎              | 8.5 MB 8.3 MB/s eta 0:00:01\r",
      "\u001b[K     |█████████████████▍              | 8.5 MB 8.3 MB/s eta 0:00:01\r",
      "\u001b[K     |█████████████████▍              | 8.5 MB 8.3 MB/s eta 0:00:01\r",
      "\u001b[K     |█████████████████▍              | 8.5 MB 8.3 MB/s eta 0:00:01\r",
      "\u001b[K     |█████████████████▍              | 8.5 MB 8.3 MB/s eta 0:00:01\r",
      "\u001b[K     |█████████████████▍              | 8.6 MB 8.3 MB/s eta 0:00:01\r",
      "\u001b[K     |█████████████████▌              | 8.6 MB 8.3 MB/s eta 0:00:01\r",
      "\u001b[K     |█████████████████▌              | 8.6 MB 8.3 MB/s eta 0:00:01\r",
      "\u001b[K     |█████████████████▌              | 8.6 MB 8.3 MB/s eta 0:00:01\r",
      "\u001b[K     |█████████████████▌              | 8.6 MB 8.3 MB/s eta 0:00:01\r",
      "\u001b[K     |█████████████████▌              | 8.6 MB 8.3 MB/s eta 0:00:01\r",
      "\u001b[K     |█████████████████▌              | 8.6 MB 8.3 MB/s eta 0:00:01\r",
      "\u001b[K     |█████████████████▋              | 8.6 MB 8.3 MB/s eta 0:00:01\r",
      "\u001b[K     |█████████████████▋              | 8.6 MB 8.3 MB/s eta 0:00:01\r",
      "\u001b[K     |█████████████████▋              | 8.6 MB 8.3 MB/s eta 0:00:01\r",
      "\u001b[K     |█████████████████▋              | 8.7 MB 8.3 MB/s eta 0:00:01\r",
      "\u001b[K     |█████████████████▋              | 8.7 MB 8.3 MB/s eta 0:00:01\r",
      "\u001b[K     |█████████████████▊              | 8.7 MB 8.3 MB/s eta 0:00:01\r",
      "\u001b[K     |█████████████████▊              | 8.7 MB 8.3 MB/s eta 0:00:01\r",
      "\u001b[K     |█████████████████▊              | 8.7 MB 8.3 MB/s eta 0:00:01\r",
      "\u001b[K     |█████████████████▊              | 8.7 MB 8.3 MB/s eta 0:00:01\r",
      "\u001b[K     |█████████████████▊              | 8.7 MB 8.3 MB/s eta 0:00:01\r",
      "\u001b[K     |█████████████████▉              | 8.7 MB 8.3 MB/s eta 0:00:01\r",
      "\u001b[K     |█████████████████▉              | 8.7 MB 8.3 MB/s eta 0:00:01\r",
      "\u001b[K     |█████████████████▉              | 8.7 MB 8.3 MB/s eta 0:00:01\r",
      "\u001b[K     |█████████████████▉              | 8.8 MB 8.3 MB/s eta 0:00:01\r",
      "\u001b[K     |█████████████████▉              | 8.8 MB 8.3 MB/s eta 0:00:01\r",
      "\u001b[K     |█████████████████▉              | 8.8 MB 8.3 MB/s eta 0:00:01\r",
      "\u001b[K     |██████████████████              | 8.8 MB 8.3 MB/s eta 0:00:01\r",
      "\u001b[K     |██████████████████              | 8.8 MB 8.3 MB/s eta 0:00:01\r",
      "\u001b[K     |██████████████████              | 8.8 MB 8.3 MB/s eta 0:00:01\r",
      "\u001b[K     |██████████████████              | 8.8 MB 8.3 MB/s eta 0:00:01\r",
      "\u001b[K     |██████████████████              | 8.8 MB 8.3 MB/s eta 0:00:01\r",
      "\u001b[K     |██████████████████              | 8.8 MB 8.3 MB/s eta 0:00:01\r",
      "\u001b[K     |██████████████████              | 8.8 MB 8.3 MB/s eta 0:00:01\r",
      "\u001b[K     |██████████████████              | 8.9 MB 8.3 MB/s eta 0:00:01\r",
      "\u001b[K     |██████████████████              | 8.9 MB 8.3 MB/s eta 0:00:01\r",
      "\u001b[K     |██████████████████              | 8.9 MB 8.3 MB/s eta 0:00:01\r",
      "\u001b[K     |██████████████████▏             | 8.9 MB 8.3 MB/s eta 0:00:01\r",
      "\u001b[K     |██████████████████▏             | 8.9 MB 8.3 MB/s eta 0:00:01\r",
      "\u001b[K     |██████████████████▏             | 8.9 MB 8.3 MB/s eta 0:00:01\r",
      "\u001b[K     |██████████████████▏             | 8.9 MB 8.3 MB/s eta 0:00:01\r",
      "\u001b[K     |██████████████████▏             | 8.9 MB 8.3 MB/s eta 0:00:01\r",
      "\u001b[K     |██████████████████▏             | 8.9 MB 8.3 MB/s eta 0:00:01\r",
      "\u001b[K     |██████████████████▎             | 8.9 MB 8.3 MB/s eta 0:00:01\r",
      "\u001b[K     |██████████████████▎             | 9.0 MB 8.3 MB/s eta 0:00:01\r",
      "\u001b[K     |██████████████████▎             | 9.0 MB 8.3 MB/s eta 0:00:01\r",
      "\u001b[K     |██████████████████▎             | 9.0 MB 8.3 MB/s eta 0:00:01\r",
      "\u001b[K     |██████████████████▎             | 9.0 MB 8.3 MB/s eta 0:00:01\r",
      "\u001b[K     |██████████████████▍             | 9.0 MB 8.3 MB/s eta 0:00:01\r",
      "\u001b[K     |██████████████████▍             | 9.0 MB 8.3 MB/s eta 0:00:01\r",
      "\u001b[K     |██████████████████▍             | 9.0 MB 8.3 MB/s eta 0:00:01\r",
      "\u001b[K     |██████████████████▍             | 9.0 MB 8.3 MB/s eta 0:00:01\r",
      "\u001b[K     |██████████████████▍             | 9.0 MB 8.3 MB/s eta 0:00:01\r",
      "\u001b[K     |██████████████████▌             | 9.1 MB 8.3 MB/s eta 0:00:01\r",
      "\u001b[K     |██████████████████▌             | 9.1 MB 8.3 MB/s eta 0:00:01\r",
      "\u001b[K     |██████████████████▌             | 9.1 MB 8.3 MB/s eta 0:00:01\r",
      "\u001b[K     |██████████████████▌             | 9.1 MB 8.3 MB/s eta 0:00:01\r",
      "\u001b[K     |██████████████████▌             | 9.1 MB 8.3 MB/s eta 0:00:01\r",
      "\u001b[K     |██████████████████▌             | 9.1 MB 8.3 MB/s eta 0:00:01\r",
      "\u001b[K     |██████████████████▋             | 9.1 MB 8.3 MB/s eta 0:00:01\r",
      "\u001b[K     |██████████████████▋             | 9.1 MB 8.3 MB/s eta 0:00:01\r",
      "\u001b[K     |██████████████████▋             | 9.1 MB 8.3 MB/s eta 0:00:01\r",
      "\u001b[K     |██████████████████▋             | 9.1 MB 8.3 MB/s eta 0:00:01\r",
      "\u001b[K     |██████████████████▋             | 9.2 MB 8.3 MB/s eta 0:00:01\r",
      "\u001b[K     |██████████████████▊             | 9.2 MB 8.3 MB/s eta 0:00:01\r",
      "\u001b[K     |██████████████████▊             | 9.2 MB 8.3 MB/s eta 0:00:01\r",
      "\u001b[K     |██████████████████▊             | 9.2 MB 8.3 MB/s eta 0:00:01\r",
      "\u001b[K     |██████████████████▊             | 9.2 MB 8.3 MB/s eta 0:00:01\r",
      "\u001b[K     |██████████████████▊             | 9.2 MB 8.3 MB/s eta 0:00:01\r",
      "\u001b[K     |██████████████████▉             | 9.2 MB 8.3 MB/s eta 0:00:01\r",
      "\u001b[K     |██████████████████▉             | 9.2 MB 8.3 MB/s eta 0:00:01\r",
      "\u001b[K     |██████████████████▉             | 9.2 MB 8.3 MB/s eta 0:00:01\r",
      "\u001b[K     |██████████████████▉             | 9.2 MB 8.3 MB/s eta 0:00:01\r",
      "\u001b[K     |██████████████████▉             | 9.3 MB 8.3 MB/s eta 0:00:01\r",
      "\u001b[K     |██████████████████▉             | 9.3 MB 8.3 MB/s eta 0:00:01\r",
      "\u001b[K     |███████████████████             | 9.3 MB 8.3 MB/s eta 0:00:01\r",
      "\u001b[K     |███████████████████             | 9.3 MB 8.3 MB/s eta 0:00:01\r",
      "\u001b[K     |███████████████████             | 9.3 MB 8.3 MB/s eta 0:00:01\r",
      "\u001b[K     |███████████████████             | 9.3 MB 8.3 MB/s eta 0:00:01\r",
      "\u001b[K     |███████████████████             | 9.3 MB 8.3 MB/s eta 0:00:01\r",
      "\u001b[K     |███████████████████             | 9.3 MB 8.3 MB/s eta 0:00:01\r",
      "\u001b[K     |███████████████████             | 9.3 MB 8.3 MB/s eta 0:00:01\r",
      "\u001b[K     |███████████████████             | 9.3 MB 8.3 MB/s eta 0:00:01\r",
      "\u001b[K     |███████████████████             | 9.4 MB 8.3 MB/s eta 0:00:01\r",
      "\u001b[K     |███████████████████             | 9.4 MB 8.3 MB/s eta 0:00:01\r",
      "\u001b[K     |███████████████████▏            | 9.4 MB 8.3 MB/s eta 0:00:01\r",
      "\u001b[K     |███████████████████▏            | 9.4 MB 8.3 MB/s eta 0:00:01\r",
      "\u001b[K     |███████████████████▏            | 9.4 MB 8.3 MB/s eta 0:00:01\r",
      "\u001b[K     |███████████████████▏            | 9.4 MB 8.3 MB/s eta 0:00:01\r",
      "\u001b[K     |███████████████████▏            | 9.4 MB 8.3 MB/s eta 0:00:01\r",
      "\u001b[K     |███████████████████▏            | 9.4 MB 8.3 MB/s eta 0:00:01\r",
      "\u001b[K     |███████████████████▎            | 9.4 MB 8.3 MB/s eta 0:00:01\r",
      "\u001b[K     |███████████████████▎            | 9.5 MB 8.3 MB/s eta 0:00:01\r",
      "\u001b[K     |███████████████████▎            | 9.5 MB 8.3 MB/s eta 0:00:01\r",
      "\u001b[K     |███████████████████▎            | 9.5 MB 8.3 MB/s eta 0:00:01\r",
      "\u001b[K     |███████████████████▎            | 9.5 MB 8.3 MB/s eta 0:00:01\r",
      "\u001b[K     |███████████████████▍            | 9.5 MB 8.3 MB/s eta 0:00:01\r",
      "\u001b[K     |███████████████████▍            | 9.5 MB 8.3 MB/s eta 0:00:01\r",
      "\u001b[K     |███████████████████▍            | 9.5 MB 8.3 MB/s eta 0:00:01\r",
      "\u001b[K     |███████████████████▍            | 9.5 MB 8.3 MB/s eta 0:00:01\r",
      "\u001b[K     |███████████████████▍            | 9.5 MB 8.3 MB/s eta 0:00:01\r",
      "\u001b[K     |███████████████████▌            | 9.5 MB 8.3 MB/s eta 0:00:01\r",
      "\u001b[K     |███████████████████▌            | 9.6 MB 8.3 MB/s eta 0:00:01\r",
      "\u001b[K     |███████████████████▌            | 9.6 MB 8.3 MB/s eta 0:00:01\r",
      "\u001b[K     |███████████████████▌            | 9.6 MB 8.3 MB/s eta 0:00:01\r",
      "\u001b[K     |███████████████████▌            | 9.6 MB 8.3 MB/s eta 0:00:01\r",
      "\u001b[K     |███████████████████▌            | 9.6 MB 8.3 MB/s eta 0:00:01\r",
      "\u001b[K     |███████████████████▋            | 9.6 MB 8.3 MB/s eta 0:00:01\r",
      "\u001b[K     |███████████████████▋            | 9.6 MB 8.3 MB/s eta 0:00:01\r",
      "\u001b[K     |███████████████████▋            | 9.6 MB 8.3 MB/s eta 0:00:01\r",
      "\u001b[K     |███████████████████▋            | 9.6 MB 8.3 MB/s eta 0:00:01\r",
      "\u001b[K     |███████████████████▋            | 9.6 MB 8.3 MB/s eta 0:00:01\r",
      "\u001b[K     |███████████████████▊            | 9.7 MB 8.3 MB/s eta 0:00:01\r",
      "\u001b[K     |███████████████████▊            | 9.7 MB 8.3 MB/s eta 0:00:01\r",
      "\u001b[K     |███████████████████▊            | 9.7 MB 8.3 MB/s eta 0:00:01\r",
      "\u001b[K     |███████████████████▊            | 9.7 MB 8.3 MB/s eta 0:00:01\r",
      "\u001b[K     |███████████████████▊            | 9.7 MB 8.3 MB/s eta 0:00:01\r",
      "\u001b[K     |███████████████████▉            | 9.7 MB 8.3 MB/s eta 0:00:01\r",
      "\u001b[K     |███████████████████▉            | 9.7 MB 8.3 MB/s eta 0:00:01\r",
      "\u001b[K     |███████████████████▉            | 9.7 MB 8.3 MB/s eta 0:00:01\r",
      "\u001b[K     |███████████████████▉            | 9.7 MB 8.3 MB/s eta 0:00:01\r",
      "\u001b[K     |███████████████████▉            | 9.7 MB 8.3 MB/s eta 0:00:01\r",
      "\u001b[K     |███████████████████▉            | 9.8 MB 8.3 MB/s eta 0:00:01\r",
      "\u001b[K     |████████████████████            | 9.8 MB 8.3 MB/s eta 0:00:01\r",
      "\u001b[K     |████████████████████            | 9.8 MB 8.3 MB/s eta 0:00:01\r",
      "\u001b[K     |████████████████████            | 9.8 MB 8.3 MB/s eta 0:00:01\r",
      "\u001b[K     |████████████████████            | 9.8 MB 8.3 MB/s eta 0:00:01\r",
      "\u001b[K     |████████████████████            | 9.8 MB 8.3 MB/s eta 0:00:01\r",
      "\u001b[K     |████████████████████            | 9.8 MB 8.3 MB/s eta 0:00:01\r",
      "\u001b[K     |████████████████████            | 9.8 MB 8.3 MB/s eta 0:00:01\r",
      "\u001b[K     |████████████████████            | 9.8 MB 8.3 MB/s eta 0:00:01\r",
      "\u001b[K     |████████████████████            | 9.9 MB 8.3 MB/s eta 0:00:01\r",
      "\u001b[K     |████████████████████            | 9.9 MB 8.3 MB/s eta 0:00:01\r",
      "\u001b[K     |████████████████████▏           | 9.9 MB 8.3 MB/s eta 0:00:01\r",
      "\u001b[K     |████████████████████▏           | 9.9 MB 8.3 MB/s eta 0:00:01\r",
      "\u001b[K     |████████████████████▏           | 9.9 MB 8.3 MB/s eta 0:00:01\r",
      "\u001b[K     |████████████████████▏           | 9.9 MB 8.3 MB/s eta 0:00:01\r",
      "\u001b[K     |████████████████████▏           | 9.9 MB 8.3 MB/s eta 0:00:01\r",
      "\u001b[K     |████████████████████▏           | 9.9 MB 8.3 MB/s eta 0:00:01\r",
      "\u001b[K     |████████████████████▎           | 9.9 MB 8.3 MB/s eta 0:00:01\r",
      "\u001b[K     |████████████████████▎           | 9.9 MB 8.3 MB/s eta 0:00:01\r",
      "\u001b[K     |████████████████████▎           | 10.0 MB 8.3 MB/s eta 0:00:01\r",
      "\u001b[K     |████████████████████▎           | 10.0 MB 8.3 MB/s eta 0:00:01\r",
      "\u001b[K     |████████████████████▎           | 10.0 MB 8.3 MB/s eta 0:00:01\r",
      "\u001b[K     |████████████████████▍           | 10.0 MB 8.3 MB/s eta 0:00:01\r",
      "\u001b[K     |████████████████████▍           | 10.0 MB 8.3 MB/s eta 0:00:01\r",
      "\u001b[K     |████████████████████▍           | 10.0 MB 8.3 MB/s eta 0:00:01\r",
      "\u001b[K     |████████████████████▍           | 10.0 MB 8.3 MB/s eta 0:00:01\r",
      "\u001b[K     |████████████████████▍           | 10.0 MB 8.3 MB/s eta 0:00:01\r",
      "\u001b[K     |████████████████████▌           | 10.0 MB 8.3 MB/s eta 0:00:01\r",
      "\u001b[K     |████████████████████▌           | 10.0 MB 8.3 MB/s eta 0:00:01\r",
      "\u001b[K     |████████████████████▌           | 10.1 MB 8.3 MB/s eta 0:00:01\r",
      "\u001b[K     |████████████████████▌           | 10.1 MB 8.3 MB/s eta 0:00:01\r",
      "\u001b[K     |████████████████████▌           | 10.1 MB 8.3 MB/s eta 0:00:01\r",
      "\u001b[K     |████████████████████▌           | 10.1 MB 8.3 MB/s eta 0:00:01\r",
      "\u001b[K     |████████████████████▋           | 10.1 MB 8.3 MB/s eta 0:00:01\r",
      "\u001b[K     |████████████████████▋           | 10.1 MB 8.3 MB/s eta 0:00:01\r",
      "\u001b[K     |████████████████████▋           | 10.1 MB 8.3 MB/s eta 0:00:01\r",
      "\u001b[K     |████████████████████▋           | 10.1 MB 8.3 MB/s eta 0:00:01\r",
      "\u001b[K     |████████████████████▋           | 10.1 MB 8.3 MB/s eta 0:00:01\r",
      "\u001b[K     |████████████████████▊           | 10.1 MB 8.3 MB/s eta 0:00:01\r",
      "\u001b[K     |████████████████████▊           | 10.2 MB 8.3 MB/s eta 0:00:01\r",
      "\u001b[K     |████████████████████▊           | 10.2 MB 8.3 MB/s eta 0:00:01\r",
      "\u001b[K     |████████████████████▊           | 10.2 MB 8.3 MB/s eta 0:00:01\r",
      "\u001b[K     |████████████████████▊           | 10.2 MB 8.3 MB/s eta 0:00:01\r",
      "\u001b[K     |████████████████████▉           | 10.2 MB 8.3 MB/s eta 0:00:01\r",
      "\u001b[K     |████████████████████▉           | 10.2 MB 8.3 MB/s eta 0:00:01\r",
      "\u001b[K     |████████████████████▉           | 10.2 MB 8.3 MB/s eta 0:00:01\r",
      "\u001b[K     |████████████████████▉           | 10.2 MB 8.3 MB/s eta 0:00:01\r",
      "\u001b[K     |████████████████████▉           | 10.2 MB 8.3 MB/s eta 0:00:01\r",
      "\u001b[K     |█████████████████████           | 10.3 MB 8.3 MB/s eta 0:00:01\r",
      "\u001b[K     |█████████████████████           | 10.3 MB 8.3 MB/s eta 0:00:01\r",
      "\u001b[K     |█████████████████████           | 10.3 MB 8.3 MB/s eta 0:00:01\r",
      "\u001b[K     |█████████████████████           | 10.3 MB 8.3 MB/s eta 0:00:01\r",
      "\u001b[K     |█████████████████████           | 10.3 MB 8.3 MB/s eta 0:00:01\r",
      "\u001b[K     |█████████████████████           | 10.3 MB 8.3 MB/s eta 0:00:01\r",
      "\u001b[K     |█████████████████████           | 10.3 MB 8.3 MB/s eta 0:00:01\r",
      "\u001b[K     |█████████████████████           | 10.3 MB 8.3 MB/s eta 0:00:01\r",
      "\u001b[K     |█████████████████████           | 10.3 MB 8.3 MB/s eta 0:00:01\r",
      "\u001b[K     |█████████████████████           | 10.3 MB 8.3 MB/s eta 0:00:01\r",
      "\u001b[K     |█████████████████████           | 10.4 MB 8.3 MB/s eta 0:00:01\r",
      "\u001b[K     |█████████████████████▏          | 10.4 MB 8.3 MB/s eta 0:00:01\r",
      "\u001b[K     |█████████████████████▏          | 10.4 MB 8.3 MB/s eta 0:00:01\r",
      "\u001b[K     |█████████████████████▏          | 10.4 MB 8.3 MB/s eta 0:00:01\r",
      "\u001b[K     |█████████████████████▏          | 10.4 MB 8.3 MB/s eta 0:00:01\r",
      "\u001b[K     |█████████████████████▏          | 10.4 MB 8.3 MB/s eta 0:00:01\r",
      "\u001b[K     |█████████████████████▎          | 10.4 MB 8.3 MB/s eta 0:00:01\r",
      "\u001b[K     |█████████████████████▎          | 10.4 MB 8.3 MB/s eta 0:00:01\r",
      "\u001b[K     |█████████████████████▎          | 10.4 MB 8.3 MB/s eta 0:00:01\r",
      "\u001b[K     |█████████████████████▎          | 10.4 MB 8.3 MB/s eta 0:00:01\r",
      "\u001b[K     |█████████████████████▎          | 10.5 MB 8.3 MB/s eta 0:00:01\r",
      "\u001b[K     |█████████████████████▎          | 10.5 MB 8.3 MB/s eta 0:00:01\r",
      "\u001b[K     |█████████████████████▍          | 10.5 MB 8.3 MB/s eta 0:00:01\r",
      "\u001b[K     |█████████████████████▍          | 10.5 MB 8.3 MB/s eta 0:00:01\r",
      "\u001b[K     |█████████████████████▍          | 10.5 MB 8.3 MB/s eta 0:00:01\r",
      "\u001b[K     |█████████████████████▍          | 10.5 MB 8.3 MB/s eta 0:00:01\r",
      "\u001b[K     |█████████████████████▍          | 10.5 MB 8.3 MB/s eta 0:00:01\r",
      "\u001b[K     |█████████████████████▌          | 10.5 MB 8.3 MB/s eta 0:00:01\r",
      "\u001b[K     |█████████████████████▌          | 10.5 MB 8.3 MB/s eta 0:00:01\r",
      "\u001b[K     |█████████████████████▌          | 10.5 MB 8.3 MB/s eta 0:00:01\r",
      "\u001b[K     |█████████████████████▌          | 10.6 MB 8.3 MB/s eta 0:00:01\r",
      "\u001b[K     |█████████████████████▌          | 10.6 MB 8.3 MB/s eta 0:00:01\r",
      "\u001b[K     |█████████████████████▋          | 10.6 MB 8.3 MB/s eta 0:00:01\r",
      "\u001b[K     |█████████████████████▋          | 10.6 MB 8.3 MB/s eta 0:00:01\r",
      "\u001b[K     |█████████████████████▋          | 10.6 MB 8.3 MB/s eta 0:00:01\r",
      "\u001b[K     |█████████████████████▋          | 10.6 MB 8.3 MB/s eta 0:00:01\r",
      "\u001b[K     |█████████████████████▋          | 10.6 MB 8.3 MB/s eta 0:00:01\r",
      "\u001b[K     |█████████████████████▋          | 10.6 MB 8.3 MB/s eta 0:00:01\r",
      "\u001b[K     |█████████████████████▊          | 10.6 MB 8.3 MB/s eta 0:00:01\r",
      "\u001b[K     |█████████████████████▊          | 10.6 MB 8.3 MB/s eta 0:00:01\r",
      "\u001b[K     |█████████████████████▊          | 10.7 MB 8.3 MB/s eta 0:00:01\r",
      "\u001b[K     |█████████████████████▊          | 10.7 MB 8.3 MB/s eta 0:00:01\r",
      "\u001b[K     |█████████████████████▊          | 10.7 MB 8.3 MB/s eta 0:00:01\r",
      "\u001b[K     |█████████████████████▉          | 10.7 MB 8.3 MB/s eta 0:00:01\r",
      "\u001b[K     |█████████████████████▉          | 10.7 MB 8.3 MB/s eta 0:00:01\r",
      "\u001b[K     |█████████████████████▉          | 10.7 MB 8.3 MB/s eta 0:00:01\r",
      "\u001b[K     |█████████████████████▉          | 10.7 MB 8.3 MB/s eta 0:00:01"
     ]
    },
    {
     "name": "stdout",
     "output_type": "stream",
     "text": [
      "\r",
      "\u001b[K     |█████████████████████▉          | 10.7 MB 8.3 MB/s eta 0:00:01\r",
      "\u001b[K     |██████████████████████          | 10.7 MB 8.3 MB/s eta 0:00:01\r",
      "\u001b[K     |██████████████████████          | 10.8 MB 8.3 MB/s eta 0:00:01\r",
      "\u001b[K     |██████████████████████          | 10.8 MB 8.3 MB/s eta 0:00:01\r",
      "\u001b[K     |██████████████████████          | 10.8 MB 8.3 MB/s eta 0:00:01\r",
      "\u001b[K     |██████████████████████          | 10.8 MB 8.3 MB/s eta 0:00:01\r",
      "\u001b[K     |██████████████████████          | 10.8 MB 8.3 MB/s eta 0:00:01\r",
      "\u001b[K     |██████████████████████          | 10.8 MB 8.3 MB/s eta 0:00:01\r",
      "\u001b[K     |██████████████████████          | 10.8 MB 8.3 MB/s eta 0:00:01\r",
      "\u001b[K     |██████████████████████          | 10.8 MB 8.3 MB/s eta 0:00:01\r",
      "\u001b[K     |██████████████████████          | 10.8 MB 8.3 MB/s eta 0:00:01\r",
      "\u001b[K     |██████████████████████          | 10.8 MB 8.3 MB/s eta 0:00:01\r",
      "\u001b[K     |██████████████████████▏         | 10.9 MB 8.3 MB/s eta 0:00:01\r",
      "\u001b[K     |██████████████████████▏         | 10.9 MB 8.3 MB/s eta 0:00:01\r",
      "\u001b[K     |██████████████████████▏         | 10.9 MB 8.3 MB/s eta 0:00:01\r",
      "\u001b[K     |██████████████████████▏         | 10.9 MB 8.3 MB/s eta 0:00:01\r",
      "\u001b[K     |██████████████████████▏         | 10.9 MB 8.3 MB/s eta 0:00:01\r",
      "\u001b[K     |██████████████████████▎         | 10.9 MB 8.3 MB/s eta 0:00:01\r",
      "\u001b[K     |██████████████████████▎         | 10.9 MB 8.3 MB/s eta 0:00:01\r",
      "\u001b[K     |██████████████████████▎         | 10.9 MB 8.3 MB/s eta 0:00:01\r",
      "\u001b[K     |██████████████████████▎         | 10.9 MB 8.3 MB/s eta 0:00:01\r",
      "\u001b[K     |██████████████████████▎         | 10.9 MB 8.3 MB/s eta 0:00:01\r",
      "\u001b[K     |██████████████████████▎         | 11.0 MB 8.3 MB/s eta 0:00:01\r",
      "\u001b[K     |██████████████████████▍         | 11.0 MB 8.3 MB/s eta 0:00:01\r",
      "\u001b[K     |██████████████████████▍         | 11.0 MB 8.3 MB/s eta 0:00:01\r",
      "\u001b[K     |██████████████████████▍         | 11.0 MB 8.3 MB/s eta 0:00:01\r",
      "\u001b[K     |██████████████████████▍         | 11.0 MB 8.3 MB/s eta 0:00:01\r",
      "\u001b[K     |██████████████████████▍         | 11.0 MB 8.3 MB/s eta 0:00:01\r",
      "\u001b[K     |██████████████████████▌         | 11.0 MB 8.3 MB/s eta 0:00:01\r",
      "\u001b[K     |██████████████████████▌         | 11.0 MB 8.3 MB/s eta 0:00:01\r",
      "\u001b[K     |██████████████████████▌         | 11.0 MB 8.3 MB/s eta 0:00:01\r",
      "\u001b[K     |██████████████████████▌         | 11.0 MB 8.3 MB/s eta 0:00:01\r",
      "\u001b[K     |██████████████████████▌         | 11.1 MB 8.3 MB/s eta 0:00:01\r",
      "\u001b[K     |██████████████████████▋         | 11.1 MB 8.3 MB/s eta 0:00:01\r",
      "\u001b[K     |██████████████████████▋         | 11.1 MB 8.3 MB/s eta 0:00:01\r",
      "\u001b[K     |██████████████████████▋         | 11.1 MB 8.3 MB/s eta 0:00:01\r",
      "\u001b[K     |██████████████████████▋         | 11.1 MB 8.3 MB/s eta 0:00:01\r",
      "\u001b[K     |██████████████████████▋         | 11.1 MB 8.3 MB/s eta 0:00:01\r",
      "\u001b[K     |██████████████████████▋         | 11.1 MB 8.3 MB/s eta 0:00:01\r",
      "\u001b[K     |██████████████████████▊         | 11.1 MB 8.3 MB/s eta 0:00:01\r",
      "\u001b[K     |██████████████████████▊         | 11.1 MB 8.3 MB/s eta 0:00:01\r",
      "\u001b[K     |██████████████████████▊         | 11.2 MB 8.3 MB/s eta 0:00:01\r",
      "\u001b[K     |██████████████████████▊         | 11.2 MB 8.3 MB/s eta 0:00:01\r",
      "\u001b[K     |██████████████████████▊         | 11.2 MB 8.3 MB/s eta 0:00:01\r",
      "\u001b[K     |██████████████████████▉         | 11.2 MB 8.3 MB/s eta 0:00:01\r",
      "\u001b[K     |██████████████████████▉         | 11.2 MB 8.3 MB/s eta 0:00:01\r",
      "\u001b[K     |██████████████████████▉         | 11.2 MB 8.3 MB/s eta 0:00:01\r",
      "\u001b[K     |██████████████████████▉         | 11.2 MB 8.3 MB/s eta 0:00:01\r",
      "\u001b[K     |██████████████████████▉         | 11.2 MB 8.3 MB/s eta 0:00:01\r",
      "\u001b[K     |███████████████████████         | 11.2 MB 8.3 MB/s eta 0:00:01\r",
      "\u001b[K     |███████████████████████         | 11.2 MB 8.3 MB/s eta 0:00:01\r",
      "\u001b[K     |███████████████████████         | 11.3 MB 8.3 MB/s eta 0:00:01\r",
      "\u001b[K     |███████████████████████         | 11.3 MB 8.3 MB/s eta 0:00:01\r",
      "\u001b[K     |███████████████████████         | 11.3 MB 8.3 MB/s eta 0:00:01\r",
      "\u001b[K     |███████████████████████         | 11.3 MB 8.3 MB/s eta 0:00:01\r",
      "\u001b[K     |███████████████████████         | 11.3 MB 8.3 MB/s eta 0:00:01\r",
      "\u001b[K     |███████████████████████         | 11.3 MB 8.3 MB/s eta 0:00:01\r",
      "\u001b[K     |███████████████████████         | 11.3 MB 8.3 MB/s eta 0:00:01\r",
      "\u001b[K     |███████████████████████         | 11.3 MB 8.3 MB/s eta 0:00:01\r",
      "\u001b[K     |███████████████████████         | 11.3 MB 8.3 MB/s eta 0:00:01\r",
      "\u001b[K     |███████████████████████▏        | 11.3 MB 8.3 MB/s eta 0:00:01\r",
      "\u001b[K     |███████████████████████▏        | 11.4 MB 8.3 MB/s eta 0:00:01\r",
      "\u001b[K     |███████████████████████▏        | 11.4 MB 8.3 MB/s eta 0:00:01\r",
      "\u001b[K     |███████████████████████▏        | 11.4 MB 8.3 MB/s eta 0:00:01\r",
      "\u001b[K     |███████████████████████▏        | 11.4 MB 8.3 MB/s eta 0:00:01\r",
      "\u001b[K     |███████████████████████▎        | 11.4 MB 8.3 MB/s eta 0:00:01\r",
      "\u001b[K     |███████████████████████▎        | 11.4 MB 8.3 MB/s eta 0:00:01\r",
      "\u001b[K     |███████████████████████▎        | 11.4 MB 8.3 MB/s eta 0:00:01\r",
      "\u001b[K     |███████████████████████▎        | 11.4 MB 8.3 MB/s eta 0:00:01\r",
      "\u001b[K     |███████████████████████▎        | 11.4 MB 8.3 MB/s eta 0:00:01\r",
      "\u001b[K     |███████████████████████▎        | 11.4 MB 8.3 MB/s eta 0:00:01\r",
      "\u001b[K     |███████████████████████▍        | 11.5 MB 8.3 MB/s eta 0:00:01\r",
      "\u001b[K     |███████████████████████▍        | 11.5 MB 8.3 MB/s eta 0:00:01\r",
      "\u001b[K     |███████████████████████▍        | 11.5 MB 8.3 MB/s eta 0:00:01\r",
      "\u001b[K     |███████████████████████▍        | 11.5 MB 8.3 MB/s eta 0:00:01\r",
      "\u001b[K     |███████████████████████▍        | 11.5 MB 8.3 MB/s eta 0:00:01\r",
      "\u001b[K     |███████████████████████▌        | 11.5 MB 8.3 MB/s eta 0:00:01\r",
      "\u001b[K     |███████████████████████▌        | 11.5 MB 8.3 MB/s eta 0:00:01\r",
      "\u001b[K     |███████████████████████▌        | 11.5 MB 8.3 MB/s eta 0:00:01\r",
      "\u001b[K     |███████████████████████▌        | 11.5 MB 8.3 MB/s eta 0:00:01\r",
      "\u001b[K     |███████████████████████▌        | 11.6 MB 8.3 MB/s eta 0:00:01\r",
      "\u001b[K     |███████████████████████▋        | 11.6 MB 8.3 MB/s eta 0:00:01\r",
      "\u001b[K     |███████████████████████▋        | 11.6 MB 8.3 MB/s eta 0:00:01\r",
      "\u001b[K     |███████████████████████▋        | 11.6 MB 8.3 MB/s eta 0:00:01\r",
      "\u001b[K     |███████████████████████▋        | 11.6 MB 8.3 MB/s eta 0:00:01\r",
      "\u001b[K     |███████████████████████▋        | 11.6 MB 8.3 MB/s eta 0:00:01\r",
      "\u001b[K     |███████████████████████▋        | 11.6 MB 8.3 MB/s eta 0:00:01\r",
      "\u001b[K     |███████████████████████▊        | 11.6 MB 8.3 MB/s eta 0:00:01\r",
      "\u001b[K     |███████████████████████▊        | 11.6 MB 8.3 MB/s eta 0:00:01\r",
      "\u001b[K     |███████████████████████▊        | 11.6 MB 8.3 MB/s eta 0:00:01\r",
      "\u001b[K     |███████████████████████▊        | 11.7 MB 8.3 MB/s eta 0:00:01\r",
      "\u001b[K     |███████████████████████▊        | 11.7 MB 8.3 MB/s eta 0:00:01\r",
      "\u001b[K     |███████████████████████▉        | 11.7 MB 8.3 MB/s eta 0:00:01\r",
      "\u001b[K     |███████████████████████▉        | 11.7 MB 8.3 MB/s eta 0:00:01\r",
      "\u001b[K     |███████████████████████▉        | 11.7 MB 8.3 MB/s eta 0:00:01\r",
      "\u001b[K     |███████████████████████▉        | 11.7 MB 8.3 MB/s eta 0:00:01\r",
      "\u001b[K     |███████████████████████▉        | 11.7 MB 8.3 MB/s eta 0:00:01\r",
      "\u001b[K     |████████████████████████        | 11.7 MB 8.3 MB/s eta 0:00:01\r",
      "\u001b[K     |████████████████████████        | 11.7 MB 8.3 MB/s eta 0:00:01\r",
      "\u001b[K     |████████████████████████        | 11.7 MB 8.3 MB/s eta 0:00:01\r",
      "\u001b[K     |████████████████████████        | 11.8 MB 8.3 MB/s eta 0:00:01\r",
      "\u001b[K     |████████████████████████        | 11.8 MB 8.3 MB/s eta 0:00:01\r",
      "\u001b[K     |████████████████████████        | 11.8 MB 8.3 MB/s eta 0:00:01\r",
      "\u001b[K     |████████████████████████        | 11.8 MB 8.3 MB/s eta 0:00:01\r",
      "\u001b[K     |████████████████████████        | 11.8 MB 8.3 MB/s eta 0:00:01\r",
      "\u001b[K     |████████████████████████        | 11.8 MB 8.3 MB/s eta 0:00:01\r",
      "\u001b[K     |████████████████████████        | 11.8 MB 8.3 MB/s eta 0:00:01\r",
      "\u001b[K     |████████████████████████        | 11.8 MB 8.3 MB/s eta 0:00:01\r",
      "\u001b[K     |████████████████████████▏       | 11.8 MB 8.3 MB/s eta 0:00:01\r",
      "\u001b[K     |████████████████████████▏       | 11.8 MB 8.3 MB/s eta 0:00:01\r",
      "\u001b[K     |████████████████████████▏       | 11.9 MB 8.3 MB/s eta 0:00:01\r",
      "\u001b[K     |████████████████████████▏       | 11.9 MB 8.3 MB/s eta 0:00:01\r",
      "\u001b[K     |████████████████████████▏       | 11.9 MB 8.3 MB/s eta 0:00:01\r",
      "\u001b[K     |████████████████████████▎       | 11.9 MB 8.3 MB/s eta 0:00:01\r",
      "\u001b[K     |████████████████████████▎       | 11.9 MB 8.3 MB/s eta 0:00:01\r",
      "\u001b[K     |████████████████████████▎       | 11.9 MB 8.3 MB/s eta 0:00:01\r",
      "\u001b[K     |████████████████████████▎       | 11.9 MB 8.3 MB/s eta 0:00:01\r",
      "\u001b[K     |████████████████████████▎       | 11.9 MB 8.3 MB/s eta 0:00:01\r",
      "\u001b[K     |████████████████████████▎       | 11.9 MB 8.3 MB/s eta 0:00:01\r",
      "\u001b[K     |████████████████████████▍       | 12.0 MB 8.3 MB/s eta 0:00:01\r",
      "\u001b[K     |████████████████████████▍       | 12.0 MB 8.3 MB/s eta 0:00:01\r",
      "\u001b[K     |████████████████████████▍       | 12.0 MB 8.3 MB/s eta 0:00:01\r",
      "\u001b[K     |████████████████████████▍       | 12.0 MB 8.3 MB/s eta 0:00:01\r",
      "\u001b[K     |████████████████████████▍       | 12.0 MB 8.3 MB/s eta 0:00:01\r",
      "\u001b[K     |████████████████████████▌       | 12.0 MB 8.3 MB/s eta 0:00:01\r",
      "\u001b[K     |████████████████████████▌       | 12.0 MB 8.3 MB/s eta 0:00:01\r",
      "\u001b[K     |████████████████████████▌       | 12.0 MB 8.3 MB/s eta 0:00:01\r",
      "\u001b[K     |████████████████████████▌       | 12.0 MB 8.3 MB/s eta 0:00:01\r",
      "\u001b[K     |████████████████████████▌       | 12.0 MB 8.3 MB/s eta 0:00:01\r",
      "\u001b[K     |████████████████████████▋       | 12.1 MB 8.3 MB/s eta 0:00:01\r",
      "\u001b[K     |████████████████████████▋       | 12.1 MB 8.3 MB/s eta 0:00:01\r",
      "\u001b[K     |████████████████████████▋       | 12.1 MB 8.3 MB/s eta 0:00:01\r",
      "\u001b[K     |████████████████████████▋       | 12.1 MB 8.3 MB/s eta 0:00:01\r",
      "\u001b[K     |████████████████████████▋       | 12.1 MB 8.3 MB/s eta 0:00:01\r",
      "\u001b[K     |████████████████████████▋       | 12.1 MB 8.3 MB/s eta 0:00:01\r",
      "\u001b[K     |████████████████████████▊       | 12.1 MB 8.3 MB/s eta 0:00:01\r",
      "\u001b[K     |████████████████████████▊       | 12.1 MB 8.3 MB/s eta 0:00:01\r",
      "\u001b[K     |████████████████████████▊       | 12.1 MB 8.3 MB/s eta 0:00:01\r",
      "\u001b[K     |████████████████████████▊       | 12.1 MB 8.3 MB/s eta 0:00:01\r",
      "\u001b[K     |████████████████████████▊       | 12.2 MB 8.3 MB/s eta 0:00:01\r",
      "\u001b[K     |████████████████████████▉       | 12.2 MB 8.3 MB/s eta 0:00:01\r",
      "\u001b[K     |████████████████████████▉       | 12.2 MB 8.3 MB/s eta 0:00:01\r",
      "\u001b[K     |████████████████████████▉       | 12.2 MB 8.3 MB/s eta 0:00:01\r",
      "\u001b[K     |████████████████████████▉       | 12.2 MB 8.3 MB/s eta 0:00:01\r",
      "\u001b[K     |████████████████████████▉       | 12.2 MB 8.3 MB/s eta 0:00:01\r",
      "\u001b[K     |█████████████████████████       | 12.2 MB 8.3 MB/s eta 0:00:01\r",
      "\u001b[K     |█████████████████████████       | 12.2 MB 8.3 MB/s eta 0:00:01\r",
      "\u001b[K     |█████████████████████████       | 12.2 MB 8.3 MB/s eta 0:00:01\r",
      "\u001b[K     |█████████████████████████       | 12.2 MB 8.3 MB/s eta 0:00:01\r",
      "\u001b[K     |█████████████████████████       | 12.3 MB 8.3 MB/s eta 0:00:01\r",
      "\u001b[K     |█████████████████████████       | 12.3 MB 8.3 MB/s eta 0:00:01\r",
      "\u001b[K     |█████████████████████████       | 12.3 MB 8.3 MB/s eta 0:00:01\r",
      "\u001b[K     |█████████████████████████       | 12.3 MB 8.3 MB/s eta 0:00:01\r",
      "\u001b[K     |█████████████████████████       | 12.3 MB 8.3 MB/s eta 0:00:01\r",
      "\u001b[K     |█████████████████████████       | 12.3 MB 8.3 MB/s eta 0:00:01\r",
      "\u001b[K     |█████████████████████████       | 12.3 MB 8.3 MB/s eta 0:00:01\r",
      "\u001b[K     |█████████████████████████▏      | 12.3 MB 8.3 MB/s eta 0:00:01\r",
      "\u001b[K     |█████████████████████████▏      | 12.3 MB 8.3 MB/s eta 0:00:01\r",
      "\u001b[K     |█████████████████████████▏      | 12.3 MB 8.3 MB/s eta 0:00:01\r",
      "\u001b[K     |█████████████████████████▏      | 12.4 MB 8.3 MB/s eta 0:00:01\r",
      "\u001b[K     |█████████████████████████▏      | 12.4 MB 8.3 MB/s eta 0:00:01\r",
      "\u001b[K     |█████████████████████████▎      | 12.4 MB 8.3 MB/s eta 0:00:01\r",
      "\u001b[K     |█████████████████████████▎      | 12.4 MB 8.3 MB/s eta 0:00:01\r",
      "\u001b[K     |█████████████████████████▎      | 12.4 MB 8.3 MB/s eta 0:00:01\r",
      "\u001b[K     |█████████████████████████▎      | 12.4 MB 8.3 MB/s eta 0:00:01\r",
      "\u001b[K     |█████████████████████████▎      | 12.4 MB 8.3 MB/s eta 0:00:01\r",
      "\u001b[K     |█████████████████████████▍      | 12.4 MB 8.3 MB/s eta 0:00:01\r",
      "\u001b[K     |█████████████████████████▍      | 12.4 MB 8.3 MB/s eta 0:00:01\r",
      "\u001b[K     |█████████████████████████▍      | 12.5 MB 8.3 MB/s eta 0:00:01\r",
      "\u001b[K     |█████████████████████████▍      | 12.5 MB 8.3 MB/s eta 0:00:01\r",
      "\u001b[K     |█████████████████████████▍      | 12.5 MB 8.3 MB/s eta 0:00:01\r",
      "\u001b[K     |█████████████████████████▍      | 12.5 MB 8.3 MB/s eta 0:00:01\r",
      "\u001b[K     |█████████████████████████▌      | 12.5 MB 8.3 MB/s eta 0:00:01\r",
      "\u001b[K     |█████████████████████████▌      | 12.5 MB 8.3 MB/s eta 0:00:01\r",
      "\u001b[K     |█████████████████████████▌      | 12.5 MB 8.3 MB/s eta 0:00:01\r",
      "\u001b[K     |█████████████████████████▌      | 12.5 MB 8.3 MB/s eta 0:00:01\r",
      "\u001b[K     |█████████████████████████▌      | 12.5 MB 8.3 MB/s eta 0:00:01\r",
      "\u001b[K     |█████████████████████████▋      | 12.5 MB 8.3 MB/s eta 0:00:01\r",
      "\u001b[K     |█████████████████████████▋      | 12.6 MB 8.3 MB/s eta 0:00:01\r",
      "\u001b[K     |█████████████████████████▋      | 12.6 MB 8.3 MB/s eta 0:00:01\r",
      "\u001b[K     |█████████████████████████▋      | 12.6 MB 8.3 MB/s eta 0:00:01\r",
      "\u001b[K     |█████████████████████████▋      | 12.6 MB 8.3 MB/s eta 0:00:01\r",
      "\u001b[K     |█████████████████████████▊      | 12.6 MB 8.3 MB/s eta 0:00:01\r",
      "\u001b[K     |█████████████████████████▊      | 12.6 MB 8.3 MB/s eta 0:00:01\r",
      "\u001b[K     |█████████████████████████▊      | 12.6 MB 8.3 MB/s eta 0:00:01\r",
      "\u001b[K     |█████████████████████████▊      | 12.6 MB 8.3 MB/s eta 0:00:01\r",
      "\u001b[K     |█████████████████████████▊      | 12.6 MB 8.3 MB/s eta 0:00:01\r",
      "\u001b[K     |█████████████████████████▊      | 12.6 MB 8.3 MB/s eta 0:00:01\r",
      "\u001b[K     |█████████████████████████▉      | 12.7 MB 8.3 MB/s eta 0:00:01\r",
      "\u001b[K     |█████████████████████████▉      | 12.7 MB 8.3 MB/s eta 0:00:01\r",
      "\u001b[K     |█████████████████████████▉      | 12.7 MB 8.3 MB/s eta 0:00:01\r",
      "\u001b[K     |█████████████████████████▉      | 12.7 MB 8.3 MB/s eta 0:00:01\r",
      "\u001b[K     |█████████████████████████▉      | 12.7 MB 8.3 MB/s eta 0:00:01\r",
      "\u001b[K     |██████████████████████████      | 12.7 MB 8.3 MB/s eta 0:00:01\r",
      "\u001b[K     |██████████████████████████      | 12.7 MB 8.3 MB/s eta 0:00:01\r",
      "\u001b[K     |██████████████████████████      | 12.7 MB 8.3 MB/s eta 0:00:01\r",
      "\u001b[K     |██████████████████████████      | 12.7 MB 8.3 MB/s eta 0:00:01\r",
      "\u001b[K     |██████████████████████████      | 12.7 MB 8.3 MB/s eta 0:00:01\r",
      "\u001b[K     |██████████████████████████      | 12.8 MB 8.3 MB/s eta 0:00:01\r",
      "\u001b[K     |██████████████████████████      | 12.8 MB 8.3 MB/s eta 0:00:01\r",
      "\u001b[K     |██████████████████████████      | 12.8 MB 8.3 MB/s eta 0:00:01\r",
      "\u001b[K     |██████████████████████████      | 12.8 MB 8.3 MB/s eta 0:00:01\r",
      "\u001b[K     |██████████████████████████      | 12.8 MB 8.3 MB/s eta 0:00:01\r",
      "\u001b[K     |██████████████████████████      | 12.8 MB 8.3 MB/s eta 0:00:01\r",
      "\u001b[K     |██████████████████████████▏     | 12.8 MB 8.3 MB/s eta 0:00:01\r",
      "\u001b[K     |██████████████████████████▏     | 12.8 MB 8.3 MB/s eta 0:00:01\r",
      "\u001b[K     |██████████████████████████▏     | 12.8 MB 8.3 MB/s eta 0:00:01\r",
      "\u001b[K     |██████████████████████████▏     | 12.9 MB 8.3 MB/s eta 0:00:01\r",
      "\u001b[K     |██████████████████████████▏     | 12.9 MB 8.3 MB/s eta 0:00:01\r",
      "\u001b[K     |██████████████████████████▎     | 12.9 MB 8.3 MB/s eta 0:00:01\r",
      "\u001b[K     |██████████████████████████▎     | 12.9 MB 8.3 MB/s eta 0:00:01\r",
      "\u001b[K     |██████████████████████████▎     | 12.9 MB 8.3 MB/s eta 0:00:01\r",
      "\u001b[K     |██████████████████████████▎     | 12.9 MB 8.3 MB/s eta 0:00:01\r",
      "\u001b[K     |██████████████████████████▎     | 12.9 MB 8.3 MB/s eta 0:00:01\r",
      "\u001b[K     |██████████████████████████▍     | 12.9 MB 8.3 MB/s eta 0:00:01\r",
      "\u001b[K     |██████████████████████████▍     | 12.9 MB 8.3 MB/s eta 0:00:01\r",
      "\u001b[K     |██████████████████████████▍     | 12.9 MB 8.3 MB/s eta 0:00:01\r",
      "\u001b[K     |██████████████████████████▍     | 13.0 MB 8.3 MB/s eta 0:00:01\r",
      "\u001b[K     |██████████████████████████▍     | 13.0 MB 8.3 MB/s eta 0:00:01\r",
      "\u001b[K     |██████████████████████████▍     | 13.0 MB 8.3 MB/s eta 0:00:01\r",
      "\u001b[K     |██████████████████████████▌     | 13.0 MB 8.3 MB/s eta 0:00:01\r",
      "\u001b[K     |██████████████████████████▌     | 13.0 MB 8.3 MB/s eta 0:00:01\r",
      "\u001b[K     |██████████████████████████▌     | 13.0 MB 8.3 MB/s eta 0:00:01\r",
      "\u001b[K     |██████████████████████████▌     | 13.0 MB 8.3 MB/s eta 0:00:01\r",
      "\u001b[K     |██████████████████████████▌     | 13.0 MB 8.3 MB/s eta 0:00:01\r",
      "\u001b[K     |██████████████████████████▋     | 13.0 MB 8.3 MB/s eta 0:00:01\r",
      "\u001b[K     |██████████████████████████▋     | 13.0 MB 8.3 MB/s eta 0:00:01\r",
      "\u001b[K     |██████████████████████████▋     | 13.1 MB 8.3 MB/s eta 0:00:01\r",
      "\u001b[K     |██████████████████████████▋     | 13.1 MB 8.3 MB/s eta 0:00:01\r",
      "\u001b[K     |██████████████████████████▋     | 13.1 MB 8.3 MB/s eta 0:00:01\r",
      "\u001b[K     |██████████████████████████▊     | 13.1 MB 8.3 MB/s eta 0:00:01\r",
      "\u001b[K     |██████████████████████████▊     | 13.1 MB 8.3 MB/s eta 0:00:01\r",
      "\u001b[K     |██████████████████████████▊     | 13.1 MB 8.3 MB/s eta 0:00:01\r",
      "\u001b[K     |██████████████████████████▊     | 13.1 MB 8.3 MB/s eta 0:00:01\r",
      "\u001b[K     |██████████████████████████▊     | 13.1 MB 8.3 MB/s eta 0:00:01\r",
      "\u001b[K     |██████████████████████████▊     | 13.1 MB 8.3 MB/s eta 0:00:01\r",
      "\u001b[K     |██████████████████████████▉     | 13.1 MB 8.3 MB/s eta 0:00:01\r",
      "\u001b[K     |██████████████████████████▉     | 13.2 MB 8.3 MB/s eta 0:00:01\r",
      "\u001b[K     |██████████████████████████▉     | 13.2 MB 8.3 MB/s eta 0:00:01\r",
      "\u001b[K     |██████████████████████████▉     | 13.2 MB 8.3 MB/s eta 0:00:01\r",
      "\u001b[K     |██████████████████████████▉     | 13.2 MB 8.3 MB/s eta 0:00:01\r",
      "\u001b[K     |███████████████████████████     | 13.2 MB 8.3 MB/s eta 0:00:01\r",
      "\u001b[K     |███████████████████████████     | 13.2 MB 8.3 MB/s eta 0:00:01\r",
      "\u001b[K     |███████████████████████████     | 13.2 MB 8.3 MB/s eta 0:00:01\r",
      "\u001b[K     |███████████████████████████     | 13.2 MB 8.3 MB/s eta 0:00:01\r",
      "\u001b[K     |███████████████████████████     | 13.2 MB 8.3 MB/s eta 0:00:01\r",
      "\u001b[K     |███████████████████████████     | 13.3 MB 8.3 MB/s eta 0:00:01\r",
      "\u001b[K     |███████████████████████████     | 13.3 MB 8.3 MB/s eta 0:00:01\r",
      "\u001b[K     |███████████████████████████     | 13.3 MB 8.3 MB/s eta 0:00:01\r",
      "\u001b[K     |███████████████████████████     | 13.3 MB 8.3 MB/s eta 0:00:01\r",
      "\u001b[K     |███████████████████████████     | 13.3 MB 8.3 MB/s eta 0:00:01\r",
      "\u001b[K     |███████████████████████████     | 13.3 MB 8.3 MB/s eta 0:00:01\r",
      "\u001b[K     |███████████████████████████▏    | 13.3 MB 8.3 MB/s eta 0:00:01\r",
      "\u001b[K     |███████████████████████████▏    | 13.3 MB 8.3 MB/s eta 0:00:01\r",
      "\u001b[K     |███████████████████████████▏    | 13.3 MB 8.3 MB/s eta 0:00:01\r",
      "\u001b[K     |███████████████████████████▏    | 13.3 MB 8.3 MB/s eta 0:00:01\r",
      "\u001b[K     |███████████████████████████▏    | 13.4 MB 8.3 MB/s eta 0:00:01\r",
      "\u001b[K     |███████████████████████████▎    | 13.4 MB 8.3 MB/s eta 0:00:01\r",
      "\u001b[K     |███████████████████████████▎    | 13.4 MB 8.3 MB/s eta 0:00:01\r",
      "\u001b[K     |███████████████████████████▎    | 13.4 MB 8.3 MB/s eta 0:00:01\r",
      "\u001b[K     |███████████████████████████▎    | 13.4 MB 8.3 MB/s eta 0:00:01\r",
      "\u001b[K     |███████████████████████████▎    | 13.4 MB 8.3 MB/s eta 0:00:01\r",
      "\u001b[K     |███████████████████████████▍    | 13.4 MB 8.3 MB/s eta 0:00:01\r",
      "\u001b[K     |███████████████████████████▍    | 13.4 MB 8.3 MB/s eta 0:00:01\r",
      "\u001b[K     |███████████████████████████▍    | 13.4 MB 8.3 MB/s eta 0:00:01\r",
      "\u001b[K     |███████████████████████████▍    | 13.4 MB 8.3 MB/s eta 0:00:01\r",
      "\u001b[K     |███████████████████████████▍    | 13.5 MB 8.3 MB/s eta 0:00:01\r",
      "\u001b[K     |███████████████████████████▍    | 13.5 MB 8.3 MB/s eta 0:00:01\r",
      "\u001b[K     |███████████████████████████▌    | 13.5 MB 8.3 MB/s eta 0:00:01\r",
      "\u001b[K     |███████████████████████████▌    | 13.5 MB 8.3 MB/s eta 0:00:01\r",
      "\u001b[K     |███████████████████████████▌    | 13.5 MB 8.3 MB/s eta 0:00:01\r",
      "\u001b[K     |███████████████████████████▌    | 13.5 MB 8.3 MB/s eta 0:00:01\r",
      "\u001b[K     |███████████████████████████▌    | 13.5 MB 8.3 MB/s eta 0:00:01\r",
      "\u001b[K     |███████████████████████████▋    | 13.5 MB 8.3 MB/s eta 0:00:01\r",
      "\u001b[K     |███████████████████████████▋    | 13.5 MB 8.3 MB/s eta 0:00:01\r",
      "\u001b[K     |███████████████████████████▋    | 13.5 MB 8.3 MB/s eta 0:00:01\r",
      "\u001b[K     |███████████████████████████▋    | 13.6 MB 8.3 MB/s eta 0:00:01\r",
      "\u001b[K     |███████████████████████████▋    | 13.6 MB 8.3 MB/s eta 0:00:01\r",
      "\u001b[K     |███████████████████████████▊    | 13.6 MB 8.3 MB/s eta 0:00:01\r",
      "\u001b[K     |███████████████████████████▊    | 13.6 MB 8.3 MB/s eta 0:00:01\r",
      "\u001b[K     |███████████████████████████▊    | 13.6 MB 8.3 MB/s eta 0:00:01\r",
      "\u001b[K     |███████████████████████████▊    | 13.6 MB 8.3 MB/s eta 0:00:01\r",
      "\u001b[K     |███████████████████████████▊    | 13.6 MB 8.3 MB/s eta 0:00:01\r",
      "\u001b[K     |███████████████████████████▊    | 13.6 MB 8.3 MB/s eta 0:00:01\r",
      "\u001b[K     |███████████████████████████▉    | 13.6 MB 8.3 MB/s eta 0:00:01\r",
      "\u001b[K     |███████████████████████████▉    | 13.6 MB 8.3 MB/s eta 0:00:01\r",
      "\u001b[K     |███████████████████████████▉    | 13.7 MB 8.3 MB/s eta 0:00:01\r",
      "\u001b[K     |███████████████████████████▉    | 13.7 MB 8.3 MB/s eta 0:00:01\r",
      "\u001b[K     |███████████████████████████▉    | 13.7 MB 8.3 MB/s eta 0:00:01\r",
      "\u001b[K     |████████████████████████████    | 13.7 MB 8.3 MB/s eta 0:00:01\r",
      "\u001b[K     |████████████████████████████    | 13.7 MB 8.3 MB/s eta 0:00:01\r",
      "\u001b[K     |████████████████████████████    | 13.7 MB 8.3 MB/s eta 0:00:01\r",
      "\u001b[K     |████████████████████████████    | 13.7 MB 8.3 MB/s eta 0:00:01\r",
      "\u001b[K     |████████████████████████████    | 13.7 MB 8.3 MB/s eta 0:00:01\r",
      "\u001b[K     |████████████████████████████    | 13.7 MB 8.3 MB/s eta 0:00:01\r",
      "\u001b[K     |████████████████████████████    | 13.8 MB 8.3 MB/s eta 0:00:01\r",
      "\u001b[K     |████████████████████████████    | 13.8 MB 8.3 MB/s eta 0:00:01\r",
      "\u001b[K     |████████████████████████████    | 13.8 MB 8.3 MB/s eta 0:00:01\r",
      "\u001b[K     |████████████████████████████    | 13.8 MB 8.3 MB/s eta 0:00:01\r",
      "\u001b[K     |████████████████████████████    | 13.8 MB 8.3 MB/s eta 0:00:01\r",
      "\u001b[K     |████████████████████████████▏   | 13.8 MB 8.3 MB/s eta 0:00:01\r",
      "\u001b[K     |████████████████████████████▏   | 13.8 MB 8.3 MB/s eta 0:00:01\r",
      "\u001b[K     |████████████████████████████▏   | 13.8 MB 8.3 MB/s eta 0:00:01\r",
      "\u001b[K     |████████████████████████████▏   | 13.8 MB 8.3 MB/s eta 0:00:01\r",
      "\u001b[K     |████████████████████████████▏   | 13.8 MB 8.3 MB/s eta 0:00:01\r",
      "\u001b[K     |████████████████████████████▎   | 13.9 MB 8.3 MB/s eta 0:00:01\r",
      "\u001b[K     |████████████████████████████▎   | 13.9 MB 8.3 MB/s eta 0:00:01\r",
      "\u001b[K     |████████████████████████████▎   | 13.9 MB 8.3 MB/s eta 0:00:01\r",
      "\u001b[K     |████████████████████████████▎   | 13.9 MB 8.3 MB/s eta 0:00:01\r",
      "\u001b[K     |████████████████████████████▎   | 13.9 MB 8.3 MB/s eta 0:00:01\r",
      "\u001b[K     |████████████████████████████▍   | 13.9 MB 8.3 MB/s eta 0:00:01\r",
      "\u001b[K     |████████████████████████████▍   | 13.9 MB 8.3 MB/s eta 0:00:01\r",
      "\u001b[K     |████████████████████████████▍   | 13.9 MB 8.3 MB/s eta 0:00:01\r",
      "\u001b[K     |████████████████████████████▍   | 13.9 MB 8.3 MB/s eta 0:00:01\r",
      "\u001b[K     |████████████████████████████▍   | 13.9 MB 8.3 MB/s eta 0:00:01\r",
      "\u001b[K     |████████████████████████████▍   | 14.0 MB 8.3 MB/s eta 0:00:01\r",
      "\u001b[K     |████████████████████████████▌   | 14.0 MB 8.3 MB/s eta 0:00:01\r",
      "\u001b[K     |████████████████████████████▌   | 14.0 MB 8.3 MB/s eta 0:00:01\r",
      "\u001b[K     |████████████████████████████▌   | 14.0 MB 8.3 MB/s eta 0:00:01\r",
      "\u001b[K     |████████████████████████████▌   | 14.0 MB 8.3 MB/s eta 0:00:01\r",
      "\u001b[K     |████████████████████████████▌   | 14.0 MB 8.3 MB/s eta 0:00:01\r",
      "\u001b[K     |████████████████████████████▋   | 14.0 MB 8.3 MB/s eta 0:00:01\r",
      "\u001b[K     |████████████████████████████▋   | 14.0 MB 8.3 MB/s eta 0:00:01\r",
      "\u001b[K     |████████████████████████████▋   | 14.0 MB 8.3 MB/s eta 0:00:01\r",
      "\u001b[K     |████████████████████████████▋   | 14.0 MB 8.3 MB/s eta 0:00:01\r",
      "\u001b[K     |████████████████████████████▋   | 14.1 MB 8.3 MB/s eta 0:00:01\r",
      "\u001b[K     |████████████████████████████▊   | 14.1 MB 8.3 MB/s eta 0:00:01\r",
      "\u001b[K     |████████████████████████████▊   | 14.1 MB 8.3 MB/s eta 0:00:01\r",
      "\u001b[K     |████████████████████████████▊   | 14.1 MB 8.3 MB/s eta 0:00:01\r",
      "\u001b[K     |████████████████████████████▊   | 14.1 MB 8.3 MB/s eta 0:00:01\r",
      "\u001b[K     |████████████████████████████▊   | 14.1 MB 8.3 MB/s eta 0:00:01\r",
      "\u001b[K     |████████████████████████████▊   | 14.1 MB 8.3 MB/s eta 0:00:01\r",
      "\u001b[K     |████████████████████████████▉   | 14.1 MB 8.3 MB/s eta 0:00:01\r",
      "\u001b[K     |████████████████████████████▉   | 14.1 MB 8.3 MB/s eta 0:00:01\r",
      "\u001b[K     |████████████████████████████▉   | 14.2 MB 8.3 MB/s eta 0:00:01\r",
      "\u001b[K     |████████████████████████████▉   | 14.2 MB 8.3 MB/s eta 0:00:01\r",
      "\u001b[K     |████████████████████████████▉   | 14.2 MB 8.3 MB/s eta 0:00:01\r",
      "\u001b[K     |█████████████████████████████   | 14.2 MB 8.3 MB/s eta 0:00:01\r",
      "\u001b[K     |█████████████████████████████   | 14.2 MB 8.3 MB/s eta 0:00:01\r",
      "\u001b[K     |█████████████████████████████   | 14.2 MB 8.3 MB/s eta 0:00:01\r",
      "\u001b[K     |█████████████████████████████   | 14.2 MB 8.3 MB/s eta 0:00:01\r",
      "\u001b[K     |█████████████████████████████   | 14.2 MB 8.3 MB/s eta 0:00:01\r",
      "\u001b[K     |█████████████████████████████   | 14.2 MB 8.3 MB/s eta 0:00:01\r",
      "\u001b[K     |█████████████████████████████   | 14.2 MB 8.3 MB/s eta 0:00:01\r",
      "\u001b[K     |█████████████████████████████   | 14.3 MB 8.3 MB/s eta 0:00:01\r",
      "\u001b[K     |█████████████████████████████   | 14.3 MB 8.3 MB/s eta 0:00:01\r",
      "\u001b[K     |█████████████████████████████   | 14.3 MB 8.3 MB/s eta 0:00:01\r",
      "\u001b[K     |█████████████████████████████▏  | 14.3 MB 8.3 MB/s eta 0:00:01\r",
      "\u001b[K     |█████████████████████████████▏  | 14.3 MB 8.3 MB/s eta 0:00:01\r",
      "\u001b[K     |█████████████████████████████▏  | 14.3 MB 8.3 MB/s eta 0:00:01\r",
      "\u001b[K     |█████████████████████████████▏  | 14.3 MB 8.3 MB/s eta 0:00:01\r",
      "\u001b[K     |█████████████████████████████▏  | 14.3 MB 8.3 MB/s eta 0:00:01\r",
      "\u001b[K     |█████████████████████████████▏  | 14.3 MB 8.3 MB/s eta 0:00:01\r",
      "\u001b[K     |█████████████████████████████▎  | 14.3 MB 8.3 MB/s eta 0:00:01\r",
      "\u001b[K     |█████████████████████████████▎  | 14.4 MB 8.3 MB/s eta 0:00:01\r",
      "\u001b[K     |█████████████████████████████▎  | 14.4 MB 8.3 MB/s eta 0:00:01\r",
      "\u001b[K     |█████████████████████████████▎  | 14.4 MB 8.3 MB/s eta 0:00:01\r",
      "\u001b[K     |█████████████████████████████▎  | 14.4 MB 8.3 MB/s eta 0:00:01\r",
      "\u001b[K     |█████████████████████████████▍  | 14.4 MB 8.3 MB/s eta 0:00:01\r",
      "\u001b[K     |█████████████████████████████▍  | 14.4 MB 8.3 MB/s eta 0:00:01\r",
      "\u001b[K     |█████████████████████████████▍  | 14.4 MB 8.3 MB/s eta 0:00:01\r",
      "\u001b[K     |█████████████████████████████▍  | 14.4 MB 8.3 MB/s eta 0:00:01\r",
      "\u001b[K     |█████████████████████████████▍  | 14.4 MB 8.3 MB/s eta 0:00:01\r",
      "\u001b[K     |█████████████████████████████▌  | 14.4 MB 8.3 MB/s eta 0:00:01\r",
      "\u001b[K     |█████████████████████████████▌  | 14.5 MB 8.3 MB/s eta 0:00:01\r",
      "\u001b[K     |█████████████████████████████▌  | 14.5 MB 8.3 MB/s eta 0:00:01\r",
      "\u001b[K     |█████████████████████████████▌  | 14.5 MB 8.3 MB/s eta 0:00:01\r",
      "\u001b[K     |█████████████████████████████▌  | 14.5 MB 8.3 MB/s eta 0:00:01\r",
      "\u001b[K     |█████████████████████████████▌  | 14.5 MB 8.3 MB/s eta 0:00:01\r",
      "\u001b[K     |█████████████████████████████▋  | 14.5 MB 8.3 MB/s eta 0:00:01\r",
      "\u001b[K     |█████████████████████████████▋  | 14.5 MB 8.3 MB/s eta 0:00:01\r",
      "\u001b[K     |█████████████████████████████▋  | 14.5 MB 8.3 MB/s eta 0:00:01\r",
      "\u001b[K     |█████████████████████████████▋  | 14.5 MB 8.3 MB/s eta 0:00:01\r",
      "\u001b[K     |█████████████████████████████▋  | 14.6 MB 8.3 MB/s eta 0:00:01\r",
      "\u001b[K     |█████████████████████████████▊  | 14.6 MB 8.3 MB/s eta 0:00:01\r",
      "\u001b[K     |█████████████████████████████▊  | 14.6 MB 8.3 MB/s eta 0:00:01\r",
      "\u001b[K     |█████████████████████████████▊  | 14.6 MB 8.3 MB/s eta 0:00:01\r",
      "\u001b[K     |█████████████████████████████▊  | 14.6 MB 8.3 MB/s eta 0:00:01\r",
      "\u001b[K     |█████████████████████████████▊  | 14.6 MB 8.3 MB/s eta 0:00:01\r",
      "\u001b[K     |█████████████████████████████▉  | 14.6 MB 8.3 MB/s eta 0:00:01\r",
      "\u001b[K     |█████████████████████████████▉  | 14.6 MB 8.3 MB/s eta 0:00:01\r",
      "\u001b[K     |█████████████████████████████▉  | 14.6 MB 8.3 MB/s eta 0:00:01\r",
      "\u001b[K     |█████████████████████████████▉  | 14.6 MB 8.3 MB/s eta 0:00:01\r",
      "\u001b[K     |█████████████████████████████▉  | 14.7 MB 8.3 MB/s eta 0:00:01\r",
      "\u001b[K     |█████████████████████████████▉  | 14.7 MB 8.3 MB/s eta 0:00:01\r",
      "\u001b[K     |██████████████████████████████  | 14.7 MB 8.3 MB/s eta 0:00:01\r",
      "\u001b[K     |██████████████████████████████  | 14.7 MB 8.3 MB/s eta 0:00:01\r",
      "\u001b[K     |██████████████████████████████  | 14.7 MB 8.3 MB/s eta 0:00:01\r",
      "\u001b[K     |██████████████████████████████  | 14.7 MB 8.3 MB/s eta 0:00:01\r",
      "\u001b[K     |██████████████████████████████  | 14.7 MB 8.3 MB/s eta 0:00:01\r",
      "\u001b[K     |██████████████████████████████  | 14.7 MB 8.3 MB/s eta 0:00:01\r",
      "\u001b[K     |██████████████████████████████  | 14.7 MB 8.3 MB/s eta 0:00:01\r",
      "\u001b[K     |██████████████████████████████  | 14.7 MB 8.3 MB/s eta 0:00:01\r",
      "\u001b[K     |██████████████████████████████  | 14.8 MB 8.3 MB/s eta 0:00:01\r",
      "\u001b[K     |██████████████████████████████  | 14.8 MB 8.3 MB/s eta 0:00:01\r",
      "\u001b[K     |██████████████████████████████▏ | 14.8 MB 8.3 MB/s eta 0:00:01\r",
      "\u001b[K     |██████████████████████████████▏ | 14.8 MB 8.3 MB/s eta 0:00:01\r",
      "\u001b[K     |██████████████████████████████▏ | 14.8 MB 8.3 MB/s eta 0:00:01\r",
      "\u001b[K     |██████████████████████████████▏ | 14.8 MB 8.3 MB/s eta 0:00:01\r",
      "\u001b[K     |██████████████████████████████▏ | 14.8 MB 8.3 MB/s eta 0:00:01\r",
      "\u001b[K     |██████████████████████████████▏ | 14.8 MB 8.3 MB/s eta 0:00:01\r",
      "\u001b[K     |██████████████████████████████▎ | 14.8 MB 8.3 MB/s eta 0:00:01\r",
      "\u001b[K     |██████████████████████████████▎ | 14.8 MB 8.3 MB/s eta 0:00:01\r",
      "\u001b[K     |██████████████████████████████▎ | 14.9 MB 8.3 MB/s eta 0:00:01\r",
      "\u001b[K     |██████████████████████████████▎ | 14.9 MB 8.3 MB/s eta 0:00:01\r",
      "\u001b[K     |██████████████████████████████▎ | 14.9 MB 8.3 MB/s eta 0:00:01\r",
      "\u001b[K     |██████████████████████████████▍ | 14.9 MB 8.3 MB/s eta 0:00:01\r",
      "\u001b[K     |██████████████████████████████▍ | 14.9 MB 8.3 MB/s eta 0:00:01\r",
      "\u001b[K     |██████████████████████████████▍ | 14.9 MB 8.3 MB/s eta 0:00:01\r",
      "\u001b[K     |██████████████████████████████▍ | 14.9 MB 8.3 MB/s eta 0:00:01\r",
      "\u001b[K     |██████████████████████████████▍ | 14.9 MB 8.3 MB/s eta 0:00:01\r",
      "\u001b[K     |██████████████████████████████▌ | 14.9 MB 8.3 MB/s eta 0:00:01\r",
      "\u001b[K     |██████████████████████████████▌ | 15.0 MB 8.3 MB/s eta 0:00:01\r",
      "\u001b[K     |██████████████████████████████▌ | 15.0 MB 8.3 MB/s eta 0:00:01\r",
      "\u001b[K     |██████████████████████████████▌ | 15.0 MB 8.3 MB/s eta 0:00:01\r",
      "\u001b[K     |██████████████████████████████▌ | 15.0 MB 8.3 MB/s eta 0:00:01\r",
      "\u001b[K     |██████████████████████████████▌ | 15.0 MB 8.3 MB/s eta 0:00:01\r",
      "\u001b[K     |██████████████████████████████▋ | 15.0 MB 8.3 MB/s eta 0:00:01\r",
      "\u001b[K     |██████████████████████████████▋ | 15.0 MB 8.3 MB/s eta 0:00:01\r",
      "\u001b[K     |██████████████████████████████▋ | 15.0 MB 8.3 MB/s eta 0:00:01\r",
      "\u001b[K     |██████████████████████████████▋ | 15.0 MB 8.3 MB/s eta 0:00:01\r",
      "\u001b[K     |██████████████████████████████▋ | 15.0 MB 8.3 MB/s eta 0:00:01\r",
      "\u001b[K     |██████████████████████████████▊ | 15.1 MB 8.3 MB/s eta 0:00:01\r",
      "\u001b[K     |██████████████████████████████▊ | 15.1 MB 8.3 MB/s eta 0:00:01\r",
      "\u001b[K     |██████████████████████████████▊ | 15.1 MB 8.3 MB/s eta 0:00:01\r",
      "\u001b[K     |██████████████████████████████▊ | 15.1 MB 8.3 MB/s eta 0:00:01\r",
      "\u001b[K     |██████████████████████████████▊ | 15.1 MB 8.3 MB/s eta 0:00:01\r",
      "\u001b[K     |██████████████████████████████▉ | 15.1 MB 8.3 MB/s eta 0:00:01\r",
      "\u001b[K     |██████████████████████████████▉ | 15.1 MB 8.3 MB/s eta 0:00:01\r",
      "\u001b[K     |██████████████████████████████▉ | 15.1 MB 8.3 MB/s eta 0:00:01\r",
      "\u001b[K     |██████████████████████████████▉ | 15.1 MB 8.3 MB/s eta 0:00:01\r",
      "\u001b[K     |██████████████████████████████▉ | 15.1 MB 8.3 MB/s eta 0:00:01\r",
      "\u001b[K     |██████████████████████████████▉ | 15.2 MB 8.3 MB/s eta 0:00:01\r",
      "\u001b[K     |███████████████████████████████ | 15.2 MB 8.3 MB/s eta 0:00:01\r",
      "\u001b[K     |███████████████████████████████ | 15.2 MB 8.3 MB/s eta 0:00:01\r",
      "\u001b[K     |███████████████████████████████ | 15.2 MB 8.3 MB/s eta 0:00:01\r",
      "\u001b[K     |███████████████████████████████ | 15.2 MB 8.3 MB/s eta 0:00:01\r",
      "\u001b[K     |███████████████████████████████ | 15.2 MB 8.3 MB/s eta 0:00:01\r",
      "\u001b[K     |███████████████████████████████ | 15.2 MB 8.3 MB/s eta 0:00:01\r",
      "\u001b[K     |███████████████████████████████ | 15.2 MB 8.3 MB/s eta 0:00:01\r",
      "\u001b[K     |███████████████████████████████ | 15.2 MB 8.3 MB/s eta 0:00:01\r",
      "\u001b[K     |███████████████████████████████ | 15.2 MB 8.3 MB/s eta 0:00:01\r",
      "\u001b[K     |███████████████████████████████ | 15.3 MB 8.3 MB/s eta 0:00:01\r",
      "\u001b[K     |███████████████████████████████▏| 15.3 MB 8.3 MB/s eta 0:00:01\r",
      "\u001b[K     |███████████████████████████████▏| 15.3 MB 8.3 MB/s eta 0:00:01\r",
      "\u001b[K     |███████████████████████████████▏| 15.3 MB 8.3 MB/s eta 0:00:01\r",
      "\u001b[K     |███████████████████████████████▏| 15.3 MB 8.3 MB/s eta 0:00:01\r",
      "\u001b[K     |███████████████████████████████▏| 15.3 MB 8.3 MB/s eta 0:00:01\r",
      "\u001b[K     |███████████████████████████████▏| 15.3 MB 8.3 MB/s eta 0:00:01\r",
      "\u001b[K     |███████████████████████████████▎| 15.3 MB 8.3 MB/s eta 0:00:01\r",
      "\u001b[K     |███████████████████████████████▎| 15.3 MB 8.3 MB/s eta 0:00:01\r",
      "\u001b[K     |███████████████████████████████▎| 15.3 MB 8.3 MB/s eta 0:00:01\r",
      "\u001b[K     |███████████████████████████████▎| 15.4 MB 8.3 MB/s eta 0:00:01\r",
      "\u001b[K     |███████████████████████████████▎| 15.4 MB 8.3 MB/s eta 0:00:01\r",
      "\u001b[K     |███████████████████████████████▍| 15.4 MB 8.3 MB/s eta 0:00:01\r",
      "\u001b[K     |███████████████████████████████▍| 15.4 MB 8.3 MB/s eta 0:00:01\r",
      "\u001b[K     |███████████████████████████████▍| 15.4 MB 8.3 MB/s eta 0:00:01\r",
      "\u001b[K     |███████████████████████████████▍| 15.4 MB 8.3 MB/s eta 0:00:01\r",
      "\u001b[K     |███████████████████████████████▍| 15.4 MB 8.3 MB/s eta 0:00:01\r",
      "\u001b[K     |███████████████████████████████▌| 15.4 MB 8.3 MB/s eta 0:00:01\r",
      "\u001b[K     |███████████████████████████████▌| 15.4 MB 8.3 MB/s eta 0:00:01\r",
      "\u001b[K     |███████████████████████████████▌| 15.5 MB 8.3 MB/s eta 0:00:01\r",
      "\u001b[K     |███████████████████████████████▌| 15.5 MB 8.3 MB/s eta 0:00:01\r",
      "\u001b[K     |███████████████████████████████▌| 15.5 MB 8.3 MB/s eta 0:00:01\r",
      "\u001b[K     |███████████████████████████████▌| 15.5 MB 8.3 MB/s eta 0:00:01\r",
      "\u001b[K     |███████████████████████████████▋| 15.5 MB 8.3 MB/s eta 0:00:01\r",
      "\u001b[K     |███████████████████████████████▋| 15.5 MB 8.3 MB/s eta 0:00:01\r",
      "\u001b[K     |███████████████████████████████▋| 15.5 MB 8.3 MB/s eta 0:00:01\r",
      "\u001b[K     |███████████████████████████████▋| 15.5 MB 8.3 MB/s eta 0:00:01\r",
      "\u001b[K     |███████████████████████████████▋| 15.5 MB 8.3 MB/s eta 0:00:01"
     ]
    },
    {
     "name": "stdout",
     "output_type": "stream",
     "text": [
      "\r",
      "\u001b[K     |███████████████████████████████▊| 15.5 MB 8.3 MB/s eta 0:00:01\r",
      "\u001b[K     |███████████████████████████████▊| 15.6 MB 8.3 MB/s eta 0:00:01\r",
      "\u001b[K     |███████████████████████████████▊| 15.6 MB 8.3 MB/s eta 0:00:01\r",
      "\u001b[K     |███████████████████████████████▊| 15.6 MB 8.3 MB/s eta 0:00:01\r",
      "\u001b[K     |███████████████████████████████▊| 15.6 MB 8.3 MB/s eta 0:00:01\r",
      "\u001b[K     |███████████████████████████████▉| 15.6 MB 8.3 MB/s eta 0:00:01\r",
      "\u001b[K     |███████████████████████████████▉| 15.6 MB 8.3 MB/s eta 0:00:01\r",
      "\u001b[K     |███████████████████████████████▉| 15.6 MB 8.3 MB/s eta 0:00:01\r",
      "\u001b[K     |███████████████████████████████▉| 15.6 MB 8.3 MB/s eta 0:00:01\r",
      "\u001b[K     |███████████████████████████████▉| 15.6 MB 8.3 MB/s eta 0:00:01\r",
      "\u001b[K     |███████████████████████████████▉| 15.6 MB 8.3 MB/s eta 0:00:01\r",
      "\u001b[K     |████████████████████████████████| 15.7 MB 8.3 MB/s eta 0:00:01\r",
      "\u001b[K     |████████████████████████████████| 15.7 MB 8.3 MB/s eta 0:00:01\r",
      "\u001b[K     |████████████████████████████████| 15.7 MB 8.3 MB/s eta 0:00:01\r",
      "\u001b[K     |████████████████████████████████| 15.7 MB 8.3 MB/s eta 0:00:01\r",
      "\u001b[K     |████████████████████████████████| 15.7 MB 8.3 MB/s eta 0:00:01"
     ]
    },
    {
     "name": "stdout",
     "output_type": "stream",
     "text": [
      "\r",
      "\u001b[K     |████████████████████████████████| 15.7 MB 8.3 MB/s \r\n"
     ]
    },
    {
     "name": "stdout",
     "output_type": "stream",
     "text": [
      "\u001b[?25hInstalling collected packages: numpy\r\n"
     ]
    },
    {
     "name": "stdout",
     "output_type": "stream",
     "text": [
      "Successfully installed numpy-1.21.6\r\n"
     ]
    }
   ],
   "source": [
    "! pip3 install numpy"
   ]
  },
  {
   "cell_type": "markdown",
   "metadata": {
    "id": "9O_elZNjPqQy"
   },
   "source": [
    "<font color=\"Crimson\">(9｀･ω･)9 ｡oO(これは Python のコマンドではありません．本来，コマンドラインで打つものです．Python のプログラム中に書くものではありません．「!」が Python のプログラム外でコマンドを実行するための表記です．)</font>"
   ]
  },
  {
   "cell_type": "markdown",
   "metadata": {
    "id": "wce5wobgQQpb"
   },
   "source": [
    "現在使っている Python にインストールされているライブラリを確認するには以下のように打ちます．"
   ]
  },
  {
   "cell_type": "code",
   "execution_count": 27,
   "metadata": {
    "id": "fOApD2tTAuGM"
   },
   "outputs": [
    {
     "name": "stdout",
     "output_type": "stream",
     "text": [
      "Package                       Version\r\n",
      "----------------------------- -----------\r\n",
      "alabaster                     0.7.12\r\n",
      "anyio                         3.5.0\r\n",
      "argon2-cffi                   21.3.0\r\n",
      "argon2-cffi-bindings          21.2.0\r\n",
      "attrs                         21.4.0\r\n",
      "Babel                         2.10.1\r\n",
      "backcall                      0.2.0\r\n",
      "beautifulsoup4                4.11.1\r\n",
      "bleach                        5.0.0\r\n",
      "certifi                       2021.10.8\r\n",
      "cffi                          1.15.0\r\n",
      "charset-normalizer            2.0.12\r\n",
      "click                         8.1.2\r\n",
      "colorama                      0.4.4\r\n",
      "debugpy                       1.6.0\r\n",
      "decorator                     5.1.1\r\n",
      "defusedxml                    0.7.1\r\n",
      "docutils                      0.16\r\n",
      "entrypoints                   0.4\r\n",
      "fastjsonschema                2.15.3\r\n",
      "ghp-import                    2.0.2\r\n",
      "gitdb                         4.0.9\r\n",
      "GitPython                     3.1.27\r\n",
      "greenlet                      1.1.2\r\n",
      "idna                          3.3\r\n",
      "imagesize                     1.3.0\r\n",
      "importlib-metadata            4.11.3\r\n",
      "importlib-resources           5.7.1\r\n",
      "ipykernel                     6.13.0\r\n",
      "ipython                       7.32.0\r\n",
      "ipython-genutils              0.2.0\r\n",
      "ipywidgets                    7.7.0\r\n",
      "jedi                          0.18.1\r\n",
      "Jinja2                        3.0.3\r\n",
      "jsonschema                    3.2.0\r\n",
      "jupyter-book                  0.12.3\r\n",
      "jupyter-cache                 0.4.3\r\n",
      "jupyter-client                7.2.2\r\n",
      "jupyter-core                  4.10.0\r\n",
      "jupyter-server                1.16.0\r\n",
      "jupyter-server-mathjax        0.2.5\r\n",
      "jupyter-sphinx                0.3.2\r\n",
      "jupyterlab-pygments           0.2.2\r\n",
      "jupyterlab-widgets            1.1.0\r\n",
      "latexcodec                    2.0.1\r\n",
      "linkify-it-py                 1.0.3\r\n",
      "markdown-it-py                1.1.0\r\n",
      "MarkupSafe                    2.1.1\r\n",
      "matplotlib-inline             0.1.3\r\n",
      "mdit-py-plugins               0.2.8\r\n",
      "mistune                       0.8.4\r\n",
      "myst-nb                       0.13.2\r\n",
      "myst-parser                   0.15.2\r\n",
      "nbclient                      0.5.13\r\n",
      "nbconvert                     6.5.0\r\n",
      "nbdime                        3.1.1\r\n",
      "nbformat                      5.3.0\r\n",
      "nest-asyncio                  1.5.5\r\n",
      "notebook                      6.4.11\r\n",
      "numpy                         1.21.6\r\n",
      "packaging                     21.3\r\n",
      "pandocfilters                 1.5.0\r\n",
      "parso                         0.8.3\r\n",
      "pexpect                       4.8.0\r\n",
      "pickleshare                   0.7.5\r\n",
      "pip                           21.2.2\r\n",
      "prometheus-client             0.14.1\r\n",
      "prompt-toolkit                3.0.29\r\n",
      "psutil                        5.9.0\r\n",
      "ptyprocess                    0.7.0\r\n",
      "pybtex                        0.24.0\r\n",
      "pybtex-docutils               1.0.1\r\n",
      "pycparser                     2.21\r\n",
      "pydata-sphinx-theme           0.7.2\r\n",
      "Pygments                      2.11.2\r\n",
      "pyparsing                     3.0.8\r\n",
      "pyrsistent                    0.18.1\r\n",
      "python-dateutil               2.8.2\r\n",
      "pytz                          2022.1\r\n",
      "PyYAML                        6.0\r\n",
      "pyzmq                         22.3.0\r\n",
      "requests                      2.27.1\r\n",
      "Send2Trash                    1.8.0\r\n",
      "setuptools                    61.2.0\r\n",
      "six                           1.16.0\r\n",
      "smmap                         5.0.0\r\n",
      "sniffio                       1.2.0\r\n",
      "snowballstemmer               2.2.0\r\n",
      "soupsieve                     2.3.2.post1\r\n",
      "Sphinx                        4.5.0\r\n",
      "sphinx-book-theme             0.1.10\r\n",
      "sphinx-comments               0.0.3\r\n",
      "sphinx-copybutton             0.5.0\r\n",
      "sphinx-external-toc           0.2.4\r\n",
      "sphinx-jupyterbook-latex      0.4.6\r\n",
      "sphinx-multitoc-numbering     0.1.3\r\n",
      "sphinx-panels                 0.6.0\r\n",
      "sphinx-thebe                  0.1.1\r\n",
      "sphinx-togglebutton           0.3.1\r\n",
      "sphinxcontrib-applehelp       1.0.2\r\n",
      "sphinxcontrib-bibtex          2.4.2\r\n",
      "sphinxcontrib-devhelp         1.0.2\r\n",
      "sphinxcontrib-htmlhelp        2.0.0\r\n",
      "sphinxcontrib-jsmath          1.0.1\r\n",
      "sphinxcontrib-qthelp          1.0.3\r\n",
      "sphinxcontrib-serializinghtml 1.1.5\r\n",
      "SQLAlchemy                    1.4.35\r\n",
      "terminado                     0.13.3\r\n",
      "tinycss2                      1.1.1\r\n",
      "tornado                       6.1\r\n",
      "traitlets                     5.1.1\r\n",
      "typing_extensions             4.2.0\r\n",
      "uc-micro-py                   1.0.1\r\n",
      "urllib3                       1.26.9\r\n",
      "wcwidth                       0.2.5\r\n",
      "webencodings                  0.5.1\r\n",
      "websocket-client              1.3.2\r\n",
      "wheel                         0.37.1\r\n",
      "widgetsnbextension            3.6.0\r\n",
      "zipp                          3.8.0\r\n"
     ]
    }
   ],
   "source": [
    "! pip3 list"
   ]
  },
  {
   "cell_type": "markdown",
   "metadata": {
    "id": "Eyp6bh86Qi2b"
   },
   "source": [
    "<font color=\"Crimson\">(9｀･ω･)9 ｡oO(本物のコマンドライン上で実行するときには「!」は不要です．)</font>"
   ]
  },
  {
   "cell_type": "markdown",
   "metadata": {
    "id": "kmHFTRE6q1Qs"
   },
   "source": [
    "###2-3-8. <font color=\"Crimson\">文字列処理（正規表現）</font>"
   ]
  },
  {
   "cell_type": "markdown",
   "metadata": {
    "id": "EyEx0khp7_HW"
   },
   "source": [
    "プログラミング言語は「正規表現（regular expression）」と呼ばれる文字列パターン表現方法を持ちます．プログラミングで文字列を操作するための非常に強力なツールです．Python で正規表現を使用する場合は、「re」 ライブラリを利用します．ここでは，以下のような文を用いて正規表現を学びます．"
   ]
  },
  {
   "cell_type": "markdown",
   "metadata": {
    "id": "MG5HnLN89rMZ"
   },
   "source": [
    "```\n",
    "2018 (MMXVIII) was a common year starting on Monday of the Gregorian calendar, the 2018th year of the Common Era (CE) and Anno Domini (AD) designations, the 18th year of the 3rd millennium, the 18th year of the 21st century, and the 9th year of the 2010s decade.\n",
    "```"
   ]
  },
  {
   "cell_type": "markdown",
   "metadata": {
    "id": "zzu_jfUu93tm"
   },
   "source": [
    "この文に存在するアラビア数字を抜き出したいとき，以下のようなプログラムを書きます．"
   ]
  },
  {
   "cell_type": "code",
   "execution_count": 28,
   "metadata": {
    "id": "pw3P0gH17kym"
   },
   "outputs": [
    {
     "name": "stdout",
     "output_type": "stream",
     "text": [
      "['2018', '2018', '18', '3', '18', '21', '9', '2010']\n"
     ]
    }
   ],
   "source": [
    "#!/usr/bin/env python3\n",
    "import re\n",
    "\n",
    "def main():\n",
    "    text = \"2018 (MMXVIII) was a common year starting on Monday of the Gregorian calendar, the 2018th year of the Common Era (CE) and Anno Domini (AD) designations, the 18th year of the 3rd millennium, the 18th year of the 21st century, and the 9th year of the 2010s decade.\"\n",
    "    liresult = re.findall(\"\\d+\", text)\n",
    "    print(liresult)\n",
    "\n",
    "if __name__ == \"__main__\":\n",
    "    main()"
   ]
  },
  {
   "cell_type": "markdown",
   "metadata": {
    "id": "nEKrihehBChj"
   },
   "source": [
    "このコードにおいて6行目の `\\d+` が正規表現です．` \\d` が「アラビア数字の任意の1文字」を表し，その後の `+` は「前の表現の1回以上の繰り返すこと」を意味しています．すなわち，`\\d+` は「1つ以上のアラビア数字が連続した文字列」を意味します．関数 `re.findall()` は最初の引数に指定されたパターン（正規表現）を2番目ので指定された文字列より検索して抽出するための役割を果たします．"
   ]
  },
  {
   "cell_type": "markdown",
   "metadata": {
    "id": "vLifc0OaE6SS"
   },
   "source": [
    "次に，以下のプログラムを実行します．これによって得られるリストには，「大文字から始まる文字列」が含まれます．使用する正規表現において，`[A-Z]` は大文字，`[a-z]` は小文字を意味します．"
   ]
  },
  {
   "cell_type": "code",
   "execution_count": 29,
   "metadata": {
    "id": "OrXS84jkFl2-"
   },
   "outputs": [
    {
     "name": "stdout",
     "output_type": "stream",
     "text": [
      "['Monday', 'Gregorian', 'Common', 'Era', 'Anno', 'Domini']\n"
     ]
    }
   ],
   "source": [
    "#!/usr/bin/env python3\n",
    "import re\n",
    "\n",
    "def main():\n",
    "    text = \"2018 (MMXVIII) was a common year starting on Monday of the Gregorian calendar, the 2018th year of the Common Era (CE) and Anno Domini (AD) designations, the 18th year of the 3rd millennium, the 18th year of the 21st century, and the 9th year of the 2010s decade.\"\n",
    "    liresult = re.findall(\"[A-Z][a-z]+\", text)\n",
    "    print(liresult)\n",
    "\n",
    "if __name__ == \"__main__\":\n",
    "    main()"
   ]
  },
  {
   "cell_type": "markdown",
   "metadata": {
    "id": "hGcTCmpYGn45"
   },
   "source": [
    "以下のように，関数 `re.search()` を用いると，文の最初（`^`）にアラビア数字が含まれるかどうかを判定できます．"
   ]
  },
  {
   "cell_type": "code",
   "execution_count": 30,
   "metadata": {
    "id": "-bN0YipJGOtb"
   },
   "outputs": [
    {
     "name": "stdout",
     "output_type": "stream",
     "text": [
      "Yes\n"
     ]
    }
   ],
   "source": [
    "#!/usr/bin/env python3\n",
    "import re\n",
    "\n",
    "def main():\n",
    "    text = \"2018 (MMXVIII) was a common year starting on Monday of the Gregorian calendar, the 2018th year of the Common Era (CE) and Anno Domini (AD) designations, the 18th year of the 3rd millennium, the 18th year of the 21st century, and the 9th year of the 2010s decade.\"\n",
    "    if re.search(\"^\\d\", text):\n",
    "        print(\"Yes\")\n",
    "\n",
    "if __name__ == \"__main__\":\n",
    "    main()"
   ]
  },
  {
   "cell_type": "markdown",
   "metadata": {
    "id": "u9eUFb8aH9AQ"
   },
   "source": [
    "以下のように書くと，「`(` から始まり，何らかの文字が1個以上連続し，`) ` で終了する文字列」を全て削除（何もないものに置換）することができます．関数 `re.sub()` は第3引数の文字列から，第1引数の文字列を同定し，それを第2引数の値で置換するためのものです．この場合，`(` および `)` をそれぞれ `\\(` および `\\)` のように表記していますが，これは `(` および `)` が正規表現のための記号として用いられるものであるため，正規表現としてそれらを利用したい場合には，そのための特別な表記としなければならないためです．この操作は，「エスケープする」というように表現します．また，`\\w` は「何らかの文字」，`\\s` は「空白文字（スペース等）」を意味します．"
   ]
  },
  {
   "cell_type": "code",
   "execution_count": 31,
   "metadata": {
    "id": "LruYJ-2rGPMQ"
   },
   "outputs": [
    {
     "name": "stdout",
     "output_type": "stream",
     "text": [
      "2018 was a common year starting on Monday of the Gregorian calendar, the 2018th year of the Common Era and Anno Domini designations, the 18th year of the 3rd millennium, the 18th year of the 21st century, and the 9th year of the 2010s decade.\n"
     ]
    }
   ],
   "source": [
    "#!/usr/bin/env python3\n",
    "import re\n",
    "\n",
    "def main():\n",
    "    text = \"2018 (MMXVIII) was a common year starting on Monday of the Gregorian calendar, the 2018th year of the Common Era (CE) and Anno Domini (AD) designations, the 18th year of the 3rd millennium, the 18th year of the 21st century, and the 9th year of the 2010s decade.\"\n",
    "    replaced_text = re.sub(\"\\(\\w+\\)\\s\", \"\", text)\n",
    "    print(replaced_text)\n",
    "\n",
    "if __name__ == \"__main__\":\n",
    "    main()"
   ]
  },
  {
   "cell_type": "markdown",
   "metadata": {
    "id": "sje-TpqqKyQV"
   },
   "source": [
    "以下の関数 `re.split()` を利用すると「文字列を空白文字がひとつ以上連続した文字列（`\\s+`）」を区切り文字として分割することができます．これは文字列処理をする場合によく用いる関数です．"
   ]
  },
  {
   "cell_type": "code",
   "execution_count": 32,
   "metadata": {
    "id": "TcrJmoqkKpfl"
   },
   "outputs": [
    {
     "name": "stdout",
     "output_type": "stream",
     "text": [
      "['2018', '(MMXVIII)', 'was', 'a', 'common', 'year', 'starting', 'on', 'Monday', 'of', 'the', 'Gregorian', 'calendar,', 'the', '2018th', 'year', 'of', 'the', 'Common', 'Era', '(CE)', 'and', 'Anno', 'Domini', '(AD)', 'designations,', 'the', '18th', 'year', 'of', 'the', '3rd', 'millennium,', 'the', '18th', 'year', 'of', 'the', '21st', 'century,', 'and', 'the', '9th', 'year', 'of', 'the', '2010s', 'decade.']\n"
     ]
    }
   ],
   "source": [
    "#!/usr/bin/env python3\n",
    "import re\n",
    "\n",
    "def main():\n",
    "    text = \"2018 (MMXVIII) was a common year starting on Monday of the Gregorian calendar, the 2018th year of the Common Era (CE) and Anno Domini (AD) designations, the 18th year of the 3rd millennium, the 18th year of the 21st century, and the 9th year of the 2010s decade.\"\n",
    "    liresult = re.split(\"\\s+\", text)\n",
    "    print(liresult)\n",
    "\n",
    "if __name__ == \"__main__\":\n",
    "    main()"
   ]
  },
  {
   "cell_type": "markdown",
   "metadata": {
    "id": "OYdk4XdoJrWW"
   },
   "source": [
    "Python の正規表現をまとめたウェブサイトには以下のようなものがあります．\n",
    "\n",
    "*   https://www.debuggex.com/cheatsheet/regex/python\n",
    "*   https://docs.python.org/3/howto/regex.html\n",
    "\n"
   ]
  },
  {
   "cell_type": "markdown",
   "metadata": {
    "id": "qYlGzlhhpV8T"
   },
   "source": [
    "##2-4. <font color=\"Crimson\">NumPy の基本的な使用方法</font>"
   ]
  },
  {
   "cell_type": "markdown",
   "metadata": {
    "id": "wWUK_JlIRKLv"
   },
   "source": [
    "###2-4-1. <font color=\"Crimson\">NumPy のインポート</font>"
   ]
  },
  {
   "cell_type": "markdown",
   "metadata": {
    "id": "G2JTc9B2u6eP"
   },
   "source": [
    "NumPy とは Python で利用可能な数値計算のライブラリです．さまざまな計算をコマンド一発で行うことができます．NumPy は以下のようにしてインポートします．読み込んだ NumPy には `np` という略称を与えることが普通です．"
   ]
  },
  {
   "cell_type": "code",
   "execution_count": 33,
   "metadata": {
    "executionInfo": {
     "elapsed": 379,
     "status": "ok",
     "timestamp": 1645850414624,
     "user": {
      "displayName": "Kazunori Yamada",
      "photoUrl": "https://lh3.googleusercontent.com/a/default-user=s64",
      "userId": "02505806892387628048"
     },
     "user_tz": -540
    },
    "id": "9caFDQD5u7GK"
   },
   "outputs": [],
   "source": [
    "#!/usr/bin/env python3\n",
    "import numpy as np\n",
    " \n",
    "def main():\n",
    "    pass\n",
    " \n",
    "if __name__ == \"__main__\":\n",
    "    main()"
   ]
  },
  {
   "cell_type": "markdown",
   "metadata": {
    "id": "Ou54J1GSu5lH"
   },
   "source": [
    "###2-4-2. <font color=\"Crimson\">ベクトルの基本的な計算</font>"
   ]
  },
  {
   "cell_type": "markdown",
   "metadata": {
    "id": "8vyX9tMc2-N0"
   },
   "source": [
    "ベクトルは以下のように生成します．"
   ]
  },
  {
   "cell_type": "code",
   "execution_count": 34,
   "metadata": {
    "id": "1Sfrz00w28dk"
   },
   "outputs": [
    {
     "name": "stdout",
     "output_type": "stream",
     "text": [
      "[1 2 3]\n"
     ]
    }
   ],
   "source": [
    "#!/usr/bin/env python3\n",
    "import numpy as np\n",
    " \n",
    "def main():\n",
    "    print(np.array([1, 2, 3]))\n",
    " \n",
    "if __name__ == \"__main__\":\n",
    "    main()"
   ]
  },
  {
   "cell_type": "markdown",
   "metadata": {
    "id": "Cp3gVDtj4NYJ"
   },
   "source": [
    "要素の参照は普通の Python 配列と同じようにできます．もちろんゼロオリジンです．"
   ]
  },
  {
   "cell_type": "code",
   "execution_count": 35,
   "metadata": {
    "id": "UPZCL7Xk4Tap"
   },
   "outputs": [
    {
     "name": "stdout",
     "output_type": "stream",
     "text": [
      "1\n"
     ]
    }
   ],
   "source": [
    "#!/usr/bin/env python3\n",
    "import numpy as np\n",
    " \n",
    "def main():\n",
    "    na = np.array([1, 2, 3])\n",
    "    print(na[0])\n",
    " \n",
    "if __name__ == \"__main__\":\n",
    "    main()"
   ]
  },
  {
   "cell_type": "markdown",
   "metadata": {
    "id": "f_MhoqAf3KVP"
   },
   "source": [
    "ベクトルの四則計算は以下のようにします．NumPy は基本的に要素ごとに（element-wise）値を計算します．"
   ]
  },
  {
   "cell_type": "code",
   "execution_count": 36,
   "metadata": {
    "id": "7KDrCwHE3Il5"
   },
   "outputs": [
    {
     "name": "stdout",
     "output_type": "stream",
     "text": [
      "[ 6  9 12]\n",
      "[-4 -5 -6]\n",
      "[ 5 14 27]\n",
      "[5.  3.5 3. ]\n"
     ]
    }
   ],
   "source": [
    "#!/usr/bin/env python3\n",
    "import numpy as np\n",
    " \n",
    "def main():\n",
    "    na = np.array([1, 2, 3])\n",
    "    nb = np.array([5, 7, 9])\n",
    "    print(na + nb)\n",
    "    print(na - nb)\n",
    "    print(na * nb)\n",
    "    print(nb / na)\n",
    " \n",
    "if __name__ == \"__main__\":\n",
    "    main()"
   ]
  },
  {
   "cell_type": "markdown",
   "metadata": {
    "id": "jNu3_0ZQ5mzI"
   },
   "source": [
    "コピーをする際は気を使わなければならない点があります．あるベクトルから別のベクトル変数を生成，つまり，コピーでベクトルを生成した場合，その生成したベクトルを元のベクトルと別のものとして扱いたい場合は以下のようにしなければなりません．以下では，8行目と9行目で元のベクトルとコピーで生成されたベクトルの要素をそれぞれ別の値で変更していますが，それぞれ別の値にて要素が置換されていることがわかります．"
   ]
  },
  {
   "cell_type": "code",
   "execution_count": 37,
   "metadata": {
    "id": "eEObaENI4yOq"
   },
   "outputs": [
    {
     "name": "stdout",
     "output_type": "stream",
     "text": [
      "[1 1] [1 1]\n",
      "[2 1] [3 1]\n"
     ]
    }
   ],
   "source": [
    "#!/usr/bin/env python3\n",
    "import numpy as np\n",
    " \n",
    "def main():\n",
    "    na = np.array([1, 1])\n",
    "    nb = na.copy()\n",
    "    print(na, nb)\n",
    "    na[0] = 2\n",
    "    nb[0] = 3\n",
    "    print(na, nb)\n",
    " \n",
    "if __name__ == \"__main__\":\n",
    "    main()"
   ]
  },
  {
   "cell_type": "markdown",
   "metadata": {
    "id": "EusViho88jHP"
   },
   "source": [
    "一方で，以下のように `=` を使ってコピー（のようなこと）をすると生成されたベクトルは元のベクトルの参照となってしまい，（この場合の）意図している操作は実現されません．上の挙動とこの挙動は把握していないと結構危険です．"
   ]
  },
  {
   "cell_type": "code",
   "execution_count": 38,
   "metadata": {
    "id": "_jZzalCi-Tdp"
   },
   "outputs": [
    {
     "name": "stdout",
     "output_type": "stream",
     "text": [
      "[1 1] [1 1]\n",
      "[3 1] [3 1]\n"
     ]
    }
   ],
   "source": [
    "#!/usr/bin/env python3\n",
    "import numpy as np\n",
    " \n",
    "def main():\n",
    "    na = np.array([1, 1])\n",
    "    nb = na\n",
    "    print(na, nb)\n",
    "    na[0] = 2\n",
    "    nb[0] = 3\n",
    "    print(na, nb)\n",
    " \n",
    "if __name__ == \"__main__\":\n",
    "    main()"
   ]
  },
  {
   "cell_type": "markdown",
   "metadata": {
    "id": "qE5FNb0C-1pJ"
   },
   "source": [
    "###2-4-3. <font color=\"Crimson\">行列の基本的な計算</font>"
   ]
  },
  {
   "cell_type": "markdown",
   "metadata": {
    "id": "E4Y-nMgP_bDA"
   },
   "source": [
    "行列を生成するためにも，`np.array()` を利用します．さらに，行列のサイズは `.shape` によって確認することができます．"
   ]
  },
  {
   "cell_type": "code",
   "execution_count": 39,
   "metadata": {
    "id": "CPlbC4WM_Fd9"
   },
   "outputs": [
    {
     "name": "stdout",
     "output_type": "stream",
     "text": [
      "[[1 2]\n",
      " [3 4]]\n",
      "(2, 2)\n"
     ]
    }
   ],
   "source": [
    "#!/usr/bin/env python3\n",
    "import numpy as np\n",
    " \n",
    "def main():\n",
    "    na = np.array([[1, 2], [3, 4]])\n",
    "    print(na)\n",
    "    print(na.shape)\n",
    " \n",
    "if __name__ == \"__main__\":\n",
    "    main()"
   ]
  },
  {
   "cell_type": "markdown",
   "metadata": {
    "id": "zJiMPnykIPCw"
   },
   "source": [
    "行列の要素には以下のようにしてアクセスします．この場合，1行1列目の値にアクセスしています．"
   ]
  },
  {
   "cell_type": "code",
   "execution_count": 40,
   "metadata": {
    "id": "p27Jq3tsIQQD"
   },
   "outputs": [
    {
     "name": "stdout",
     "output_type": "stream",
     "text": [
      "1\n"
     ]
    }
   ],
   "source": [
    "#!/usr/bin/env python3\n",
    "import numpy as np\n",
    " \n",
    "def main():\n",
    "    na = np.array([[1, 2], [3, 4]])\n",
    "    print(na[0,0])\n",
    " \n",
    "if __name__ == \"__main__\":\n",
    "    main()"
   ]
  },
  {
   "cell_type": "markdown",
   "metadata": {
    "id": "S5vvwQ36_xJn"
   },
   "source": [
    "NumPy 行列は以下のようなアクセスの方法があります．行ごとまたは列ごとのアクセスです．これは多用します．"
   ]
  },
  {
   "cell_type": "code",
   "execution_count": 41,
   "metadata": {
    "id": "1w9JbZ5i_7AI"
   },
   "outputs": [
    {
     "name": "stdout",
     "output_type": "stream",
     "text": [
      "[1 2]\n",
      "[2 4]\n"
     ]
    }
   ],
   "source": [
    "#!/usr/bin/env python3\n",
    "import numpy as np\n",
    " \n",
    "def main():\n",
    "    na = np.array([[1, 2], [3, 4]])\n",
    "    print(na[0,:]) # all elements of row 1\n",
    "    print(na[:,1]) # all elements of column 2\n",
    "\n",
    "if __name__ == \"__main__\":\n",
    "    main()"
   ]
  },
  {
   "cell_type": "markdown",
   "metadata": {
    "id": "zyHe1cU0Non8"
   },
   "source": [
    "以下のようにすると行列に関する様々な統計値を得ることができます．"
   ]
  },
  {
   "cell_type": "code",
   "execution_count": 42,
   "metadata": {
    "id": "X41d70OHNo3o"
   },
   "outputs": [
    {
     "name": "stdout",
     "output_type": "stream",
     "text": [
      "4\n",
      "1\n",
      "10\n",
      "2.5\n",
      "1.25\n",
      "1.118033988749895\n"
     ]
    }
   ],
   "source": [
    "#!/usr/bin/env python3\n",
    "import numpy as np\n",
    " \n",
    "def main():\n",
    "    na = np.array([[1, 2], [3, 4]])\n",
    "    print(na.max())\n",
    "    print(na.min())\n",
    "    print(na.sum())\n",
    "    print(na.mean())\n",
    "    print(na.var())\n",
    "    print(na.std())\n",
    "\n",
    "if __name__ == \"__main__\":\n",
    "    main()"
   ]
  },
  {
   "cell_type": "markdown",
   "metadata": {
    "id": "0V52wFh_OAob"
   },
   "source": [
    "<font color=\"Crimson\">(9｀･ω･)9 ｡oO(全知全能かよ．)</font>"
   ]
  },
  {
   "cell_type": "markdown",
   "metadata": {
    "id": "zPdB7h0HI8cr"
   },
   "source": [
    "以下の `np.zeros()` や `np.ones()` を用いると引数で指定したサイズの，全要素が0または1の行列を生成することができます．"
   ]
  },
  {
   "cell_type": "code",
   "execution_count": 43,
   "metadata": {
    "id": "iFnFmuwlJLwg"
   },
   "outputs": [
    {
     "name": "stdout",
     "output_type": "stream",
     "text": [
      "[[0. 0. 0.]\n",
      " [0. 0. 0.]\n",
      " [0. 0. 0.]]\n",
      "[[1. 1. 1. 1.]\n",
      " [1. 1. 1. 1.]\n",
      " [1. 1. 1. 1.]\n",
      " [1. 1. 1. 1.]]\n"
     ]
    }
   ],
   "source": [
    "#!/usr/bin/env python3\n",
    "import numpy as np\n",
    " \n",
    "def main():\n",
    "    print(np.zeros((3,3)))\n",
    "    print(np.ones((4,4)))\n",
    "\n",
    "if __name__ == \"__main__\":\n",
    "    main()"
   ]
  },
  {
   "cell_type": "markdown",
   "metadata": {
    "id": "mV52BqjvLaqx"
   },
   "source": [
    "四則計算は以下のようにします．これもやはり，element-wise な計算です．"
   ]
  },
  {
   "cell_type": "code",
   "execution_count": 44,
   "metadata": {
    "id": "vPIwJNN7LaEO"
   },
   "outputs": [
    {
     "name": "stdout",
     "output_type": "stream",
     "text": [
      "[[ 6  8]\n",
      " [10 12]]\n",
      "[[4 4]\n",
      " [4 4]]\n",
      "[[ 5 12]\n",
      " [21 32]]\n",
      "[[5.         3.        ]\n",
      " [2.33333333 2.        ]]\n"
     ]
    }
   ],
   "source": [
    "#!/usr/bin/env python3\n",
    "import numpy as np\n",
    " \n",
    "def main():\n",
    "    na = np.array([[1, 2], [3, 4]])\n",
    "    nb = np.array([[5, 6], [7, 8]])\n",
    "    print(na + nb)\n",
    "    print(nb - na)\n",
    "    print(na * nb)\n",
    "    print(nb / na)\n",
    "\n",
    "if __name__ == \"__main__\":\n",
    "    main()"
   ]
  },
  {
   "cell_type": "markdown",
   "metadata": {
    "id": "4TfXRxQ_NFSh"
   },
   "source": [
    "行列の掛け算は以下のようにします．"
   ]
  },
  {
   "cell_type": "code",
   "execution_count": 45,
   "metadata": {
    "id": "snzonl_uNFfM"
   },
   "outputs": [
    {
     "name": "stdout",
     "output_type": "stream",
     "text": [
      "[[19 22]\n",
      " [43 50]]\n"
     ]
    }
   ],
   "source": [
    "#!/usr/bin/env python3\n",
    "import numpy as np\n",
    " \n",
    "def main():\n",
    "    na = np.array([[1, 2], [3, 4]])\n",
    "    nb = np.array([[5, 6], [7, 8]])\n",
    "    print(np.dot(na, nb))\n",
    "\n",
    "if __name__ == \"__main__\":\n",
    "    main()"
   ]
  },
  {
   "cell_type": "markdown",
   "metadata": {
    "id": "f-CbbyfMJbdK"
   },
   "source": [
    "以下のようにすると一様分布に従う乱数を生成することができます．以下の例は一様分布のものですが，NumPy には一様分布以外にもたくさんの分布が用意されています．引数で指定するのは行列のサイズです．計算機実験をする際にこのようなランダムな値を生成することがあります．そんな中，Python や NumPy に限らず計算機実験をする際に気を付けなければならないことに「乱数のタネを固定する」ということがあります．計算機実験の再現性を得るためにとても重要なので絶対に忘れないようにすべきです．乱数のタネは3行目で行っています．ここでは `0` を設定しています．"
   ]
  },
  {
   "cell_type": "code",
   "execution_count": 46,
   "metadata": {
    "id": "X0WUWaXzJb7g"
   },
   "outputs": [
    {
     "name": "stdout",
     "output_type": "stream",
     "text": [
      "[[0.5488135  0.71518937 0.60276338]\n",
      " [0.54488318 0.4236548  0.64589411]\n",
      " [0.43758721 0.891773   0.96366276]]\n"
     ]
    }
   ],
   "source": [
    "#!/usr/bin/env python3\n",
    "import numpy as np\n",
    "np.random.seed(0)\n",
    " \n",
    "def main():\n",
    "    print(np.random.rand(3, 3))\n",
    "\n",
    "if __name__ == \"__main__\":\n",
    "    main()"
   ]
  },
  {
   "cell_type": "markdown",
   "metadata": {
    "id": "g2dyoKNlKsFf"
   },
   "source": [
    "<font color=\"Crimson\">(9｀･ω･)9 ｡oO(機械学習の学習前の予測器の初期値は乱数です．再現性を確保するため乱数のタネを指定しないで実験をはじめることは絶対にないように気をつけなければなりません．)</font>"
   ]
  },
  {
   "cell_type": "markdown",
   "metadata": {
    "id": "zVLL8NPkJcsl"
   },
   "source": [
    "以下のようにすると行列式と逆行列を計算することができます．"
   ]
  },
  {
   "cell_type": "code",
   "execution_count": 47,
   "metadata": {
    "id": "cQj3HA01Jc4h"
   },
   "outputs": [
    {
     "name": "stdout",
     "output_type": "stream",
     "text": [
      "1348.0\n",
      "[[ 0.01186944 -0.07715134  0.05192878]\n",
      " [ 0.07418398  0.01780415 -0.0504451 ]\n",
      " [-0.04005935  0.01038576  0.13724036]]\n"
     ]
    }
   ],
   "source": [
    "#!/usr/bin/env python3\n",
    "import numpy as np\n",
    " \n",
    "def main():\n",
    "    na = np.array([[4, 15, 4], [-11, 5, 6], [2, 4, 8]])\n",
    "    print(np.linalg.det(na)) # determinant of matrix\n",
    "    print(np.linalg.inv(na)) # inverse matrix\n",
    "\n",
    "if __name__ == \"__main__\":\n",
    "    main()"
   ]
  },
  {
   "cell_type": "markdown",
   "metadata": {
    "id": "bX-kaTWdJdDQ"
   },
   "source": [
    "固有値分解は以下のようにします．"
   ]
  },
  {
   "cell_type": "code",
   "execution_count": 48,
   "metadata": {
    "id": "-eAfL5T9JdNW"
   },
   "outputs": [
    {
     "name": "stdout",
     "output_type": "stream",
     "text": [
      "[0.45861873 6.54138127 1.         1.        ]\n",
      "[[-0.8983134  -0.82633465  0.68125794  0.80137532]\n",
      " [ 0.25366187 -0.32515178 -0.50330665  0.00189296]\n",
      " [ 0.25366187 -0.32515178 -0.45417196 -0.53425021]\n",
      " [ 0.25366187 -0.32515178  0.27622067 -0.26901807]]\n"
     ]
    }
   ],
   "source": [
    "#!/usr/bin/env python3\n",
    "import numpy as np\n",
    " \n",
    "def main():\n",
    "    na = np.array([[3, 4, 1, 4], [1, 2, 1, 1], [1, 1, 2, 1], [1, 1, 1, 2]])\n",
    "    eigenvalue, eigenvector = np.linalg.eig(na)\n",
    "    print(eigenvalue)\n",
    "    print(eigenvector)\n",
    "\n",
    "if __name__ == \"__main__\":\n",
    "    main()"
   ]
  },
  {
   "cell_type": "markdown",
   "metadata": {
    "id": "Ag6LWINQJdW_"
   },
   "source": [
    "以下のようにすると「行列の要素の冪乗」を計算できます．"
   ]
  },
  {
   "cell_type": "code",
   "execution_count": 49,
   "metadata": {
    "id": "uWcl1vkuTEfR"
   },
   "outputs": [
    {
     "name": "stdout",
     "output_type": "stream",
     "text": [
      "[[ 9 16  1 16]\n",
      " [ 1  4  1  1]\n",
      " [ 1  1  4  1]\n",
      " [ 1  1  1  4]]\n"
     ]
    }
   ],
   "source": [
    "#!/usr/bin/env python3\n",
    "import numpy as np\n",
    " \n",
    "def main():\n",
    "    na = np.array([[3, 4, 1, 4], [1, 2, 1, 1], [1, 1, 2, 1], [1, 1, 1, 2]])\n",
    "    print(na ** 2)\n",
    "\n",
    "if __name__ == \"__main__\":\n",
    "    main()"
   ]
  },
  {
   "cell_type": "markdown",
   "metadata": {
    "id": "72Th9ILzJdrA"
   },
   "source": [
    "一方で，「行列の冪乗」は以下のように計算します．"
   ]
  },
  {
   "cell_type": "code",
   "execution_count": 50,
   "metadata": {
    "id": "8anIkRArTFLI"
   },
   "outputs": [
    {
     "name": "stdout",
     "output_type": "stream",
     "text": [
      "[[18 25 13 25]\n",
      " [ 7 10  6  9]\n",
      " [ 7  9  7  9]\n",
      " [ 7  9  6 10]]"
     ]
    },
    {
     "name": "stdout",
     "output_type": "stream",
     "text": [
      "\n"
     ]
    }
   ],
   "source": [
    "#!/usr/bin/env python3\n",
    "import numpy as np\n",
    " \n",
    "def main():\n",
    "    na = np.array([[3, 4, 1, 4], [1, 2, 1, 1], [1, 1, 2, 1], [1, 1, 1, 2]])\n",
    "    print(np.linalg.matrix_power(na, 2))\n",
    "\n",
    "if __name__ == \"__main__\":\n",
    "    main()"
   ]
  },
  {
   "cell_type": "markdown",
   "metadata": {
    "id": "2mmtzBtCTJwl"
   },
   "source": [
    "行列の冪乗でも，整数以外の冪指数を用いたい場合は別の方法が必要です．例えば，行列の平方根（2分の1乗）は以下のようにしなければ計算できません．"
   ]
  },
  {
   "cell_type": "code",
   "execution_count": 51,
   "metadata": {
    "id": "nyoXOdL_TIiC"
   },
   "outputs": [
    {
     "name": "stdout",
     "output_type": "stream",
     "text": [
      "[[ 1.46284538  1.39196824 -0.00171605  1.39196824]\n",
      " [ 0.3091356   1.20551839  0.36094421  0.20551839]\n",
      " [ 0.3091356   0.20551839  1.36094421  0.20551839]\n",
      " [ 0.3091356   0.20551839  0.36094421  1.20551839]]\n"
     ]
    }
   ],
   "source": [
    "#!/usr/bin/env python3\n",
    "import numpy as np\n",
    " \n",
    "def main():\n",
    "    na = np.array([[3, 4, 1, 4], [1, 2, 1, 1], [1, 1, 2, 1], [1, 1, 1, 2]])\n",
    "    eigenvalue, eigenvector = np.linalg.eig(na)\n",
    "    print(np.dot(np.dot(eigenvector, (np.diag(eigenvalue)) ** (1/2)), np.linalg.inv(eigenvector)))\n",
    "\n",
    "if __name__ == \"__main__\":\n",
    "    main()"
   ]
  },
  {
   "cell_type": "markdown",
   "metadata": {
    "id": "xP8FIqO5Jakh"
   },
   "source": [
    "###2-4-4. <font color=\"Crimson\">ブロードキャスト</font>"
   ]
  },
  {
   "cell_type": "markdown",
   "metadata": {
    "id": "nqrBwMpYTJ_k"
   },
   "source": [
    "NumPy は「行列にスカラを足す」，このような異様な計算をしても結果を返してくれます．以下の6行目では，行列にスカラを足しています．ここでは，最初に生成した4行4列の行列と同じサイズの，全要素が2からなる行列を自動で生成し，その行列と最初の4行4列の行列の和を計算しています．このような，対象となる行列のサイズに合せて，スカラから行列を生成することを「ブロードキャスト」と言います．この機能は非常に便利で様々な局面で使用することがあります．"
   ]
  },
  {
   "cell_type": "code",
   "execution_count": 52,
   "metadata": {
    "id": "QnUWex3eTFvt"
   },
   "outputs": [
    {
     "name": "stdout",
     "output_type": "stream",
     "text": [
      "[[5 6 3 6]\n",
      " [3 4 3 3]\n",
      " [3 3 4 3]\n",
      " [3 3 3 4]]\n"
     ]
    }
   ],
   "source": [
    "#!/usr/bin/env python3\n",
    "import numpy as np\n",
    " \n",
    "def main():\n",
    "    na = np.array([[3, 4, 1, 4], [1, 2, 1, 1], [1, 1, 2, 1], [1, 1, 1, 2]])\n",
    "    print(na + 2)\n",
    "\n",
    "if __name__ == \"__main__\":\n",
    "    main()"
   ]
  },
  {
   "cell_type": "markdown",
   "metadata": {
    "id": "OHezms7YW3Ba"
   },
   "source": [
    "###2-4-5. <font color=\"Crimson\">特殊な操作</font>"
   ]
  },
  {
   "cell_type": "markdown",
   "metadata": {
    "id": "RSlalUlMTKcJ"
   },
   "source": [
    "以下のようにすると配列の順番を逆向きにして用いることができます．魔法ですね．最初の要素（0）から最後の要素（-1）まで逆向きに（-）連続して（1）いることを意味します．"
   ]
  },
  {
   "cell_type": "code",
   "execution_count": 53,
   "metadata": {
    "id": "nMEa4N_ETF-b"
   },
   "outputs": [
    {
     "name": "stdout",
     "output_type": "stream",
     "text": [
      "[7 6 5 4 3 2 1]\n"
     ]
    }
   ],
   "source": [
    "#!/usr/bin/env python3\n",
    "import numpy as np\n",
    " \n",
    "def main():\n",
    "    na = np.array([1, 2, 3, 4, 5, 6, 7])\n",
    "    print(na[::-1])\n",
    "\n",
    "if __name__ == \"__main__\":\n",
    "    main()"
   ]
  },
  {
   "cell_type": "markdown",
   "metadata": {
    "id": "7nxeufhIW768"
   },
   "source": [
    "以下のようにすると指定した条件に対する bool 配列を得ることができます．"
   ]
  },
  {
   "cell_type": "code",
   "execution_count": 54,
   "metadata": {
    "id": "FKxVQ4vZW-bH"
   },
   "outputs": [
    {
     "name": "stdout",
     "output_type": "stream",
     "text": [
      "[False False False  True  True  True  True]\n"
     ]
    }
   ],
   "source": [
    "#!/usr/bin/env python3\n",
    "import numpy as np\n",
    " \n",
    "def main():\n",
    "    na = np.array([1, 2, 3, 4, 5, 6, 7])\n",
    "    print(na > 3)\n",
    "\n",
    "if __name__ == \"__main__\":\n",
    "    main()"
   ]
  },
  {
   "cell_type": "markdown",
   "metadata": {
    "id": "_-zK8q1KW8DG"
   },
   "source": [
    "これを利用すると条件に合う要素のみに選択的にアクセスすることができます．以下では条件に合う要素を単に出力しているだけですが，例えば，条件に合う値のみを0に置き換えるとか，そのような操作ができます．"
   ]
  },
  {
   "cell_type": "code",
   "execution_count": 55,
   "metadata": {
    "id": "wY_wX0ZLW-36"
   },
   "outputs": [
    {
     "name": "stdout",
     "output_type": "stream",
     "text": [
      "[4 5 6 7]\n"
     ]
    }
   ],
   "source": [
    "#!/usr/bin/env python3\n",
    "import numpy as np\n",
    " \n",
    "def main():\n",
    "    na = np.array([1, 2, 3, 4, 5, 6, 7])\n",
    "    print(na[na > 3])\n",
    "\n",
    "if __name__ == \"__main__\":\n",
    "    main()"
   ]
  },
  {
   "cell_type": "markdown",
   "metadata": {
    "id": "N5p0NrSdYGYd"
   },
   "source": [
    "以下のように書けば，目的に合う値のインデックスを出力させることもできます．"
   ]
  },
  {
   "cell_type": "code",
   "execution_count": 56,
   "metadata": {
    "id": "2FCCvtyrYGYd"
   },
   "outputs": [
    {
     "name": "stdout",
     "output_type": "stream",
     "text": [
      "(array([2, 6]),)\n"
     ]
    }
   ],
   "source": [
    "#!/usr/bin/env python3\n",
    "import numpy as np\n",
    " \n",
    "def main():\n",
    "    na = np.array([1, 2, 3, 4, 5, 6, 3])\n",
    "    print(np.where(na == 3))\n",
    "\n",
    "if __name__ == \"__main__\":\n",
    "    main()"
   ]
  },
  {
   "cell_type": "markdown",
   "metadata": {
    "id": "sO5AMU6qYQ3m"
   },
   "source": [
    "<font color=\"Crimson\">(9｀･ω･)9 ｡oO(NumPy はやばいよね．)</font>"
   ]
  },
  {
   "cell_type": "markdown",
   "metadata": {
    "id": "QtxMHxRBQes5"
   },
   "source": [
    "##2-5. <font color=\"Crimson\">クラスの生成とその活用</font>"
   ]
  },
  {
   "cell_type": "markdown",
   "metadata": {
    "id": "syVjMhUODFwm"
   },
   "source": [
    "###2-5-1. <font color=\"Crimson\">クラスの生成</font>"
   ]
  },
  {
   "cell_type": "markdown",
   "metadata": {
    "id": "X7HAFBapDFwn"
   },
   "source": [
    "Python にはクラスというプログラムのコードを短くすることで可読性をあげたり，チームでの大規模開発に有利になったりするシステムが備わっています．最初にとてもシンプルなクラスを作ってみます．これは後ほどもう少し多機能なものへと改変していきます．クラスの名前を `Dog` とします．最初の辺りで変数名のイニシャルに大文字は使わないことを紹介しましたが，それはクラスの宣言の際にクラス名のイニシャルを大文字にするためです．以下のように書きます．`main()` には `pass` とだけ書いていますが，これは「何も実行しない」というコマンドです．今はクラスを生成することが目的だから `main()` では何も行いません．クラスは以下のように生成します．\n",
    "```\n",
    "class クラス名:\n",
    "```\n",
    "以下のクラスには `__init__` という記述があります．これはクラスからインスタンスを生成したときに（<font color=\"Crimson\">クラスからはインスタンスと言われるクラスの実体が生成されます</font>）自動的に実行されるメソッドです（コンストラクタと呼びます）．このコンストラクタの引数は2個です．`self` と `name` と `age` の3個があるように見えますが，`self` は（インスタンスを生成するまでは未知の）インスタンス名をとりあえず `self` にします，という記述です．"
   ]
  },
  {
   "cell_type": "code",
   "execution_count": 57,
   "metadata": {
    "executionInfo": {
     "elapsed": 377,
     "status": "ok",
     "timestamp": 1645851243670,
     "user": {
      "displayName": "Kazunori Yamada",
      "photoUrl": "https://lh3.googleusercontent.com/a/default-user=s64",
      "userId": "02505806892387628048"
     },
     "user_tz": -540
    },
    "id": "Sxt5rHRoDFwn"
   },
   "outputs": [],
   "source": [
    "#!/usr/bin/env python3\n",
    "\n",
    "def main():\n",
    "    pass\n",
    "\n",
    "class Dog:\n",
    "    def __init__(self, name, age):\n",
    "        self.name = name\n",
    "        self.age  = age\n",
    "\n",
    "if __name__ == \"__main__\":\n",
    "    main()"
   ]
  },
  {
   "cell_type": "markdown",
   "metadata": {
    "id": "Tz0Qz4r_GT0W"
   },
   "source": [
    "多分，ここまでで意味がわからなくなったと思うので，まずはインスタンスを生成してみます．以下のように書きます．これによって `mydog` というインスタンスが生成されました．引数には，`Ken` と `6` を与えました．6歳の Ken という名前の犬の情報です．"
   ]
  },
  {
   "cell_type": "code",
   "execution_count": 58,
   "metadata": {
    "executionInfo": {
     "elapsed": 364,
     "status": "ok",
     "timestamp": 1645851341800,
     "user": {
      "displayName": "Kazunori Yamada",
      "photoUrl": "https://lh3.googleusercontent.com/a/default-user=s64",
      "userId": "02505806892387628048"
     },
     "user_tz": -540
    },
    "id": "KE44XcU4GyRm"
   },
   "outputs": [],
   "source": [
    "#!/usr/bin/env python3\n",
    "\n",
    "def main():\n",
    "    mydog = Dog(\"Ken\", 6)\n",
    "\n",
    "class Dog:\n",
    "    def __init__(self, name, age):\n",
    "        self.name = name\n",
    "        self.age  = age\n",
    "\n",
    "if __name__ == \"__main__\":\n",
    "    main()"
   ]
  },
  {
   "cell_type": "markdown",
   "metadata": {
    "id": "igSVB84fHIQC"
   },
   "source": [
    "次に，この生成したインスタンス `mydog` の名前と年齢を出力してみます．以下のように書きます．インスタンスが内包する変数には `.` でアクセスします．"
   ]
  },
  {
   "cell_type": "code",
   "execution_count": 59,
   "metadata": {
    "id": "0MZPyaocHf3k"
   },
   "outputs": [
    {
     "name": "stdout",
     "output_type": "stream",
     "text": [
      "Ken\n",
      "6\n"
     ]
    }
   ],
   "source": [
    "#!/usr/bin/env python3\n",
    "\n",
    "def main():\n",
    "    mydog = Dog(\"Ken\", 6)\n",
    "    print(mydog.name)\n",
    "    print(mydog.age)\n",
    "\n",
    "class Dog:\n",
    "    def __init__(self, name, age):\n",
    "        self.name = name\n",
    "        self.age  = age\n",
    "\n",
    "if __name__ == \"__main__\":\n",
    "    main()"
   ]
  },
  {
   "cell_type": "markdown",
   "metadata": {
    "id": "SLFkiEPMHk7z"
   },
   "source": [
    "しっかりと出力されました．クラスを使う利点は処理をきれいに整理できることです．もし，クラスを使わずにこの挙動を再現するには `mydog_name = Ken`，`mydog_age = 6` のような変数を生成しなければなりません．クラスを使うと `mydog = Dog(\"Ken\", 6)` だけ，たったひとつの記述だけで複数個の情報を含む変数を生成できるのです．"
   ]
  },
  {
   "cell_type": "markdown",
   "metadata": {
    "id": "reRz6HoxIcSy"
   },
   "source": [
    "<font color=\"Crimson\">(9｀･ω･)9 ｡oO(以上のように複数のデータをまとめて管理できることがクラスを使うメリットです．クラスを使わない場合，個々の変数を個別に管理する必要が生じ，プログラムが煩雑なものになります．クラスを作る効果ってたったそれだけ？と思われるかもしれませんが，そうです，たったそれだけです．ただ，この後にも説明がある通りクラスは変数だけでなく関数も内部に有することができます．処理が複雑になればなるほど有難くなります．)</font>"
   ]
  },
  {
   "cell_type": "markdown",
   "metadata": {
    "id": "q21Odt14I23Q"
   },
   "source": [
    "また，上で `self` とはインスタンスの名前そのものであると言及しましたが，それは以下を比較していただくと解ります．出力の際には以下のように書きました．\n",
    "```\n",
    "mydog.name\n",
    "```\n",
    "クラス内での定義の際には以下のように書きました．\n",
    "```\n",
    "self.name\n",
    "```\n",
    "インスタンス名（`mydog`）と `self` が同じように使われています．"
   ]
  },
  {
   "cell_type": "markdown",
   "metadata": {
    "id": "VuFsej1AiVoN"
   },
   "source": [
    "###2-5-2. <font color=\"Crimson\">メソッド</font>"
   ]
  },
  {
   "cell_type": "markdown",
   "metadata": {
    "id": "yjMptBEKKH5m"
   },
   "source": [
    "クラスにメソッドを追加します．以下では `sit()` というメソッドを定義しました．そしてそれを `main()` で呼び出しています．この場合も `.` にてメソッドを呼び出します．"
   ]
  },
  {
   "cell_type": "code",
   "execution_count": 60,
   "metadata": {
    "id": "9W0QOPX2Jnf8"
   },
   "outputs": [
    {
     "name": "stdout",
     "output_type": "stream",
     "text": [
      "Ken, which is (6) years old is now sitting.\n"
     ]
    }
   ],
   "source": [
    "#!/usr/bin/env python3\n",
    "\n",
    "def main():\n",
    "    mydog = Dog(\"Ken\", 6)\n",
    "    mydog.sit()\n",
    "\n",
    "class Dog:\n",
    "    def __init__(self, name, age):\n",
    "        self.name = name\n",
    "        self.age  = age\n",
    "    def sit(self):\n",
    "        print(\"{0}, which is ({1}) years old is now sitting.\".format(self.name, self.age))\n",
    "\n",
    "if __name__ == \"__main__\":\n",
    "    main()"
   ]
  },
  {
   "cell_type": "markdown",
   "metadata": {
    "id": "H-3NslIhLKLg"
   },
   "source": [
    "たったひとつの `mydog` という変数（インスタンス）が，複数個の変数を持ち，メソッドも有します．これはかなり整理整頓には良いシステムです．これがクラスを定義しインスタンスを生成する利点です．これは，以下のようにインスタンスを何個も生成するような処理が必要になる場合にさらに有用です．よりシンプルなコードを保てます．"
   ]
  },
  {
   "cell_type": "code",
   "execution_count": 61,
   "metadata": {
    "id": "CBHtTxeZL-aV"
   },
   "outputs": [
    {
     "name": "stdout",
     "output_type": "stream",
     "text": [
      "Ken, which is (6) years old is now sitting.\n",
      "Peko, which is (4) years old is now sitting.\n"
     ]
    }
   ],
   "source": [
    "#!/usr/bin/env python3\n",
    "\n",
    "def main():\n",
    "    mydog = Dog(\"Ken\", 6)\n",
    "    yourdog = Dog(\"Peko\", 4)\n",
    "    mydog.sit()\n",
    "    yourdog.sit()\n",
    "\n",
    "class Dog:\n",
    "    def __init__(self, name, age):\n",
    "        self.name = name\n",
    "        self.age  = age\n",
    "    def sit(self):\n",
    "        print(\"{0}, which is ({1}) years old is now sitting.\".format(self.name, self.age))\n",
    "\n",
    "if __name__ == \"__main__\":\n",
    "    main()"
   ]
  },
  {
   "cell_type": "markdown",
   "metadata": {
    "id": "gvWwApHxDFeO"
   },
   "source": [
    "###2-5-3. <font color=\"Crimson\">デフォルト値の設定</font>"
   ]
  },
  {
   "cell_type": "markdown",
   "metadata": {
    "id": "qqnTWdYlDFeQ"
   },
   "source": [
    "インスタンス生成の際にデフォルトの値を設定することができます．以下の13行目のようにコンストラクタに直接定義します．そのような値も，5行目のような記述でアクセスすることができます．また，6行目のような記述で値を変更することも可能です．"
   ]
  },
  {
   "cell_type": "code",
   "execution_count": 62,
   "metadata": {
    "id": "BniofR1ePEqe"
   },
   "outputs": [
    {
     "name": "stdout",
     "output_type": "stream",
     "text": [
      "Sendai\n",
      "Yokohama\n"
     ]
    }
   ],
   "source": [
    "#!/usr/bin/env python3\n",
    "\n",
    "def main():\n",
    "    mydog = Dog(\"Ken\", 6)\n",
    "    print(mydog.hometown)\n",
    "    mydog.hometown = \"Yokohama\"\n",
    "    print(mydog.hometown)\n",
    "\n",
    "class Dog:\n",
    "    def __init__(self, name, age):\n",
    "        self.name = name\n",
    "        self.age  = age\n",
    "        self.hometown = \"Sendai\"\n",
    "    def sit(self):\n",
    "        print(\"{0}, which is ({1}) years old is now sitting.\".format(self.name, self.age))\n",
    "\n",
    "if __name__ == \"__main__\":\n",
    "    main()"
   ]
  },
  {
   "cell_type": "markdown",
   "metadata": {
    "id": "OU1SMu0xQsgD"
   },
   "source": [
    "###2-5-4. <font color=\"Crimson\">クラス内変数の改変</font>"
   ]
  },
  {
   "cell_type": "markdown",
   "metadata": {
    "id": "WhG1EQ7-P4qR"
   },
   "source": [
    "また，以下の16および17行目のようなクラス内の変数の値を改変するような関数を定義することも可能です．これを実行すると出力のように，`mydog.age` が `6` から `8` に変化します．"
   ]
  },
  {
   "cell_type": "code",
   "execution_count": 63,
   "metadata": {
    "id": "vC0QaQsOPix3"
   },
   "outputs": [
    {
     "name": "stdout",
     "output_type": "stream",
     "text": [
      "6\n",
      "8\n"
     ]
    }
   ],
   "source": [
    "#!/usr/bin/env python3\n",
    "\n",
    "def main():\n",
    "    mydog = Dog(\"Ken\", 6)\n",
    "    print(mydog.age)\n",
    "    mydog.year_pass(2)\n",
    "    print(mydog.age)\n",
    "\n",
    "class Dog:\n",
    "    def __init__(self, name, age):\n",
    "        self.name = name\n",
    "        self.age  = age\n",
    "        self.hometown = \"Sendai\"\n",
    "    def sit(self):\n",
    "        print(\"{0}, which is ({1}) years old is now sitting.\".format(self.name, self.age))\n",
    "    def year_pass(self, years):\n",
    "        self.age = self.age + years\n",
    "\n",
    "if __name__ == \"__main__\":\n",
    "    main()"
   ]
  },
  {
   "cell_type": "markdown",
   "metadata": {
    "id": "mXLJxhoKkCf_"
   },
   "source": [
    "###2-5-5. <font color=\"Crimson\">クラス変数</font>"
   ]
  },
  {
   "cell_type": "markdown",
   "metadata": {
    "id": "6OmANSYfkJG4"
   },
   "source": [
    "`インスタンス名.変数名` もしくは `self.変数名` とすると，インスタンスが保持する変数にアクセスすることができましたが，そうではなく，クラスから生成されたすべてのインスタンスで値が共有されるような変数を作ることができます．そのような変数をクラス変数と呼びます．クラス変数を作成するには，単にクラスの定義部で変数に値を代入します．クラス変数にアクセスするには， `クラス名.変数名` とします．別のやり方として，インスタンス変数に同じ名前の変数がない場合には，`インスタンス名.変数名` と書いてもクラス変数にアクセスすることができます（ただし同名のインスタンス変数がある場合には，そちらにアクセスしますので注意が必要です）．"
   ]
  },
  {
   "cell_type": "code",
   "execution_count": 64,
   "metadata": {
    "id": "8DQHt51lKR09"
   },
   "outputs": [
    {
     "name": "stdout",
     "output_type": "stream",
     "text": [
      "dog\n",
      "dog\n"
     ]
    }
   ],
   "source": [
    "#!/usr/bin/env python3\n",
    "\n",
    "def main():\n",
    "    mydog = Dog(\"Ken\", 6)\n",
    "    yourdog = Dog(\"Peko\", 4)\n",
    "    print(Dog.type) # クラス名.変数名で参照できる\n",
    "    print(yourdog.type)\n",
    "\n",
    "class Dog:\n",
    "    type = \"dog\" # クラス変数．\n",
    "    def __init__(self, name, age):\n",
    "        self.name = name\n",
    "        self.age  = age\n",
    "    def sit(self):\n",
    "        print(\"{0} is now sitting.\".format(self.name))\n",
    "\n",
    "if __name__ == \"__main__\":\n",
    "    main()"
   ]
  },
  {
   "cell_type": "markdown",
   "metadata": {
    "id": "F302MLf1k-bk"
   },
   "source": [
    "###2-5-6. <font color=\"Crimson\">プライベート変数</font>"
   ]
  },
  {
   "cell_type": "markdown",
   "metadata": {
    "id": "0ATUdj7Be8JQ"
   },
   "source": [
    "オブジェクト指向プログラミングでは，インスタンスへの外部からのアクセスを適切に制限することで，モジュールごとの権限と役割分担を明確にすることができます．例えば，あるモジュールがすべてのデータにアクセス可能だとすると，本来そのモジュールが行うべきではない処理まで，そのモジュールに実装されてしまう恐れがあり，役割分担が崩壊する可能性があります．データにアクセス制限がかかっている場合，そのデータを使う処理は，そのデータにアクセス可能なモジュールに依頼するしかなくなり，適切な役割分担が維持されます．\n",
    "\n",
    "クラスにおいて，外部からのアクセスが禁止されている変数をプライベート変数と呼びます．また，外部からのアクセスが禁止されているメソッドをプライベートメソッドと呼びます．\n",
    "\n",
    "Pythonでは，プライベート変数やプライベートメソッドを作ることはできません．つまり，どの変数やメソッドも外部からアクセス可能です．\n",
    "ただし，変数やメソッドの名前を変えることで，プライベートとして扱われるべき変数やメソッドを区別するという慣習があります．実装を行う人がプライベートとして扱われるべき変数等への外部からのアクセスを行わないようにすることで，本来の目的を達成することができます．Pythonの慣習では，プライベートとして扱われるべき変数やメソッドの先頭文字を以下のようにアンダースコア（_）にします．"
   ]
  },
  {
   "cell_type": "code",
   "execution_count": 65,
   "metadata": {
    "id": "VQWTmjEzk-bl"
   },
   "outputs": [
    {
     "name": "stdout",
     "output_type": "stream",
     "text": [
      "False\n"
     ]
    }
   ],
   "source": [
    "#!/usr/bin/env python3\n",
    "\n",
    "def main():\n",
    "    score_math = PrivateScore(55)\n",
    "    print(score_math.is_passed())\n",
    "\n",
    "class PrivateScore:\n",
    "    def __init__(self, score):\n",
    "        self._score = score # プライベート変数\n",
    "    def is_passed(self):\n",
    "        if self._score >= 60:\n",
    "            return True\n",
    "        else:\n",
    "            return False\n",
    "\n",
    "if __name__ == \"__main__\":\n",
    "    main()"
   ]
  },
  {
   "cell_type": "markdown",
   "metadata": {
    "id": "ARK3hoZtmWea"
   },
   "source": [
    "###2-5-7. <font color=\"Crimson\">継承</font>"
   ]
  },
  {
   "cell_type": "markdown",
   "metadata": {
    "id": "dHW_U71PwB4r"
   },
   "source": [
    "あるクラスのインスタンスを複数生成する際，特定のインスタンスのみ処理を変更したり，処理を追加したりする必要が生じることがあります．その場合，そのインスタンス用に新しくクラスを作ることもできますが，元のクラスと大部分が同じである場合，同じコードが大量に複製されることになり，コードが無駄に長くなります．同じ処理を行うコードが複数箇所に存在する場合，不具合を修正する場合にもすべての箇所を修正しないといけなくなるため，正しく修正することが難しくなります．このような場合の別の方法として，元のクラスからの修正部分のみを修正するという方法があります．このような方法を継承と呼び，修正のベースとなる元のクラスを基底クラス（もしくは親クラス），新しく作られるクラスを派生クラス（もしくは子クラス）と呼びます．"
   ]
  },
  {
   "cell_type": "markdown",
   "metadata": {
    "id": "5T_hjdbx7Xm9"
   },
   "source": [
    "<font color=\"Crimson\">(9｀･ω･)9 ｡oO(基底クラスに複数個のクラスを指定することができます．そのような継承を多重継承と呼びます．)</font>"
   ]
  },
  {
   "cell_type": "markdown",
   "metadata": {
    "id": "q907yWvw8GYx"
   },
   "source": [
    "継承を行う際は，派生クラスを定義するときにそのクラス名の次に括弧を書き，その括弧内に基底クラスの名前を書きます．そして，クラス定義の中には，新規に追加するメソッドと基底クラスから変更を行うメソッドについてのみ定義を追加します．以下のように行います．"
   ]
  },
  {
   "cell_type": "code",
   "execution_count": 66,
   "metadata": {
    "id": "1yxvfnrB8Fjm"
   },
   "outputs": [
    {
     "name": "stdout",
     "output_type": "stream",
     "text": [
      "Ken is now sitting."
     ]
    },
    {
     "name": "stdout",
     "output_type": "stream",
     "text": [
      "\n",
      "bow\n",
      "bow\n",
      "bow\n",
      "bow\n",
      "Peko is now sitting.\n"
     ]
    }
   ],
   "source": [
    "#!/usr/bin/env python3\n",
    "\n",
    "def main():\n",
    "    mydog = Dog(\"Ken\", 6)\n",
    "    yourdog = TrainedDog(\"Peko\", 4)\n",
    "    mydog.sit()\n",
    "    yourdog.trick()\n",
    "    yourdog.sit()\n",
    "\n",
    "class Dog:\n",
    "    def __init__(self, name, age):\n",
    "        self.name = name\n",
    "        self.age  = age\n",
    "    def sit(self):\n",
    "        print(\"{0} is now sitting.\".format(self.name))\n",
    "\n",
    "class TrainedDog(Dog): # クラス名の次に「(基底クラス名)」を追加する\n",
    "    def trick(self):\n",
    "        for i in range(self.age):\n",
    "            print(\"bow\")\n",
    "\n",
    "if __name__ == \"__main__\":\n",
    "    main()"
   ]
  },
  {
   "cell_type": "markdown",
   "metadata": {
    "id": "lYng9H8O9y6w"
   },
   "source": [
    "<font color=\"Crimson\">(9｀･ω･)9 ｡oO(派生クラスである `TrainedDog` の定義には `sit()` は含まれていません．しかし，基底クラスである `Dog` を継承しているので `TrainedDog` から生成したインスタンスでは `sit()` を利用できています．)</font>"
   ]
  },
  {
   "cell_type": "markdown",
   "metadata": {
    "id": "pfss9-aY-ONf"
   },
   "source": [
    "###2-5-8. <font color=\"Crimson\">オーバーライド</font>"
   ]
  },
  {
   "cell_type": "markdown",
   "metadata": {
    "id": "O3A73f0y-UjD"
   },
   "source": [
    "これまでに，基底クラスに新たなメソッドを追加する方法である継承を紹介しました．これに対して，派生クラスで基底クラスのメソッドを書き換えることをオーバーライドと言います．オーバーライドは，派生クラスの定義をする際に，基底クラスで定義されているメソッドを再定義することで実現できます．以下のように行います．"
   ]
  },
  {
   "cell_type": "code",
   "execution_count": 67,
   "metadata": {
    "id": "TdXcooiXXpUM"
   },
   "outputs": [
    {
     "name": "stdout",
     "output_type": "stream",
     "text": [
      "Ken is now sitting."
     ]
    },
    {
     "name": "stdout",
     "output_type": "stream",
     "text": [
      "\n",
      "Peko is now sitting and giving its paw.\n"
     ]
    }
   ],
   "source": [
    "#!/usr/bin/env python3\n",
    "\n",
    "def main():\n",
    "    mydog = Dog(\"Ken\", 6)\n",
    "    yourdog = TrainedDog(\"Peko\", 4)\n",
    "    mydog.sit()\n",
    "    yourdog.sit()\n",
    "\n",
    "class Dog:\n",
    "    def __init__(self, name, age):\n",
    "        self.name = name\n",
    "        self.age  = age\n",
    "    def sit(self):\n",
    "        print(\"{0} is now sitting.\".format(self.name))\n",
    "\n",
    "class TrainedDog(Dog):\n",
    "    def sit(self):\n",
    "        print(\"{0} is now sitting and giving its paw.\".format(self.name))\n",
    "\n",
    "if __name__ == \"__main__\":\n",
    "    main()"
   ]
  },
  {
   "cell_type": "markdown",
   "metadata": {
    "id": "2UdLESdyYV6w"
   },
   "source": [
    "派生クラスから生成したインスタンスの `sit()` の挙動が基底クラスのものから変化しているのがわかります．このとき，基底クラスの `sit()` は変化していません．"
   ]
  },
  {
   "cell_type": "markdown",
   "metadata": {
    "id": "HnJdUotkgpph"
   },
   "source": [
    "<font color=\"Crimson\">(9｀･ω･)9 ｡oO(派生クラスで，派生クラスにおいて利用するメソッドを書き換えるのであって，派生クラスで書き換えたメソッドが基底クラスのメソッドを書き換える（明らかに危険な行為）わけではありません．)</font>"
   ]
  },
  {
   "cell_type": "markdown",
   "metadata": {
    "id": "VhlFEBVpYnpE"
   },
   "source": [
    "次に，派生クラスにおいてインスタンス変数を増やします．これを実現するためには，コンストラクタ `__init__()` をオーバーライドする必要があります．このとき，既に基底クラスで定義したインスタンス変数をそのまま利用するためにコンストラクタを呼び出します．基底クラスは `super()` を使って呼び出すことができます．以下のように行います．"
   ]
  },
  {
   "cell_type": "code",
   "execution_count": 68,
   "metadata": {
    "id": "KgmyNRdecxsO"
   },
   "outputs": [
    {
     "name": "stdout",
     "output_type": "stream",
     "text": [
      "Peko is now sitting and giving its paw to Ben.\n"
     ]
    }
   ],
   "source": [
    "#!/usr/bin/env python3\n",
    "\n",
    "def main():\n",
    "    yourdog = TrainedDog(\"Peko\", 4, \"Ben\")\n",
    "    yourdog.sit()\n",
    "\n",
    "class Dog:\n",
    "    def __init__(self, name, age):\n",
    "        self.name = name\n",
    "        self.age  = age\n",
    "    def sit(self):\n",
    "        print(\"{0} is now sitting.\".format(self.name))\n",
    "\n",
    "class TrainedDog(Dog):\n",
    "    def __init__(self, name, age, trainer):\n",
    "        super().__init__(name, age) # この super() は基底クラスを意味する\n",
    "        self.trainer = trainer # 新たなるインスタンス変数\n",
    "    \n",
    "    def sit(self):\n",
    "        print(\"{0} is now sitting and giving its paw to {1}.\".format(self.name, self.trainer))\n",
    "\n",
    "if __name__ == \"__main__\":\n",
    "    main()"
   ]
  },
  {
   "cell_type": "markdown",
   "metadata": {
    "id": "_rfC8Kj03omW"
   },
   "source": [
    "<font color=\"Crimson\">(9｀･ω･)9 ｡oO(終わりです．)</font>"
   ]
  }
 ],
 "metadata": {
  "colab": {
   "authorship_tag": "ABX9TyP6gD0BG8EusFp71aVmWZ6L",
   "collapsed_sections": [],
   "name": "2-python.ipynb",
   "provenance": [],
   "toc_visible": true
  },
  "kernelspec": {
   "display_name": "Python 3",
   "name": "python3"
  },
  "language_info": {
   "codemirror_mode": {
    "name": "ipython",
    "version": 3
   },
   "file_extension": ".py",
   "mimetype": "text/x-python",
   "name": "python",
   "nbconvert_exporter": "python",
   "pygments_lexer": "ipython3",
   "version": "3.7.7"
  }
 },
 "nbformat": 4,
 "nbformat_minor": 0
}