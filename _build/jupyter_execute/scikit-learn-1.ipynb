{
 "cells": [
  {
   "cell_type": "markdown",
   "metadata": {
    "id": "z_xhvUO10XD6"
   },
   "source": [
    "<font color=\"Crimson\" size=6em>Scikit-learn を利用した機械学習入門</font>"
   ]
  },
  {
   "cell_type": "markdown",
   "metadata": {
    "id": "14WgRn5ZRuTK"
   },
   "source": [
    "教材作成者：東北大学大学院 情報科学研究科"
   ]
  },
  {
   "cell_type": "markdown",
   "metadata": {
    "id": "2y0XN6ARACog"
   },
   "source": [
    "#1. <font color=\"Crimson\">はじめに</font>\n"
   ]
  },
  {
   "cell_type": "markdown",
   "metadata": {
    "id": "ds95DHqtKlJ4"
   },
   "source": [
    "##1-1. <font color=\"Crimson\">このコンテンツで学ぶこと</font>"
   ]
  },
  {
   "cell_type": "markdown",
   "metadata": {
    "id": "vUG2j-uyHlSq"
   },
   "source": [
    "Scikit-learn とは様々な機械学習法を Python から利用するためのライブラリです．サポートベクトルマシン，ニューラルネットワーク，決定木等の様々な機械学習法が実装されています．それらをコマンド一発で実行することができます．機械学習アルゴリズムはそれぞれ性質の異なるものですが，Scikit-learn には基本的な書き方があり，それさえ学んでしまえば，ある機械学習法で何らかのデータを解析するプログラムを別の機械学習法でデータを解析するプログラムに書き換えることが容易にできます．深層学習法のライブラリとしては TensorFlow や PyTorch がありますが，それらを使う必要がない場合にはこのライブラリをまずは使ってみることは良い選択肢のひとつかもしれません．\n",
    "\n"
   ]
  },
  {
   "cell_type": "markdown",
   "metadata": {
    "id": "Q2ce0vlXKqht"
   },
   "source": [
    "##1-2. <font color=\"Crimson\">コンパニオン</font>"
   ]
  },
  {
   "cell_type": "markdown",
   "metadata": {
    "id": "KJDm_MN-H5TA"
   },
   "source": [
    "このコンテンツには，受講者の理解を助けるためのコンパニオンがいます．以下のものは「サミー先生」です．サミー先生は今回のこの教材の制作者ではないのですが分かり難いところを詳しく教えてくれます．\n",
    "\n",
    "<font color=\"Crimson\">(9｀･ω･)9 ｡oO(ちゃお！)</font>"
   ]
  },
  {
   "cell_type": "markdown",
   "metadata": {
    "id": "sktR5vGlNZyp"
   },
   "source": [
    "#2. <font color=\"Crimson\">機械学習入門</font>\n"
   ]
  },
  {
   "cell_type": "markdown",
   "metadata": {
    "id": "82Sx06lGrg3K"
   },
   "source": [
    "##2-1. <font color=\"Crimson\">機械学習をする際の心構え</font>"
   ]
  },
  {
   "cell_type": "markdown",
   "metadata": {
    "id": "EliP-z_krg3N"
   },
   "source": [
    "###2-1-1. <font color=\"Crimson\">データ分割の大切さ</font>"
   ]
  },
  {
   "cell_type": "markdown",
   "metadata": {
    "id": "gRpL1SCJr6u0"
   },
   "source": [
    "機械学習を行う際の最も大切なことであるデータセットの構築方法を紹介します．データセットは以下のように分割します．はじめに，元の全データを「学習セット」と「テストセット」に分けます．さらに，学習セットを人工知能の成長（アルゴリズムが持つパラメータの更新）のためだけに利用する「トレーニングセット」と学習が問題なく進んでいるか（過学習や未学習がおこっていないか）を確認するために利用する「バリデーションセット」に分けます．"
   ]
  },
  {
   "cell_type": "markdown",
   "metadata": {
    "id": "CIlFTZGCr5hs"
   },
   "source": [
    "<img src=\"https://drive.google.com/uc?id=1rL7CPuXUa1MTM8MLWUF4_Xez4d9LSWjJ\" width=\"70%\">"
   ]
  },
  {
   "cell_type": "markdown",
   "metadata": {
    "id": "KT9hym8WsQ9m"
   },
   "source": [
    "学習の際には学習セットだけの結果を観察します．学習の際に一瞬でもテストセットにおける予測器の性能を観察するべきではありません．また，「独立であること」もしっかり定義すべきです．データが互いに独立であるとは，機械学習の文脈においては「互いに同じ分布に従うことが予想されるが，その生成過程が異なること」でしょうか．MNIST の学習セットとテストセットには，同一の手書き数字の提供者が同時に含まれている可能性があり，この観点からするとそれらは互いに独立なデータセットではないのかもしれません．"
   ]
  },
  {
   "cell_type": "markdown",
   "metadata": {
    "id": "KyK4sHATtPyf"
   },
   "source": [
    "新たな人工知能を開発してそれを公開する場合，普通，その人工知能の性能をベンチマークし論文や学会で発表します．その性能を評価するために使うデータセットがテストセットです．もしこのテストセットが学習セットと同じような性質を持っているのであれば，その人工知能は新たなデータを処理するときに期待されるような性能を発揮できないかもしれません．学習セットとテストセットが独立でないのならば，学習セットに過剰適合させた人工知能では，あたかもとても良い性能をしているように見えてしまいます．人工知能の実際の現場での活用方法を鑑みるに，人工知能はある特定のデータにだけではなく，様々なデータに対応できる汎化能力を持たなければなりません．"
   ]
  },
  {
   "cell_type": "markdown",
   "metadata": {
    "id": "5X25KJquvDqY"
   },
   "source": [
    "人工知能の開発の研究に関して，その全行程において，データセットの正しい分割は何よりも大切なことです．従来からの科学の分野で研究を続けている人達にとって，機械学習に対する信頼度は未だ低い場合があります．機械学習をやる人がここを適当にやり続ける限り，「機械学習なんて眉唾」みたいな意見はなくならないことをご理解ください．"
   ]
  },
  {
   "cell_type": "markdown",
   "metadata": {
    "id": "bf46EERlezKc"
   },
   "source": [
    "###2-1-2. <font color=\"Crimson\">用語の説明</font>"
   ]
  },
  {
   "cell_type": "markdown",
   "metadata": {
    "id": "ncdUaQ2UezKg"
   },
   "source": [
    "深層学習，機械学習や人工知能に関する用語の整理をします．"
   ]
  },
  {
   "cell_type": "markdown",
   "metadata": {
    "id": "FZyl-g6Tf1qQ"
   },
   "source": [
    "**★予測器と人工知能**\n",
    "\n",
    "予測器と人工知能は同じものを指します．機械学習法によって成長させる対象のことであり，機械学習を行った際の最終産物です．本体は「何らかの入力に対して何らかの出力をするアルゴリズム」と「そのアルゴリズムが必要とするパラメータ（母数）」です．このような特定の問題を解決するための人工知能は特化型人工知能といいます．\n",
    "\n",
    "<font color=\"Crimson\">(9｀･ω･)9 ｡oO(アトムやドラえもんみたいな汎用的に問題を解決できる存在のことは汎用人工知能といいます．また，精神を宿したような存在のことをジョン・サールという人は強い人工知能と表現しましたが，アトムとかドラえもんは汎用人工知能であり強い人工知能です．人が思い描く人工知能とはこういった存在であって，このような単なる予測器を人工知能と呼ぶことに抵抗を持つ人は多いですが，特化型人工知能と正確に呼べば納得してもらえるかもしれません．人工知能という言葉は色々なものを再定義しており，ニューラルネットワークを人工知能というのならば，高校数学で習得する最小二乗法を用いて求める線形回帰直線も人工知能です．)</font>\n",
    "\n",
    "**★インスタンス**\n",
    "\n",
    "データセットにあるひとつのデータのことです．分野によってデータポイントと呼ばれることがありますが，時系列データを扱う際には別の意味でデータポイントという単語が用いられることがあり，インスタンスを使った方がより正確かもしれません．\n",
    "\n",
    "**★学習**\n",
    "\n",
    "人工知能にデータを読ませ成長させる過程を学習と言います．\n",
    "\n",
    "**★回帰問題と分類問題**\n",
    "\n",
    "人工知能を利用して解決しようとする問題は大きく分けてふたつあります．ひとつは回帰問題です．回帰問題は人工知能に何らかの実数の値を出力させる問題です．一方で，分類問題は人工知能にクラスを出力させる問題です．クラスとは「A，B，C」とか「良い，悪い」のような何らかの分類のことです．各クラスの間に実数と他の実数が持つような大小の関係性は定義されません．これは例えば，「0という手書きの数字が書かれている画像」と「1という手書きの数字が書かれている画像」を分類するというような場合においても当てはまります．このような問題の場合，人工知能の最終的な出力は0または1でありますが，これは人工知能にとって単なるシンボルであって，人工知能は「0という手書きの数字が書かれている画像」が「1という手書きの数字が書かれている画像」より小さいから0という出力をするのではなく，単に「0という手書きの数字が書かれている画像」にある0というパターンが0というシンボルと類似しており，1というシンボルと類似していないため，0を出力するに過ぎません．\n",
    "\n",
    "**★入力ベクトル，ターゲットベクトル，出力ベクトル**\n",
    "\n",
    "入力ベクトルとは人工知能を成長させるため，または，開発した人工知能に予測をさせるために入力するデータです．入力ベクトルの各インスタンスは基本的にはベクトルの型式をしているため入力ベクトルと呼ばれます（本当は入力データ，ターゲットデータ，出力データと呼んだ方が良いかもしれないです）．インプットベクトルとも呼ばれます．ターゲットベクトルは教師あり学習の際に入力ベクトルとペアになっているベクトルです．1次元からなるベクトルは，実質スカラですが，ベクトルと呼びます．教師ベクトルとも呼ばれます．出力ベクトルは入力ベクトルを人工知能に処理させたときに出力されるベクトルです．教師あり学習の場合，このベクトルの値がターゲットベクトルに似ているほど良いです（人工知能の性能が）．\n",
    "\n",
    "**★エポック**\n",
    "\n",
    "用意したトレーニングデータセット（パラメータ更新にのみ用いるデータセット）の全部を人工知能が処理する時間の単位です．1エポックだと全データを人工知能が舐めたことになります．2エポックだと2回ほど人工知能が全データを舐めたことになります．学習の過程では繰り返しデータを人工知能に読ませるのです．\n",
    "\n",
    "**★損失（ロス）と損失関数（ロス関数）とコスト関数**\n",
    "\n",
    "人工知能が出力する値とターゲット（教師）の値がどれだけ似ていないかを表す指標です．これが小さいほど，人工知能はターゲットに近い値を出力できることになります．よって，この損失を小さくすることが学習の目標です．損失を計算するための関数を損失関数と言います．また，コストは損失と似ているものですが，正則化項（人工知能の過剰適合を防ぐために用いる値）を損失に加えた場合の小さくする目標の関数です．それを計算する関数をコスト関数と言います．損失関数とコスト関数はどちらも場合によって学習の目的関数となり得ます．\n",
    "\n",
    "**★正確度と精度**\n",
    "\n",
    "正確度とは英語では accuracy と記述されます．略記で ACC とも表現されます．真陽性，偽陽性，偽陰性，真陰性をそれぞれ $a$，$b$，$c$，$d$ とするとき正確度 $u$ は以下の式で定義されます：\n",
    "\n",
    "$u=\\displaystyle\\frac{a+d}{a+b+c+d}$．\n",
    "\n",
    "また，精度は英語では precision と記述されます．これは陽性的中率のことであって英語では positive predictive value であり，PPV と略記されます．精度 $v$ は以下の式で定義されます：\n",
    "\n",
    "$v=\\displaystyle\\frac{a}{a+b}$．\n",
    "\n",
    "つまり，これは陽性と予想した場合の数に対して本当に陽性であった場合の数の割合です．人工知能の性能を表現するために精度という単語を使う人がたくさんいます．精度は人工知能を評価するひとつの指標に過ぎません．しかも，この指標は正確度や MCC や F1 と比較して頑健な評価指標ではなく，人工知能の開発者が自由に調整できてしまう値です．これだけで人工知能の性能は評価不可能です．科学的な文脈においては，精度という単語を使いすぎないように気を付ける必要があります（多くの場合，性能というべきでしょう）．その他の指標は以下の Wikipedia が詳しいです．\n",
    "\n",
    "https://en.wikipedia.org/wiki/Precision_and_recall\n",
    "\n",
    "**★パラメータとハイパーパラメータ**\n",
    "\n",
    "パラメータは人工知能を構成する一部です．機械学習法で成長させられるアルゴリズムは何らかの入力に対して何らかの出力をしますが，このアルゴリズムがその計算をするために必要とする値を持っている場合があり，それをパラメータと言います．機械学習ではアルゴリズム自体は変化させずに，パラメータを変化させることによって良い人工知能を作ろうとします．深層学習界隈では最急降下法によってパラメータは更新される場合が多いです．また，学習によって更新されるパラメータとは異なり，学習の前に人間が決めなければならないパラメータがありますが，これをハイパーパラメータと言います．ニューラルネットワークでは，活性化関数の種類であったり，各層のニューロンの数であったり，層の数であったりします．このハイパーパラメータすらも自動で最適化しようとする方法もあり，そういう方法を network architecture search（NAS）と言います．\n",
    "\n",
    "**★二乗誤差**\n",
    "\n",
    "あるベクトルとあるベクトルの距離です．\n",
    "\n",
    "**★ソフトマックス**\n",
    "\n",
    "要素を合計すると1になるベクトルタイプのデータです．各要素の最小値は0です．これを出力する関数をソフトマックス関数と言います．入力ベクトルに対して入力ベクトルと同じ要素次元数のベクトル（ソフトマックス）を出力します．\n",
    "\n",
    "**★一括学習，逐次学習，ミニバッチ学習**\n",
    "\n",
    "一括学習はバッチ学習とも呼ばれます．人工知能を成長させるときにデータを全部読み込ませた後に初めてパラメータを更新します．逐次学習はオンライン学習とも呼ばれます．人工知能を成長させるときにデータを1個ずつ読み込ませ，その都度パラメータを更新する方法です．ミニバッチ学習は全データからあらかじめ決めた分のデータを読み込ませ，その度にパラメータを更新する方法です．ミニバッチ学習のミニバッチサイズが全データサイズと等しいならそれは一括学習で，ミニバッチサイズが1なら逐次学習です．\n",
    "\n",
    "**★早期終了**\n",
    "\n",
    "人工知能を成長させるときに，過学習（データへの過剰適合）が起こる前に学習を停止させることです．最もナイーブには，学習の最中に最も良い性能を示した値を記録しておき，その値を $n$ 回連続で更新しなかった場合に学習を打ち切る方法があります．この $n$ 回のことを patience と言います．\n",
    "\n",
    "**★オプティマイザ**\n",
    "\n",
    "最急降下法は最もナイーブな最適化法のひとつです．学習をより良く（学習の速さを良くするとか局所解に陥り難くするとか）進めるために様々な最適化法が考案されています．深層学習で用いられる最適化法は基本的には最急降下法を改善した方法です．そういったものをオプティマイザと言います．ここでは，世界で最も利用されているオプティマイザである Adam を紹介します．最初に，最急降下法の式を紹介します．\n",
    "\n",
    "$\\theta_{t+1}=\\theta_t-\\alpha g_t$\n",
    "\n",
    "これに対して，世界で最も利用されているオプティマイザである Adam は以下のような更新式で定義されます．\n",
    "\n",
    "$m_{t+1}=\\beta_{1} m_t+(1-\\beta_{1})g_t$\n",
    "\n",
    "$v_{t+1}=\\beta_{2} v_t+(1-\\beta_{2})g_t^2$\n",
    "\n",
    "$\\hat{m}=\\displaystyle\\frac{m_{t+1}}{1-\\beta_{1}^{t+1}}$\n",
    "\n",
    "$\\hat{v}=\\displaystyle\\frac{v_{t+1}}{1-\\beta_{2}^{t+1}}$\n",
    "\n",
    "$h=\\alpha\\displaystyle\\frac{\\hat{m}}{\\sqrt{\\hat{v}-\\epsilon}}$\n",
    "\n",
    "$\\theta_{t+1}=\\theta_t-h$\n",
    "\n",
    "ハイパーパラメータは以下の4つです．\n",
    "\n",
    "$\\alpha=0.001$，$\\beta_{1}=0.9$，$\\beta_{2}=0.999$，$\\epsilon=10^{-6}$\n",
    "\n",
    "また，Adam のパラメータの初期値として以下の値を用います．\n",
    "\n",
    "$m_0=0$，$v_0=0$\n",
    "\n",
    "Adam がやっていることは，勾配の平均値と分散の値を保存して，その値をうまく利用することで学習率を調整することです．例えば，下に凸である二次関数の曲線で言うと，極小値付近では勾配の値は正の値と負の値を行ったり来たりするはずです．そのような際には何ステップかに渡り記録した勾配の分散の値は大きくなるはずです．また，極小値付近においては勾配の値は小さな値となるはずです．よって，分母を勾配の分散にして，分子を勾配の平均値にした値は小さい値になります．これに対して学習率を掛けると得られる値は小さくなります．これが Adam における更新値であり $h$ です．極小値付近ではパラメータ更新が緩やかになります．\n",
    "\n",
    "<img src=\"https://drive.google.com/uc?id=1eiSgnD5Y5HPHrgpIj5R4BCTifuKu77LK\">\n",
    "\n",
    "これは停留点の中でも厄介な鞍点から，洗練されたオプティマイザがいかに早く抜け出せるかを動画にしたものです．\n",
    "\n",
    "出典：https://rnrahman.com/\n"
   ]
  },
  {
   "cell_type": "markdown",
   "metadata": {
    "id": "CZQz79CS4WfU"
   },
   "source": [
    "#3. <font color=\"Crimson\">Scikit-learn 入門</font>"
   ]
  },
  {
   "cell_type": "markdown",
   "metadata": {
    "id": "q6x6Jp9i4Wfa"
   },
   "source": [
    "##3-1. <font color=\"Crimson\">基本操作</font>"
   ]
  },
  {
   "cell_type": "markdown",
   "metadata": {
    "id": "hRH4_yZ_4Wfa"
   },
   "source": [
    "###3-1-1. <font color=\"Crimson\">インポート</font>"
   ]
  },
  {
   "cell_type": "markdown",
   "metadata": {
    "id": "kSR9bmk5USie"
   },
   "source": [
    "Scikit-learn は以下のようにインポートします．以下のコードではインポートした Scikit-learn のバージョンを表示させています．"
   ]
  },
  {
   "cell_type": "code",
   "execution_count": 1,
   "metadata": {
    "id": "9rJa4-BjX78k"
   },
   "outputs": [
    {
     "ename": "ModuleNotFoundError",
     "evalue": "No module named 'sklearn'",
     "output_type": "error",
     "traceback": [
      "\u001b[0;31m---------------------------------------------------------------------------\u001b[0m",
      "\u001b[0;31mModuleNotFoundError\u001b[0m                       Traceback (most recent call last)",
      "\u001b[0;32m/tmp/ipykernel_177076/1434207431.py\u001b[0m in \u001b[0;36m<module>\u001b[0;34m\u001b[0m\n\u001b[1;32m      1\u001b[0m \u001b[0;31m#!/usr/bin/env python3\u001b[0m\u001b[0;34m\u001b[0m\u001b[0;34m\u001b[0m\u001b[0;34m\u001b[0m\u001b[0m\n\u001b[0;32m----> 2\u001b[0;31m \u001b[0;32mimport\u001b[0m \u001b[0msklearn\u001b[0m\u001b[0;34m\u001b[0m\u001b[0;34m\u001b[0m\u001b[0m\n\u001b[0m\u001b[1;32m      3\u001b[0m \u001b[0;34m\u001b[0m\u001b[0m\n\u001b[1;32m      4\u001b[0m \u001b[0;32mdef\u001b[0m \u001b[0mmain\u001b[0m\u001b[0;34m(\u001b[0m\u001b[0;34m)\u001b[0m\u001b[0;34m:\u001b[0m\u001b[0;34m\u001b[0m\u001b[0;34m\u001b[0m\u001b[0m\n\u001b[1;32m      5\u001b[0m     \u001b[0mprint\u001b[0m\u001b[0;34m(\u001b[0m\u001b[0msklearn\u001b[0m\u001b[0;34m.\u001b[0m\u001b[0m__version__\u001b[0m\u001b[0;34m)\u001b[0m\u001b[0;34m\u001b[0m\u001b[0;34m\u001b[0m\u001b[0m\n",
      "\u001b[0;31mModuleNotFoundError\u001b[0m: No module named 'sklearn'"
     ]
    }
   ],
   "source": [
    "#!/usr/bin/env python3\n",
    "import sklearn\n",
    " \n",
    "def main():\n",
    "    print(sklearn.__version__)\n",
    "\n",
    "if __name__ == \"__main__\":\n",
    "    main()"
   ]
  },
  {
   "cell_type": "markdown",
   "metadata": {
    "id": "oSKhkQWHO7gP"
   },
   "source": [
    "###3-1-2. <font color=\"Crimson\">データセット</font>"
   ]
  },
  {
   "cell_type": "markdown",
   "metadata": {
    "id": "5SNb1e13lpWu"
   },
   "source": [
    "ここでは，Scikit-learn が備えているデータセットを利用して機械学習アルゴリズムの実装法を紹介します．アイリスというアヤメの咢と花弁のサイズの情報からなる，世界中で利用されてきたとても有名なデータセットを利用します．以下のようにすることでデータセットをダウンロードして中身を表示することができます．"
   ]
  },
  {
   "cell_type": "code",
   "execution_count": 1,
   "metadata": {
    "colab": {
     "base_uri": "https://localhost:8080/"
    },
    "executionInfo": {
     "elapsed": 833,
     "status": "ok",
     "timestamp": 1645868921844,
     "user": {
      "displayName": "Kazunori Yamada",
      "photoUrl": "https://lh3.googleusercontent.com/a/default-user=s64",
      "userId": "02505806892387628048"
     },
     "user_tz": -540
    },
    "id": "A_wcEwgPW4sV",
    "outputId": "9d1e2125-1b73-47d8-f89f-80d464f8b46f"
   },
   "outputs": [
    {
     "name": "stdout",
     "output_type": "stream",
     "text": [
      "{'data': array([[5.1, 3.5, 1.4, 0.2],\n",
      "       [4.9, 3. , 1.4, 0.2],\n",
      "       [4.7, 3.2, 1.3, 0.2],\n",
      "       [4.6, 3.1, 1.5, 0.2],\n",
      "       [5. , 3.6, 1.4, 0.2],\n",
      "       [5.4, 3.9, 1.7, 0.4],\n",
      "       [4.6, 3.4, 1.4, 0.3],\n",
      "       [5. , 3.4, 1.5, 0.2],\n",
      "       [4.4, 2.9, 1.4, 0.2],\n",
      "       [4.9, 3.1, 1.5, 0.1],\n",
      "       [5.4, 3.7, 1.5, 0.2],\n",
      "       [4.8, 3.4, 1.6, 0.2],\n",
      "       [4.8, 3. , 1.4, 0.1],\n",
      "       [4.3, 3. , 1.1, 0.1],\n",
      "       [5.8, 4. , 1.2, 0.2],\n",
      "       [5.7, 4.4, 1.5, 0.4],\n",
      "       [5.4, 3.9, 1.3, 0.4],\n",
      "       [5.1, 3.5, 1.4, 0.3],\n",
      "       [5.7, 3.8, 1.7, 0.3],\n",
      "       [5.1, 3.8, 1.5, 0.3],\n",
      "       [5.4, 3.4, 1.7, 0.2],\n",
      "       [5.1, 3.7, 1.5, 0.4],\n",
      "       [4.6, 3.6, 1. , 0.2],\n",
      "       [5.1, 3.3, 1.7, 0.5],\n",
      "       [4.8, 3.4, 1.9, 0.2],\n",
      "       [5. , 3. , 1.6, 0.2],\n",
      "       [5. , 3.4, 1.6, 0.4],\n",
      "       [5.2, 3.5, 1.5, 0.2],\n",
      "       [5.2, 3.4, 1.4, 0.2],\n",
      "       [4.7, 3.2, 1.6, 0.2],\n",
      "       [4.8, 3.1, 1.6, 0.2],\n",
      "       [5.4, 3.4, 1.5, 0.4],\n",
      "       [5.2, 4.1, 1.5, 0.1],\n",
      "       [5.5, 4.2, 1.4, 0.2],\n",
      "       [4.9, 3.1, 1.5, 0.2],\n",
      "       [5. , 3.2, 1.2, 0.2],\n",
      "       [5.5, 3.5, 1.3, 0.2],\n",
      "       [4.9, 3.6, 1.4, 0.1],\n",
      "       [4.4, 3. , 1.3, 0.2],\n",
      "       [5.1, 3.4, 1.5, 0.2],\n",
      "       [5. , 3.5, 1.3, 0.3],\n",
      "       [4.5, 2.3, 1.3, 0.3],\n",
      "       [4.4, 3.2, 1.3, 0.2],\n",
      "       [5. , 3.5, 1.6, 0.6],\n",
      "       [5.1, 3.8, 1.9, 0.4],\n",
      "       [4.8, 3. , 1.4, 0.3],\n",
      "       [5.1, 3.8, 1.6, 0.2],\n",
      "       [4.6, 3.2, 1.4, 0.2],\n",
      "       [5.3, 3.7, 1.5, 0.2],\n",
      "       [5. , 3.3, 1.4, 0.2],\n",
      "       [7. , 3.2, 4.7, 1.4],\n",
      "       [6.4, 3.2, 4.5, 1.5],\n",
      "       [6.9, 3.1, 4.9, 1.5],\n",
      "       [5.5, 2.3, 4. , 1.3],\n",
      "       [6.5, 2.8, 4.6, 1.5],\n",
      "       [5.7, 2.8, 4.5, 1.3],\n",
      "       [6.3, 3.3, 4.7, 1.6],\n",
      "       [4.9, 2.4, 3.3, 1. ],\n",
      "       [6.6, 2.9, 4.6, 1.3],\n",
      "       [5.2, 2.7, 3.9, 1.4],\n",
      "       [5. , 2. , 3.5, 1. ],\n",
      "       [5.9, 3. , 4.2, 1.5],\n",
      "       [6. , 2.2, 4. , 1. ],\n",
      "       [6.1, 2.9, 4.7, 1.4],\n",
      "       [5.6, 2.9, 3.6, 1.3],\n",
      "       [6.7, 3.1, 4.4, 1.4],\n",
      "       [5.6, 3. , 4.5, 1.5],\n",
      "       [5.8, 2.7, 4.1, 1. ],\n",
      "       [6.2, 2.2, 4.5, 1.5],\n",
      "       [5.6, 2.5, 3.9, 1.1],\n",
      "       [5.9, 3.2, 4.8, 1.8],\n",
      "       [6.1, 2.8, 4. , 1.3],\n",
      "       [6.3, 2.5, 4.9, 1.5],\n",
      "       [6.1, 2.8, 4.7, 1.2],\n",
      "       [6.4, 2.9, 4.3, 1.3],\n",
      "       [6.6, 3. , 4.4, 1.4],\n",
      "       [6.8, 2.8, 4.8, 1.4],\n",
      "       [6.7, 3. , 5. , 1.7],\n",
      "       [6. , 2.9, 4.5, 1.5],\n",
      "       [5.7, 2.6, 3.5, 1. ],\n",
      "       [5.5, 2.4, 3.8, 1.1],\n",
      "       [5.5, 2.4, 3.7, 1. ],\n",
      "       [5.8, 2.7, 3.9, 1.2],\n",
      "       [6. , 2.7, 5.1, 1.6],\n",
      "       [5.4, 3. , 4.5, 1.5],\n",
      "       [6. , 3.4, 4.5, 1.6],\n",
      "       [6.7, 3.1, 4.7, 1.5],\n",
      "       [6.3, 2.3, 4.4, 1.3],\n",
      "       [5.6, 3. , 4.1, 1.3],\n",
      "       [5.5, 2.5, 4. , 1.3],\n",
      "       [5.5, 2.6, 4.4, 1.2],\n",
      "       [6.1, 3. , 4.6, 1.4],\n",
      "       [5.8, 2.6, 4. , 1.2],\n",
      "       [5. , 2.3, 3.3, 1. ],\n",
      "       [5.6, 2.7, 4.2, 1.3],\n",
      "       [5.7, 3. , 4.2, 1.2],\n",
      "       [5.7, 2.9, 4.2, 1.3],\n",
      "       [6.2, 2.9, 4.3, 1.3],\n",
      "       [5.1, 2.5, 3. , 1.1],\n",
      "       [5.7, 2.8, 4.1, 1.3],\n",
      "       [6.3, 3.3, 6. , 2.5],\n",
      "       [5.8, 2.7, 5.1, 1.9],\n",
      "       [7.1, 3. , 5.9, 2.1],\n",
      "       [6.3, 2.9, 5.6, 1.8],\n",
      "       [6.5, 3. , 5.8, 2.2],\n",
      "       [7.6, 3. , 6.6, 2.1],\n",
      "       [4.9, 2.5, 4.5, 1.7],\n",
      "       [7.3, 2.9, 6.3, 1.8],\n",
      "       [6.7, 2.5, 5.8, 1.8],\n",
      "       [7.2, 3.6, 6.1, 2.5],\n",
      "       [6.5, 3.2, 5.1, 2. ],\n",
      "       [6.4, 2.7, 5.3, 1.9],\n",
      "       [6.8, 3. , 5.5, 2.1],\n",
      "       [5.7, 2.5, 5. , 2. ],\n",
      "       [5.8, 2.8, 5.1, 2.4],\n",
      "       [6.4, 3.2, 5.3, 2.3],\n",
      "       [6.5, 3. , 5.5, 1.8],\n",
      "       [7.7, 3.8, 6.7, 2.2],\n",
      "       [7.7, 2.6, 6.9, 2.3],\n",
      "       [6. , 2.2, 5. , 1.5],\n",
      "       [6.9, 3.2, 5.7, 2.3],\n",
      "       [5.6, 2.8, 4.9, 2. ],\n",
      "       [7.7, 2.8, 6.7, 2. ],\n",
      "       [6.3, 2.7, 4.9, 1.8],\n",
      "       [6.7, 3.3, 5.7, 2.1],\n",
      "       [7.2, 3.2, 6. , 1.8],\n",
      "       [6.2, 2.8, 4.8, 1.8],\n",
      "       [6.1, 3. , 4.9, 1.8],\n",
      "       [6.4, 2.8, 5.6, 2.1],\n",
      "       [7.2, 3. , 5.8, 1.6],\n",
      "       [7.4, 2.8, 6.1, 1.9],\n",
      "       [7.9, 3.8, 6.4, 2. ],\n",
      "       [6.4, 2.8, 5.6, 2.2],\n",
      "       [6.3, 2.8, 5.1, 1.5],\n",
      "       [6.1, 2.6, 5.6, 1.4],\n",
      "       [7.7, 3. , 6.1, 2.3],\n",
      "       [6.3, 3.4, 5.6, 2.4],\n",
      "       [6.4, 3.1, 5.5, 1.8],\n",
      "       [6. , 3. , 4.8, 1.8],\n",
      "       [6.9, 3.1, 5.4, 2.1],\n",
      "       [6.7, 3.1, 5.6, 2.4],\n",
      "       [6.9, 3.1, 5.1, 2.3],\n",
      "       [5.8, 2.7, 5.1, 1.9],\n",
      "       [6.8, 3.2, 5.9, 2.3],\n",
      "       [6.7, 3.3, 5.7, 2.5],\n",
      "       [6.7, 3. , 5.2, 2.3],\n",
      "       [6.3, 2.5, 5. , 1.9],\n",
      "       [6.5, 3. , 5.2, 2. ],\n",
      "       [6.2, 3.4, 5.4, 2.3],\n",
      "       [5.9, 3. , 5.1, 1.8]]), 'target': array([0, 0, 0, 0, 0, 0, 0, 0, 0, 0, 0, 0, 0, 0, 0, 0, 0, 0, 0, 0, 0, 0,\n",
      "       0, 0, 0, 0, 0, 0, 0, 0, 0, 0, 0, 0, 0, 0, 0, 0, 0, 0, 0, 0, 0, 0,\n",
      "       0, 0, 0, 0, 0, 0, 1, 1, 1, 1, 1, 1, 1, 1, 1, 1, 1, 1, 1, 1, 1, 1,\n",
      "       1, 1, 1, 1, 1, 1, 1, 1, 1, 1, 1, 1, 1, 1, 1, 1, 1, 1, 1, 1, 1, 1,\n",
      "       1, 1, 1, 1, 1, 1, 1, 1, 1, 1, 1, 1, 2, 2, 2, 2, 2, 2, 2, 2, 2, 2,\n",
      "       2, 2, 2, 2, 2, 2, 2, 2, 2, 2, 2, 2, 2, 2, 2, 2, 2, 2, 2, 2, 2, 2,\n",
      "       2, 2, 2, 2, 2, 2, 2, 2, 2, 2, 2, 2, 2, 2, 2, 2, 2, 2]), 'frame': None, 'target_names': array(['setosa', 'versicolor', 'virginica'], dtype='<U10'), 'DESCR': '.. _iris_dataset:\\n\\nIris plants dataset\\n--------------------\\n\\n**Data Set Characteristics:**\\n\\n    :Number of Instances: 150 (50 in each of three classes)\\n    :Number of Attributes: 4 numeric, predictive attributes and the class\\n    :Attribute Information:\\n        - sepal length in cm\\n        - sepal width in cm\\n        - petal length in cm\\n        - petal width in cm\\n        - class:\\n                - Iris-Setosa\\n                - Iris-Versicolour\\n                - Iris-Virginica\\n                \\n    :Summary Statistics:\\n\\n    ============== ==== ==== ======= ===== ====================\\n                    Min  Max   Mean    SD   Class Correlation\\n    ============== ==== ==== ======= ===== ====================\\n    sepal length:   4.3  7.9   5.84   0.83    0.7826\\n    sepal width:    2.0  4.4   3.05   0.43   -0.4194\\n    petal length:   1.0  6.9   3.76   1.76    0.9490  (high!)\\n    petal width:    0.1  2.5   1.20   0.76    0.9565  (high!)\\n    ============== ==== ==== ======= ===== ====================\\n\\n    :Missing Attribute Values: None\\n    :Class Distribution: 33.3% for each of 3 classes.\\n    :Creator: R.A. Fisher\\n    :Donor: Michael Marshall (MARSHALL%PLU@io.arc.nasa.gov)\\n    :Date: July, 1988\\n\\nThe famous Iris database, first used by Sir R.A. Fisher. The dataset is taken\\nfrom Fisher\\'s paper. Note that it\\'s the same as in R, but not as in the UCI\\nMachine Learning Repository, which has two wrong data points.\\n\\nThis is perhaps the best known database to be found in the\\npattern recognition literature.  Fisher\\'s paper is a classic in the field and\\nis referenced frequently to this day.  (See Duda & Hart, for example.)  The\\ndata set contains 3 classes of 50 instances each, where each class refers to a\\ntype of iris plant.  One class is linearly separable from the other 2; the\\nlatter are NOT linearly separable from each other.\\n\\n.. topic:: References\\n\\n   - Fisher, R.A. \"The use of multiple measurements in taxonomic problems\"\\n     Annual Eugenics, 7, Part II, 179-188 (1936); also in \"Contributions to\\n     Mathematical Statistics\" (John Wiley, NY, 1950).\\n   - Duda, R.O., & Hart, P.E. (1973) Pattern Classification and Scene Analysis.\\n     (Q327.D83) John Wiley & Sons.  ISBN 0-471-22361-1.  See page 218.\\n   - Dasarathy, B.V. (1980) \"Nosing Around the Neighborhood: A New System\\n     Structure and Classification Rule for Recognition in Partially Exposed\\n     Environments\".  IEEE Transactions on Pattern Analysis and Machine\\n     Intelligence, Vol. PAMI-2, No. 1, 67-71.\\n   - Gates, G.W. (1972) \"The Reduced Nearest Neighbor Rule\".  IEEE Transactions\\n     on Information Theory, May 1972, 431-433.\\n   - See also: 1988 MLC Proceedings, 54-64.  Cheeseman et al\"s AUTOCLASS II\\n     conceptual clustering system finds 3 classes in the data.\\n   - Many, many more ...', 'feature_names': ['sepal length (cm)', 'sepal width (cm)', 'petal length (cm)', 'petal width (cm)'], 'filename': 'iris.csv', 'data_module': 'sklearn.datasets.data'}\n"
     ]
    }
   ],
   "source": [
    "#!/usr/bin/env python3\n",
    "import sklearn\n",
    "from sklearn.datasets import load_iris\n",
    "\n",
    "def main():\n",
    "    diris = load_iris()\n",
    "    print(diris)\n",
    "\n",
    "if __name__ == \"__main__\":\n",
    "    main()"
   ]
  },
  {
   "cell_type": "markdown",
   "metadata": {
    "id": "roQpAoclYMPm"
   },
   "source": [
    "ダウンロードしたデータセットは以下のように表示されているはずです．\n",
    "\n",
    "```\n",
    "{'data': array([[5.1, 3.5, 1.4, 0.2],\n",
    "       [4.9, 3. , 1.4, 0.2],\n",
    "       [4.7, 3.2, 1.3, 0.2],\n",
    "       ・\n",
    "       ・\n",
    "       略\n",
    "       ・\n",
    "       ・\n",
    "       [6.3, 2.5, 5. , 1.9],\n",
    "       [6.5, 3. , 5.2, 2. ],\n",
    "       [6.2, 3.4, 5.4, 2.3],\n",
    "       [5.9, 3. , 5.1, 1.8]]), 'target': array([0, 0, 0, 0, 0, 0, 0, 0, 0, 0, 0, 0, 0, 0, 0, 0, 0, 0, 0, 0, 0, 0,\n",
    "       0, 0, 0, 0, 0, 0, 0, 0, 0, 0, 0, 0, 0, 0, 0, 0, 0, 0, 0, 0, 0, 0,\n",
    "       0, 0, 0, 0, 0, 0, 1, 1, 1, 1, 1, 1, 1, 1, 1, 1, 1, 1, 1, 1, 1, 1,\n",
    "       1, 1, 1, 1, 1, 1, 1, 1, 1, 1, 1, 1, 1, 1, 1, 1, 1, 1, 1, 1, 1, 1,\n",
    "       1, 1, 1, 1, 1, 1, 1, 1, 1, 1, 1, 1, 2, 2, 2, 2, 2, 2, 2, 2, 2, 2,\n",
    "       2, 2, 2, 2, 2, 2, 2, 2, 2, 2, 2, 2, 2, 2, 2, 2, 2, 2, 2, 2, 2, 2,\n",
    "       2, 2, 2, 2, 2, 2, 2, 2, 2, 2, 2, 2, 2, 2, 2, 2, 2, 2]), 'frame': None, 'target_names': array(['setosa', 'versicolor', ．．．略\n",
    "```\n",
    "最初の行に表示されている `[5.1, 3.5, 1.4, 0.2]` が最初のデータです．4個の要素からなるベクトルデータです．このような4個の要素からなるインスタンスが150個あります．すべてのインスタンスの後に表示されている target という項目がありますが，これは，各インスタンスがどのアヤメの種類に属しているかを示しています．アヤメには種類があるらしく，`0` は setosa，`1` は versicolor，`2` は virginica という種類を意味しています．それぞれ均等にデータが取得されており，全部で150個のインスタンスの内，50個が setosa，別の50個が versicolor，残りの50個が virginica です．各インスタンスは4個の要素からなるベクトルデータであることを紹介しましたが，各要素はそのインスタンスの属性（アトリビュート）と言います．このデータの場合，最初の要素は咢の長さです．咢というのは以下の写真の茎ではない緑色の部分を示すものらしいです．単位は cm です．次の要素は咢の幅，次の要素は花弁（花びら）の長さ，最後の要素は花弁の幅です．どれも単位は cm です．"
   ]
  },
  {
   "cell_type": "markdown",
   "metadata": {
    "id": "081QR11ZX0DE"
   },
   "source": [
    "<img src=\"https://drive.google.com/uc?id=1RoIncS19BL3lHm1WKnccWf1DhFbQid-1\" width=\"20%\">\n",
    "\n",
    "出典：https://ja.wikipedia.org/\n",
    "\n"
   ]
  },
  {
   "cell_type": "markdown",
   "metadata": {
    "id": "E1n90uWlqIjf"
   },
   "source": [
    "この実習では，アイリスデータセットの各インスタンスのベクトルデータを入力データとして，そのインスタンスがどのアヤメの種類に属するのかを予測する予測器を構築します．分類問題です．また，このデータには分類先のデータ，ターゲットデータとしてアヤメの種類（3個）が与えられていますが，このようなターゲットデータ（教師データ）と入力データを用いて行う学習法を教師あり学習法と言います．"
   ]
  },
  {
   "cell_type": "markdown",
   "metadata": {
    "id": "X--DWr3USjco"
   },
   "source": [
    "###3-1-3. <font color=\"Crimson\">決定木による予測器の構築</font>"
   ]
  },
  {
   "cell_type": "markdown",
   "metadata": {
    "id": "UWGvJ21E7Kmk"
   },
   "source": [
    "最初に，データを学習データセットとテストデータセットに分割します．テストデータセットのサイズは全体の2割にします（何割でも良いのですが2割にしてみました）．データセットの分割もとても便利な方法が用意されています．以下のように書きます．"
   ]
  },
  {
   "cell_type": "code",
   "execution_count": null,
   "metadata": {
    "id": "z0LEA4boy4Ui"
   },
   "outputs": [],
   "source": [
    "#!/usr/bin/env python3\n",
    "import sklearn\n",
    "from sklearn.datasets import load_iris\n",
    "from sklearn.model_selection import train_test_split # このような関数がある\n",
    " \n",
    "def main():\n",
    "    diris = load_iris()\n",
    "    learnx, testx, learnt, testt = train_test_split(diris.data, diris.target, test_size = 0.2, random_state = 0) # このように書くと分割できる．ランダムに並べ替えてくれる．\n",
    "    print(learnx) # 学習データセットの入力データ．\n",
    "    print(learnt) # 学習データセットの教師データ．\n",
    "    print(testx) # テストデータセットの入力データ．\n",
    "    print(testt) # テストデータセットの教師データ．\n",
    "\n",
    "if __name__ == \"__main__\":\n",
    "    main()"
   ]
  },
  {
   "cell_type": "markdown",
   "metadata": {
    "id": "Bbp0zHxl8v8d"
   },
   "source": [
    "以下のように書くと決定木による予測器を構築することができます．"
   ]
  },
  {
   "cell_type": "code",
   "execution_count": null,
   "metadata": {
    "id": "q9DoA6fJ81p2"
   },
   "outputs": [],
   "source": [
    "#!/usr/bin/env python3\n",
    "import sklearn\n",
    "from sklearn.datasets import load_iris\n",
    "from sklearn.model_selection import train_test_split\n",
    "from sklearn.tree import DecisionTreeClassifier\n",
    " \n",
    "def main():\n",
    "    diris = load_iris()\n",
    "    learnx, testx, learnt, testt = train_test_split(diris.data, diris.target, test_size = 0.2, random_state = 0)\n",
    "    predictor = DecisionTreeClassifier(random_state=0) # 予測器を生成．ここも乱数の種に注意．\n",
    "    predictor.fit(learnx, learnt) # 学習．\n",
    "    print(predictor.predict(testx)) # テストデータセットの入力データを予測器に入れて結果を予測．\n",
    "    print(testt) # 教師データ．\n",
    "\n",
    "if __name__ == \"__main__\":\n",
    "    main()"
   ]
  },
  {
   "cell_type": "code",
   "execution_count": null,
   "metadata": {
    "id": "JZijW-UmbtiI"
   },
   "outputs": [],
   "source": [
    "#!/usr/bin/env python3\n",
    "import sklearn\n",
    "from sklearn.datasets import load_iris\n",
    "from sklearn.model_selection import train_test_split\n",
    "from sklearn.tree import DecisionTreeClassifier\n",
    " \n",
    "def main():\n",
    "    diris = load_iris()\n",
    "    learnx, testx, learnt, testt = train_test_split(diris.data, diris.target, test_size = 0.2, random_state = 0)\n",
    "\n",
    "    print(testx)\n",
    "    print(testt)\n",
    "\n",
    "if __name__ == \"__main__\":\n",
    "    main()"
   ]
  },
  {
   "cell_type": "markdown",
   "metadata": {
    "id": "HnDMsJC4m7Fr"
   },
   "source": [
    "結果として出力された上段の値とそれに対応する教師データが完全に一致しています．高性能な予測器が作れたということです．"
   ]
  },
  {
   "cell_type": "markdown",
   "metadata": {
    "id": "oSBV_mUo37EC"
   },
   "source": [
    "<font color=\"Crimson\">(9｀･ω･)9 ｡oO(予測器の性能を定量的に示す方法は後で紹介します．)</font>"
   ]
  },
  {
   "cell_type": "markdown",
   "metadata": {
    "id": "tSdn3qjUnPhK"
   },
   "source": [
    "決定木がどのようなものなのかを把握するために，構築された予測器，すなわち，学習済みの決定木を可視化します．以下のように書きます．"
   ]
  },
  {
   "cell_type": "code",
   "execution_count": null,
   "metadata": {
    "id": "3ZSmgLOMN2Gv"
   },
   "outputs": [],
   "source": [
    "#!/usr/bin/env python3\n",
    "import sklearn\n",
    "from sklearn.datasets import load_iris\n",
    "from sklearn.model_selection import train_test_split\n",
    "from sklearn.tree import DecisionTreeClassifier\n",
    "from sklearn.tree import export_graphviz\n",
    "import pydotplus\n",
    "from IPython.display import Image, display_png\n",
    "from graphviz import Digraph\n",
    "from six import StringIO\n",
    " \n",
    "def main():\n",
    "    diris = load_iris()\n",
    "    learnx, testx, learnt, testt = train_test_split(diris.data, diris.target, test_size = 0.2, random_state = 0)\n",
    "    predictor = DecisionTreeClassifier(random_state = 0)\n",
    "    predictor.fit(learnx, learnt)\n",
    "    treedata = StringIO()\n",
    "    export_graphviz(predictor, out_file = treedata, feature_names = diris.feature_names, class_names = diris.target_names)\n",
    "    graph = pydotplus.graph_from_dot_data(treedata.getvalue())\n",
    "    display_png(Image(graph.create_png(), width = 760))\n",
    "\n",
    "if __name__ == \"__main__\":\n",
    "    main()"
   ]
  },
  {
   "cell_type": "markdown",
   "metadata": {
    "id": "5UE9rrz-n_W1"
   },
   "source": [
    "決定木はこのような選択肢の分岐を繰り返すことで入力データを分類する手法です．最上段からスタートします．この場合，咢の幅が `0.8` 以下であるなら（`True` の方向へ進む），データは `setosa` と分類されます．`gini` とありますが，これについて気になった場合は「ジニ不純度」のようなキーワードで検索してみてください．"
   ]
  },
  {
   "cell_type": "markdown",
   "metadata": {
    "id": "a4t1gycAUmnI"
   },
   "source": [
    "###3-1-4. <font color=\"Crimson\">予測器の性能評価</font>"
   ]
  },
  {
   "cell_type": "markdown",
   "metadata": {
    "id": "gXq3UPpfqoob"
   },
   "source": [
    "上のコードではテストデータセットの入力データを入力したときの予測器の出力とテストデータセットの教師データの比較を並べて目視で行いました．予測器の性能を評価する方法があります．評価を行うために混同行列（confusion matrix）というものを計算させます．"
   ]
  },
  {
   "cell_type": "code",
   "execution_count": null,
   "metadata": {
    "id": "-wkHFTca4Ubh"
   },
   "outputs": [],
   "source": [
    "#!/usr/bin/env python3\n",
    "import sklearn\n",
    "from sklearn.datasets import load_iris\n",
    "from sklearn.model_selection import train_test_split\n",
    "from sklearn.tree import DecisionTreeClassifier\n",
    "from sklearn.metrics import confusion_matrix\n",
    " \n",
    "def main():\n",
    "    diris = load_iris()\n",
    "    learnx, testx, learnt, testt = train_test_split(diris.data, diris.target, test_size = 0.2, random_state = 2) # 全部正解してしまうから，乱数の種を変えてみた．\n",
    "    predictor = DecisionTreeClassifier(random_state=0)\n",
    "    predictor.fit(learnx, learnt)\n",
    "    dy = predictor.predict(testx)\n",
    "    cm = confusion_matrix(y_true = testt, y_pred = dy)\n",
    "    print(cm)\n",
    "\n",
    "if __name__ == \"__main__\":\n",
    "    main()"
   ]
  },
  {
   "cell_type": "markdown",
   "metadata": {
    "id": "QwnuAMBk6Jb-"
   },
   "source": [
    "結果は以下のようになりました．\n",
    "```\n",
    "[[14  0  0]\n",
    " [ 0  7  1]\n",
    " [ 0  1  7]]\n",
    " ```\n",
    " すべての数字を合計するとテストデータセットのサイズである30となります．1行目は，最初の要素から，本当は setosa であるものを setosa と予測したものの数，versicolor と予測したものの数，virginica と予測したものの数です．2行目は，本当は versicolor であるものに対するそれぞれの予測結果の数，3行目は，本当は virginica であるものに対するそれぞれの予測結果の数が示されています．すなわち，この行列の対角要素の個数は予測器の正解個数です．よってこの予測器の正確度は，28 を 30 で割った値，0.9333 と計算されます．正確度は以下のように計算することも可能です．\n"
   ]
  },
  {
   "cell_type": "code",
   "execution_count": null,
   "metadata": {
    "id": "sMouag4u_iK5"
   },
   "outputs": [],
   "source": [
    "#!/usr/bin/env python3\n",
    "import sklearn\n",
    "from sklearn.datasets import load_iris\n",
    "from sklearn.model_selection import train_test_split\n",
    "from sklearn.tree import DecisionTreeClassifier\n",
    " \n",
    "def main():\n",
    "    diris = load_iris()\n",
    "    learnx, testx, learnt, testt = train_test_split(diris.data, diris.target, test_size = 0.2, random_state = 2) # 全部正解してしまうから，乱数の種を変えてみた．\n",
    "    predictor = DecisionTreeClassifier(random_state=0)\n",
    "    predictor.fit(learnx, learnt)\n",
    "    print(predictor.score(testx, testt))\n",
    "\n",
    "if __name__ == \"__main__\":\n",
    "    main()"
   ]
  },
  {
   "cell_type": "markdown",
   "metadata": {
    "id": "BNUyZJU1SNw5"
   },
   "source": [
    "###3-1-5. <font color=\"Crimson\">他のアルゴリズムの利用</font>"
   ]
  },
  {
   "cell_type": "markdown",
   "metadata": {
    "id": "TcLqUL2VAcFi"
   },
   "source": [
    "他の様々な機械学習アルゴリズムに同じ計算をさせます．サポートベクトルマシンの分類に利用可能な方法 SVC を利用します（回帰問題には SVR を利用します）．以下のように書きます．この場合の正確度は 0.9667 となりました．決定木を用いた場合と（ほぼ）同じ結果です．"
   ]
  },
  {
   "cell_type": "code",
   "execution_count": null,
   "metadata": {
    "id": "twmVfCDqArUX"
   },
   "outputs": [],
   "source": [
    "#!/usr/bin/env python3\n",
    "import sklearn\n",
    "from sklearn.datasets import load_iris\n",
    "from sklearn.model_selection import train_test_split\n",
    "from sklearn.svm import SVC # 決定木ではなくて SVC をインポートする．\n",
    " \n",
    "def main():\n",
    "    diris = load_iris()\n",
    "    learnx, testx, learnt, testt = train_test_split(diris.data, diris.target, test_size = 0.2, random_state = 2)\n",
    "    predictor = SVC(random_state=0) # SVC を利用する．\n",
    "    predictor.fit(learnx, learnt)\n",
    "    print(predictor.score(testx, testt))\n",
    "\n",
    "if __name__ == \"__main__\":\n",
    "    main()"
   ]
  },
  {
   "cell_type": "markdown",
   "metadata": {
    "id": "8r02kULjBVRF"
   },
   "source": [
    "<font color=\"Crimson\">(9｀･ω･)9 ｡oO(たった1行を書き換えるだけで別の機械学習法を利用できました．これが Scikit-learn の強みです．)</font>"
   ]
  },
  {
   "cell_type": "markdown",
   "metadata": {
    "id": "XRdHPdr-BoDn"
   },
   "source": [
    "多層パーセプトロンを利用します．英語では multilayer perceptron（MLP）というものです．深層学習で利用されるニューラルネットワークの最も基礎的な手法です．この場合，正確度は 1.0 と計算されました．"
   ]
  },
  {
   "cell_type": "code",
   "execution_count": null,
   "metadata": {
    "id": "QBV9daWsBq1B"
   },
   "outputs": [],
   "source": [
    "#!/usr/bin/env python3\n",
    "import sklearn\n",
    "from sklearn.datasets import load_iris\n",
    "from sklearn.model_selection import train_test_split\n",
    "from sklearn.neural_network import MLPClassifier # 変更する．\n",
    " \n",
    "def main():\n",
    "    diris = load_iris()\n",
    "    learnx, testx, learnt, testt = train_test_split(diris.data, diris.target, test_size = 0.2, random_state = 2)\n",
    "    predictor = MLPClassifier(random_state=0) # MLP を利用する．\n",
    "    predictor.fit(learnx, learnt)\n",
    "    print(predictor.score(testx, testt))\n",
    "\n",
    "if __name__ == \"__main__\":\n",
    "    main()"
   ]
  },
  {
   "cell_type": "markdown",
   "metadata": {
    "id": "lMOHdOp4TYU4"
   },
   "source": [
    "ロジスティック回帰法を利用します．ロジスティック回帰は名前に回帰という文字が入っていますが分類問題に用いられる方法です．この場合も大体同じような正確度が得られました．"
   ]
  },
  {
   "cell_type": "code",
   "execution_count": null,
   "metadata": {
    "id": "EWPv-6P8TXsA"
   },
   "outputs": [],
   "source": [
    "#!/usr/bin/env python3\n",
    "import sklearn\n",
    "from sklearn.datasets import load_iris\n",
    "from sklearn.model_selection import train_test_split\n",
    "from sklearn.linear_model import LogisticRegression # 変更する．\n",
    " \n",
    "def main():\n",
    "    diris = load_iris()\n",
    "    learnx, testx, learnt, testt = train_test_split(diris.data, diris.target, test_size = 0.2, random_state = 2)\n",
    "    predictor = LogisticRegression(random_state=0) # MLP を利用する．\n",
    "    predictor.fit(learnx, learnt)\n",
    "    print(predictor.score(testx, testt))\n",
    "\n",
    "if __name__ == \"__main__\":\n",
    "    main()"
   ]
  },
  {
   "cell_type": "markdown",
   "metadata": {
    "id": "8GDPaJGMTyP8"
   },
   "source": [
    "このように Scikit-learn を利用すれば，様々な機械学習アルゴリズムをとても観点に実装することができます．Scikit-learn で利用可能な方法はまだまだたくさんあります．それらの方法は https://scikit-learn.org/stable/supervised_learning.html にまとめられています．\n",
    "\n",
    "\n"
   ]
  },
  {
   "cell_type": "markdown",
   "metadata": {
    "id": "7ePSwZcWSjcn"
   },
   "source": [
    "##3-2. <font color=\"Crimson\">実際の解析で必要なこと</font>"
   ]
  },
  {
   "cell_type": "markdown",
   "metadata": {
    "id": "Ik2I9_l3Sjcn"
   },
   "source": [
    "###3-2-1. <font color=\"Crimson\">モデルの保存と呼び出し</font>"
   ]
  },
  {
   "cell_type": "markdown",
   "metadata": {
    "id": "Xj-a-Es8UpOx"
   },
   "source": [
    "これまでにとても簡単に Scikit-learn を利用した機械学習法の実装法を紹介しました．実際のデータ解析を行う際には，もう少し別の作業が必要です．例えば，構築した予測器は未知の新たなデータに対して利用したいため，どこかに置いて使える状態にしておきたいと思います（上では学習とテストを同時に行いましたが，予測器を利用する度に学習を行うのは良い方法ではありません．というか通常，想像を絶する悪手です．）．このためには，構築した予測器をファイルとして保存できなければなりません．モデル（予測器）の保存は以下のように行います．"
   ]
  },
  {
   "cell_type": "code",
   "execution_count": null,
   "metadata": {
    "id": "qnbwX5c2ViLO"
   },
   "outputs": [],
   "source": [
    "#!/usr/bin/env python3\n",
    "import sklearn\n",
    "from sklearn.datasets import load_iris\n",
    "from sklearn.model_selection import train_test_split\n",
    "from sklearn.svm import SVC\n",
    "import pickle # インポートする．\n",
    " \n",
    "def main():\n",
    "    diris = load_iris()\n",
    "    learnx, testx, learnt, testt = train_test_split(diris.data, diris.target, test_size = 0.2, random_state = 2)\n",
    "    predictor = SVC(random_state=0)\n",
    "    predictor.fit(learnx, learnt)\n",
    "    fout = open(\"./predictor.sav\", \"wb\") # wは書き込みを意味します．bはバイナリを意味します．\n",
    "    pickle.dump(predictor, fout) # 予測器のファイルへの保存．\n",
    "    fout.close()\n",
    "\n",
    "if __name__ == \"__main__\":\n",
    "    main()"
   ]
  },
  {
   "cell_type": "markdown",
   "metadata": {
    "id": "M_XtkADWaUaV"
   },
   "source": [
    "これで予測器の情報がファイル，predictor.sav としてが保存されました．以下のようにすることでこの計算機上（Google Colaboratory が動いている Google の所有物のどこか遠くにある計算機上）に保存されたファイルを確認することができます．"
   ]
  },
  {
   "cell_type": "code",
   "execution_count": null,
   "metadata": {
    "id": "5o0zAXK9apR0"
   },
   "outputs": [],
   "source": [
    "! ls"
   ]
  },
  {
   "cell_type": "markdown",
   "metadata": {
    "id": "86pjcK3yauXk"
   },
   "source": [
    "<font color=\"Crimson\">(9｀･ω･)9 ｡oO(これは Python のコマンドではありません．Google Colaboratory のコードセルは通常，Python を実行させるためのものです．「!」をコマンドの前に付けて実行すると，この計算機のシェルを動かすことができます．)</font>"
   ]
  },
  {
   "cell_type": "markdown",
   "metadata": {
    "id": "PyAQNu8tbDPv"
   },
   "source": [
    "上のコマンドを実行すると確かに predictor.sav というファイルが保存されていることが確認できました．次はこのファイルを別のプログラムから呼び出して利用します．以下のように書きます．"
   ]
  },
  {
   "cell_type": "code",
   "execution_count": null,
   "metadata": {
    "id": "X8E392J8bTNo"
   },
   "outputs": [],
   "source": [
    "#!/usr/bin/env python3\n",
    "import sklearn\n",
    "from sklearn.datasets import load_iris\n",
    "from sklearn.model_selection import train_test_split\n",
    "import pickle\n",
    " \n",
    "def main():\n",
    "    fin = open(\"./predictor.sav\", \"rb\") # rは読み込みを意味します．\n",
    "    predictor = pickle.load(fin) # 予測器の読み込み．\n",
    "    fin.close()\n",
    "    diris = load_iris()\n",
    "    learnx, testx, learnt, testt = train_test_split(diris.data, diris.target, test_size = 0.2, random_state = 2)\n",
    "    print(predictor.score(testx, testt))\n",
    "\n",
    "if __name__ == \"__main__\":\n",
    "    main()"
   ]
  },
  {
   "cell_type": "markdown",
   "metadata": {
    "id": "pfw3pUObcJos"
   },
   "source": [
    "このプログラムでは SVC をインポートすらしていないし，学習データセットの学習をするためにコードも書いていないのに，しっかりと予測器が動いていることを確認できます．つまり，学習済み決定木を読み込めたということを意味しています．"
   ]
  },
  {
   "cell_type": "markdown",
   "metadata": {
    "id": "IhqexdELSjcn"
   },
   "source": [
    "###3-2-2. <font color=\"Crimson\">ハイパーパラメータの探索</font>"
   ]
  },
  {
   "cell_type": "markdown",
   "metadata": {
    "id": "pcdG2rGCkFmN"
   },
   "source": [
    "機械学習では未学習の決定木やニューラルネットワークやサポートベクトルマシンに学習データセットを学習させます．これらの手法は学習によって何を成長（変化）させているかというと，パラメータと呼ばれる値です．例えば，以下のような線形回帰式のパラメータは $w_1$，$w_2$，$w_3$，$b$ です．この値を学習データセットに適合させることが各機械学習アルゴリズムが行っていることです．\n",
    "\n",
    "\\begin{eqnarray}\n",
    "f(x_1,x_2,x_3)=w_1x_1+w_2x_2+w_3x_3+b\n",
    "\\end{eqnarray}\n",
    "\n",
    "機械学習アルゴリズムは学習の過程においてパラメータの値を変化させます．これに対して，学習によって決定されないパラメータをハイパーパラメータと言います．例えば，決定木においてはその分岐の深さをあらかじめ決めて分岐の仕方を学習させることができますが，これはハイパーパラメータのひとつです．また，機械学習アルゴリズムに持たせるパラメータのサイズもハイパーパラメータであるし，そのパラメータを学習させる最適化法もハイパーパラメータと言えます．このようなハイパーパラメータは各機械学習アルゴリズムが固有に持っているものです．最適なハイパーパラメータを決定することは，機械学習の利用者の腕の見せ所のひとつです．"
   ]
  },
  {
   "cell_type": "markdown",
   "metadata": {
    "id": "Tj1jqA2Bm6dL"
   },
   "source": [
    "ハイパーパラメータを決定するための探索法には様々なものがあります．例えば，ランダムに決定したハイパーパラメータを利用して学習を完了させ，その性能を擬似的なテストデータセット（バリデーションデータセット）を用いて評価し，最も性能が良くなるハイパーパラメータを最終的なハイパーパラメータとする方法があります．また，ランダム探索より効率的に探索するために，ベイズ最適化法（以前のハイパーパラメータを利用した学習の結果を利用してより良さそうなハイパーパラメータを探索する方法）や進化計算法（離散最適化法の一種）が利用されています．そんな中において，最もナイーブですが強力な探索法としてグリッドサーチがあります．しらみつぶし的にあり得そうなハイパーパラメータの組み合わせを全部計算してしまう方法です．例えば，ハイパーパラメータをふたつ持つ機械学習アルゴリズムについて，最初のハイパーパラメータの値の候補として10点が考えられるとして，また，もうひとつのハイパーパラメータの値の候補として5点が考えられるとした場合，それらを掛け算した組み合わせ分，すなわち50種類のハイパーパラメータの組み合わせすべてで学習を行う方法です．グリッドサーチは以下のように行います．ここではサポートベクトルマシンのハイパーパラメータである「カーネル」と「ガンマ」と「C」の値の組み合わせを探索しています（どのような性質を持つものか興味があったら調べてみてください）．"
   ]
  },
  {
   "cell_type": "code",
   "execution_count": null,
   "metadata": {
    "id": "hoghn38rpcrR"
   },
   "outputs": [],
   "source": [
    "#!/usr/bin/env python3\n",
    "import sklearn\n",
    "from sklearn.datasets import load_iris\n",
    "from sklearn.model_selection import train_test_split, GridSearchCV # インポートする\n",
    "from sklearn.svm import SVC\n",
    " \n",
    "def main():\n",
    "    diris = load_iris()\n",
    "    learnx, testx, learnt, testt = train_test_split(diris.data, diris.target, test_size = 0.2, random_state = 2)\n",
    "    diparameter = {\n",
    "        \"kernel\" : [\"rbf\"], # 1点\n",
    "        \"gamma\" : [10**i for i in range(-4, 2)], # 5点．\n",
    "        \"C\" : [10**i for i in range(-2,4)], # 6点\n",
    "        \"random_state\" : [0], # 1点\n",
    "        } # 探索するハイパーパラメータの候補をディクショナリで指定する．この場合，合計30点探索する．\n",
    "    licv = GridSearchCV(SVC(), param_grid = diparameter, scoring = \"accuracy\", cv = 5, n_jobs = 1) # SVCを使うことを指定．上のハイパーパラメータ候補を探索する．\n",
    "    licv.fit(learnx, learnt) # グリッドサーチ．\n",
    "    predictor = licv.best_estimator_ # グリッドサーチの結果，最も良い予測器を最終的な予測器とする．\n",
    "    print(predictor.score(testx, testt))\n",
    "\n",
    "if __name__ == \"__main__\":\n",
    "    main()"
   ]
  },
  {
   "cell_type": "markdown",
   "metadata": {
    "id": "YT0HUxlaru74"
   },
   "source": [
    "グリッドサーチの際には，クロスバリデーションによる評価を行っています．ここでは，`cv = 5` と指定しています．学習データセットを5分割にし，それらの内の4分割分で学習を行い，残りの1分割分で擬似テストをし，次に別の4分割分で学習を行い，残りの1分割分で擬似テストをする，という行為を合計5回行うという操作です．最終的なハイパーパラメータとしてどのような値が選択されたのかは以下のように書くことでわかります．"
   ]
  },
  {
   "cell_type": "code",
   "execution_count": null,
   "metadata": {
    "id": "RFNeFuXOsHko"
   },
   "outputs": [],
   "source": [
    "#!/usr/bin/env python3\n",
    "import sklearn\n",
    "from sklearn.datasets import load_iris\n",
    "from sklearn.model_selection import train_test_split, GridSearchCV\n",
    "from sklearn.svm import SVC\n",
    " \n",
    "def main():\n",
    "    diris = load_iris()\n",
    "    learnx, testx, learnt, testt = train_test_split(diris.data, diris.target, test_size = 0.2, random_state = 2)\n",
    "    diparameter = {\n",
    "        \"kernel\" : [\"rbf\"],\n",
    "        \"gamma\" : [10**i for i in range(-4, 2)],\n",
    "        \"C\" : [10**i for i in range(-2,4)],\n",
    "        \"random_state\" : [0],\n",
    "        }\n",
    "    licv = GridSearchCV(SVC(), param_grid = diparameter, scoring = \"accuracy\", cv = 5, n_jobs = 1)\n",
    "    licv.fit(learnx, learnt)\n",
    "    predictor = licv.best_estimator_\n",
    "    print(sorted(predictor.get_params(True).items())) # 選択されたハイパーパラメータを確認．\n",
    "\n",
    "if __name__ == \"__main__\":\n",
    "    main()"
   ]
  },
  {
   "cell_type": "markdown",
   "metadata": {
    "id": "5ojK8FlgVQN0"
   },
   "source": [
    "###3-2-3. <font color=\"Crimson\">方法の選択</font>"
   ]
  },
  {
   "cell_type": "markdown",
   "metadata": {
    "id": "ZBOvW9CQcY2X"
   },
   "source": [
    "機械学習アルゴリズムにはとてもたくさんの種類があります．どのような場合に（どのようなデータセットに対して，また，どのような問題に対して）どの方法を使えば良いかを Scikit-learn がまとめてくれています．以下のチートシートです．これは経験に基づいた選択方法です．実際にはデータセットの性質によって最適な手法は変わるものであるため必ずしも正しいとは限りません．"
   ]
  },
  {
   "cell_type": "markdown",
   "metadata": {
    "id": "FZZSPpvvVoBp"
   },
   "source": [
    "<img src=\"https://drive.google.com/uc?id=1FUTedjoFUz8SU4EqypWF6UfnaXCR7Z6H\" width=\"80%\">\n"
   ]
  },
  {
   "cell_type": "markdown",
   "metadata": {
    "id": "NfukCsp4V1Ox"
   },
   "source": [
    "出典：https://scikit-learn.org/"
   ]
  },
  {
   "cell_type": "markdown",
   "metadata": {
    "id": "_rfC8Kj03omW"
   },
   "source": [
    "<font color=\"Crimson\">(9｀･ω･)9 ｡oO(終わりです．)</font>"
   ]
  }
 ],
 "metadata": {
  "colab": {
   "authorship_tag": "ABX9TyPwRExwUriqy6W6wcy4lvS5",
   "collapsed_sections": [],
   "name": "3-scikit-learn.ipynb",
   "provenance": [],
   "toc_visible": true
  },
  "kernelspec": {
   "display_name": "Python 3",
   "name": "python3"
  },
  "language_info": {
   "codemirror_mode": {
    "name": "ipython",
    "version": 3
   },
   "file_extension": ".py",
   "mimetype": "text/x-python",
   "name": "python",
   "nbconvert_exporter": "python",
   "pygments_lexer": "ipython3",
   "version": "3.7.7"
  }
 },
 "nbformat": 4,
 "nbformat_minor": 0
}