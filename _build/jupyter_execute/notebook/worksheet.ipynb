{
 "cells": [
  {
   "cell_type": "markdown",
   "metadata": {
    "id": "z_xhvUO10XD6"
   },
   "source": [
    "# 演習問題"
   ]
  },
  {
   "cell_type": "markdown",
   "metadata": {
    "id": "82Sx06lGrg3K"
   },
   "source": [
    "## プログラミングの基礎\n",
    "\n"
   ]
  },
  {
   "cell_type": "markdown",
   "metadata": {
    "id": "k-S6ghDZpmSG"
   },
   "source": [
    "「プログラミングの基礎」で触れた事柄に関する問題集です．講義資料に載っていない事柄に取り組みますが，現実世界でプログラミングはそういう課題に取り組むことではじめて実力がつきます．"
   ]
  },
  {
   "cell_type": "markdown",
   "metadata": {
    "id": "q_JF0juYn7zh"
   },
   "source": [
    "### 1-1 行列の掛け算"
   ]
  },
  {
   "cell_type": "markdown",
   "metadata": {
    "id": "Glcf3sb6n3Q7"
   },
   "source": [
    "以下の行列の掛け算を NumPy 等のライブラリを用いずに計算するためのプログラムを書いてください．\n",
    "\n",
    "$\n",
    "  \\left[\n",
    "    \\begin{array}{ccc}\n",
    "      1 & 2 & 3 \\\\\n",
    "      3 & 4 & 5\\\\\n",
    "    \\end{array}\n",
    "  \\right]\n",
    "  \\times\n",
    "  \\left[\n",
    "    \\begin{array}{cc}\n",
    "      5 & 6 \\\\\n",
    "      6 & 7 \\\\\n",
    "      7 & 8 \\\\\n",
    "    \\end{array}\n",
    "  \\right]\n",
    "$"
   ]
  },
  {
   "cell_type": "code",
   "execution_count": null,
   "metadata": {
    "id": "sNZW1PBkwNGR"
   },
   "outputs": [],
   "source": [
    "#!/usr/bin/env python3\n",
    "\n",
    "def main():\n",
    "    # ここにプログラムを書く．\n",
    "\n",
    "if __name__ == \"__main__\":\n",
    "    main()"
   ]
  },
  {
   "cell_type": "markdown",
   "metadata": {
    "id": "SvR9Vk92akjY"
   },
   "source": [
    "```{note}\n",
    "行列の掛け算なんてライブラリ使わずにやることなんてないからなんて不毛な問題なんだ，と思うかもしれないのですが，プログラミング初心者がこれをできるようになるということは `for` の使い方と動き方をしっかり理解していることの確認となり，その観点からは有意義です．\n",
    "```"
   ]
  },
  {
   "cell_type": "markdown",
   "metadata": {
    "id": "EliP-z_krg3N"
   },
   "source": [
    "### 1-2 ファイルの処理"
   ]
  },
  {
   "cell_type": "markdown",
   "metadata": {
    "id": "BCZ44f1Bn7zi"
   },
   "source": [
    "シェルのコマンドに `wget` というものがありますが，これを使うとインターネット上から情報を取得することができます．Wikipedia の「334」という項目は以下の URL に載っています．\n",
    "\n",
    "https://ja.wikipedia.org/wiki/334\n",
    "\n",
    "この URL にアクセスして表示されるテキストの中に `334` という値が何個あるか数えるプログラムを作ってください．"
   ]
  },
  {
   "cell_type": "markdown",
   "metadata": {
    "id": "ZRSePUhH6oZE"
   },
   "source": [
    "最初に，`wget` で URL にアクセスしてその情報全部を `wikipedia-334.txt` というファイル名で現在のディレクトリに保存してください．"
   ]
  },
  {
   "cell_type": "code",
   "execution_count": null,
   "metadata": {
    "id": "o1HGyEdM55_F"
   },
   "outputs": [],
   "source": [
    "# ここにシェルのコマンドを書く．"
   ]
  },
  {
   "cell_type": "markdown",
   "metadata": {
    "id": "vQ_ydu5H64hY"
   },
   "source": [
    "```{hint}\n",
    "オプションコマンド `-O` を利用するとファイル名を指定して保存できます．\n",
    "```"
   ]
  },
  {
   "cell_type": "markdown",
   "metadata": {
    "id": "hSoMjlQn-dhg"
   },
   "source": [
    "次に，このファイルを Python で読んで `334` という文字列が何個あるかカウントして，カウントした結果だけを出力してください．"
   ]
  },
  {
   "cell_type": "code",
   "execution_count": null,
   "metadata": {
    "id": "kiEly6NQn3mi"
   },
   "outputs": [],
   "source": [
    "#!/usr/bin/env python3\n",
    "\n",
    "def main():\n",
    "    # ここにプログラムを書く．\n",
    "\n",
    "if __name__ == \"__main__\":\n",
    "    main()"
   ]
  },
  {
   "cell_type": "markdown",
   "metadata": {
    "id": "_m0ohV2Y-vrQ"
   },
   "source": [
    "```{hint}\n",
    "ファイルがどこにあるかわからない人は「カレントディレクトリ」という概念を調べてみましょう．\n",
    "```"
   ]
  },
  {
   "cell_type": "markdown",
   "metadata": {
    "id": "zGnQnFjooH3u"
   },
   "source": [
    "## scikit-learn を利用した機械学習\n",
    "\n"
   ]
  },
  {
   "cell_type": "markdown",
   "metadata": {
    "id": "zd-MotPPoH3w"
   },
   "source": [
    "「scikit-learn を利用した機械学習」で触れた事柄に関する問題集です．これも講義資料に載っていない事柄に取り組みますが，現実世界でプログラミングはそういう課題に取り組むことではじめて実力がつきます．"
   ]
  },
  {
   "cell_type": "markdown",
   "metadata": {
    "id": "Ygl-97P2oH3w"
   },
   "source": [
    "### 2-1 探索的データ解析"
   ]
  },
  {
   "cell_type": "markdown",
   "metadata": {
    "id": "P_f9XQ5UoH3x"
   },
   "source": [
    "探索的データ解析とはこれから利用しようとするデータセットを様々な角度から観察してデータの性質を把握しようとする行為のことです．英語では exploratory data analysis（EDA）と呼ばれます．ここでは，scikit-learn から利用可能な breast cancer wisconsin (diagnostic) dataset なるデータセットを利用します．以下のように読み込むことができます．"
   ]
  },
  {
   "cell_type": "code",
   "execution_count": null,
   "metadata": {
    "id": "QkmmaCAOoH3x"
   },
   "outputs": [],
   "source": [
    "#!/usr/bin/env python3\n",
    "import sklearn\n",
    "from sklearn.datasets import load_breast_cancer\n",
    "\n",
    "def main():\n",
    "    dBreastCancer = load_breast_cancer()\n",
    "    print(dBreastCancer)\n",
    "\n",
    "if __name__ == \"__main__\":\n",
    "    main()"
   ]
  },
  {
   "cell_type": "markdown",
   "metadata": {
    "id": "hwZ-_Ws2IRz7"
   },
   "source": [
    "```{hint}\n",
    "なんとなく紹介したくなくて触れなかったのですが，`pandas` ていうライブラリのデータフレームというものの使い方を調べるとこのデータを上手に扱えるようになると思います．\n",
    "```"
   ]
  },
  {
   "cell_type": "markdown",
   "metadata": {
    "id": "TJgTtNCnWFmA"
   },
   "source": [
    "最も簡単な解析はデータセットのインスタンスサイズを知ることであったり，各アトリビュートの意味を知ることであったり，教師データの性質を知ることであったりするでしょう．次に，各アトリビュートと教師データの関連性を図で表現することが考えられます．"
   ]
  },
  {
   "cell_type": "markdown",
   "metadata": {
    "id": "TMbotVS0W1yz"
   },
   "source": [
    "最初に，何か図を利用しない解析を行う何らかのプログラムを書いてください．"
   ]
  },
  {
   "cell_type": "code",
   "execution_count": null,
   "metadata": {
    "id": "NHZYwdR8W0My"
   },
   "outputs": [],
   "source": [
    "#!/usr/bin/env python3\n",
    "import sklearn\n",
    "from sklearn.datasets import load_breast_cancer\n",
    "\n",
    "def main():\n",
    "    dBreastCancer = load_breast_cancer()\n",
    "    # ここにプログラムを書く．\n",
    "\n",
    "if __name__ == \"__main__\":\n",
    "    main()"
   ]
  },
  {
   "cell_type": "markdown",
   "metadata": {
    "id": "UtU-NgQhXDDJ"
   },
   "source": [
    "次に，何か図を描画することでデータの性質を把握するためのプログラムを書いてください．"
   ]
  },
  {
   "cell_type": "code",
   "execution_count": null,
   "metadata": {
    "id": "2uRe0-N2XDDK"
   },
   "outputs": [],
   "source": [
    "#!/usr/bin/env python3\n",
    "import sklearn\n",
    "from sklearn.datasets import load_breast_cancer\n",
    "%matplotlib inline\n",
    "import matplotlib.pyplot as plt\n",
    "\n",
    "def main():\n",
    "    dBreastCancer = load_breast_cancer()\n",
    "    # ここにプログラムを書く．\n",
    "\n",
    "if __name__ == \"__main__\":\n",
    "    main()"
   ]
  },
  {
   "cell_type": "markdown",
   "metadata": {
    "id": "k9ZYETQ4oH3x"
   },
   "source": [
    "### 2-2 ほげ"
   ]
  },
  {
   "cell_type": "markdown",
   "metadata": {
    "id": "4stxC3iloH3y"
   },
   "source": []
  },
  {
   "cell_type": "code",
   "execution_count": null,
   "metadata": {
    "id": "ymkB5baIoH3y"
   },
   "outputs": [],
   "source": []
  },
  {
   "cell_type": "markdown",
   "metadata": {
    "id": "DhapWHNZoH3y"
   },
   "source": [
    "### 2-3 ほげ"
   ]
  },
  {
   "cell_type": "markdown",
   "metadata": {
    "id": "truVl6S3oH30"
   },
   "source": []
  },
  {
   "cell_type": "code",
   "execution_count": null,
   "metadata": {
    "id": "A5SpSP54oH30"
   },
   "outputs": [],
   "source": []
  },
  {
   "cell_type": "markdown",
   "metadata": {
    "id": "YzEZvAPFoIap"
   },
   "source": [
    "## 深層学習\n",
    "\n"
   ]
  },
  {
   "cell_type": "markdown",
   "metadata": {
    "id": "ZIPVON4koIar"
   },
   "source": [
    "「深層学習」で触れた事柄に関する問題集です．またしても講義資料に載っていない事柄に取り組みますが，現実世界でプログラミングはそういう課題に取り組むことではじめて実力がつきます．"
   ]
  },
  {
   "cell_type": "markdown",
   "metadata": {
    "id": "gg78KvPqoIas"
   },
   "source": [
    "### 3-1 ほげ"
   ]
  },
  {
   "cell_type": "markdown",
   "metadata": {
    "id": "hs9e2PWFoIat"
   },
   "source": []
  },
  {
   "cell_type": "code",
   "execution_count": null,
   "metadata": {
    "id": "hhYmWOb4oIav"
   },
   "outputs": [],
   "source": []
  },
  {
   "cell_type": "markdown",
   "metadata": {
    "id": "zVlnPNEsoIav"
   },
   "source": [
    "### 3-2 ほげ"
   ]
  },
  {
   "cell_type": "markdown",
   "metadata": {
    "id": "4HB5PKYpoIaw"
   },
   "source": []
  },
  {
   "cell_type": "code",
   "execution_count": null,
   "metadata": {
    "id": "l8sVgHZjoIax"
   },
   "outputs": [],
   "source": []
  },
  {
   "cell_type": "markdown",
   "metadata": {
    "id": "l9DYMiWSoIay"
   },
   "source": [
    "### 3-3 ほげ"
   ]
  },
  {
   "cell_type": "markdown",
   "metadata": {
    "id": "5kSHed99oIay"
   },
   "source": []
  },
  {
   "cell_type": "code",
   "execution_count": null,
   "metadata": {
    "id": "ank0w_7GoIaz"
   },
   "outputs": [],
   "source": []
  },
  {
   "cell_type": "markdown",
   "metadata": {
    "id": "V2h2QaWZoIa0"
   },
   "source": [
    "### 3-4 ほげ"
   ]
  },
  {
   "cell_type": "markdown",
   "metadata": {
    "id": "pcEQn6tFoIa1"
   },
   "source": []
  },
  {
   "cell_type": "code",
   "execution_count": null,
   "metadata": {
    "id": "Nkjja1XBoIa2"
   },
   "outputs": [],
   "source": []
  },
  {
   "cell_type": "markdown",
   "metadata": {
    "id": "g4I_5CeIoIvs"
   },
   "source": [
    "### 3-5 ほげ"
   ]
  },
  {
   "cell_type": "markdown",
   "metadata": {
    "id": "9E7HTzVLoIvs"
   },
   "source": []
  },
  {
   "cell_type": "code",
   "execution_count": null,
   "metadata": {
    "id": "cvq_zfjVoIvt"
   },
   "outputs": [],
   "source": []
  },
  {
   "cell_type": "markdown",
   "metadata": {
    "id": "1JlXkjPhYL87"
   },
   "source": [
    "## 配点と採点基準"
   ]
  },
  {
   "cell_type": "markdown",
   "metadata": {
    "id": "wI_5ESSrYSdD"
   },
   "source": [
    "配点は各問題についてそれぞれ 10 点です．採点者は以下のような採点基準で点数をつけます．\n",
    "\n",
    "| 点 | 基準 |\n",
    "|    :---:     |    ---   |\n",
    "| 10 | この解答が良い評価を得ないのであれば二度と採点者を引き受けない． |\n",
    "| 9 | この解答が良い評価を得るために戦う． |\n",
    "| 8 | この解答が良い評価を得るべきであることを主張する． |\n",
    "| 7 | この解答は良い評価を得るべきであると主張するが，場合によって悪い評価を得たしても許容可能． |\n",
    "| 6 | この解答が良い評価を得てほしいものの，そうでなくても問題ない． |\n",
    "| 5 | この解答が良い評価を得てほしくないものの，そうでなくても問題ない． |\n",
    "| 4 | この解答が良い評価を得ないと主張するが，場合によって良い評価を得たとしても許容可能． |\n",
    "| 3 | この解答が良い評価を得ないことを主張する． |\n",
    "| 2 | この解答が良い評価を得ないために戦う． |\n",
    "| 1 | この解答が良い評価を得るのだとしたら二度と採点者を引き受けない． |\n",
    "| 0 | 解答がないため採点できない． |\n"
   ]
  },
  {
   "cell_type": "markdown",
   "metadata": {
    "id": "_rfC8Kj03omW"
   },
   "source": [
    "```{note}\n",
    "終わりです．\n",
    "```"
   ]
  }
 ],
 "metadata": {
  "accelerator": "GPU",
  "colab": {
   "collapsed_sections": [],
   "provenance": [],
   "toc_visible": true
  },
  "kernelspec": {
   "display_name": "Python 3 (ipykernel)",
   "language": "python",
   "name": "python3"
  },
  "language_info": {
   "codemirror_mode": {
    "name": "ipython",
    "version": 3
   },
   "file_extension": ".py",
   "mimetype": "text/x-python",
   "name": "python",
   "nbconvert_exporter": "python",
   "pygments_lexer": "ipython3",
   "version": "3.7.7"
  }
 },
 "nbformat": 4,
 "nbformat_minor": 0
}