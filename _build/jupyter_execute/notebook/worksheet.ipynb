{
 "cells": [
  {
   "cell_type": "markdown",
   "metadata": {
    "id": "z_xhvUO10XD6"
   },
   "source": [
    "# 演習問題"
   ]
  },
  {
   "cell_type": "markdown",
   "metadata": {
    "id": "82Sx06lGrg3K"
   },
   "source": [
    "## プログラミングの基礎\n",
    "\n"
   ]
  },
  {
   "cell_type": "markdown",
   "metadata": {
    "id": "k-S6ghDZpmSG"
   },
   "source": [
    "「プログラミングの基礎」で触れた事柄に関する問題集です．"
   ]
  },
  {
   "cell_type": "markdown",
   "metadata": {
    "id": "EliP-z_krg3N"
   },
   "source": [
    "### 1-1 ほげ"
   ]
  },
  {
   "cell_type": "markdown",
   "metadata": {
    "id": "Glcf3sb6n3Q7"
   },
   "source": []
  },
  {
   "cell_type": "code",
   "execution_count": null,
   "metadata": {
    "id": "kiEly6NQn3mi"
   },
   "outputs": [],
   "source": []
  },
  {
   "cell_type": "markdown",
   "metadata": {
    "id": "aLr98JPJn5-p"
   },
   "source": [
    "### 1-2 ほげ"
   ]
  },
  {
   "cell_type": "markdown",
   "metadata": {
    "id": "o7_moIgjn5-r"
   },
   "source": []
  },
  {
   "cell_type": "code",
   "execution_count": null,
   "metadata": {
    "id": "uVut0JBUn5-s"
   },
   "outputs": [],
   "source": []
  },
  {
   "cell_type": "markdown",
   "metadata": {
    "id": "fb8SzU1Zn7m-"
   },
   "source": [
    "### 1-3 ほげ"
   ]
  },
  {
   "cell_type": "markdown",
   "metadata": {
    "id": "7wWdwvOyn7m_"
   },
   "source": []
  },
  {
   "cell_type": "code",
   "execution_count": null,
   "metadata": {
    "id": "CMY951tCn7nA"
   },
   "outputs": [],
   "source": []
  },
  {
   "cell_type": "markdown",
   "metadata": {
    "id": "q_JF0juYn7zh"
   },
   "source": [
    "### 1-4 ほげ"
   ]
  },
  {
   "cell_type": "markdown",
   "metadata": {
    "id": "BCZ44f1Bn7zi"
   },
   "source": []
  },
  {
   "cell_type": "code",
   "execution_count": null,
   "metadata": {
    "id": "wWwswsmjn7zj"
   },
   "outputs": [],
   "source": []
  },
  {
   "cell_type": "markdown",
   "metadata": {
    "id": "ZtoWU-waoqDZ"
   },
   "source": [
    "### 1-5 ほげ"
   ]
  },
  {
   "cell_type": "markdown",
   "metadata": {
    "id": "pu3QAbo8oqDc"
   },
   "source": []
  },
  {
   "cell_type": "code",
   "execution_count": null,
   "metadata": {
    "id": "aw3-inz-oqDd"
   },
   "outputs": [],
   "source": []
  },
  {
   "cell_type": "markdown",
   "metadata": {
    "id": "zGnQnFjooH3u"
   },
   "source": [
    "## scikit-learn を利用した機械学習\n",
    "\n"
   ]
  },
  {
   "cell_type": "markdown",
   "metadata": {
    "id": "zd-MotPPoH3w"
   },
   "source": [
    "「scikit-learn を利用した機械学習」で触れた事柄に関する問題集です．"
   ]
  },
  {
   "cell_type": "markdown",
   "metadata": {
    "id": "Ygl-97P2oH3w"
   },
   "source": [
    "### 1-1 ほげ"
   ]
  },
  {
   "cell_type": "markdown",
   "metadata": {
    "id": "P_f9XQ5UoH3x"
   },
   "source": []
  },
  {
   "cell_type": "code",
   "execution_count": null,
   "metadata": {
    "id": "QkmmaCAOoH3x"
   },
   "outputs": [],
   "source": []
  },
  {
   "cell_type": "markdown",
   "metadata": {
    "id": "k9ZYETQ4oH3x"
   },
   "source": [
    "### 1-2 ほげ"
   ]
  },
  {
   "cell_type": "markdown",
   "metadata": {
    "id": "4stxC3iloH3y"
   },
   "source": []
  },
  {
   "cell_type": "code",
   "execution_count": null,
   "metadata": {
    "id": "ymkB5baIoH3y"
   },
   "outputs": [],
   "source": []
  },
  {
   "cell_type": "markdown",
   "metadata": {
    "id": "DhapWHNZoH3y"
   },
   "source": [
    "### 1-3 ほげ"
   ]
  },
  {
   "cell_type": "markdown",
   "metadata": {
    "id": "truVl6S3oH30"
   },
   "source": []
  },
  {
   "cell_type": "code",
   "execution_count": null,
   "metadata": {
    "id": "A5SpSP54oH30"
   },
   "outputs": [],
   "source": []
  },
  {
   "cell_type": "markdown",
   "metadata": {
    "id": "Mtkb2K2qoH31"
   },
   "source": [
    "### 1-4 ほげ"
   ]
  },
  {
   "cell_type": "markdown",
   "metadata": {
    "id": "uUjTWEtQoH31"
   },
   "source": []
  },
  {
   "cell_type": "code",
   "execution_count": null,
   "metadata": {
    "id": "LZQ30YMIoH31"
   },
   "outputs": [],
   "source": []
  },
  {
   "cell_type": "markdown",
   "metadata": {
    "id": "YzEZvAPFoIap"
   },
   "source": [
    "## 深層学習\n",
    "\n"
   ]
  },
  {
   "cell_type": "markdown",
   "metadata": {
    "id": "ZIPVON4koIar"
   },
   "source": [
    "プログラミングの基礎で触れた事柄に関する問題集です．"
   ]
  },
  {
   "cell_type": "markdown",
   "metadata": {
    "id": "gg78KvPqoIas"
   },
   "source": [
    "### 1-1 ほげ"
   ]
  },
  {
   "cell_type": "markdown",
   "metadata": {
    "id": "hs9e2PWFoIat"
   },
   "source": []
  },
  {
   "cell_type": "code",
   "execution_count": null,
   "metadata": {
    "id": "hhYmWOb4oIav"
   },
   "outputs": [],
   "source": []
  },
  {
   "cell_type": "markdown",
   "metadata": {
    "id": "zVlnPNEsoIav"
   },
   "source": [
    "### 1-2 ほげ"
   ]
  },
  {
   "cell_type": "markdown",
   "metadata": {
    "id": "4HB5PKYpoIaw"
   },
   "source": []
  },
  {
   "cell_type": "code",
   "execution_count": null,
   "metadata": {
    "id": "l8sVgHZjoIax"
   },
   "outputs": [],
   "source": []
  },
  {
   "cell_type": "markdown",
   "metadata": {
    "id": "l9DYMiWSoIay"
   },
   "source": [
    "### 1-3 ほげ"
   ]
  },
  {
   "cell_type": "markdown",
   "metadata": {
    "id": "5kSHed99oIay"
   },
   "source": []
  },
  {
   "cell_type": "code",
   "execution_count": null,
   "metadata": {
    "id": "ank0w_7GoIaz"
   },
   "outputs": [],
   "source": []
  },
  {
   "cell_type": "markdown",
   "metadata": {
    "id": "V2h2QaWZoIa0"
   },
   "source": [
    "### 1-4 ほげ"
   ]
  },
  {
   "cell_type": "markdown",
   "metadata": {
    "id": "pcEQn6tFoIa1"
   },
   "source": []
  },
  {
   "cell_type": "code",
   "execution_count": null,
   "metadata": {
    "id": "Nkjja1XBoIa2"
   },
   "outputs": [],
   "source": []
  },
  {
   "cell_type": "markdown",
   "metadata": {
    "id": "g4I_5CeIoIvs"
   },
   "source": [
    "### 1-1 ほげ"
   ]
  },
  {
   "cell_type": "markdown",
   "metadata": {
    "id": "9E7HTzVLoIvs"
   },
   "source": []
  },
  {
   "cell_type": "code",
   "execution_count": null,
   "metadata": {
    "id": "cvq_zfjVoIvt"
   },
   "outputs": [],
   "source": []
  },
  {
   "cell_type": "markdown",
   "metadata": {
    "id": "qINTSvnLoIvt"
   },
   "source": [
    "### 1-2 ほげ"
   ]
  },
  {
   "cell_type": "markdown",
   "metadata": {
    "id": "u23jBCLcoIvv"
   },
   "source": []
  },
  {
   "cell_type": "code",
   "execution_count": null,
   "metadata": {
    "id": "GIyXfZR7oIvw"
   },
   "outputs": [],
   "source": []
  },
  {
   "cell_type": "markdown",
   "metadata": {
    "id": "3wP_8IWooIvx"
   },
   "source": [
    "### 1-3 ほげ"
   ]
  },
  {
   "cell_type": "markdown",
   "metadata": {
    "id": "IXdNM6HJoIvx"
   },
   "source": []
  },
  {
   "cell_type": "code",
   "execution_count": null,
   "metadata": {
    "id": "tK78-l8woIvx"
   },
   "outputs": [],
   "source": []
  },
  {
   "cell_type": "markdown",
   "metadata": {
    "id": "qn52dM4IoIvy"
   },
   "source": [
    "### 1-4 ほげ"
   ]
  },
  {
   "cell_type": "markdown",
   "metadata": {
    "id": "-FZD6JwFoIvy"
   },
   "source": []
  },
  {
   "cell_type": "code",
   "execution_count": null,
   "metadata": {
    "id": "KdH41_H8oIvz"
   },
   "outputs": [],
   "source": []
  },
  {
   "cell_type": "markdown",
   "metadata": {
    "id": "_rfC8Kj03omW"
   },
   "source": [
    "```{note}\n",
    "終わりです．\n",
    "```"
   ]
  }
 ],
 "metadata": {
  "accelerator": "GPU",
  "colab": {
   "collapsed_sections": [],
   "provenance": [],
   "toc_visible": true
  },
  "kernelspec": {
   "display_name": "Python 3 (ipykernel)",
   "language": "python",
   "name": "python3"
  },
  "language_info": {
   "codemirror_mode": {
    "name": "ipython",
    "version": 3
   },
   "file_extension": ".py",
   "mimetype": "text/x-python",
   "name": "python",
   "nbconvert_exporter": "python",
   "pygments_lexer": "ipython3",
   "version": "3.7.7"
  }
 },
 "nbformat": 4,
 "nbformat_minor": 0
}