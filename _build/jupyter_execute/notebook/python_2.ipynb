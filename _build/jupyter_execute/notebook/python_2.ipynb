{
 "cells": [
  {
   "cell_type": "markdown",
   "metadata": {
    "id": "qYlGzlhhpV8T"
   },
   "source": [
    "# Python の発展的な使用方法"
   ]
  },
  {
   "cell_type": "markdown",
   "metadata": {
    "id": "-hb7pK6hrsXU"
   },
   "source": [
    "## NumPy の利用方法"
   ]
  },
  {
   "cell_type": "markdown",
   "metadata": {
    "id": "c7r5wATgpeCV"
   },
   "source": [
    "NumPy とは Python で利用可能な数値計算のライブラリです．さまざまな計算をコマンド一発で行うことができます．後の章で紹介する TensorFlow の書き方がこの NumPy の書き方に似ていて，それらを相互に利用できたほうが良いので紹介します．"
   ]
  },
  {
   "cell_type": "markdown",
   "metadata": {
    "id": "wWUK_JlIRKLv"
   },
   "source": [
    "### NumPy のインポート"
   ]
  },
  {
   "cell_type": "markdown",
   "metadata": {
    "id": "G2JTc9B2u6eP"
   },
   "source": [
    "NumPy は以下のようにしてインポートします．読み込んだ NumPy には `np` という略称を与えることが普通です．"
   ]
  },
  {
   "cell_type": "code",
   "execution_count": null,
   "metadata": {
    "id": "9caFDQD5u7GK"
   },
   "outputs": [],
   "source": [
    "#!/usr/bin/env python3\n",
    "import numpy as np\n",
    " \n",
    "def main():\n",
    "    pass\n",
    " \n",
    "if __name__ == \"__main__\":\n",
    "    main()"
   ]
  },
  {
   "cell_type": "markdown",
   "metadata": {
    "id": "Ou54J1GSu5lH"
   },
   "source": [
    "### ベクトルの基本的な計算"
   ]
  },
  {
   "cell_type": "markdown",
   "metadata": {
    "id": "8vyX9tMc2-N0"
   },
   "source": [
    "ベクトルは以下のように生成します．"
   ]
  },
  {
   "cell_type": "code",
   "execution_count": null,
   "metadata": {
    "id": "1Sfrz00w28dk"
   },
   "outputs": [],
   "source": [
    "#!/usr/bin/env python3\n",
    "import numpy as np\n",
    " \n",
    "def main():\n",
    "    print(np.array([1, 2, 3]))\n",
    " \n",
    "if __name__ == \"__main__\":\n",
    "    main()"
   ]
  },
  {
   "cell_type": "markdown",
   "metadata": {
    "id": "Cp3gVDtj4NYJ"
   },
   "source": [
    "要素の参照は普通の Python 配列と同じようにできます．もちろんゼロオリジンです．"
   ]
  },
  {
   "cell_type": "code",
   "execution_count": null,
   "metadata": {
    "id": "UPZCL7Xk4Tap"
   },
   "outputs": [],
   "source": [
    "#!/usr/bin/env python3\n",
    "import numpy as np\n",
    " \n",
    "def main():\n",
    "    na = np.array([1, 2, 3])\n",
    "    print(na[0])\n",
    " \n",
    "if __name__ == \"__main__\":\n",
    "    main()"
   ]
  },
  {
   "cell_type": "markdown",
   "metadata": {
    "id": "f_MhoqAf3KVP"
   },
   "source": [
    "ベクトルの四則計算は以下のようにします．NumPy は基本的に要素ごとに（element-wise）値を計算します．"
   ]
  },
  {
   "cell_type": "code",
   "execution_count": null,
   "metadata": {
    "id": "7KDrCwHE3Il5"
   },
   "outputs": [],
   "source": [
    "#!/usr/bin/env python3\n",
    "import numpy as np\n",
    " \n",
    "def main():\n",
    "    na = np.array([1, 2, 3])\n",
    "    nb = np.array([5, 7, 9])\n",
    "    print(na + nb)\n",
    "    print(na - nb)\n",
    "    print(na * nb)\n",
    "    print(nb / na)\n",
    " \n",
    "if __name__ == \"__main__\":\n",
    "    main()"
   ]
  },
  {
   "cell_type": "markdown",
   "metadata": {
    "id": "jNu3_0ZQ5mzI"
   },
   "source": [
    "コピーをする際は気を使わなければならない点があります．あるベクトルから別のベクトル変数を生成，つまり，コピーでベクトルを生成した場合，その生成したベクトルを元のベクトルと別のものとして扱いたい場合は以下のようにしなければなりません．以下では，8行目と9行目で元のベクトルとコピーで生成されたベクトルの要素をそれぞれ別の値で変更していますが，それぞれ別の値にて要素が置換されていることがわかります．"
   ]
  },
  {
   "cell_type": "code",
   "execution_count": null,
   "metadata": {
    "id": "eEObaENI4yOq"
   },
   "outputs": [],
   "source": [
    "#!/usr/bin/env python3\n",
    "import numpy as np\n",
    " \n",
    "def main():\n",
    "    na = np.array([1, 1])\n",
    "    nb = na.copy()\n",
    "    print(na, nb)\n",
    "    na[0] = 2\n",
    "    nb[0] = 3\n",
    "    print(na, nb)\n",
    " \n",
    "if __name__ == \"__main__\":\n",
    "    main()"
   ]
  },
  {
   "cell_type": "markdown",
   "metadata": {
    "id": "EusViho88jHP"
   },
   "source": [
    "一方で，以下のように `=` を使ってコピー（のようなこと）をすると生成されたベクトルは元のベクトルの参照となってしまい，（この場合の）意図している操作は実現されません．上の挙動とこの挙動は把握していないと結構危険です．"
   ]
  },
  {
   "cell_type": "code",
   "execution_count": null,
   "metadata": {
    "id": "_jZzalCi-Tdp"
   },
   "outputs": [],
   "source": [
    "#!/usr/bin/env python3\n",
    "import numpy as np\n",
    " \n",
    "def main():\n",
    "    na = np.array([1, 1])\n",
    "    nb = na\n",
    "    print(na, nb)\n",
    "    na[0] = 2\n",
    "    nb[0] = 3\n",
    "    print(na, nb)\n",
    " \n",
    "if __name__ == \"__main__\":\n",
    "    main()"
   ]
  },
  {
   "cell_type": "markdown",
   "metadata": {
    "id": "qE5FNb0C-1pJ"
   },
   "source": [
    "### 行列の基本的な計算"
   ]
  },
  {
   "cell_type": "markdown",
   "metadata": {
    "id": "E4Y-nMgP_bDA"
   },
   "source": [
    "行列を生成するためにも，`np.array()` を利用します．さらに，行列のサイズは `.shape` によって確認することができます．"
   ]
  },
  {
   "cell_type": "code",
   "execution_count": null,
   "metadata": {
    "id": "CPlbC4WM_Fd9"
   },
   "outputs": [],
   "source": [
    "#!/usr/bin/env python3\n",
    "import numpy as np\n",
    " \n",
    "def main():\n",
    "    na = np.array([[1, 2], [3, 4]])\n",
    "    print(na)\n",
    "    print(na.shape)\n",
    " \n",
    "if __name__ == \"__main__\":\n",
    "    main()"
   ]
  },
  {
   "cell_type": "markdown",
   "metadata": {
    "id": "zJiMPnykIPCw"
   },
   "source": [
    "行列の要素には以下のようにしてアクセスします．この場合，1行1列目の値にアクセスしています．"
   ]
  },
  {
   "cell_type": "code",
   "execution_count": null,
   "metadata": {
    "id": "p27Jq3tsIQQD"
   },
   "outputs": [],
   "source": [
    "#!/usr/bin/env python3\n",
    "import numpy as np\n",
    " \n",
    "def main():\n",
    "    na = np.array([[1, 2], [3, 4]])\n",
    "    print(na[0,0])\n",
    " \n",
    "if __name__ == \"__main__\":\n",
    "    main()"
   ]
  },
  {
   "cell_type": "markdown",
   "metadata": {
    "id": "S5vvwQ36_xJn"
   },
   "source": [
    "NumPy 行列は以下のようなアクセスの方法があります．行ごとまたは列ごとのアクセスです．これは多用します．"
   ]
  },
  {
   "cell_type": "code",
   "execution_count": null,
   "metadata": {
    "id": "1w9JbZ5i_7AI"
   },
   "outputs": [],
   "source": [
    "#!/usr/bin/env python3\n",
    "import numpy as np\n",
    " \n",
    "def main():\n",
    "    na = np.array([[1, 2], [3, 4]])\n",
    "    print(na[0,:]) # all elements of row 1\n",
    "    print(na[:,1]) # all elements of column 2\n",
    "\n",
    "if __name__ == \"__main__\":\n",
    "    main()"
   ]
  },
  {
   "cell_type": "markdown",
   "metadata": {
    "id": "zyHe1cU0Non8"
   },
   "source": [
    "以下のようにすると行列に関する様々な統計値を得ることができます．"
   ]
  },
  {
   "cell_type": "code",
   "execution_count": null,
   "metadata": {
    "id": "X41d70OHNo3o"
   },
   "outputs": [],
   "source": [
    "#!/usr/bin/env python3\n",
    "import numpy as np\n",
    " \n",
    "def main():\n",
    "    na = np.array([[1, 2], [3, 4]])\n",
    "    print(na.max())\n",
    "    print(na.min())\n",
    "    print(na.sum())\n",
    "    print(na.mean())\n",
    "    print(na.var())\n",
    "    print(na.std())\n",
    "\n",
    "if __name__ == \"__main__\":\n",
    "    main()"
   ]
  },
  {
   "cell_type": "markdown",
   "metadata": {
    "id": "0V52wFh_OAob"
   },
   "source": [
    "```{note}\n",
    "全知全能なんですね．\n",
    "```"
   ]
  },
  {
   "cell_type": "markdown",
   "metadata": {
    "id": "zPdB7h0HI8cr"
   },
   "source": [
    "以下の `np.zeros()` や `np.ones()` を用いると引数で指定したサイズの，全要素が0または1の行列を生成することができます．"
   ]
  },
  {
   "cell_type": "code",
   "execution_count": null,
   "metadata": {
    "id": "iFnFmuwlJLwg"
   },
   "outputs": [],
   "source": [
    "#!/usr/bin/env python3\n",
    "import numpy as np\n",
    " \n",
    "def main():\n",
    "    print(np.zeros((3,3)))\n",
    "    print(np.ones((4,4)))\n",
    "\n",
    "if __name__ == \"__main__\":\n",
    "    main()"
   ]
  },
  {
   "cell_type": "markdown",
   "metadata": {
    "id": "mV52BqjvLaqx"
   },
   "source": [
    "四則計算は以下のようにします．これもやはり，element-wise な計算です．"
   ]
  },
  {
   "cell_type": "code",
   "execution_count": null,
   "metadata": {
    "id": "vPIwJNN7LaEO"
   },
   "outputs": [],
   "source": [
    "#!/usr/bin/env python3\n",
    "import numpy as np\n",
    " \n",
    "def main():\n",
    "    na = np.array([[1, 2], [3, 4]])\n",
    "    nb = np.array([[5, 6], [7, 8]])\n",
    "    print(na + nb)\n",
    "    print(nb - na)\n",
    "    print(na * nb)\n",
    "    print(nb / na)\n",
    "\n",
    "if __name__ == \"__main__\":\n",
    "    main()"
   ]
  },
  {
   "cell_type": "markdown",
   "metadata": {
    "id": "4TfXRxQ_NFSh"
   },
   "source": [
    "行列の掛け算は以下のようにします．"
   ]
  },
  {
   "cell_type": "code",
   "execution_count": null,
   "metadata": {
    "id": "snzonl_uNFfM"
   },
   "outputs": [],
   "source": [
    "#!/usr/bin/env python3\n",
    "import numpy as np\n",
    " \n",
    "def main():\n",
    "    na = np.array([[1, 2], [3, 4]])\n",
    "    nb = np.array([[5, 6], [7, 8]])\n",
    "    print(np.dot(na, nb))\n",
    "\n",
    "if __name__ == \"__main__\":\n",
    "    main()"
   ]
  },
  {
   "cell_type": "markdown",
   "metadata": {
    "id": "f-CbbyfMJbdK"
   },
   "source": [
    "以下のようにすると一様分布に従う乱数を生成することができます．以下の例は一様分布のものですが，NumPy には一様分布以外にもたくさんの分布が用意されています．引数で指定するのは行列のサイズです．計算機実験をする際にこのようなランダムな値を生成することがあります．そんな中，Python や NumPy に限らず計算機実験をする際に気を付けなければならないことに「乱数のタネを固定する」ということがあります．計算機実験の再現性を得るためにとても重要なので絶対に忘れないようにすべきです．乱数のタネは3行目で行っています．ここでは `0` を設定しています．"
   ]
  },
  {
   "cell_type": "code",
   "execution_count": null,
   "metadata": {
    "id": "X0WUWaXzJb7g"
   },
   "outputs": [],
   "source": [
    "#!/usr/bin/env python3\n",
    "import numpy as np\n",
    "np.random.seed(0)\n",
    " \n",
    "def main():\n",
    "    print(np.random.rand(3, 3))\n",
    "\n",
    "if __name__ == \"__main__\":\n",
    "    main()"
   ]
  },
  {
   "cell_type": "markdown",
   "metadata": {
    "id": "g2dyoKNlKsFf"
   },
   "source": [
    "```{attention}\n",
    "機械学習の学習前の予測器の初期値は乱数です．再現性を確保するため乱数のタネを指定しないで実験をはじめることは絶対にないように気をつけなければなりません．\n",
    "```"
   ]
  },
  {
   "cell_type": "markdown",
   "metadata": {
    "id": "zVLL8NPkJcsl"
   },
   "source": [
    "以下のようにすると行列式と逆行列を計算することができます．"
   ]
  },
  {
   "cell_type": "code",
   "execution_count": null,
   "metadata": {
    "id": "cQj3HA01Jc4h"
   },
   "outputs": [],
   "source": [
    "#!/usr/bin/env python3\n",
    "import numpy as np\n",
    " \n",
    "def main():\n",
    "    na = np.array([[4, 15, 4], [-11, 5, 6], [2, 4, 8]])\n",
    "    print(np.linalg.det(na)) # determinant of matrix\n",
    "    print(np.linalg.inv(na)) # inverse matrix\n",
    "\n",
    "if __name__ == \"__main__\":\n",
    "    main()"
   ]
  },
  {
   "cell_type": "markdown",
   "metadata": {
    "id": "bX-kaTWdJdDQ"
   },
   "source": [
    "固有値分解は以下のようにします．"
   ]
  },
  {
   "cell_type": "code",
   "execution_count": null,
   "metadata": {
    "id": "-eAfL5T9JdNW"
   },
   "outputs": [],
   "source": [
    "#!/usr/bin/env python3\n",
    "import numpy as np\n",
    " \n",
    "def main():\n",
    "    na = np.array([[3, 4, 1, 4], [1, 2, 1, 1], [1, 1, 2, 1], [1, 1, 1, 2]])\n",
    "    eigenvalue, eigenvector = np.linalg.eig(na)\n",
    "    print(eigenvalue)\n",
    "    print(eigenvector)\n",
    "\n",
    "if __name__ == \"__main__\":\n",
    "    main()"
   ]
  },
  {
   "cell_type": "markdown",
   "metadata": {
    "id": "Ag6LWINQJdW_"
   },
   "source": [
    "以下のようにすると「行列の要素の冪乗」を計算できます．"
   ]
  },
  {
   "cell_type": "code",
   "execution_count": null,
   "metadata": {
    "id": "uWcl1vkuTEfR"
   },
   "outputs": [],
   "source": [
    "#!/usr/bin/env python3\n",
    "import numpy as np\n",
    " \n",
    "def main():\n",
    "    na = np.array([[3, 4, 1, 4], [1, 2, 1, 1], [1, 1, 2, 1], [1, 1, 1, 2]])\n",
    "    print(na ** 2)\n",
    "\n",
    "if __name__ == \"__main__\":\n",
    "    main()"
   ]
  },
  {
   "cell_type": "markdown",
   "metadata": {
    "id": "72Th9ILzJdrA"
   },
   "source": [
    "一方で，「行列の冪乗」は以下のように計算します．"
   ]
  },
  {
   "cell_type": "code",
   "execution_count": null,
   "metadata": {
    "id": "8anIkRArTFLI"
   },
   "outputs": [],
   "source": [
    "#!/usr/bin/env python3\n",
    "import numpy as np\n",
    " \n",
    "def main():\n",
    "    na = np.array([[3, 4, 1, 4], [1, 2, 1, 1], [1, 1, 2, 1], [1, 1, 1, 2]])\n",
    "    print(np.linalg.matrix_power(na, 2))\n",
    "\n",
    "if __name__ == \"__main__\":\n",
    "    main()"
   ]
  },
  {
   "cell_type": "markdown",
   "metadata": {
    "id": "2mmtzBtCTJwl"
   },
   "source": [
    "行列の冪乗でも，整数以外の冪指数を用いたい場合は別の方法が必要です．例えば，行列の平方根（2分の1乗）は以下のようにしなければ計算できません．"
   ]
  },
  {
   "cell_type": "code",
   "execution_count": null,
   "metadata": {
    "id": "nyoXOdL_TIiC"
   },
   "outputs": [],
   "source": [
    "#!/usr/bin/env python3\n",
    "import numpy as np\n",
    " \n",
    "def main():\n",
    "    na = np.array([[3, 4, 1, 4], [1, 2, 1, 1], [1, 1, 2, 1], [1, 1, 1, 2]])\n",
    "    eigenvalue, eigenvector = np.linalg.eig(na)\n",
    "    print(np.dot(np.dot(eigenvector, (np.diag(eigenvalue)) ** (1/2)), np.linalg.inv(eigenvector)))\n",
    "\n",
    "if __name__ == \"__main__\":\n",
    "    main()"
   ]
  },
  {
   "cell_type": "markdown",
   "metadata": {
    "id": "xP8FIqO5Jakh"
   },
   "source": [
    "### ブロードキャスト"
   ]
  },
  {
   "cell_type": "markdown",
   "metadata": {
    "id": "nqrBwMpYTJ_k"
   },
   "source": [
    "NumPy は「行列にスカラを足す」，このような異様な計算をしても結果を返してくれます．以下の6行目では，行列にスカラを足しています．ここでは，最初に生成した4行4列の行列と同じサイズの，全要素が2からなる行列を自動で生成し，その行列と最初の4行4列の行列の和を計算しています．このような，対象となる行列のサイズに合せて，スカラから行列を生成することを「ブロードキャスト」と言います．この機能は非常に便利で様々な局面で使用することがあります．"
   ]
  },
  {
   "cell_type": "code",
   "execution_count": null,
   "metadata": {
    "id": "QnUWex3eTFvt"
   },
   "outputs": [],
   "source": [
    "#!/usr/bin/env python3\n",
    "import numpy as np\n",
    " \n",
    "def main():\n",
    "    na = np.array([[3, 4, 1, 4], [1, 2, 1, 1], [1, 1, 2, 1], [1, 1, 1, 2]])\n",
    "    print(na + 2)\n",
    "\n",
    "if __name__ == \"__main__\":\n",
    "    main()"
   ]
  },
  {
   "cell_type": "markdown",
   "metadata": {
    "id": "OHezms7YW3Ba"
   },
   "source": [
    "### 特殊な操作"
   ]
  },
  {
   "cell_type": "markdown",
   "metadata": {
    "id": "RSlalUlMTKcJ"
   },
   "source": [
    "以下のようにすると配列の順番を逆向きにして用いることができます．魔法ですね．最初の要素（0）から最後の要素（-1）まで逆向きに（-）連続して（1）いることを意味します．"
   ]
  },
  {
   "cell_type": "code",
   "execution_count": null,
   "metadata": {
    "id": "nMEa4N_ETF-b"
   },
   "outputs": [],
   "source": [
    "#!/usr/bin/env python3\n",
    "import numpy as np\n",
    " \n",
    "def main():\n",
    "    na = np.array([1, 2, 3, 4, 5, 6, 7])\n",
    "    print(na[::-1])\n",
    "\n",
    "if __name__ == \"__main__\":\n",
    "    main()"
   ]
  },
  {
   "cell_type": "markdown",
   "metadata": {
    "id": "7nxeufhIW768"
   },
   "source": [
    "以下のようにすると指定した条件に対する bool 配列を得ることができます．"
   ]
  },
  {
   "cell_type": "code",
   "execution_count": null,
   "metadata": {
    "id": "FKxVQ4vZW-bH"
   },
   "outputs": [],
   "source": [
    "#!/usr/bin/env python3\n",
    "import numpy as np\n",
    " \n",
    "def main():\n",
    "    na = np.array([1, 2, 3, 4, 5, 6, 7])\n",
    "    print(na > 3)\n",
    "\n",
    "if __name__ == \"__main__\":\n",
    "    main()"
   ]
  },
  {
   "cell_type": "markdown",
   "metadata": {
    "id": "_-zK8q1KW8DG"
   },
   "source": [
    "これを利用すると条件に合う要素のみに選択的にアクセスすることができます．以下では条件に合う要素を単に出力しているだけですが，例えば，条件に合う値のみを0に置き換えるとか，そのような操作ができます．"
   ]
  },
  {
   "cell_type": "code",
   "execution_count": null,
   "metadata": {
    "id": "wY_wX0ZLW-36"
   },
   "outputs": [],
   "source": [
    "#!/usr/bin/env python3\n",
    "import numpy as np\n",
    " \n",
    "def main():\n",
    "    na = np.array([1, 2, 3, 4, 5, 6, 7])\n",
    "    print(na[na > 3])\n",
    "\n",
    "if __name__ == \"__main__\":\n",
    "    main()"
   ]
  },
  {
   "cell_type": "markdown",
   "metadata": {
    "id": "N5p0NrSdYGYd"
   },
   "source": [
    "以下のように書けば，目的に合う値のインデックスを出力させることもできます．"
   ]
  },
  {
   "cell_type": "code",
   "execution_count": null,
   "metadata": {
    "id": "2FCCvtyrYGYd"
   },
   "outputs": [],
   "source": [
    "#!/usr/bin/env python3\n",
    "import numpy as np\n",
    " \n",
    "def main():\n",
    "    na = np.array([1, 2, 3, 4, 5, 6, 3])\n",
    "    print(np.where(na == 3))\n",
    "\n",
    "if __name__ == \"__main__\":\n",
    "    main()"
   ]
  },
  {
   "cell_type": "markdown",
   "metadata": {
    "id": "QtxMHxRBQes5"
   },
   "source": [
    "## オブジェクト指向の記法"
   ]
  },
  {
   "cell_type": "markdown",
   "metadata": {
    "id": "xGWiKm8TpeCj"
   },
   "source": [
    "後の章で紹介する TensorFlow を利用する際にオブジェクト指向の書き方ができたほうが良いので紹介します．"
   ]
  },
  {
   "cell_type": "markdown",
   "metadata": {
    "id": "syVjMhUODFwm"
   },
   "source": [
    "### クラスの生成"
   ]
  },
  {
   "cell_type": "markdown",
   "metadata": {
    "id": "X7HAFBapDFwn"
   },
   "source": [
    "Python にはクラスというプログラムのコードを短くすることで可読性をあげたり，チームでの大規模開発に有利になったりするシステムが備わっています．最初にとてもシンプルなクラスを作ってみます．これは後ほどもう少し多機能なものへと改変していきます．クラスの名前を `Dog` とします．最初の辺りで変数名のイニシャルに大文字は使わないことを紹介しましたが，それはクラスの宣言の際にクラス名のイニシャルを大文字にするためです．以下のように書きます．`main()` には `pass` とだけ書いていますが，これは「何も実行しない」というコマンドです．今はクラスを生成することが目的だから `main()` では何も行いません．クラスは以下のように生成します．\n",
    "```\n",
    "class クラス名:\n",
    "```\n",
    "以下のクラスには `__init__` という記述があります．これはクラスからインスタンスを生成したときに（<font color=\"Crimson\">クラスからはインスタンスと言われるクラスの実体が生成されます</font>）自動的に実行されるメソッドです（コンストラクタと呼びます）．このコンストラクタの引数は2個です．`self` と `name` と `age` の3個があるように見えますが，`self` は（インスタンスを生成するまでは未知の）インスタンス名をとりあえず `self` にします，という記述です．"
   ]
  },
  {
   "cell_type": "code",
   "execution_count": null,
   "metadata": {
    "id": "Sxt5rHRoDFwn"
   },
   "outputs": [],
   "source": [
    "#!/usr/bin/env python3\n",
    "\n",
    "def main():\n",
    "    pass\n",
    "\n",
    "class Dog:\n",
    "    def __init__(self, name, age):\n",
    "        self.name = name\n",
    "        self.age  = age\n",
    "\n",
    "if __name__ == \"__main__\":\n",
    "    main()"
   ]
  },
  {
   "cell_type": "markdown",
   "metadata": {
    "id": "Tz0Qz4r_GT0W"
   },
   "source": [
    "多分，ここまでで意味がわからなくなったと思うので，まずはインスタンスを生成してみます．以下のように書きます．これによって `mydog` というインスタンスが生成されました．引数には，`Ken` と `6` を与えました．6歳の Ken という名前の犬の情報です．"
   ]
  },
  {
   "cell_type": "code",
   "execution_count": null,
   "metadata": {
    "id": "KE44XcU4GyRm"
   },
   "outputs": [],
   "source": [
    "#!/usr/bin/env python3\n",
    "\n",
    "def main():\n",
    "    mydog = Dog(\"Ken\", 6)\n",
    "\n",
    "class Dog:\n",
    "    def __init__(self, name, age):\n",
    "        self.name = name\n",
    "        self.age  = age\n",
    "\n",
    "if __name__ == \"__main__\":\n",
    "    main()"
   ]
  },
  {
   "cell_type": "markdown",
   "metadata": {
    "id": "igSVB84fHIQC"
   },
   "source": [
    "次に，この生成したインスタンス `mydog` の名前と年齢を出力してみます．以下のように書きます．インスタンスが内包する変数には `.` でアクセスします．"
   ]
  },
  {
   "cell_type": "code",
   "execution_count": null,
   "metadata": {
    "id": "0MZPyaocHf3k"
   },
   "outputs": [],
   "source": [
    "#!/usr/bin/env python3\n",
    "\n",
    "def main():\n",
    "    mydog = Dog(\"Ken\", 6)\n",
    "    print(mydog.name)\n",
    "    print(mydog.age)\n",
    "\n",
    "class Dog:\n",
    "    def __init__(self, name, age):\n",
    "        self.name = name\n",
    "        self.age  = age\n",
    "\n",
    "if __name__ == \"__main__\":\n",
    "    main()"
   ]
  },
  {
   "cell_type": "markdown",
   "metadata": {
    "id": "SLFkiEPMHk7z"
   },
   "source": [
    "しっかりと出力されました．クラスを使う利点は処理をきれいに整理できることです．もし，クラスを使わずにこの挙動を再現するには `mydog_name = Ken`，`mydog_age = 6` のような変数を生成しなければなりません．クラスを使うと `mydog = Dog(\"Ken\", 6)` だけ，たったひとつの記述だけで複数個の情報を含む変数を生成できるのです．"
   ]
  },
  {
   "cell_type": "markdown",
   "metadata": {
    "id": "reRz6HoxIcSy"
   },
   "source": [
    "```{hint}\n",
    "以上のように複数のデータをまとめて管理できることがクラスを使うメリットです．クラスを使わない場合，個々の変数を個別に管理する必要が生じ，プログラムが煩雑なものになります．クラスを作る効果ってたったそれだけ？と思われるかもしれませんが，そうです，たったそれだけです．ただ，この後にも説明がある通りクラスは変数だけでなく関数も内部に有することができます．処理が複雑になればなるほど有難くなります．\n",
    "```"
   ]
  },
  {
   "cell_type": "markdown",
   "metadata": {
    "id": "q21Odt14I23Q"
   },
   "source": [
    "また，上で `self` とはインスタンスの名前そのものであると言及しましたが，それは以下を比較していただくと解ります．出力の際には以下のように書きました．\n",
    "```\n",
    "mydog.name\n",
    "```\n",
    "クラス内での定義の際には以下のように書きました．\n",
    "```\n",
    "self.name\n",
    "```\n",
    "インスタンス名（`mydog`）と `self` が同じように使われています．"
   ]
  },
  {
   "cell_type": "markdown",
   "metadata": {
    "id": "VuFsej1AiVoN"
   },
   "source": [
    "### メソッド"
   ]
  },
  {
   "cell_type": "markdown",
   "metadata": {
    "id": "yjMptBEKKH5m"
   },
   "source": [
    "クラスにメソッドを追加します．以下では `sit()` というメソッドを定義しました．そしてそれを `main()` で呼び出しています．この場合も `.` にてメソッドを呼び出します．"
   ]
  },
  {
   "cell_type": "code",
   "execution_count": null,
   "metadata": {
    "id": "9W0QOPX2Jnf8"
   },
   "outputs": [],
   "source": [
    "#!/usr/bin/env python3\n",
    "\n",
    "def main():\n",
    "    mydog = Dog(\"Ken\", 6)\n",
    "    mydog.sit()\n",
    "\n",
    "class Dog:\n",
    "    def __init__(self, name, age):\n",
    "        self.name = name\n",
    "        self.age  = age\n",
    "    def sit(self):\n",
    "        print(\"{0}, which is ({1}) years old is now sitting.\".format(self.name, self.age))\n",
    "\n",
    "if __name__ == \"__main__\":\n",
    "    main()"
   ]
  },
  {
   "cell_type": "markdown",
   "metadata": {
    "id": "H-3NslIhLKLg"
   },
   "source": [
    "たったひとつの `mydog` という変数（インスタンス）が，複数個の変数を持ち，メソッドも有します．これはかなり整理整頓には良いシステムです．これがクラスを定義しインスタンスを生成する利点です．これは，以下のようにインスタンスを何個も生成するような処理が必要になる場合にさらに有用です．よりシンプルなコードを保てます．"
   ]
  },
  {
   "cell_type": "code",
   "execution_count": null,
   "metadata": {
    "id": "CBHtTxeZL-aV"
   },
   "outputs": [],
   "source": [
    "#!/usr/bin/env python3\n",
    "\n",
    "def main():\n",
    "    mydog = Dog(\"Ken\", 6)\n",
    "    yourdog = Dog(\"Peko\", 4)\n",
    "    mydog.sit()\n",
    "    yourdog.sit()\n",
    "\n",
    "class Dog:\n",
    "    def __init__(self, name, age):\n",
    "        self.name = name\n",
    "        self.age  = age\n",
    "    def sit(self):\n",
    "        print(\"{0}, which is ({1}) years old is now sitting.\".format(self.name, self.age))\n",
    "\n",
    "if __name__ == \"__main__\":\n",
    "    main()"
   ]
  },
  {
   "cell_type": "markdown",
   "metadata": {
    "id": "gvWwApHxDFeO"
   },
   "source": [
    "### デフォルト値の設定"
   ]
  },
  {
   "cell_type": "markdown",
   "metadata": {
    "id": "qqnTWdYlDFeQ"
   },
   "source": [
    "インスタンス生成の際にデフォルトの値を設定することができます．以下の13行目のようにコンストラクタに直接定義します．そのような値も，5行目のような記述でアクセスすることができます．また，6行目のような記述で値を変更することも可能です．"
   ]
  },
  {
   "cell_type": "code",
   "execution_count": null,
   "metadata": {
    "id": "BniofR1ePEqe"
   },
   "outputs": [],
   "source": [
    "#!/usr/bin/env python3\n",
    "\n",
    "def main():\n",
    "    mydog = Dog(\"Ken\", 6)\n",
    "    print(mydog.hometown)\n",
    "    mydog.hometown = \"Yokohama\"\n",
    "    print(mydog.hometown)\n",
    "\n",
    "class Dog:\n",
    "    def __init__(self, name, age):\n",
    "        self.name = name\n",
    "        self.age  = age\n",
    "        self.hometown = \"Sendai\"\n",
    "    def sit(self):\n",
    "        print(\"{0}, which is ({1}) years old is now sitting.\".format(self.name, self.age))\n",
    "\n",
    "if __name__ == \"__main__\":\n",
    "    main()"
   ]
  },
  {
   "cell_type": "markdown",
   "metadata": {
    "id": "OU1SMu0xQsgD"
   },
   "source": [
    "### クラス内変数の改変"
   ]
  },
  {
   "cell_type": "markdown",
   "metadata": {
    "id": "WhG1EQ7-P4qR"
   },
   "source": [
    "また，以下の16および17行目のようなクラス内の変数の値を改変するような関数を定義することも可能です．これを実行すると出力のように，`mydog.age` が `6` から `8` に変化します．"
   ]
  },
  {
   "cell_type": "code",
   "execution_count": null,
   "metadata": {
    "id": "vC0QaQsOPix3"
   },
   "outputs": [],
   "source": [
    "#!/usr/bin/env python3\n",
    "\n",
    "def main():\n",
    "    mydog = Dog(\"Ken\", 6)\n",
    "    print(mydog.age)\n",
    "    mydog.year_pass(2)\n",
    "    print(mydog.age)\n",
    "\n",
    "class Dog:\n",
    "    def __init__(self, name, age):\n",
    "        self.name = name\n",
    "        self.age  = age\n",
    "        self.hometown = \"Sendai\"\n",
    "    def sit(self):\n",
    "        print(\"{0}, which is ({1}) years old is now sitting.\".format(self.name, self.age))\n",
    "    def year_pass(self, years):\n",
    "        self.age = self.age + years\n",
    "\n",
    "if __name__ == \"__main__\":\n",
    "    main()"
   ]
  },
  {
   "cell_type": "markdown",
   "metadata": {
    "id": "mXLJxhoKkCf_"
   },
   "source": [
    "### クラス変数"
   ]
  },
  {
   "cell_type": "markdown",
   "metadata": {
    "id": "6OmANSYfkJG4"
   },
   "source": [
    "`インスタンス名.変数名` もしくは `self.変数名` とすると，インスタンスが保持する変数にアクセスすることができましたが，そうではなく，クラスから生成されたすべてのインスタンスで値が共有されるような変数を作ることができます．そのような変数をクラス変数と呼びます．クラス変数を作成するには，単にクラスの定義部で変数に値を代入します．クラス変数にアクセスするには， `クラス名.変数名` とします．別のやり方として，インスタンス変数に同じ名前の変数がない場合には，`インスタンス名.変数名` と書いてもクラス変数にアクセスすることができます（ただし同名のインスタンス変数がある場合には，そちらにアクセスしますので注意が必要です）．"
   ]
  },
  {
   "cell_type": "code",
   "execution_count": null,
   "metadata": {
    "id": "8DQHt51lKR09"
   },
   "outputs": [],
   "source": [
    "#!/usr/bin/env python3\n",
    "\n",
    "def main():\n",
    "    mydog = Dog(\"Ken\", 6)\n",
    "    yourdog = Dog(\"Peko\", 4)\n",
    "    print(Dog.type) # クラス名.変数名で参照できる\n",
    "    print(yourdog.type)\n",
    "\n",
    "class Dog:\n",
    "    type = \"dog\" # クラス変数．\n",
    "    def __init__(self, name, age):\n",
    "        self.name = name\n",
    "        self.age  = age\n",
    "    def sit(self):\n",
    "        print(\"{0} is now sitting.\".format(self.name))\n",
    "\n",
    "if __name__ == \"__main__\":\n",
    "    main()"
   ]
  },
  {
   "cell_type": "markdown",
   "metadata": {
    "id": "F302MLf1k-bk"
   },
   "source": [
    "### プライベート変数"
   ]
  },
  {
   "cell_type": "markdown",
   "metadata": {
    "id": "0ATUdj7Be8JQ"
   },
   "source": [
    "オブジェクト指向プログラミングでは，インスタンスへの外部からのアクセスを適切に制限することで，モジュールごとの権限と役割分担を明確にすることができます．例えば，あるモジュールがすべてのデータにアクセス可能だとすると，本来そのモジュールが行うべきではない処理まで，そのモジュールに実装されてしまう恐れがあり，役割分担が崩壊する可能性があります．データにアクセス制限がかかっている場合，そのデータを使う処理は，そのデータにアクセス可能なモジュールに依頼するしかなくなり，適切な役割分担が維持されます．\n",
    "\n",
    "クラスにおいて，外部からのアクセスが禁止されている変数をプライベート変数と呼びます．また，外部からのアクセスが禁止されているメソッドをプライベートメソッドと呼びます．\n",
    "\n",
    "Pythonでは，プライベート変数やプライベートメソッドを作ることはできません．つまり，どの変数やメソッドも外部からアクセス可能です．\n",
    "ただし，変数やメソッドの名前を変えることで，プライベートとして扱われるべき変数やメソッドを区別するという慣習があります．実装を行う人がプライベートとして扱われるべき変数等への外部からのアクセスを行わないようにすることで，本来の目的を達成することができます．Pythonの慣習では，プライベートとして扱われるべき変数やメソッドの先頭文字を以下のようにアンダースコア（_）にします．"
   ]
  },
  {
   "cell_type": "code",
   "execution_count": null,
   "metadata": {
    "id": "VQWTmjEzk-bl"
   },
   "outputs": [],
   "source": [
    "#!/usr/bin/env python3\n",
    "\n",
    "def main():\n",
    "    score_math = PrivateScore(55)\n",
    "    print(score_math.is_passed())\n",
    "\n",
    "class PrivateScore:\n",
    "    def __init__(self, score):\n",
    "        self._score = score # プライベート変数\n",
    "    def is_passed(self):\n",
    "        if self._score >= 60:\n",
    "            return True\n",
    "        else:\n",
    "            return False\n",
    "\n",
    "if __name__ == \"__main__\":\n",
    "    main()"
   ]
  },
  {
   "cell_type": "markdown",
   "metadata": {
    "id": "ARK3hoZtmWea"
   },
   "source": [
    "### 継承"
   ]
  },
  {
   "cell_type": "markdown",
   "metadata": {
    "id": "dHW_U71PwB4r"
   },
   "source": [
    "あるクラスのインスタンスを複数生成する際，特定のインスタンスのみ処理を変更したり，処理を追加したりする必要が生じることがあります．その場合，そのインスタンス用に新しくクラスを作ることもできますが，元のクラスと大部分が同じである場合，同じコードが大量に複製されることになり，コードが無駄に長くなります．同じ処理を行うコードが複数箇所に存在する場合，不具合を修正する場合にもすべての箇所を修正しないといけなくなるため，正しく修正することが難しくなります．このような場合の別の方法として，元のクラスからの修正部分のみを修正するという方法があります．このような方法を継承と呼び，修正のベースとなる元のクラスを基底クラス（もしくは親クラス），新しく作られるクラスを派生クラス（もしくは子クラス）と呼びます．"
   ]
  },
  {
   "cell_type": "markdown",
   "metadata": {
    "id": "5T_hjdbx7Xm9"
   },
   "source": [
    "```{note}\n",
    "基底クラスに複数個のクラスを指定することができます．そのような継承を多重継承と呼びます．\n",
    "```"
   ]
  },
  {
   "cell_type": "markdown",
   "metadata": {
    "id": "q907yWvw8GYx"
   },
   "source": [
    "継承を行う際は，派生クラスを定義するときにそのクラス名の次に括弧を書き，その括弧内に基底クラスの名前を書きます．そして，クラス定義の中には，新規に追加するメソッドと基底クラスから変更を行うメソッドについてのみ定義を追加します．以下のように行います．"
   ]
  },
  {
   "cell_type": "code",
   "execution_count": null,
   "metadata": {
    "id": "1yxvfnrB8Fjm"
   },
   "outputs": [],
   "source": [
    "#!/usr/bin/env python3\n",
    "\n",
    "def main():\n",
    "    mydog = Dog(\"Ken\", 6)\n",
    "    yourdog = TrainedDog(\"Peko\", 4)\n",
    "    mydog.sit()\n",
    "    yourdog.trick()\n",
    "    yourdog.sit()\n",
    "\n",
    "class Dog:\n",
    "    def __init__(self, name, age):\n",
    "        self.name = name\n",
    "        self.age  = age\n",
    "    def sit(self):\n",
    "        print(\"{0} is now sitting.\".format(self.name))\n",
    "\n",
    "class TrainedDog(Dog): # クラス名の次に「(基底クラス名)」を追加する\n",
    "    def trick(self):\n",
    "        for i in range(self.age):\n",
    "            print(\"bow\")\n",
    "\n",
    "if __name__ == \"__main__\":\n",
    "    main()"
   ]
  },
  {
   "cell_type": "markdown",
   "metadata": {
    "id": "lYng9H8O9y6w"
   },
   "source": [
    "```{note}\n",
    "派生クラスである `TrainedDog` の定義には `sit()` は含まれていません．しかし，基底クラスである `Dog` を継承しているので `TrainedDog` から生成したインスタンスでは `sit()` を利用できています．\n",
    "```"
   ]
  },
  {
   "cell_type": "markdown",
   "metadata": {
    "id": "pfss9-aY-ONf"
   },
   "source": [
    "### オーバーライド"
   ]
  },
  {
   "cell_type": "markdown",
   "metadata": {
    "id": "O3A73f0y-UjD"
   },
   "source": [
    "これまでに，基底クラスに新たなメソッドを追加する方法である継承を紹介しました．これに対して，派生クラスで基底クラスのメソッドを書き換えることをオーバーライドと言います．オーバーライドは，派生クラスの定義をする際に，基底クラスで定義されているメソッドを再定義することで実現できます．以下のように行います．"
   ]
  },
  {
   "cell_type": "code",
   "execution_count": null,
   "metadata": {
    "id": "TdXcooiXXpUM"
   },
   "outputs": [],
   "source": [
    "#!/usr/bin/env python3\n",
    "\n",
    "def main():\n",
    "    mydog = Dog(\"Ken\", 6)\n",
    "    yourdog = TrainedDog(\"Peko\", 4)\n",
    "    mydog.sit()\n",
    "    yourdog.sit()\n",
    "\n",
    "class Dog:\n",
    "    def __init__(self, name, age):\n",
    "        self.name = name\n",
    "        self.age  = age\n",
    "    def sit(self):\n",
    "        print(\"{0} is now sitting.\".format(self.name))\n",
    "\n",
    "class TrainedDog(Dog):\n",
    "    def sit(self):\n",
    "        print(\"{0} is now sitting and giving its paw.\".format(self.name))\n",
    "\n",
    "if __name__ == \"__main__\":\n",
    "    main()"
   ]
  },
  {
   "cell_type": "markdown",
   "metadata": {
    "id": "2UdLESdyYV6w"
   },
   "source": [
    "派生クラスから生成したインスタンスの `sit()` の挙動が基底クラスのものから変化しているのがわかります．このとき，基底クラスの `sit()` は変化していません．"
   ]
  },
  {
   "cell_type": "markdown",
   "metadata": {
    "id": "HnJdUotkgpph"
   },
   "source": [
    "```{note}\n",
    "派生クラスで，派生クラスにおいて利用するメソッドを書き換えるのであって，派生クラスで書き換えたメソッドが基底クラスのメソッドを書き換える（明らかに危険な行為）わけではありません．)\n",
    "```"
   ]
  },
  {
   "cell_type": "markdown",
   "metadata": {
    "id": "VhlFEBVpYnpE"
   },
   "source": [
    "次に，派生クラスにおいてインスタンス変数を増やします．これを実現するためには，コンストラクタ `__init__()` をオーバーライドする必要があります．このとき，既に基底クラスで定義したインスタンス変数をそのまま利用するためにコンストラクタを呼び出します．基底クラスは `super()` を使って呼び出すことができます．以下のように行います．"
   ]
  },
  {
   "cell_type": "code",
   "execution_count": null,
   "metadata": {
    "id": "KgmyNRdecxsO"
   },
   "outputs": [],
   "source": [
    "#!/usr/bin/env python3\n",
    "\n",
    "def main():\n",
    "    yourdog = TrainedDog(\"Peko\", 4, \"Ben\")\n",
    "    yourdog.sit()\n",
    "\n",
    "class Dog:\n",
    "    def __init__(self, name, age):\n",
    "        self.name = name\n",
    "        self.age  = age\n",
    "    def sit(self):\n",
    "        print(\"{0} is now sitting.\".format(self.name))\n",
    "\n",
    "class TrainedDog(Dog):\n",
    "    def __init__(self, name, age, trainer):\n",
    "        super().__init__(name, age) # この super() は基底クラスを意味する\n",
    "        self.trainer = trainer # 新たなるインスタンス変数\n",
    "    \n",
    "    def sit(self):\n",
    "        print(\"{0} is now sitting and giving its paw to {1}.\".format(self.name, self.trainer))\n",
    "\n",
    "if __name__ == \"__main__\":\n",
    "    main()"
   ]
  },
  {
   "cell_type": "markdown",
   "metadata": {
    "id": "EX2l9sd5vG3S"
   },
   "source": [
    "## ファイルの取り扱い\n"
   ]
  },
  {
   "cell_type": "markdown",
   "metadata": {
    "id": "-qFi9BzhpeCo"
   },
   "source": [
    "人工知能に学習させるためのデータが存在しているファイルを読み込んだり，構築した人工知能に予測させたいデータが載っているファイルを読み込ませたりしたいので，Python でファイルを取り扱う方法を紹介します．"
   ]
  },
  {
   "cell_type": "markdown",
   "metadata": {
    "id": "VIgUIQ9KpeCo"
   },
   "source": [
    "### ファイルの入出力について"
   ]
  },
  {
   "cell_type": "markdown",
   "metadata": {
    "id": "YznBW_Mf-NeQ"
   },
   "source": [
    "多くの場合，開発したプログラムで扱いたいものはデータであると思います．データの整理とかデータの解析とかです．そのようなデータはファイルという形式で存在しており，プログラムはそれを読み込む必要があります．ここではプログラムを用いてファイルをどのように操作するのかを学びます．"
   ]
  },
  {
   "cell_type": "markdown",
   "metadata": {
    "id": "SywdvnKyDEpu"
   },
   "source": [
    "### 繰り返しによる読み込み"
   ]
  },
  {
   "cell_type": "markdown",
   "metadata": {
    "id": "ust2c9OpD84T"
   },
   "source": [
    "ここでは，以下のような内容の情報からなるファイルを使います．ファイルは全部で3行からなり，各行には文字列が存在します．これのファイル名は `ff.txt` です．\n",
    "```\n",
    "Cloud Strife\n",
    "Squall Leonhart\n",
    "Zidane Tribal\n",
    "```"
   ]
  },
  {
   "cell_type": "markdown",
   "metadata": {
    "id": "CZBD7D56EXmP"
   },
   "source": [
    "このようなファイルを使って練習するために以下の Linux コマンドでファイルをカレントディレクトリに生成します．"
   ]
  },
  {
   "cell_type": "markdown",
   "metadata": {
    "id": "tbxt67VPpeCp"
   },
   "source": [
    "```{note}\n",
    "これはファイルの読み込みをするための準備であって，Python の学習ではありません．\n",
    "```"
   ]
  },
  {
   "cell_type": "code",
   "execution_count": null,
   "metadata": {
    "id": "bZtTG-t7AGJB"
   },
   "outputs": [],
   "source": [
    "! echo -e \"Cloud Strife\\nSquall Leonhart\\nZidane Tribal\" > ff.txt"
   ]
  },
  {
   "cell_type": "markdown",
   "metadata": {
    "id": "JJfT6DV5Eu-D"
   },
   "source": [
    "```{note}\n",
    "Linux システムでは現在ユーザーがいるディレクトリをカレントディレクトリと呼ぶのでした．\n",
    "```"
   ]
  },
  {
   "cell_type": "markdown",
   "metadata": {
    "id": "QLWL9krwE4JH"
   },
   "source": [
    "ファイルが生成されているかどうかは以下のコマンドで確認できます．"
   ]
  },
  {
   "cell_type": "code",
   "execution_count": null,
   "metadata": {
    "id": "_OfaGqbHE8T7"
   },
   "outputs": [],
   "source": [
    "! ls"
   ]
  },
  {
   "cell_type": "markdown",
   "metadata": {
    "id": "jjntzu4dE-QL"
   },
   "source": [
    "```{note}\n",
    "これはカレントディレクトリに存在しているファイルやフォルダを確認するための Linux コマンドでした．\n",
    "```"
   ]
  },
  {
   "cell_type": "markdown",
   "metadata": {
    "id": "nVdxkziCDEpw"
   },
   "source": [
    "以上で用いるファイルの準備が完了したので，ファイルを読み込んでみます．以下のように書きます．"
   ]
  },
  {
   "cell_type": "code",
   "execution_count": null,
   "metadata": {
    "id": "khEoCC4_7lXe"
   },
   "outputs": [],
   "source": [
    "#!/usr/bin/env python3\n",
    "\n",
    "def main():\n",
    "    fin = open(\"ff.txt\", \"r\")\n",
    "    for line in fin:\n",
    "        print(line)\n",
    "    fin.close()\n",
    "\n",
    "if __name__ == \"__main__\":\n",
    "    main()"
   ]
  },
  {
   "cell_type": "markdown",
   "metadata": {
    "id": "wCMD7Ou4GP6k"
   },
   "source": [
    "上のコードにおいて，`fin = open(\"ff.txt\", \"r\")` は `ff.txt` を読み込みモード（`r`）でファイルを開くための記述です．ファイルを読み込むために生成された変数 `fin` は以下のような形式で用いると，すべての行を繰り返し `line` という変数に代入し続けます．\n",
    "```\n",
    "for line in fin:\n",
    "    処理\n",
    "```\n",
    "最後に，`fin.close()` にてファイルを閉じる作業をします．"
   ]
  },
  {
   "cell_type": "markdown",
   "metadata": {
    "id": "QnIPsMdZHNvB"
   },
   "source": [
    "次に，読み込んだ各行に存在している改行コードを削除して，削除後の行を出力してみます．以下のように書きます．"
   ]
  },
  {
   "cell_type": "code",
   "execution_count": null,
   "metadata": {
    "id": "l-cD7seWHanE"
   },
   "outputs": [],
   "source": [
    "#!/usr/bin/env python3\n",
    "\n",
    "def main():\n",
    "    fin = open(\"ff.txt\", \"r\")\n",
    "    for line in fin:\n",
    "        line = line.rstrip()\n",
    "        print(line)\n",
    "    fin.close()\n",
    "\n",
    "if __name__ == \"__main__\":\n",
    "    main()"
   ]
  },
  {
   "cell_type": "markdown",
   "metadata": {
    "id": "N2Wc55naHgLb"
   },
   "source": [
    "各行をリストに格納し，その後処理をしたい場合があるかもしれません．そのようなときには以下のように書きます．"
   ]
  },
  {
   "cell_type": "code",
   "execution_count": null,
   "metadata": {
    "id": "oq7i3EVXHg7b"
   },
   "outputs": [],
   "source": [
    "#!/usr/bin/env python3\n",
    "\n",
    "def main():\n",
    "    liline=[]\n",
    "    fin = open(\"ff.txt\", \"r\")\n",
    "    for line in fin:\n",
    "        line = line.rstrip()\n",
    "        liline.append(line)\n",
    "    fin.close()\n",
    "    print(liline)\n",
    "\n",
    "if __name__ == \"__main__\":\n",
    "    main()"
   ]
  },
  {
   "cell_type": "markdown",
   "metadata": {
    "id": "o7EVRf_LILrI"
   },
   "source": [
    "以下のように `with` を使えばファイルを閉じる作業を省くことができます．"
   ]
  },
  {
   "cell_type": "code",
   "execution_count": null,
   "metadata": {
    "id": "cKNjSKkyIMDC"
   },
   "outputs": [],
   "source": [
    "#!/usr/bin/env python3\n",
    "\n",
    "def main():\n",
    "    with open(\"ff.txt\", \"r\") as fin:\n",
    "        for line in fin:\n",
    "            print(line)\n",
    "\n",
    "if __name__ == \"__main__\":\n",
    "    main()"
   ]
  },
  {
   "cell_type": "markdown",
   "metadata": {
    "id": "sSd0NlGkFl1R"
   },
   "source": [
    "### ファイルの一括読み込み"
   ]
  },
  {
   "cell_type": "markdown",
   "metadata": {
    "id": "Rz34isHY7meR"
   },
   "source": [
    "以上ではファイルを1行ずつ読み込みました．普通，ファイルはそのように読み込む方が良いと思われますが，小さいファイルであれば以下のように一括で読み込むことができます．"
   ]
  },
  {
   "cell_type": "code",
   "execution_count": null,
   "metadata": {
    "id": "YEKS0VbUDEpw"
   },
   "outputs": [],
   "source": [
    "#!/usr/bin/env python3\n",
    "\n",
    "def main():\n",
    "    fin = open(\"ff.txt\", \"r\")\n",
    "    contents = fin.read()\n",
    "    fin.close()\n",
    "    print(contents)\n",
    "\n",
    "if __name__ == \"__main__\":\n",
    "    main()"
   ]
  },
  {
   "cell_type": "markdown",
   "metadata": {
    "id": "4cVrR3O4DEbh"
   },
   "source": [
    "### ファイルへ出力する意義"
   ]
  },
  {
   "cell_type": "markdown",
   "metadata": {
    "id": "gEiuMvTuDEbi"
   },
   "source": [
    "ファイルにプログラム中で生成した情報を書き込めば，プログラムを終了させた後にもその情報を見返して確認することができます．また，途中の状態をファイルに記憶させておけば，ファイルの内容を再度メモリ上に呼び起こしプログラムの続きを計算させることができます．"
   ]
  },
  {
   "cell_type": "markdown",
   "metadata": {
    "id": "yIQTXnoYJJZr"
   },
   "source": [
    "### ファイルへの新規出力"
   ]
  },
  {
   "cell_type": "markdown",
   "metadata": {
    "id": "qm3s7e0HJJZt"
   },
   "source": [
    "ファイルへ何かを出力する際には，`open()` のオプションに書き込みモード（`w`）を指定します．以下のように書きます．この場合，`programming.txt` というファイルがカレントディレクトリに生成されます．"
   ]
  },
  {
   "cell_type": "code",
   "execution_count": null,
   "metadata": {
    "id": "xoCUi6exDEbj"
   },
   "outputs": [],
   "source": [
    "#!/usr/bin/env python3\n",
    "\n",
    "def main():\n",
    "    fout = open(\"programming.txt\", \"w\")\n",
    "    print(\"I like programming.\", file=fout)\n",
    "    fout.close()\n",
    "\n",
    "if __name__ == \"__main__\":\n",
    "    main()"
   ]
  },
  {
   "cell_type": "markdown",
   "metadata": {
    "id": "TQcVty-SLkLm"
   },
   "source": [
    "当然，複数行を出力することも可能です．以下は，リストに含まれる文をファイルに出力する例です．"
   ]
  },
  {
   "cell_type": "code",
   "execution_count": null,
   "metadata": {
    "id": "CjcUnaM7Lt7A"
   },
   "outputs": [],
   "source": [
    "#!/usr/bin/env python3\n",
    "\n",
    "def main():\n",
    "    liline = [\"I like programming.\", \"I love creating new codes.\"]\n",
    "    fout = open(\"programming.txt\", \"w\")\n",
    "    for line in liline:\n",
    "        print(line, file=fout)\n",
    "    fout.close()\n",
    "\n",
    "if __name__ == \"__main__\":\n",
    "    main()"
   ]
  },
  {
   "cell_type": "markdown",
   "metadata": {
    "id": "VQ_Pefd6JxjM"
   },
   "source": [
    "### ファイルへの追加出力"
   ]
  },
  {
   "cell_type": "markdown",
   "metadata": {
    "id": "ODd5O7nTJxjN"
   },
   "source": [
    "ファイルに上書きする場合には，上書きモード `a` を指定します．上で生成したファイルに追加書きするには以下のようにします．"
   ]
  },
  {
   "cell_type": "code",
   "execution_count": null,
   "metadata": {
    "id": "mTT-7SS7JxjO"
   },
   "outputs": [],
   "source": [
    "#!/usr/bin/env python3\n",
    "\n",
    "def main():\n",
    "    fout = open(\"programming.txt\", \"a\")\n",
    "    print(\"I also love to learn machine learning.\", file=fout)\n",
    "    fout.close()\n",
    "\n",
    "if __name__ == \"__main__\":\n",
    "    main()"
   ]
  },
  {
   "cell_type": "markdown",
   "metadata": {
    "id": "_rfC8Kj03omW"
   },
   "source": [
    "```{note}\n",
    "終わりです．\n",
    "```"
   ]
  }
 ],
 "metadata": {
  "colab": {
   "collapsed_sections": [],
   "name": "python_2.ipynb",
   "provenance": [],
   "toc_visible": true
  },
  "kernelspec": {
   "display_name": "Python 3 (ipykernel)",
   "language": "python",
   "name": "python3"
  },
  "language_info": {
   "codemirror_mode": {
    "name": "ipython",
    "version": 3
   },
   "file_extension": ".py",
   "mimetype": "text/x-python",
   "name": "python",
   "nbconvert_exporter": "python",
   "pygments_lexer": "ipython3",
   "version": "3.7.7"
  }
 },
 "nbformat": 4,
 "nbformat_minor": 0
}