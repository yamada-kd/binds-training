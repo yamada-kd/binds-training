{
 "cells": [
  {
   "cell_type": "markdown",
   "metadata": {
    "id": "z_xhvUO10XD6"
   },
   "source": [
    "# 教師あり学習法"
   ]
  },
  {
   "cell_type": "markdown",
   "metadata": {
    "id": "q6x6Jp9i4Wfa"
   },
   "source": [
    "## scikit-learn の基本操作"
   ]
  },
  {
   "cell_type": "markdown",
   "metadata": {
    "id": "bEZECOfupfJU"
   },
   "source": [
    "このコンテンツで紹介する scikit-learn とは様々な機械学習アルゴリズムをとても簡単な記述で実現することができる Python のライブラリです．最初に scikit-learn の基本的な操作方法を紹介した後にいくつかの教師あり学習法を紹介します．"
   ]
  },
  {
   "cell_type": "markdown",
   "metadata": {
    "id": "hRH4_yZ_4Wfa"
   },
   "source": [
    "### インポート"
   ]
  },
  {
   "cell_type": "markdown",
   "metadata": {
    "id": "kSR9bmk5USie"
   },
   "source": [
    "scikit-learn は以下のようにインポートします．以下のコードではインポートした scikit-learn のバージョンを表示させています．"
   ]
  },
  {
   "cell_type": "code",
   "execution_count": null,
   "metadata": {
    "id": "9rJa4-BjX78k"
   },
   "outputs": [],
   "source": [
    "#!/usr/bin/env python3\n",
    "import sklearn\n",
    " \n",
    "def main():\n",
    "    print(sklearn.__version__)\n",
    "\n",
    "if __name__ == \"__main__\":\n",
    "    main()"
   ]
  },
  {
   "cell_type": "markdown",
   "metadata": {
    "id": "oSKhkQWHO7gP"
   },
   "source": [
    "### データセット"
   ]
  },
  {
   "cell_type": "markdown",
   "metadata": {
    "id": "5SNb1e13lpWu"
   },
   "source": [
    "ここでは，scikit-learn が備えているデータセットを利用して機械学習アルゴリズムの実装法を紹介します．アイリスというアヤメの咢と花弁のサイズの情報からなる，世界中で利用されてきたとても有名なデータセットを利用します．以下のようにすることでデータセットをダウンロードして中身を表示することができます．"
   ]
  },
  {
   "cell_type": "code",
   "execution_count": null,
   "metadata": {
    "id": "A_wcEwgPW4sV"
   },
   "outputs": [],
   "source": [
    "#!/usr/bin/env python3\n",
    "import sklearn\n",
    "from sklearn.datasets import load_iris\n",
    "\n",
    "def main():\n",
    "    diris = load_iris()\n",
    "    print(diris)\n",
    "\n",
    "if __name__ == \"__main__\":\n",
    "    main()"
   ]
  },
  {
   "cell_type": "markdown",
   "metadata": {
    "id": "roQpAoclYMPm"
   },
   "source": [
    "ダウンロードしたデータセットは以下のように表示されているはずです．\n",
    "\n",
    "```\n",
    "{'data': array([[5.1, 3.5, 1.4, 0.2],\n",
    "       [4.9, 3. , 1.4, 0.2],\n",
    "       [4.7, 3.2, 1.3, 0.2],\n",
    "       ・\n",
    "       ・\n",
    "       略\n",
    "       ・\n",
    "       ・\n",
    "       [6.3, 2.5, 5. , 1.9],\n",
    "       [6.5, 3. , 5.2, 2. ],\n",
    "       [6.2, 3.4, 5.4, 2.3],\n",
    "       [5.9, 3. , 5.1, 1.8]]), 'target': array([0, 0, 0, 0, 0, 0, 0, 0, 0, 0, 0, 0, 0, 0, 0, 0, 0, 0, 0, 0, 0, 0,\n",
    "       0, 0, 0, 0, 0, 0, 0, 0, 0, 0, 0, 0, 0, 0, 0, 0, 0, 0, 0, 0, 0, 0,\n",
    "       0, 0, 0, 0, 0, 0, 1, 1, 1, 1, 1, 1, 1, 1, 1, 1, 1, 1, 1, 1, 1, 1,\n",
    "       1, 1, 1, 1, 1, 1, 1, 1, 1, 1, 1, 1, 1, 1, 1, 1, 1, 1, 1, 1, 1, 1,\n",
    "       1, 1, 1, 1, 1, 1, 1, 1, 1, 1, 1, 1, 2, 2, 2, 2, 2, 2, 2, 2, 2, 2,\n",
    "       2, 2, 2, 2, 2, 2, 2, 2, 2, 2, 2, 2, 2, 2, 2, 2, 2, 2, 2, 2, 2, 2,\n",
    "       2, 2, 2, 2, 2, 2, 2, 2, 2, 2, 2, 2, 2, 2, 2, 2, 2, 2]), 'frame': None, 'target_names': array(['setosa', 'versicolor', ．．．略\n",
    "```\n",
    "最初の行に表示されている `[5.1, 3.5, 1.4, 0.2]` が最初のデータです．4個の要素からなるベクトルデータです．このような4個の要素からなるインスタンスが150個あります．すべてのインスタンスの後に表示されている target という項目がありますが，これは，各インスタンスがどのアヤメの種類に属しているかを示しています．アヤメには種類があるらしく，`0` は setosa，`1` は versicolor，`2` は virginica という種類を意味しています．それぞれ均等にデータが取得されており，全部で150個のインスタンスの内，50個が setosa，別の50個が versicolor，残りの50個が virginica です．各インスタンスは4個の要素からなるベクトルデータであることを紹介しましたが，各要素はそのインスタンスの属性（アトリビュート）と言います．このデータの場合，最初の要素は咢の長さです．咢というのは以下の写真の茎ではない緑色の部分を示すものらしいです．単位は cm です．次の要素は咢の幅，次の要素は花弁（花びら）の長さ，最後の要素は花弁の幅です．どれも単位は cm です．"
   ]
  },
  {
   "cell_type": "markdown",
   "metadata": {
    "id": "081QR11ZX0DE"
   },
   "source": [
    "<img src=\"https://drive.google.com/uc?id=1RoIncS19BL3lHm1WKnccWf1DhFbQid-1\" width=\"20%\">\n",
    "\n",
    "出典：https://ja.wikipedia.org/\n",
    "\n"
   ]
  },
  {
   "cell_type": "markdown",
   "metadata": {
    "id": "E1n90uWlqIjf"
   },
   "source": [
    "この実習では，アイリスデータセットの各インスタンスのベクトルデータを入力データとして，そのインスタンスがどのアヤメの種類に属するのかを予測する予測器を構築します．分類問題です．また，このデータには分類先のデータ，ターゲットデータとしてアヤメの種類（3個）が与えられていますが，このようなターゲットデータ（教師データ）と入力データを用いて行う学習法を教師あり学習法と言います．"
   ]
  },
  {
   "cell_type": "markdown",
   "metadata": {
    "id": "X--DWr3USjco"
   },
   "source": [
    "### 決定木による予測器の構築"
   ]
  },
  {
   "cell_type": "markdown",
   "metadata": {
    "id": "UWGvJ21E7Kmk"
   },
   "source": [
    "決定木という機械学習アルゴリズムを用いて人工知能を構築します．最初にデータを学習データセットとテストデータセットに分割します．テストデータセットのサイズは全体の2割にします（何割でも良いのですが2割にしてみました）．データセットの分割もとても便利な方法が用意されています．以下のように書きます．"
   ]
  },
  {
   "cell_type": "code",
   "execution_count": null,
   "metadata": {
    "id": "z0LEA4boy4Ui"
   },
   "outputs": [],
   "source": [
    "#!/usr/bin/env python3\n",
    "import sklearn\n",
    "from sklearn.datasets import load_iris\n",
    "from sklearn.model_selection import train_test_split # このような関数がある\n",
    " \n",
    "def main():\n",
    "    diris = load_iris()\n",
    "    learnx, testx, learnt, testt = train_test_split(diris.data, diris.target, test_size = 0.2, random_state = 0) # このように書くと分割できる．ランダムに並べ替えてくれる．\n",
    "    print(learnx) # 学習データセットの入力データ．\n",
    "    print(learnt) # 学習データセットの教師データ．\n",
    "    print(testx) # テストデータセットの入力データ．\n",
    "    print(testt) # テストデータセットの教師データ．\n",
    "\n",
    "if __name__ == \"__main__\":\n",
    "    main()"
   ]
  },
  {
   "cell_type": "markdown",
   "metadata": {
    "id": "Bbp0zHxl8v8d"
   },
   "source": [
    "以下のように書くと決定木による予測器を構築することができます．"
   ]
  },
  {
   "cell_type": "code",
   "execution_count": null,
   "metadata": {
    "id": "q9DoA6fJ81p2"
   },
   "outputs": [],
   "source": [
    "#!/usr/bin/env python3\n",
    "import sklearn\n",
    "from sklearn.datasets import load_iris\n",
    "from sklearn.model_selection import train_test_split\n",
    "from sklearn.tree import DecisionTreeClassifier\n",
    " \n",
    "def main():\n",
    "    diris = load_iris()\n",
    "    learnx, testx, learnt, testt = train_test_split(diris.data, diris.target, test_size = 0.2, random_state = 0)\n",
    "    predictor = DecisionTreeClassifier(random_state=0) # 予測器を生成．ここも乱数の種に注意．\n",
    "    predictor.fit(learnx, learnt) # 学習．\n",
    "    print(predictor.predict(testx)) # テストデータセットの入力データを予測器に入れて結果を予測．\n",
    "    print(testt) # 教師データ．\n",
    "\n",
    "if __name__ == \"__main__\":\n",
    "    main()"
   ]
  },
  {
   "cell_type": "markdown",
   "metadata": {
    "id": "HnDMsJC4m7Fr"
   },
   "source": [
    "結果として出力された上段の値とそれに対応する教師データが完全に一致しています．高性能な予測器が作れたということです．"
   ]
  },
  {
   "cell_type": "markdown",
   "metadata": {
    "id": "p1ttJ93JpfJb"
   },
   "source": [
    "```{note}\n",
    "出力の1行目は予測器がテストデータセットの入力値に対して予測した予測値です．1行目はテストデータセットの教師データです．\n",
    "```"
   ]
  },
  {
   "cell_type": "markdown",
   "metadata": {
    "id": "oSBV_mUo37EC"
   },
   "source": [
    "```{note}\n",
    "予測器の性能を定量的に示す方法は後で紹介します．\n",
    "```"
   ]
  },
  {
   "cell_type": "markdown",
   "metadata": {
    "id": "tSdn3qjUnPhK"
   },
   "source": [
    "決定木がどのようなものなのかを把握するために，構築された予測器，すなわち，学習済みの決定木を可視化します．以下のように書きます．"
   ]
  },
  {
   "cell_type": "code",
   "execution_count": null,
   "metadata": {
    "id": "3ZSmgLOMN2Gv"
   },
   "outputs": [],
   "source": [
    "#!/usr/bin/env python3\n",
    "import sklearn\n",
    "from sklearn.datasets import load_iris\n",
    "from sklearn.model_selection import train_test_split\n",
    "from sklearn.tree import DecisionTreeClassifier\n",
    "from sklearn.tree import export_graphviz\n",
    "import pydotplus\n",
    "from IPython.display import Image, display_png\n",
    "from graphviz import Digraph\n",
    "from six import StringIO\n",
    " \n",
    "def main():\n",
    "    diris = load_iris()\n",
    "    learnx, testx, learnt, testt = train_test_split(diris.data, diris.target, test_size = 0.2, random_state = 0)\n",
    "    predictor = DecisionTreeClassifier(random_state = 0)\n",
    "    predictor.fit(learnx, learnt)\n",
    "    treedata = StringIO()\n",
    "    export_graphviz(predictor, out_file = treedata, feature_names = diris.feature_names, class_names = diris.target_names)\n",
    "    graph = pydotplus.graph_from_dot_data(treedata.getvalue())\n",
    "    display_png(Image(graph.create_png(), width = 760))\n",
    "\n",
    "if __name__ == \"__main__\":\n",
    "    main()"
   ]
  },
  {
   "cell_type": "markdown",
   "metadata": {
    "id": "5UE9rrz-n_W1"
   },
   "source": [
    "決定木はこのような選択肢の分岐を繰り返すことで入力データを分類する手法です．最上段からスタートします．この場合，咢の幅が `0.8` 以下であるなら（`True` の方向へ進む），データは `setosa` と分類されます．"
   ]
  },
  {
   "cell_type": "markdown",
   "metadata": {
    "id": "a50wPNi5pfJc"
   },
   "source": [
    "```{hint}\n",
    "画像中に ` gini ` とありますが，これは決定木の目的関数です．決定木はこれを指標にしてデータが分割します．気になった場合は「ジニ不純度」のようなキーワードで検索してみてください．\n",
    "```"
   ]
  },
  {
   "cell_type": "markdown",
   "metadata": {
    "id": "JH-79woKpfJc"
   },
   "source": [
    "```{note}\n",
    "このように決定木で得られた結果はとても解釈性が高いです．決定木はそれだけで利用すると（集団学習という性能を向上するものがありますが，そういったものを利用せずにという意味）予測性能は良い方ではありませんが，解釈性が高いためビジネスの分野でよく用いられます．\n",
    "```"
   ]
  },
  {
   "cell_type": "markdown",
   "metadata": {
    "id": "a4t1gycAUmnI"
   },
   "source": [
    "## 予測器の性能評価"
   ]
  },
  {
   "cell_type": "markdown",
   "metadata": {
    "id": "gXq3UPpfqoob"
   },
   "source": [
    "上のコードではテストデータセットの入力データを入力したときの予測器の出力とテストデータセットの教師データの比較を並べて目視で行いました．予測器の性能を評価する方法があります．評価を行うために混同行列（confusion matrix）というものを計算させます．"
   ]
  },
  {
   "cell_type": "code",
   "execution_count": null,
   "metadata": {
    "id": "-wkHFTca4Ubh"
   },
   "outputs": [],
   "source": [
    "#!/usr/bin/env python3\n",
    "import sklearn\n",
    "from sklearn.datasets import load_iris\n",
    "from sklearn.model_selection import train_test_split\n",
    "from sklearn.tree import DecisionTreeClassifier\n",
    "from sklearn.metrics import confusion_matrix\n",
    " \n",
    "def main():\n",
    "    diris = load_iris()\n",
    "    learnx, testx, learnt, testt = train_test_split(diris.data, diris.target, test_size = 0.2, random_state = 2) # 全部正解してしまうから，乱数の種を変えてみた．\n",
    "    predictor = DecisionTreeClassifier(random_state=0)\n",
    "    predictor.fit(learnx, learnt)\n",
    "    dy = predictor.predict(testx)\n",
    "    cm = confusion_matrix(y_true = testt, y_pred = dy)\n",
    "    print(cm)\n",
    "\n",
    "if __name__ == \"__main__\":\n",
    "    main()"
   ]
  },
  {
   "cell_type": "markdown",
   "metadata": {
    "id": "QwnuAMBk6Jb-"
   },
   "source": [
    "結果は以下のようになりました．\n",
    "```\n",
    "[[14  0  0]\n",
    " [ 0  7  1]\n",
    " [ 0  1  7]]\n",
    " ```\n",
    " すべての数字を合計するとテストデータセットのサイズである30となります．1行目は，最初の要素から，本当は setosa であるものを setosa と予測したものの数，versicolor と予測したものの数，virginica と予測したものの数です．2行目は，本当は versicolor であるものに対するそれぞれの予測結果の数，3行目は，本当は virginica であるものに対するそれぞれの予測結果の数が示されています．すなわち，この行列の対角要素の個数は予測器の正解個数です．よってこの予測器の正確度は，28 を 30 で割った値，0.9333 と計算されます．正確度は以下のように計算することも可能です．\n"
   ]
  },
  {
   "cell_type": "code",
   "execution_count": null,
   "metadata": {
    "id": "sMouag4u_iK5"
   },
   "outputs": [],
   "source": [
    "#!/usr/bin/env python3\n",
    "import sklearn\n",
    "from sklearn.datasets import load_iris\n",
    "from sklearn.model_selection import train_test_split\n",
    "from sklearn.tree import DecisionTreeClassifier\n",
    " \n",
    "def main():\n",
    "    diris = load_iris()\n",
    "    learnx, testx, learnt, testt = train_test_split(diris.data, diris.target, test_size = 0.2, random_state = 2) # 全部正解してしまうから，乱数の種を変えてみた．\n",
    "    predictor = DecisionTreeClassifier(random_state=0)\n",
    "    predictor.fit(learnx, learnt)\n",
    "    print(predictor.score(testx, testt))\n",
    "\n",
    "if __name__ == \"__main__\":\n",
    "    main()"
   ]
  },
  {
   "cell_type": "markdown",
   "metadata": {
    "id": "BNUyZJU1SNw5"
   },
   "source": [
    "## 他のアルゴリズムの利用"
   ]
  },
  {
   "cell_type": "markdown",
   "metadata": {
    "id": "GbfROMgkpfJd"
   },
   "source": [
    "これまでに決定木を用いて人工知能を構築しましたが，この節では別の機械学習アルゴリズムを利用して人工知能を構築します．"
   ]
  },
  {
   "cell_type": "markdown",
   "metadata": {
    "id": "DpE-6q0jpfJd"
   },
   "source": [
    "### サポートベクトルマシン"
   ]
  },
  {
   "cell_type": "markdown",
   "metadata": {
    "id": "TcLqUL2VAcFi"
   },
   "source": [
    "サポートベクトルマシンの分類に利用可能な方法 SVC を利用します（回帰問題には SVR を利用します）．以下のように書きます．この場合の正確度は 0.9667 となりました．決定木を用いた場合と（ほぼ）同じ結果です．"
   ]
  },
  {
   "cell_type": "code",
   "execution_count": null,
   "metadata": {
    "id": "twmVfCDqArUX"
   },
   "outputs": [],
   "source": [
    "#!/usr/bin/env python3\n",
    "import sklearn\n",
    "from sklearn.datasets import load_iris\n",
    "from sklearn.model_selection import train_test_split\n",
    "from sklearn.svm import SVC # 決定木ではなくて SVC をインポートする．\n",
    " \n",
    "def main():\n",
    "    diris = load_iris()\n",
    "    learnx, testx, learnt, testt = train_test_split(diris.data, diris.target, test_size = 0.2, random_state = 2)\n",
    "    predictor = SVC(random_state=0) # SVC を利用する．\n",
    "    predictor.fit(learnx, learnt)\n",
    "    print(predictor.score(testx, testt))\n",
    "\n",
    "if __name__ == \"__main__\":\n",
    "    main()"
   ]
  },
  {
   "cell_type": "markdown",
   "metadata": {
    "id": "8r02kULjBVRF"
   },
   "source": [
    "```{note}\n",
    "たった1行を書き換えるだけで別の機械学習法を利用できました．これが scikit-learn の強みです．\n",
    "```"
   ]
  },
  {
   "cell_type": "markdown",
   "metadata": {
    "id": "n_2hL0ixpfJe"
   },
   "source": [
    "### 多層パーセプトロン"
   ]
  },
  {
   "cell_type": "markdown",
   "metadata": {
    "id": "XRdHPdr-BoDn"
   },
   "source": [
    "多層パーセプトロンを利用します．英語では multilayer perceptron（MLP）というものです．深層学習で利用されるニューラルネットワークの最も基礎的な手法です．この場合，正確度は 1.0 と計算されました．"
   ]
  },
  {
   "cell_type": "code",
   "execution_count": null,
   "metadata": {
    "id": "QBV9daWsBq1B"
   },
   "outputs": [],
   "source": [
    "#!/usr/bin/env python3\n",
    "import sklearn\n",
    "from sklearn.datasets import load_iris\n",
    "from sklearn.model_selection import train_test_split\n",
    "from sklearn.neural_network import MLPClassifier # 変更する．\n",
    " \n",
    "def main():\n",
    "    diris = load_iris()\n",
    "    learnx, testx, learnt, testt = train_test_split(diris.data, diris.target, test_size = 0.2, random_state = 2)\n",
    "    predictor = MLPClassifier(random_state=0) # MLP を利用する．\n",
    "    predictor.fit(learnx, learnt)\n",
    "    print(predictor.score(testx, testt))\n",
    "\n",
    "if __name__ == \"__main__\":\n",
    "    main()"
   ]
  },
  {
   "cell_type": "markdown",
   "metadata": {
    "id": "KPWeSiXupfJf"
   },
   "source": [
    "### ロジスティック回帰法"
   ]
  },
  {
   "cell_type": "markdown",
   "metadata": {
    "id": "lMOHdOp4TYU4"
   },
   "source": [
    "ロジスティック回帰法を利用します．ロジスティック回帰は名前に回帰という文字が入っていますが分類問題に用いられる方法です．この場合も大体同じような正確度が得られました．"
   ]
  },
  {
   "cell_type": "code",
   "execution_count": null,
   "metadata": {
    "id": "EWPv-6P8TXsA"
   },
   "outputs": [],
   "source": [
    "#!/usr/bin/env python3\n",
    "import sklearn\n",
    "from sklearn.datasets import load_iris\n",
    "from sklearn.model_selection import train_test_split\n",
    "from sklearn.linear_model import LogisticRegression # 変更する．\n",
    " \n",
    "def main():\n",
    "    diris = load_iris()\n",
    "    learnx, testx, learnt, testt = train_test_split(diris.data, diris.target, test_size = 0.2, random_state = 2)\n",
    "    predictor = LogisticRegression(random_state=0) # MLP を利用する．\n",
    "    predictor.fit(learnx, learnt)\n",
    "    print(predictor.score(testx, testt))\n",
    "\n",
    "if __name__ == \"__main__\":\n",
    "    main()"
   ]
  },
  {
   "cell_type": "markdown",
   "metadata": {
    "id": "8GDPaJGMTyP8"
   },
   "source": [
    "このように scikit-learn を利用すれば，様々な機械学習アルゴリズムをとても観点に実装することができます．scikit-learn で利用可能な方法はまだまだたくさんあります．それらの方法は https://scikit-learn.org/stable/supervised_learning.html にまとめられています．\n",
    "\n",
    "\n"
   ]
  },
  {
   "cell_type": "markdown",
   "metadata": {
    "id": "7ePSwZcWSjcn"
   },
   "source": [
    "## 実際の解析で必要なこと"
   ]
  },
  {
   "cell_type": "markdown",
   "metadata": {
    "id": "VKGaPU02pfJf"
   },
   "source": [
    "上では学習とテストを同時に行いましたが，予測器を利用する度に学習を行うのは良い方法ではありません．というか通常，想像を絶する悪手です．普通はひとつめのコードで与えられたデータを利用して人工知能を構築して，また別の新たなコードでその人工知能を利用する，というのが実際の解析で行うことではないでしょうか．その方法を紹介します．"
   ]
  },
  {
   "cell_type": "markdown",
   "metadata": {
    "id": "Ik2I9_l3Sjcn"
   },
   "source": [
    "### モデルの保存と呼び出し"
   ]
  },
  {
   "cell_type": "markdown",
   "metadata": {
    "id": "Xj-a-Es8UpOx"
   },
   "source": [
    "これまでにとても簡単に scikit-learn を利用した機械学習法の実装法を紹介しました．実際のデータ解析を行う際には，もう少し別の作業が必要です．例えば，構築した予測器は未知の新たなデータに対して利用したいため，どこかに置いて使える状態にしておきたいと思います．このためには，構築した予測器をファイルとして保存できなければなりません．モデル（予測器）の保存は以下のように行います．"
   ]
  },
  {
   "cell_type": "code",
   "execution_count": null,
   "metadata": {
    "id": "qnbwX5c2ViLO"
   },
   "outputs": [],
   "source": [
    "#!/usr/bin/env python3\n",
    "import sklearn\n",
    "from sklearn.datasets import load_iris\n",
    "from sklearn.model_selection import train_test_split\n",
    "from sklearn.svm import SVC\n",
    "import pickle # インポートする．\n",
    " \n",
    "def main():\n",
    "    diris = load_iris()\n",
    "    learnx, testx, learnt, testt = train_test_split(diris.data, diris.target, test_size = 0.2, random_state = 2)\n",
    "    predictor = SVC(random_state=0)\n",
    "    predictor.fit(learnx, learnt)\n",
    "    fout = open(\"./predictor.sav\", \"wb\") # wは書き込みを意味します．bはバイナリを意味します．\n",
    "    pickle.dump(predictor, fout) # 予測器のファイルへの保存．\n",
    "    fout.close()\n",
    "\n",
    "if __name__ == \"__main__\":\n",
    "    main()"
   ]
  },
  {
   "cell_type": "markdown",
   "metadata": {
    "id": "M_XtkADWaUaV"
   },
   "source": [
    "これで予測器の情報がファイル，predictor.sav としてが保存されました．以下のようにすることでこの計算機上（Google Colaboratory が動いている Google の所有物のどこか遠くにある計算機上）に保存されたファイルを確認することができます．"
   ]
  },
  {
   "cell_type": "code",
   "execution_count": null,
   "metadata": {
    "id": "5o0zAXK9apR0"
   },
   "outputs": [],
   "source": [
    "! ls"
   ]
  },
  {
   "cell_type": "markdown",
   "metadata": {
    "id": "86pjcK3yauXk"
   },
   "source": [
    "```{hint}\n",
    "これは Python のコマンドではありません．Google Colaboratory のコードセルは通常，Python を実行させるためのものです．` ! ` をコマンドの前に付けて実行すると，この計算機のシェルを動かすことができます．\n",
    "```"
   ]
  },
  {
   "cell_type": "markdown",
   "metadata": {
    "id": "PyAQNu8tbDPv"
   },
   "source": [
    "上のコマンドを実行すると確かに predictor.sav というファイルが保存されていることが確認できました．次はこのファイルを別のプログラムから呼び出して利用します．以下のように書きます．"
   ]
  },
  {
   "cell_type": "code",
   "execution_count": null,
   "metadata": {
    "id": "X8E392J8bTNo"
   },
   "outputs": [],
   "source": [
    "#!/usr/bin/env python3\n",
    "import sklearn\n",
    "from sklearn.datasets import load_iris\n",
    "from sklearn.model_selection import train_test_split\n",
    "import pickle\n",
    " \n",
    "def main():\n",
    "    fin = open(\"./predictor.sav\", \"rb\") # rは読み込みを意味します．\n",
    "    predictor = pickle.load(fin) # 予測器の読み込み．\n",
    "    fin.close()\n",
    "    diris = load_iris()\n",
    "    learnx, testx, learnt, testt = train_test_split(diris.data, diris.target, test_size = 0.2, random_state = 2)\n",
    "    print(predictor.score(testx, testt))\n",
    "\n",
    "if __name__ == \"__main__\":\n",
    "    main()"
   ]
  },
  {
   "cell_type": "markdown",
   "metadata": {
    "id": "pfw3pUObcJos"
   },
   "source": [
    "このプログラムでは SVC をインポートすらしていないし，学習データセットの学習をするためにコードも書いていないのに，しっかりと予測器が動いていることを確認できます．つまり，学習済み決定木を読み込めたということを意味しています．"
   ]
  },
  {
   "cell_type": "markdown",
   "metadata": {
    "id": "IhqexdELSjcn"
   },
   "source": [
    "### ハイパーパラメータの探索"
   ]
  },
  {
   "cell_type": "markdown",
   "metadata": {
    "id": "pcdG2rGCkFmN"
   },
   "source": [
    "機械学習では未学習の決定木やニューラルネットワークやサポートベクトルマシンに学習データセットを学習させます．これらの手法は学習によって何を成長（変化）させているかというと，パラメータと呼ばれる値です．例えば，以下のような線形回帰式のパラメータは $w_1$，$w_2$，$w_3$，$b$ です．この値を学習データセットに適合させることが各機械学習アルゴリズムが行っていることです．\n",
    "\n",
    "$\n",
    "f(x_1,x_2,x_3)=w_1x_1+w_2x_2+w_3x_3+b\n",
    "$\n",
    "\n",
    "機械学習アルゴリズムは学習の過程においてパラメータの値を変化させます．これに対して，学習によって決定されないパラメータをハイパーパラメータと言います．例えば，決定木においてはその分岐の深さをあらかじめ決めて分岐の仕方を学習させることができますが，これはハイパーパラメータのひとつです．また，機械学習アルゴリズムに持たせるパラメータのサイズもハイパーパラメータであるし，そのパラメータを学習させる最適化法もハイパーパラメータと言えます．このようなハイパーパラメータは各機械学習アルゴリズムが固有に持っているものです．"
   ]
  },
  {
   "cell_type": "markdown",
   "metadata": {
    "id": "c-hbq74DpfJh"
   },
   "source": [
    "```{hint}\n",
    "学習によって決定されないパラメータをハイパーパラメータと言い，これをうまく設定することが開発者の腕の見せ所のひとつです．\n",
    "```"
   ]
  },
  {
   "cell_type": "markdown",
   "metadata": {
    "id": "Tj1jqA2Bm6dL"
   },
   "source": [
    "ハイパーパラメータを決定するための探索法には様々なものがあります．例えば，ランダムに決定したハイパーパラメータを利用して学習を完了させ，その性能を擬似的なテストデータセット（バリデーションデータセット）を用いて評価し，最も性能が良くなるハイパーパラメータを最終的なハイパーパラメータとする方法があります．また，ランダム探索より効率的に探索するために，ベイズ最適化法（以前のハイパーパラメータを利用した学習の結果を利用してより良さそうなハイパーパラメータを探索する方法）や進化計算法（離散最適化法の一種）が利用されています．そんな中において，最もナイーブですが強力な探索法としてグリッドサーチがあります．しらみつぶし的にあり得そうなハイパーパラメータの組み合わせを全部計算してしまう方法です．例えば，ハイパーパラメータをふたつ持つ機械学習アルゴリズムについて，最初のハイパーパラメータの値の候補として10点が考えられるとして，また，もうひとつのハイパーパラメータの値の候補として5点が考えられるとした場合，それらを掛け算した組み合わせ分，すなわち50種類のハイパーパラメータの組み合わせすべてで学習を行う方法です．グリッドサーチは以下のように行います．ここではサポートベクトルマシンのハイパーパラメータである「カーネル」と「ガンマ」と「C」の値の組み合わせを探索しています（どのような性質を持つものか興味があったら調べてみてください）．"
   ]
  },
  {
   "cell_type": "code",
   "execution_count": null,
   "metadata": {
    "id": "hoghn38rpcrR"
   },
   "outputs": [],
   "source": [
    "#!/usr/bin/env python3\n",
    "import sklearn\n",
    "from sklearn.datasets import load_iris\n",
    "from sklearn.model_selection import train_test_split, GridSearchCV # インポートする\n",
    "from sklearn.svm import SVC\n",
    " \n",
    "def main():\n",
    "    diris = load_iris()\n",
    "    learnx, testx, learnt, testt = train_test_split(diris.data, diris.target, test_size = 0.2, random_state = 2)\n",
    "    diparameter = {\n",
    "        \"kernel\" : [\"rbf\"], # 1点\n",
    "        \"gamma\" : [10**i for i in range(-4, 2)], # 5点．\n",
    "        \"C\" : [10**i for i in range(-2,4)], # 6点\n",
    "        \"random_state\" : [0], # 1点\n",
    "        } # 探索するハイパーパラメータの候補をディクショナリで指定する．この場合，合計30点探索する．\n",
    "    licv = GridSearchCV(SVC(), param_grid = diparameter, scoring = \"accuracy\", cv = 5, n_jobs = 1) # SVCを使うことを指定．上のハイパーパラメータ候補を探索する．\n",
    "    licv.fit(learnx, learnt) # グリッドサーチ．\n",
    "    predictor = licv.best_estimator_ # グリッドサーチの結果，最も良い予測器を最終的な予測器とする．\n",
    "    print(predictor.score(testx, testt))\n",
    "\n",
    "if __name__ == \"__main__\":\n",
    "    main()"
   ]
  },
  {
   "cell_type": "markdown",
   "metadata": {
    "id": "YT0HUxlaru74"
   },
   "source": [
    "グリッドサーチの際には，クロスバリデーションによる評価を行っています．ここでは，`cv = 5` と指定しています．学習データセットを5分割にし，それらの内の4分割分で学習を行い，残りの1分割分で擬似テストをし，次に別の4分割分で学習を行い，残りの1分割分で擬似テストをする，という行為を合計5回行うという操作です．最終的なハイパーパラメータとしてどのような値が選択されたのかは以下のように書くことでわかります．"
   ]
  },
  {
   "cell_type": "code",
   "execution_count": null,
   "metadata": {
    "id": "RFNeFuXOsHko"
   },
   "outputs": [],
   "source": [
    "#!/usr/bin/env python3\n",
    "import sklearn\n",
    "from sklearn.datasets import load_iris\n",
    "from sklearn.model_selection import train_test_split, GridSearchCV\n",
    "from sklearn.svm import SVC\n",
    " \n",
    "def main():\n",
    "    diris = load_iris()\n",
    "    learnx, testx, learnt, testt = train_test_split(diris.data, diris.target, test_size = 0.2, random_state = 2)\n",
    "    diparameter = {\n",
    "        \"kernel\" : [\"rbf\"],\n",
    "        \"gamma\" : [10**i for i in range(-4, 2)],\n",
    "        \"C\" : [10**i for i in range(-2,4)],\n",
    "        \"random_state\" : [0],\n",
    "        }\n",
    "    licv = GridSearchCV(SVC(), param_grid = diparameter, scoring = \"accuracy\", cv = 5, n_jobs = 1)\n",
    "    licv.fit(learnx, learnt)\n",
    "    predictor = licv.best_estimator_\n",
    "    print(sorted(predictor.get_params(True).items())) # 選択されたハイパーパラメータを確認．\n",
    "\n",
    "if __name__ == \"__main__\":\n",
    "    main()"
   ]
  },
  {
   "cell_type": "markdown",
   "metadata": {
    "id": "-wWhvgVPpfJi"
   },
   "source": [
    "```{attention}\n",
    "サポートベクトルマシンとかはデータセットのサイズが大きくなるとかなり計算時間的にきつくなります．\n",
    "```"
   ]
  },
  {
   "cell_type": "markdown",
   "metadata": {
    "id": "5ojK8FlgVQN0"
   },
   "source": [
    "### 方法の選択"
   ]
  },
  {
   "cell_type": "markdown",
   "metadata": {
    "id": "ZBOvW9CQcY2X"
   },
   "source": [
    "機械学習アルゴリズムにはとてもたくさんの種類があります．どのような場合に（どのようなデータセットに対して，また，どのような問題に対して）どの方法を使えば良いかを scikit-learn がまとめてくれています．以下のチートシートです．これは経験に基づいた選択方法です．実際にはデータセットの性質によって最適な手法は変わるものであるため必ずしも正しいとは限りません．"
   ]
  },
  {
   "cell_type": "markdown",
   "metadata": {
    "id": "FZZSPpvvVoBp"
   },
   "source": [
    "<img src=\"https://drive.google.com/uc?id=1FUTedjoFUz8SU4EqypWF6UfnaXCR7Z6H\" width=\"80%\">\n"
   ]
  },
  {
   "cell_type": "markdown",
   "metadata": {
    "id": "NfukCsp4V1Ox"
   },
   "source": [
    "出典：https://scikit-learn.org/"
   ]
  },
  {
   "cell_type": "markdown",
   "metadata": {
    "id": "_rfC8Kj03omW"
   },
   "source": [
    "```{note}\n",
    "終わりです．\n",
    "```"
   ]
  }
 ],
 "metadata": {
  "colab": {
   "collapsed_sections": [],
   "name": "scikit_learn_1.ipynb",
   "provenance": [
    {
     "file_id": "https://github.com/yamada-kd/binds-training/blob/main/notebook/scikit-learn-1.ipynb",
     "timestamp": 1651140753767
    }
   ],
   "toc_visible": true
  },
  "kernelspec": {
   "display_name": "Python 3 (ipykernel)",
   "language": "python",
   "name": "python3"
  },
  "language_info": {
   "codemirror_mode": {
    "name": "ipython",
    "version": 3
   },
   "file_extension": ".py",
   "mimetype": "text/x-python",
   "name": "python",
   "nbconvert_exporter": "python",
   "pygments_lexer": "ipython3",
   "version": "3.7.7"
  }
 },
 "nbformat": 4,
 "nbformat_minor": 0
}