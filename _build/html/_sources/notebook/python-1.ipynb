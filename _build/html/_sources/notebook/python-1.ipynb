{
 "cells": [
  {
   "cell_type": "markdown",
   "metadata": {
    "id": "0gHkEusdHkhA"
   },
   "source": [
    "# Python の基本的な使用方法"
   ]
  },
  {
   "cell_type": "markdown",
   "metadata": {
    "id": "yWX-6FICG05q"
   },
   "source": [
    "## Python とは"
   ]
  },
  {
   "cell_type": "markdown",
   "metadata": {
    "id": "6xbi2Q8bIQkN"
   },
   "source": [
    "Python は，科学技術界隈，特にデータ科学に関する分野において昨今，最も利用されていると言って過言ではないプログラミング言語です．これを習得することで今後，プログラミング技術なしでは為し得なかったような大量データの解析ができるようになります．Python は C言語とか Fortran とかの伝統的なプログラミング言語と比べて簡単に学ぶことができるプログラミング言語です．ものすごく人気がある言語であり，たくさんのライブラリ（補助ツール）が存在しているので，色々なことができます．計算の速さもそこそこで，少なくとも悪くはありません．ここでは，Python のバージョン3（Python3）の使い方を学びます．"
   ]
  },
  {
   "cell_type": "markdown",
   "metadata": {
    "id": "Gq6XDGXpJtlT"
   },
   "source": [
    "## Python の実行方法"
   ]
  },
  {
   "cell_type": "markdown",
   "metadata": {},
   "source": [
    "Python をどうやって実行するかとか，グーグル小ラボラトリーでどうやって動かすかとかを紹介します．"
   ]
  },
  {
   "cell_type": "markdown",
   "metadata": {
    "id": "V0dOgGiJJ-cd"
   },
   "source": [
    "### 実行の手順"
   ]
  },
  {
   "cell_type": "markdown",
   "metadata": {
    "id": "xT39M44LLrHk"
   },
   "source": [
    "普通，Python は以下のような手順で使います．\n",
    "\n",
    "1.   プログラムを書きます．プログラムの本体をソースコードと呼びます．\n",
    "2.   書いたソースコードを保存します．拡張子は「.py」とします．\n",
    "3.   そのプログラムを（コマンドライン等から）呼び出します．\n"
   ]
  },
  {
   "cell_type": "markdown",
   "metadata": {
    "id": "Ob1MHdrxL3CB"
   },
   "source": [
    "### Python プログラムの構造"
   ]
  },
  {
   "cell_type": "markdown",
   "metadata": {
    "id": "lLVWXcwCL9Hl"
   },
   "source": [
    "以下のようなプログラムを書いて，それを実行するとターミナルウィンドウ等に「Hello world」という表示が出力されます．以下のプログラムにおいて，1～3と5～7行は Python にとって常に必要になる表記です．これは，いかなるときにも取り敢えず書いておくと良いでしょう．なので，以下のプログラムの本体は実質，4行目だけです．これは，「Hello world」という文を画面に表示しなさいという命令です．`print()` という表記の前に存在する空白は，キーボードの `Tab` を押すと入力できる空白文字です．Pythonではこのように空白文字をきちんと入れる必要があります．`def main():` 以下に書いた，タブの右側の表記だけがプログラムとして認識されます．"
   ]
  },
  {
   "cell_type": "code",
   "execution_count": null,
   "metadata": {
    "id": "tUm59f0LM55C"
   },
   "outputs": [],
   "source": [
    "#!/usr/bin/env python3\n",
    "\n",
    "def main():\n",
    "    print(\"Hello world\")\n",
    "     \n",
    "if __name__ == \"__main__\":\n",
    "    main()"
   ]
  },
  {
   "cell_type": "markdown",
   "metadata": {
    "id": "oSBV_mUo37EC"
   },
   "source": [
    "```{note}\n",
    "実は ` print(\"Hello world\") ` だけでコードは問題なく動きます．特にこの Google Colaboratory を使う場合，コードセルで実行した結果はメモリ上に保存されるので寧ろコマンドだけ書いた方が良い場合もあります．Google Colaboratory は本来そのようなプログラミング環境として利用することを想定されているのかもしれません．しかし，今回の実習の目的は最終的には Python プログラムを自身の計算機で動かせるようになることとしているので，この書き方を続けます．このようにすることで，コードセルをコピーして別の環境に持って行ったとしても問題なく利用できます．\n",
    "```"
   ]
  },
  {
   "cell_type": "markdown",
   "metadata": {
    "id": "JfGon_89n9Qh"
   },
   "source": [
    "```{attention}\n",
    "Python コードをプログラムファイルとして実行した場合，` __name__ ` という変数に ` \"__main__\" ` という文字列が割り当てられます．一方で，` hoge.py ` という名前の Python コードをライブラリとして別のプログラムから ` import hoge ` で呼び出した場合，` __name__ ` という変数に ` \"hoge\" ` が割り当てられます．つまり，` if __name__ == \"__main__\": ` を書かないコードを別のファイルから呼び出して使おうとすると，望んでもいないのにそのコードの全部がインポート時に勝手に実行されてしまうという弊害が起きてしまうのです．\n",
    "```"
   ]
  },
  {
   "cell_type": "markdown",
   "metadata": {
    "id": "zn3NeaMPL9zs"
   },
   "source": [
    "### Python コーディング"
   ]
  },
  {
   "cell_type": "markdown",
   "metadata": {
    "id": "d7dGuF_UME1i"
   },
   "source": [
    "Python でコーディングをする際に統一的なルール（エチケット？） として PEP8 が定義されています．PEP とは Python Enhancement Proposal の略です．PEP8 に従って書かれたコードは可読性が高くなります．\n",
    "\n",
    "https://pep8-ja.readthedocs.io/ja/latest/\n",
    "\n",
    "このコンテンツのコードは必ずしも PEP8 に従っていないかもしれません．\n"
   ]
  },
  {
   "cell_type": "markdown",
   "metadata": {
    "id": "l2MpA5VMNb5-"
   },
   "source": [
    "## Python の基本操作"
   ]
  },
  {
   "cell_type": "markdown",
   "metadata": {
    "id": "XpI3MkGVNp54"
   },
   "source": [
    "以降，実際にプログラムを書いてそれらを実行してみます．何かを画面に表示させたり，変数というものを使ったり，リストとかディクショナリとかいうものを使ったりします．"
   ]
  },
  {
   "cell_type": "markdown",
   "metadata": {
    "id": "EuIaGYu9NjZp"
   },
   "source": [
    "### 四則計算"
   ]
  },
  {
   "cell_type": "markdown",
   "metadata": {
    "id": "T0Kz9mUzT1oW"
   },
   "source": [
    "以下のように書くと足し算ができます．プログラム中の「#」はコメントの宣言のための記号で，これが書いてある部分から右側はプログラムとして認識されません．"
   ]
  },
  {
   "cell_type": "code",
   "execution_count": null,
   "metadata": {
    "id": "Hk-0z56UTxL1"
   },
   "outputs": [],
   "source": [
    "#!/usr/bin/env python3\n",
    " \n",
    "def main():\n",
    "    print(3 + 15) # addition\n",
    " \n",
    "if __name__ == \"__main__\":\n",
    "    main()"
   ]
  },
  {
   "cell_type": "markdown",
   "metadata": {
    "id": "z-mSy7rjqGcj"
   },
   "source": [
    "```{attention}\n",
    "ハッシュ（#）とシャープ（♯）は実は違うものですよね．\n",
    "```"
   ]
  },
  {
   "cell_type": "markdown",
   "metadata": {
    "id": "4kcO2RFAUFml"
   },
   "source": [
    "その他の四則計算は以下のように書きます．"
   ]
  },
  {
   "cell_type": "code",
   "execution_count": null,
   "metadata": {
    "id": "xvvcze6EULi2"
   },
   "outputs": [],
   "source": [
    "#!/usr/bin/env python3\n",
    " \n",
    "def main():\n",
    "    print(10 - 2) # subtraction\n",
    "    print(90 / 3) # division\n",
    "    print(51 * 5) # multiplication\n",
    " \n",
    "if __name__ == \"__main__\":\n",
    "    main()"
   ]
  },
  {
   "cell_type": "markdown",
   "metadata": {
    "id": "LACRWfSnVC4s"
   },
   "source": [
    "```{hint}\n",
    "コードセルを追加して何か書いてみましょう！\n",
    "```"
   ]
  },
  {
   "cell_type": "markdown",
   "metadata": {
    "id": "AQhcZizUgF2Y"
   },
   "source": [
    "### 変数"
   ]
  },
  {
   "cell_type": "markdown",
   "metadata": {
    "id": "yawsnFL_gKA8"
   },
   "source": [
    "上では，実際の数値を入力してプログラムを書きました．しかし，これではただの電卓です．以下のようにすると，変数を定義することができます．例えば，4行目で「a」という変数を生成し，これに「3」という数値を代入しています．ここで注意しなければならないことは，プログラミング言語において「=」は「その右側と左側が等しい」という意味ではなく，「右側を左側に代入する」という意味で用いられる点です．このように変数というものを使うことでプログラムは色々な処理を一般化することができます．"
   ]
  },
  {
   "cell_type": "code",
   "execution_count": null,
   "metadata": {
    "id": "5QHKOBLsggMt"
   },
   "outputs": [],
   "source": [
    "#!/usr/bin/env python3\n",
    " \n",
    "def main():\n",
    "    a = 3 # assign a value \"3\" to a variable \"a\"  ==\n",
    "    b = 18\n",
    "    print(a + b) # addition\n",
    "    print(a - b) # subtraction\n",
    "    print(b / a) # division\n",
    "    print(a * b) # multiplication\n",
    " \n",
    "if __name__ == \"__main__\":\n",
    "    main()"
   ]
  },
  {
   "cell_type": "markdown",
   "metadata": {
    "id": "NACQwG6sgv6b"
   },
   "source": [
    "変数として使うことができるものは英語アルファベットの中の一文字だけではありません．以下のように文字列を使用することができます．"
   ]
  },
  {
   "cell_type": "code",
   "execution_count": null,
   "metadata": {
    "id": "E6r70gBwgyGm"
   },
   "outputs": [],
   "source": [
    "#!/usr/bin/env python3\n",
    " \n",
    "def main():\n",
    "    aaa = 5\n",
    " \n",
    "if __name__ == \"__main__\":\n",
    "    main()"
   ]
  },
  {
   "cell_type": "markdown",
   "metadata": {
    "id": "AlEr0YfDg0eh"
   },
   "source": [
    "変数として使用できる文字は以下のものを含みます．\n",
    "\n",
    "*   英語アルファベットに含まれる文字\n",
    "*   数字\n",
    "*   _ (アンダースコア)\n",
    "\n",
    "しかし以下のようなことは禁止事項です．\n",
    "\n",
    "*   変数の最初の文字が数字であること．\n",
    "*   予約語と等しい文字列．例えば，「print」という変数を使おうとしても使えません．これは Python が「print」という関数を備えているためです．\n",
    "\n",
    "変数には数値だけでなく，文字列や文字も代入することができます．以下のようにすると，「greeting」という変数が「print()」という関数に処理されて画面に表示されますが，「greeting」に代入された値は「Hello world」なので，画面に表示される文字列は同じく「Hello world」となります．"
   ]
  },
  {
   "cell_type": "code",
   "execution_count": null,
   "metadata": {
    "id": "WgUlShVchW0f"
   },
   "outputs": [],
   "source": [
    "#!/usr/bin/env python3\n",
    " \n",
    "def main():\n",
    "    greeting = \"Hello world\"\n",
    "    print(greeting)\n",
    " \n",
    "if __name__ == \"__main__\":\n",
    "    main()"
   ]
  },
  {
   "cell_type": "markdown",
   "metadata": {
    "id": "Dmp40j1WmS8R"
   },
   "source": [
    "```{note}\n",
    "Python では数値と文字列は明確に区別されます．数値を変数に代入したときは ` \" ` を利用しませんでした．` \" ` に囲まれた部分は文字列としてみなされます．\n",
    "```"
   ]
  },
  {
   "cell_type": "markdown",
   "metadata": {
    "id": "xDR8vpoEbw2K"
   },
   "source": [
    "ダブルクォーテーション（`\"`）に囲まれた部分には何を書いてもそれは文字列とみなされます．よって，上の例で `\"greeting\"` と書いてその内容（`Hello world`）を出力しようとしても，`greeting` という文字列が出力されるだけで中身を出力できません．目的の動作をさせるには変数の中身をダブルクォーテション内で「展開」しなければならないのです．変数を文字列の中で展開したい場合は `{` と `}` と `format()` を組み合わせて使います．"
   ]
  },
  {
   "cell_type": "code",
   "execution_count": null,
   "metadata": {
    "id": "z6Jagfnvby7R"
   },
   "outputs": [],
   "source": [
    "#!/usr/bin/env python3\n",
    " \n",
    "def main():\n",
    "    name = \"Ken\"\n",
    "    age = 6\n",
    "    print(\"{0}, which is {1} years old is now sitting.\".format(name, age))\n",
    " \n",
    "if __name__ == \"__main__\":\n",
    "    main()"
   ]
  },
  {
   "cell_type": "markdown",
   "metadata": {
    "id": "6GKHfaKrmUu7"
   },
   "source": [
    "### リストとディクショナリ"
   ]
  },
  {
   "cell_type": "markdown",
   "metadata": {
    "id": "DkWyUww5mbib"
   },
   "source": [
    "複数個の値を代入することができる変数があります．これのことをただの変数ではなく，Python ではリスト（list）と呼びます．リスト変数は `[` と `]` と `,` を使って生成します．以下のように生成した変数「list_a」の要素にアクセスするには「list_a[0]」のような感じでリスト変数に添字を付けて書きます．こうすることで「list_a」に格納されている最初の値である「10」にアクセスできます．多くのプログラミング言語ではリストの一番最初を示すインデックスは「0」です（1ではありません．）．こういうシステムのことはゼロオリジンと呼称します．"
   ]
  },
  {
   "cell_type": "code",
   "execution_count": null,
   "metadata": {
    "id": "ihzJ3CZim1VB"
   },
   "outputs": [],
   "source": [
    "#!/usr/bin/env python3\n",
    " \n",
    "def main():\n",
    "    list_a = [10, 4, \"aaa\"] # declaration of a variable, list_a, this list variable contains three values\n",
    "    print(list_a[0]) # access first element of list_a\n",
    "    print(list_a[1]) # access second element of list_a\n",
    "    print(list_a[2]) # access third element of list_a\n",
    " \n",
    "if __name__ == \"__main__\":\n",
    "    main()"
   ]
  },
  {
   "cell_type": "markdown",
   "metadata": {
    "id": "K2dgE8JOm6v3"
   },
   "source": [
    "Python のリストでは上のように数値と文字（列）をひとつのリストに同時に入れることができます．リストを使うことが可能な多くのプログラミング言語ではこのような操作はできない場合が多いです．"
   ]
  },
  {
   "cell_type": "markdown",
   "metadata": {
    "id": "xZgUX0pVunDW"
   },
   "source": [
    "また，以下のような特別な変数も存在します．これをディクショナリ（dictionary）と呼びます．ディクショナリ変数は `{` と `}` と `,` と `:` を使って生成します．ディクショナリ変数には，キー（key）とそれに対応する値（value）を一組にして代入します．その後，キーの値を使って以下のようにしてディクショナリ変数にアクセスすることで，そのキーに対応する値を取得することができます．"
   ]
  },
  {
   "cell_type": "code",
   "execution_count": null,
   "metadata": {
    "id": "6z91aRd9nrRO"
   },
   "outputs": [],
   "source": [
    "#!/usr/bin/env python3\n",
    " \n",
    "def main():\n",
    "    dict_a = {\"January\" : \"1\", \"February\" : \"2\"} # declaration of dictionary, dict_a. this dictionary contains two keys and two values\n",
    "    print(dict_a[\"January\"]) # access a value corresponding to a key \"January\"\n",
    " \n",
    "if __name__ == \"__main__\":\n",
    "    main()"
   ]
  },
  {
   "cell_type": "markdown",
   "metadata": {
    "id": "xI6Ri8_8o7x6"
   },
   "source": [
    "### 繰り返し処理"
   ]
  },
  {
   "cell_type": "markdown",
   "metadata": {
    "id": "YkYLxTicr20H"
   },
   "source": [
    "Python で繰り返し処理をするには「for」を使います．以下のように書くと，`range(5)` に格納されている「0，1，2，3，4」という値が一行ごとに表示されます．プログラムではこの「for」を様々な局面で利用することによって人間ではできないような同じことの繰り返し作業を実現します．この繰り返し処理の方法と後に出る条件分岐の方法（if）さえ用いればどのようなプログラムでも実現することができます．繰り返し操作が終わった次の行からは，インデントを再びアウトデントするのを忘れないよう注意しましょう．"
   ]
  },
  {
   "cell_type": "code",
   "execution_count": null,
   "metadata": {
    "id": "ZJ--uUJssBwv"
   },
   "outputs": [],
   "source": [
    "#!/usr/bin/env python3\n",
    " \n",
    "def main():\n",
    "    for i in [0,1,2,3,4]:\n",
    "        print(i)\n",
    "    print(\"hoge\")\n",
    " \n",
    "if __name__ == \"__main__\":\n",
    "    main()"
   ]
  },
  {
   "cell_type": "markdown",
   "metadata": {
    "id": "sGdYm3qms7Nj"
   },
   "source": [
    "```{hint}\n",
    "` range(5) ` は ` [0，1，2，3，4] ` の配列を生成するものと考えて問題ないです．\n",
    "```"
   ]
  },
  {
   "cell_type": "markdown",
   "metadata": {
    "id": "4rkSvLdDn7Xe"
   },
   "source": [
    "以下のように書くとリストに格納されているデータ全てにひとつずつアクセスすることができます．"
   ]
  },
  {
   "cell_type": "code",
   "execution_count": null,
   "metadata": {
    "id": "7Rp9po27oQD2"
   },
   "outputs": [],
   "source": [
    "#!/usr/bin/env python3\n",
    " \n",
    "def main():\n",
    "    list_a = [10, 4, \"aaa\"] # declaration of variable list_a\n",
    "    for w in list_a: # repetitive access of list_a. w represents an element.\n",
    "        print(w) # when you start a \"function\" you have to insert [tab] (and when you finish the function, also you need outdent)\n",
    " \n",
    "if __name__ == \"__main__\":\n",
    "    main()"
   ]
  },
  {
   "cell_type": "markdown",
   "metadata": {
    "id": "y7LxU-RgocvX"
   },
   "source": [
    "ディクショナリに対する繰り返しのアクセスは以下のようにします．"
   ]
  },
  {
   "cell_type": "code",
   "execution_count": null,
   "metadata": {
    "id": "TXjR5-Yhoewk"
   },
   "outputs": [],
   "source": [
    "#!/usr/bin/env python3\n",
    " \n",
    "def main():\n",
    "    dict_a={\"January\" : \"1\", \"February\" : \"2\"}\n",
    "    for k in dict_a.keys(): # dict_a.keys() is a list containing only keys of \"dict_a\". or you can write simply \"dict_a\" instead of \"dict_a.keys()\"\n",
    "        print(k, dict_a[k]) # k is a key and dict_a[k] is a value corresponding to the key.\n",
    " \n",
    "if __name__ == \"__main__\":\n",
    "    main()"
   ]
  },
  {
   "cell_type": "markdown",
   "metadata": {
    "id": "jepGsAriue5r"
   },
   "source": [
    "```{hint}\n",
    "ディクショナリ変数に `.keys()` をつけることでディクショナリ変数に含まれるキーからなるリストを生成することができます．\n",
    "```"
   ]
  },
  {
   "cell_type": "markdown",
   "metadata": {
    "id": "6eUSxsKEox5F"
   },
   "source": [
    "以下のように書いても，上と全く同じ挙動を示します．"
   ]
  },
  {
   "cell_type": "code",
   "execution_count": null,
   "metadata": {
    "id": "QFA4CCVooyoa"
   },
   "outputs": [],
   "source": [
    "#!/usr/bin/env python3\n",
    " \n",
    "def main():\n",
    "    dict_a={\"January\" : \"1\", \"February\" : \"2\"}\n",
    "    for k, v in dict_a.items():\n",
    "        print(k, v) # k is a key and dict_a[k] is a value corresponding to the key.\n",
    " \n",
    "if __name__ == \"__main__\":\n",
    "    main()"
   ]
  },
  {
   "cell_type": "markdown",
   "metadata": {
    "id": "fCnp8d_nolo9"
   },
   "source": [
    "```{note}\n",
    "この場合，`.items()` によってキーと値のペアが同時に抜き出されているのです．変数の内容を変更して，挙動を確認してみましょう！\n",
    "```"
   ]
  },
  {
   "cell_type": "markdown",
   "metadata": {
    "id": "17lN6S8UsZhp"
   },
   "source": [
    "繰り返し処理をする方法にはその他に，`while` があります．以下のようにして使います．`while` の右側に書いた条件が満たされる場合のみ，それ以下の処理を繰り返すというものです．この場合，`i` という変数が `10` より小さいとき処理が繰り返されます．そして，この `i` の値は `while` が1回実行されるたびに `1` ずつインクリメント（増加）されています．その表記が，`i = i + 1` です．これは，`i` に「`i` に `1` を足した値」を代入しろという意味です．なので，この表記の前の `i` に比べて，表記の後の `i` は `1` だけ大きい値です．"
   ]
  },
  {
   "cell_type": "code",
   "execution_count": null,
   "metadata": {
    "id": "MTDcp7SMsvbE"
   },
   "outputs": [],
   "source": [
    "#!/usr/bin/env python3\n",
    " \n",
    "def main():\n",
    "    i = 0\n",
    "    while i < 10: # If the condition \"i < 10\" is satisfied,\n",
    "        print(i) \n",
    "        i = i + 1 # these two lines are processed.\n",
    " \n",
    "if __name__ == \"__main__\":\n",
    "    main()"
   ]
  },
  {
   "cell_type": "markdown",
   "metadata": {
    "id": "vGP1bBqJs0w9"
   },
   "source": [
    "また，`while` は以下のようにして用いることもできます．この `!=` は「この記号の右側と左側の値が等しくない」ということを意味します．"
   ]
  },
  {
   "cell_type": "code",
   "execution_count": null,
   "metadata": {
    "id": "AKAYR7sws0D1"
   },
   "outputs": [],
   "source": [
    "#!/usr/bin/env python3\n",
    " \n",
    "def main():\n",
    "    i = 0\n",
    "    while i != 10:\n",
    "        print(i)\n",
    "        i = i + 1\n",
    " \n",
    "if __name__ == \"__main__\":\n",
    "    main()"
   ]
  },
  {
   "cell_type": "markdown",
   "metadata": {
    "id": "Cfr0TZoWo8ac"
   },
   "source": [
    "### 条件分岐"
   ]
  },
  {
   "cell_type": "markdown",
   "metadata": {
    "id": "Rhrmjdi9tsuW"
   },
   "source": [
    "プログラミング言語にとって重要な要素として「if」があります．これは条件分岐のためのシステムです．以下のように書くと，もし `i` の値が2であるときのみ出力がされます．ここで，`==` という記号は「記号の右側と左側の値が等しい」ということを意味し，現実世界の「=」と同義です．"
   ]
  },
  {
   "cell_type": "code",
   "execution_count": null,
   "metadata": {
    "id": "4IGme4HwuIzb"
   },
   "outputs": [],
   "source": [
    "#!/usr/bin/env python3\n",
    " \n",
    "def main():\n",
    "    for i in range(5):\n",
    "        if i == 2:\n",
    "            print(i)\n",
    " \n",
    "if __name__ == \"__main__\":\n",
    "    main()"
   ]
  },
  {
   "cell_type": "markdown",
   "metadata": {
    "id": "ljhCaX-9oJ_b"
   },
   "source": [
    "繰り返し処理と条件分岐を組み合わせることで複雑な動作を実現することができます．以下のように書くと，もしキーが「January」であった場合，「1」が表示されます．それ以外でもし，「ディクショナリ変数の値が2」であった場合，`February corresponds to 2 in dict_a.` と表示されます．それら以外の全ての場合おいては，`key is not January or February.` と表示されます．"
   ]
  },
  {
   "cell_type": "code",
   "execution_count": null,
   "metadata": {
    "id": "_1ArCYSboJ_b"
   },
   "outputs": [],
   "source": [
    "#!/usr/bin/env python3\n",
    " \n",
    "def main():\n",
    "    dict_a={\"January\" : \"1\", \"February\" : \"2\", \"May\" : \"5\"}\n",
    "    for k in dict_a.keys():\n",
    "        if k == \"January\": # a condition means if variable \"k\" is same as \"January\"\n",
    "            print(dict_a[k]) # If the above condition is satisfied, this line is executed. do not forget an indent\n",
    "        elif dict_a[k] == \"2\": # If \"k\" is not \"January\" and \"dict_a[k]\" is same as \"2\",\n",
    "            print(k,\"corresponds to\",dict_a[k],\"in dict_a.\") # this line is executed.\n",
    "        else: # In all situation except above two condition,\n",
    "            print(k,\"is not January or February.\") # this line is executed.\n",
    " \n",
    "if __name__ == \"__main__\":\n",
    "    main()"
   ]
  },
  {
   "cell_type": "markdown",
   "metadata": {
    "id": "QKQulKmAq03g"
   },
   "source": [
    "### 関数"
   ]
  },
  {
   "cell_type": "markdown",
   "metadata": {
    "id": "BWTa03rRv9tz"
   },
   "source": [
    "プログラミングをするにあたり，関数というものはとても大事な概念です．関数はあるプロセスの一群をまとめるためのシステムです．書いたプロセスを関数化することで，ソースコードの可読性が上がります．また，処理に汎用性を与えることができるようになります．同じ処理を変数の値だけを変えて何度も行いたい場合は同じ処理を何度も書くより，関数化して，必要なときにその関数を呼び出す，といったやり方が効率的です．関数は， `def` というものを使って生成します．これまでに書いてきたプログラムにも `def main()` という表記がありました．これは， `main()` という関数を定義するものです．そして，その `main()` という関数をソースコードの一番下，`if __name__ == \"__main__\":`で呼び出して使っていたということです．この `main()` 以外にも，プログラマーは自由に関数を定義することができます．以下のように `func_1()` という関数を作って，それを `main()` の中で実行することができます．"
   ]
  },
  {
   "cell_type": "code",
   "execution_count": null,
   "metadata": {
    "id": "Kl4KMzRr8lBL"
   },
   "outputs": [],
   "source": [
    "#!/usr/bin/env python3\n",
    " \n",
    "def main():\n",
    "    func_1(); # The function \"func_1()\" is executed in a function \"main()\".\n",
    "     \n",
    "def func_1(): # Declaration of a novel function \"func_1()\".\n",
    "    print(\"Hello\") # substance of \"func_1()\"\n",
    " \n",
    "if __name__ == \"__main__\":\n",
    "    main() # The function \"main()\" is executed (and \"main()\" execute \"func_1()\" and \"func_1()\" execute \"print(\"Hello\")\")."
   ]
  },
  {
   "cell_type": "markdown",
   "metadata": {
    "id": "yvt6kpne8rKL"
   },
   "source": [
    "```{attention}\n",
    "` if __name__ == \"__main__\": ` を書かない人結構いますが，では，その書いたプログラム，hoge.py としましょう，別のプログラムでインポート ` import hoge ` したときの挙動は期待したものと異なると思いますのでので試してみましょう！あと，変数のスコープの管理もしやすいです．\n",
    "```"
   ]
  },
  {
   "cell_type": "markdown",
   "metadata": {
    "id": "riNA0n-x-4AL"
   },
   "source": [
    "関数を生成する際に `()` が付属していますが，これは，引数（ひきすう，パラメータ）の受け渡しに使うためのものです．以下のように書くと，`Python` という文字列が格納された変数 `str_1` を関数 `func_1()` のパラメータとして関数が実行されます．その後，`func_1()` 内では，パラメータ `str_1 == Python` を `func_1()` の中でのみ定義されるパラメータ変数である `arg_1` で受け取りそれを利用して新たな処理が実行されます．"
   ]
  },
  {
   "cell_type": "code",
   "execution_count": null,
   "metadata": {
    "id": "1wXM3Bcv_XW6"
   },
   "outputs": [],
   "source": [
    "#!/usr/bin/env python3\n",
    " \n",
    "def main():\n",
    "    str_1 = \"Python\"\n",
    "    func_1(str_1); # pass the variable \"str_1\" to the function \"func_1\"\n",
    "     \n",
    "def func_1(arg_1): # To get argument from external call, you need to set a variable to receive the argument. In this case, it is \"arg_1\".\n",
    "    print(\"Hello\", arg_1) # print \"Hello\" and arg_1 (= str_1 in main() = \"Python\").\n",
    " \n",
    "if __name__ == \"__main__\":\n",
    "    main()"
   ]
  },
  {
   "cell_type": "markdown",
   "metadata": {
    "id": "QDknS-A5_j9j"
   },
   "source": [
    "また，関数はその関数内で処理された結果の値を関数の呼び出し元に返す (呼び出し元の関数内で使うことができるように値を渡す) ことができます．例えば，以下の書くと，`summation()` の呼び出し元に対して，`summation()` で計算した結果（リスト内の数値の和）が返ってきます．その返ってきた値を変数 `result_1` に格納してその後の処理に利用することができます．\n",
    "\n"
   ]
  },
  {
   "cell_type": "code",
   "execution_count": null,
   "metadata": {
    "id": "ZQ05_m3w_smr"
   },
   "outputs": [],
   "source": [
    "#!/usr/bin/env python3\n",
    " \n",
    "def main():\n",
    "    numbers = [2, 4, 5, -2, 3] # a list to be calculated\n",
    "    result_1 = summation(numbers) # execution of summation(). Numbers is passed to the function. And the result of the function is assigned to the variable \"result_1\"\n",
    "    print(result_1)\n",
    "     \n",
    "def summation(arg_1): # arg_1 is a variable to contain the argument (numbers in main()).\n",
    "    sumvalue = 0 # A variable to contain a result of summation.\n",
    "    for number in arg_1:\n",
    "        sumvalue = sumvalue + number # this means \"sum is renewed by the value of sum + number\"\n",
    "    return sumvalue # return the result of above calculation to the function caller by the word \"return\"\n",
    " \n",
    "if __name__ == \"__main__\":\n",
    "    main()"
   ]
  },
  {
   "cell_type": "markdown",
   "metadata": {
    "id": "BPWfExMduZ7f"
   },
   "source": [
    "### ライブラリのインポート"
   ]
  },
  {
   "cell_type": "markdown",
   "metadata": {
    "id": "p5YvrBRDuU3L"
   },
   "source": [
    "上では関数を作ってプログラムを便利にしてきましたが，世界には様々な便利な関数をまとめたライブラリが存在します．これを使うと様々な便利なことをすごく簡単な記述で実現可能です．そういった関数の集まりをライブラリと言いますが，ここではそれらライブラリの使い方を学びます．ライブラリは以下のように，`#!/usr/bin/env python3` の下に `import` という表記によりプログラム中で使うことを宣言します（利用する直前に呼び出しても良い）．以下では，「statistics」というモジュールを使うことを明示しています．以下は実行しても何もしない（ライブラリをインポートすることだけをする）プログラムです．"
   ]
  },
  {
   "cell_type": "code",
   "execution_count": null,
   "metadata": {
    "executionInfo": {
     "elapsed": 352,
     "status": "ok",
     "timestamp": 1645849963698,
     "user": {
      "displayName": "Kazunori Yamada",
      "photoUrl": "https://lh3.googleusercontent.com/a/default-user=s64",
      "userId": "02505806892387628048"
     },
     "user_tz": -540
    },
    "id": "-mMg_RKlvcyb"
   },
   "outputs": [],
   "source": [
    "#!/usr/bin/env python3\n",
    "import statistics\n",
    " \n",
    "def main():\n",
    "    pass\n",
    " \n",
    "if __name__ == \"__main__\":\n",
    "    main()"
   ]
  },
  {
   "cell_type": "markdown",
   "metadata": {
    "id": "b7xo0a6JzJGE"
   },
   "source": [
    "```{hint}\n",
    "この世にどんなライブラリがあるのかは人に聞くとか Google で調べることとかで知ることができます．\n",
    "```"
   ]
  },
  {
   "cell_type": "markdown",
   "metadata": {
    "id": "rdew3XbxO5p6"
   },
   "source": [
    "複数個のモジュールを呼び込むときは以下のように書くことができます．"
   ]
  },
  {
   "cell_type": "code",
   "execution_count": null,
   "metadata": {
    "id": "KqsgYxtUO6YE"
   },
   "outputs": [],
   "source": [
    "#!/usr/bin/env python3\n",
    "import statistics\n",
    "import sys\n",
    " \n",
    "def main():\n",
    "    pass\n",
    " \n",
    "if __name__ == \"__main__\":\n",
    "    main()"
   ]
  },
  {
   "cell_type": "markdown",
   "metadata": {
    "id": "CRge8BCEPDci"
   },
   "source": [
    "例えば，モジュール「statistics」を用いれば平均や標準偏差の計算が1行で可能です．モジュールに入っている関数（メソッド）を使うときは「モジュール名.関数名()」という形式で書きます．"
   ]
  },
  {
   "cell_type": "code",
   "execution_count": null,
   "metadata": {
    "id": "fFdFGqyxPH00"
   },
   "outputs": [],
   "source": [
    "#!/usr/bin/env python3\n",
    "import statistics\n",
    " \n",
    "def main():\n",
    "    linumber=[1, 2, 3, 4, 5, 6, 7, 8]\n",
    "     \n",
    "    print(\"mean:\", statistics.mean(linumber))\n",
    "    print(\"sd:\", statistics.stdev(linumber))\n",
    " \n",
    "if __name__ == \"__main__\":\n",
    "    main()"
   ]
  },
  {
   "cell_type": "markdown",
   "metadata": {
    "id": "X7jfZBjuPOXa"
   },
   "source": [
    "また，モジュール「math」を用いれば数学で用いられる様々な関数 (数学における関数) を簡単に記述することができます．"
   ]
  },
  {
   "cell_type": "code",
   "execution_count": null,
   "metadata": {
    "id": "9s4K-PKXPRWT"
   },
   "outputs": [],
   "source": [
    "#!/usr/bin/env python3\n",
    "import math\n",
    " \n",
    "def main():\n",
    "    x=10\n",
    "    print(\"log_10:\", math.log10(x))\n",
    "    print(\"log_2:\", math.log2(x))\n",
    "    print(\"log_e:\", math.log(x))\n",
    "     \n",
    "    x=math.radians(180) #This is radian of an angle of 90 degrees\n",
    "    print(math.sin(x))\n",
    "    print(math.cos(x))\n",
    "    print(math.tan(x))\n",
    " \n",
    "if __name__ == \"__main__\":\n",
    "    main()"
   ]
  },
  {
   "cell_type": "markdown",
   "metadata": {
    "id": "RjikywjwPb_3"
   },
   "source": [
    "これまでは Python にデフォルトで組み込まれているモジュールのみを使ってきましたが，外部で用意されているモジュールを使うことも可能です．外部のモジュールはインストールしなければなりません．そのためにはコマンドライン上で「pip3」というコマンドを用います．例えば，数値計算を行うためのモジュール「NumPy」は以下のようにすることでインストールすることができます．現在使っている Python（正確には Python3）と pip3 が紐付いており，pip3 で外部からインストールしたライブラリは Python3 から呼び出すことができるのです．"
   ]
  },
  {
   "cell_type": "code",
   "execution_count": null,
   "metadata": {
    "id": "i4660oYgPkFv"
   },
   "outputs": [],
   "source": [
    "! pip3 install numpy"
   ]
  },
  {
   "cell_type": "markdown",
   "metadata": {
    "id": "9O_elZNjPqQy"
   },
   "source": [
    "```{note}\n",
    "これは Python のコマンドではありません．本来，コマンドラインで打つものです．Python のプログラム中に書くものではありません．「!」が Python のプログラム外でコマンドを実行するための表記です．\n",
    "```"
   ]
  },
  {
   "cell_type": "markdown",
   "metadata": {
    "id": "wce5wobgQQpb"
   },
   "source": [
    "現在使っている Python にインストールされているライブラリを確認するには以下のように打ちます．"
   ]
  },
  {
   "cell_type": "code",
   "execution_count": null,
   "metadata": {
    "id": "fOApD2tTAuGM"
   },
   "outputs": [],
   "source": [
    "! pip3 list"
   ]
  },
  {
   "cell_type": "markdown",
   "metadata": {
    "id": "Eyp6bh86Qi2b"
   },
   "source": [
    "```{note}\n",
    "本物のコマンドライン上で実行するときには ` ! ` は不要です．\n",
    "```"
   ]
  },
  {
   "cell_type": "markdown",
   "metadata": {
    "id": "kmHFTRE6q1Qs"
   },
   "source": [
    "### 文字列処理（正規表現）"
   ]
  },
  {
   "cell_type": "markdown",
   "metadata": {
    "id": "EyEx0khp7_HW"
   },
   "source": [
    "プログラミング言語は「正規表現（regular expression）」と呼ばれる文字列パターン表現方法を持ちます．プログラミングで文字列を操作するための非常に強力なツールです．Python で正規表現を使用する場合は、「re」 ライブラリを利用します．ここでは，以下のような文を用いて正規表現を学びます．"
   ]
  },
  {
   "cell_type": "markdown",
   "metadata": {
    "id": "MG5HnLN89rMZ"
   },
   "source": [
    "```\n",
    "2018 (MMXVIII) was a common year starting on Monday of the Gregorian calendar, the 2018th year of the Common Era (CE) and Anno Domini (AD) designations, the 18th year of the 3rd millennium, the 18th year of the 21st century, and the 9th year of the 2010s decade.\n",
    "```"
   ]
  },
  {
   "cell_type": "markdown",
   "metadata": {
    "id": "zzu_jfUu93tm"
   },
   "source": [
    "この文に存在するアラビア数字を抜き出したいとき，以下のようなプログラムを書きます．"
   ]
  },
  {
   "cell_type": "code",
   "execution_count": null,
   "metadata": {
    "id": "pw3P0gH17kym"
   },
   "outputs": [],
   "source": [
    "#!/usr/bin/env python3\n",
    "import re\n",
    "\n",
    "def main():\n",
    "    text = \"2018 (MMXVIII) was a common year starting on Monday of the Gregorian calendar, the 2018th year of the Common Era (CE) and Anno Domini (AD) designations, the 18th year of the 3rd millennium, the 18th year of the 21st century, and the 9th year of the 2010s decade.\"\n",
    "    liresult = re.findall(\"\\d+\", text)\n",
    "    print(liresult)\n",
    "\n",
    "if __name__ == \"__main__\":\n",
    "    main()"
   ]
  },
  {
   "cell_type": "markdown",
   "metadata": {
    "id": "nEKrihehBChj"
   },
   "source": [
    "このコードにおいて6行目の `\\d+` が正規表現です．` \\d` が「アラビア数字の任意の1文字」を表し，その後の `+` は「前の表現の1回以上の繰り返すこと」を意味しています．すなわち，`\\d+` は「1つ以上のアラビア数字が連続した文字列」を意味します．関数 `re.findall()` は最初の引数に指定されたパターン（正規表現）を2番目ので指定された文字列より検索して抽出するための役割を果たします．"
   ]
  },
  {
   "cell_type": "markdown",
   "metadata": {
    "id": "vLifc0OaE6SS"
   },
   "source": [
    "次に，以下のプログラムを実行します．これによって得られるリストには，「大文字から始まる文字列」が含まれます．使用する正規表現において，`[A-Z]` は大文字，`[a-z]` は小文字を意味します．"
   ]
  },
  {
   "cell_type": "code",
   "execution_count": null,
   "metadata": {
    "id": "OrXS84jkFl2-"
   },
   "outputs": [],
   "source": [
    "#!/usr/bin/env python3\n",
    "import re\n",
    "\n",
    "def main():\n",
    "    text = \"2018 (MMXVIII) was a common year starting on Monday of the Gregorian calendar, the 2018th year of the Common Era (CE) and Anno Domini (AD) designations, the 18th year of the 3rd millennium, the 18th year of the 21st century, and the 9th year of the 2010s decade.\"\n",
    "    liresult = re.findall(\"[A-Z][a-z]+\", text)\n",
    "    print(liresult)\n",
    "\n",
    "if __name__ == \"__main__\":\n",
    "    main()"
   ]
  },
  {
   "cell_type": "markdown",
   "metadata": {
    "id": "hGcTCmpYGn45"
   },
   "source": [
    "以下のように，関数 `re.search()` を用いると，文の最初（`^`）にアラビア数字が含まれるかどうかを判定できます．"
   ]
  },
  {
   "cell_type": "code",
   "execution_count": null,
   "metadata": {
    "id": "-bN0YipJGOtb"
   },
   "outputs": [],
   "source": [
    "#!/usr/bin/env python3\n",
    "import re\n",
    "\n",
    "def main():\n",
    "    text = \"2018 (MMXVIII) was a common year starting on Monday of the Gregorian calendar, the 2018th year of the Common Era (CE) and Anno Domini (AD) designations, the 18th year of the 3rd millennium, the 18th year of the 21st century, and the 9th year of the 2010s decade.\"\n",
    "    if re.search(\"^\\d\", text):\n",
    "        print(\"Yes\")\n",
    "\n",
    "if __name__ == \"__main__\":\n",
    "    main()"
   ]
  },
  {
   "cell_type": "markdown",
   "metadata": {
    "id": "u9eUFb8aH9AQ"
   },
   "source": [
    "以下のように書くと，「`(` から始まり，何らかの文字が1個以上連続し，`) ` で終了する文字列」を全て削除（何もないものに置換）することができます．関数 `re.sub()` は第3引数の文字列から，第1引数の文字列を同定し，それを第2引数の値で置換するためのものです．この場合，`(` および `)` をそれぞれ `\\(` および `\\)` のように表記していますが，これは `(` および `)` が正規表現のための記号として用いられるものであるため，正規表現としてそれらを利用したい場合には，そのための特別な表記としなければならないためです．この操作は，「エスケープする」というように表現します．また，`\\w` は「何らかの文字」，`\\s` は「空白文字（スペース等）」を意味します．"
   ]
  },
  {
   "cell_type": "code",
   "execution_count": null,
   "metadata": {
    "id": "LruYJ-2rGPMQ"
   },
   "outputs": [],
   "source": [
    "#!/usr/bin/env python3\n",
    "import re\n",
    "\n",
    "def main():\n",
    "    text = \"2018 (MMXVIII) was a common year starting on Monday of the Gregorian calendar, the 2018th year of the Common Era (CE) and Anno Domini (AD) designations, the 18th year of the 3rd millennium, the 18th year of the 21st century, and the 9th year of the 2010s decade.\"\n",
    "    replaced_text = re.sub(\"\\(\\w+\\)\\s\", \"\", text)\n",
    "    print(replaced_text)\n",
    "\n",
    "if __name__ == \"__main__\":\n",
    "    main()"
   ]
  },
  {
   "cell_type": "markdown",
   "metadata": {
    "id": "sje-TpqqKyQV"
   },
   "source": [
    "以下の関数 `re.split()` を利用すると「文字列を空白文字がひとつ以上連続した文字列（`\\s+`）」を区切り文字として分割することができます．これは文字列処理をする場合によく用いる関数です．"
   ]
  },
  {
   "cell_type": "code",
   "execution_count": null,
   "metadata": {
    "id": "TcrJmoqkKpfl"
   },
   "outputs": [],
   "source": [
    "#!/usr/bin/env python3\n",
    "import re\n",
    "\n",
    "def main():\n",
    "    text = \"2018 (MMXVIII) was a common year starting on Monday of the Gregorian calendar, the 2018th year of the Common Era (CE) and Anno Domini (AD) designations, the 18th year of the 3rd millennium, the 18th year of the 21st century, and the 9th year of the 2010s decade.\"\n",
    "    liresult = re.split(\"\\s+\", text)\n",
    "    print(liresult)\n",
    "\n",
    "if __name__ == \"__main__\":\n",
    "    main()"
   ]
  },
  {
   "cell_type": "markdown",
   "metadata": {
    "id": "OYdk4XdoJrWW"
   },
   "source": [
    "Python の正規表現をまとめたウェブサイトには以下のようなものがあります．\n",
    "\n",
    "*   https://www.debuggex.com/cheatsheet/regex/python\n",
    "*   https://docs.python.org/3/howto/regex.html\n",
    "\n"
   ]
  },
  {
   "cell_type": "markdown",
   "metadata": {
    "id": "_rfC8Kj03omW"
   },
   "source": [
    "```{note}\n",
    "終わりです．\n",
    "```"
   ]
  }
 ],
 "metadata": {
  "colab": {
   "authorship_tag": "ABX9TyP6gD0BG8EusFp71aVmWZ6L",
   "collapsed_sections": [],
   "name": "python-1.ipynb",
   "provenance": [],
   "toc_visible": true
  },
  "kernelspec": {
   "display_name": "Python 3 (ipykernel)",
   "language": "python",
   "name": "python3"
  },
  "language_info": {
   "codemirror_mode": {
    "name": "ipython",
    "version": 3
   },
   "file_extension": ".py",
   "mimetype": "text/x-python",
   "name": "python",
   "nbconvert_exporter": "python",
   "pygments_lexer": "ipython3",
   "version": "3.7.7"
  }
 },
 "nbformat": 4,
 "nbformat_minor": 1
}
