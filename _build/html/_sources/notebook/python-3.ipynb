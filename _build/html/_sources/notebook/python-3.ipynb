{
 "cells": [
  {
   "cell_type": "markdown",
   "metadata": {
    "id": "QtxMHxRBQes5"
   },
   "source": [
    "## クラスの利用とファイル入出力"
   ]
  },
  {
   "cell_type": "markdown",
   "metadata": {
    "id": "syVjMhUODFwm"
   },
   "source": [
    "### クラスの生成"
   ]
  },
  {
   "cell_type": "markdown",
   "metadata": {
    "id": "X7HAFBapDFwn"
   },
   "source": [
    "Python にはクラスというプログラムのコードを短くすることで可読性をあげたり，チームでの大規模開発に有利になったりするシステムが備わっています．最初にとてもシンプルなクラスを作ってみます．これは後ほどもう少し多機能なものへと改変していきます．クラスの名前を `Dog` とします．最初の辺りで変数名のイニシャルに大文字は使わないことを紹介しましたが，それはクラスの宣言の際にクラス名のイニシャルを大文字にするためです．以下のように書きます．`main()` には `pass` とだけ書いていますが，これは「何も実行しない」というコマンドです．今はクラスを生成することが目的だから `main()` では何も行いません．クラスは以下のように生成します．\n",
    "```\n",
    "class クラス名:\n",
    "```\n",
    "以下のクラスには `__init__` という記述があります．これはクラスからインスタンスを生成したときに（<font color=\"Crimson\">クラスからはインスタンスと言われるクラスの実体が生成されます</font>）自動的に実行されるメソッドです（コンストラクタと呼びます）．このコンストラクタの引数は2個です．`self` と `name` と `age` の3個があるように見えますが，`self` は（インスタンスを生成するまでは未知の）インスタンス名をとりあえず `self` にします，という記述です．"
   ]
  },
  {
   "cell_type": "code",
   "execution_count": null,
   "metadata": {
    "executionInfo": {
     "elapsed": 377,
     "status": "ok",
     "timestamp": 1645851243670,
     "user": {
      "displayName": "Kazunori Yamada",
      "photoUrl": "https://lh3.googleusercontent.com/a/default-user=s64",
      "userId": "02505806892387628048"
     },
     "user_tz": -540
    },
    "id": "Sxt5rHRoDFwn"
   },
   "outputs": [],
   "source": [
    "#!/usr/bin/env python3\n",
    "\n",
    "def main():\n",
    "    pass\n",
    "\n",
    "class Dog:\n",
    "    def __init__(self, name, age):\n",
    "        self.name = name\n",
    "        self.age  = age\n",
    "\n",
    "if __name__ == \"__main__\":\n",
    "    main()"
   ]
  },
  {
   "cell_type": "markdown",
   "metadata": {
    "id": "Tz0Qz4r_GT0W"
   },
   "source": [
    "多分，ここまでで意味がわからなくなったと思うので，まずはインスタンスを生成してみます．以下のように書きます．これによって `mydog` というインスタンスが生成されました．引数には，`Ken` と `6` を与えました．6歳の Ken という名前の犬の情報です．"
   ]
  },
  {
   "cell_type": "code",
   "execution_count": null,
   "metadata": {
    "executionInfo": {
     "elapsed": 364,
     "status": "ok",
     "timestamp": 1645851341800,
     "user": {
      "displayName": "Kazunori Yamada",
      "photoUrl": "https://lh3.googleusercontent.com/a/default-user=s64",
      "userId": "02505806892387628048"
     },
     "user_tz": -540
    },
    "id": "KE44XcU4GyRm"
   },
   "outputs": [],
   "source": [
    "#!/usr/bin/env python3\n",
    "\n",
    "def main():\n",
    "    mydog = Dog(\"Ken\", 6)\n",
    "\n",
    "class Dog:\n",
    "    def __init__(self, name, age):\n",
    "        self.name = name\n",
    "        self.age  = age\n",
    "\n",
    "if __name__ == \"__main__\":\n",
    "    main()"
   ]
  },
  {
   "cell_type": "markdown",
   "metadata": {
    "id": "igSVB84fHIQC"
   },
   "source": [
    "次に，この生成したインスタンス `mydog` の名前と年齢を出力してみます．以下のように書きます．インスタンスが内包する変数には `.` でアクセスします．"
   ]
  },
  {
   "cell_type": "code",
   "execution_count": null,
   "metadata": {
    "id": "0MZPyaocHf3k"
   },
   "outputs": [],
   "source": [
    "#!/usr/bin/env python3\n",
    "\n",
    "def main():\n",
    "    mydog = Dog(\"Ken\", 6)\n",
    "    print(mydog.name)\n",
    "    print(mydog.age)\n",
    "\n",
    "class Dog:\n",
    "    def __init__(self, name, age):\n",
    "        self.name = name\n",
    "        self.age  = age\n",
    "\n",
    "if __name__ == \"__main__\":\n",
    "    main()"
   ]
  },
  {
   "cell_type": "markdown",
   "metadata": {
    "id": "SLFkiEPMHk7z"
   },
   "source": [
    "しっかりと出力されました．クラスを使う利点は処理をきれいに整理できることです．もし，クラスを使わずにこの挙動を再現するには `mydog_name = Ken`，`mydog_age = 6` のような変数を生成しなければなりません．クラスを使うと `mydog = Dog(\"Ken\", 6)` だけ，たったひとつの記述だけで複数個の情報を含む変数を生成できるのです．"
   ]
  },
  {
   "cell_type": "markdown",
   "metadata": {
    "id": "reRz6HoxIcSy"
   },
   "source": [
    "```{hint}\n",
    "以上のように複数のデータをまとめて管理できることがクラスを使うメリットです．クラスを使わない場合，個々の変数を個別に管理する必要が生じ，プログラムが煩雑なものになります．クラスを作る効果ってたったそれだけ？と思われるかもしれませんが，そうです，たったそれだけです．ただ，この後にも説明がある通りクラスは変数だけでなく関数も内部に有することができます．処理が複雑になればなるほど有難くなります．\n",
    "```"
   ]
  },
  {
   "cell_type": "markdown",
   "metadata": {
    "id": "q21Odt14I23Q"
   },
   "source": [
    "また，上で `self` とはインスタンスの名前そのものであると言及しましたが，それは以下を比較していただくと解ります．出力の際には以下のように書きました．\n",
    "```\n",
    "mydog.name\n",
    "```\n",
    "クラス内での定義の際には以下のように書きました．\n",
    "```\n",
    "self.name\n",
    "```\n",
    "インスタンス名（`mydog`）と `self` が同じように使われています．"
   ]
  },
  {
   "cell_type": "markdown",
   "metadata": {
    "id": "VuFsej1AiVoN"
   },
   "source": [
    "### メソッド"
   ]
  },
  {
   "cell_type": "markdown",
   "metadata": {
    "id": "yjMptBEKKH5m"
   },
   "source": [
    "クラスにメソッドを追加します．以下では `sit()` というメソッドを定義しました．そしてそれを `main()` で呼び出しています．この場合も `.` にてメソッドを呼び出します．"
   ]
  },
  {
   "cell_type": "code",
   "execution_count": null,
   "metadata": {
    "id": "9W0QOPX2Jnf8"
   },
   "outputs": [],
   "source": [
    "#!/usr/bin/env python3\n",
    "\n",
    "def main():\n",
    "    mydog = Dog(\"Ken\", 6)\n",
    "    mydog.sit()\n",
    "\n",
    "class Dog:\n",
    "    def __init__(self, name, age):\n",
    "        self.name = name\n",
    "        self.age  = age\n",
    "    def sit(self):\n",
    "        print(\"{0}, which is ({1}) years old is now sitting.\".format(self.name, self.age))\n",
    "\n",
    "if __name__ == \"__main__\":\n",
    "    main()"
   ]
  },
  {
   "cell_type": "markdown",
   "metadata": {
    "id": "H-3NslIhLKLg"
   },
   "source": [
    "たったひとつの `mydog` という変数（インスタンス）が，複数個の変数を持ち，メソッドも有します．これはかなり整理整頓には良いシステムです．これがクラスを定義しインスタンスを生成する利点です．これは，以下のようにインスタンスを何個も生成するような処理が必要になる場合にさらに有用です．よりシンプルなコードを保てます．"
   ]
  },
  {
   "cell_type": "code",
   "execution_count": null,
   "metadata": {
    "id": "CBHtTxeZL-aV"
   },
   "outputs": [],
   "source": [
    "#!/usr/bin/env python3\n",
    "\n",
    "def main():\n",
    "    mydog = Dog(\"Ken\", 6)\n",
    "    yourdog = Dog(\"Peko\", 4)\n",
    "    mydog.sit()\n",
    "    yourdog.sit()\n",
    "\n",
    "class Dog:\n",
    "    def __init__(self, name, age):\n",
    "        self.name = name\n",
    "        self.age  = age\n",
    "    def sit(self):\n",
    "        print(\"{0}, which is ({1}) years old is now sitting.\".format(self.name, self.age))\n",
    "\n",
    "if __name__ == \"__main__\":\n",
    "    main()"
   ]
  },
  {
   "cell_type": "markdown",
   "metadata": {
    "id": "gvWwApHxDFeO"
   },
   "source": [
    "### デフォルト値の設定"
   ]
  },
  {
   "cell_type": "markdown",
   "metadata": {
    "id": "qqnTWdYlDFeQ"
   },
   "source": [
    "インスタンス生成の際にデフォルトの値を設定することができます．以下の13行目のようにコンストラクタに直接定義します．そのような値も，5行目のような記述でアクセスすることができます．また，6行目のような記述で値を変更することも可能です．"
   ]
  },
  {
   "cell_type": "code",
   "execution_count": null,
   "metadata": {
    "id": "BniofR1ePEqe"
   },
   "outputs": [],
   "source": [
    "#!/usr/bin/env python3\n",
    "\n",
    "def main():\n",
    "    mydog = Dog(\"Ken\", 6)\n",
    "    print(mydog.hometown)\n",
    "    mydog.hometown = \"Yokohama\"\n",
    "    print(mydog.hometown)\n",
    "\n",
    "class Dog:\n",
    "    def __init__(self, name, age):\n",
    "        self.name = name\n",
    "        self.age  = age\n",
    "        self.hometown = \"Sendai\"\n",
    "    def sit(self):\n",
    "        print(\"{0}, which is ({1}) years old is now sitting.\".format(self.name, self.age))\n",
    "\n",
    "if __name__ == \"__main__\":\n",
    "    main()"
   ]
  },
  {
   "cell_type": "markdown",
   "metadata": {
    "id": "OU1SMu0xQsgD"
   },
   "source": [
    "### クラス内変数の改変"
   ]
  },
  {
   "cell_type": "markdown",
   "metadata": {
    "id": "WhG1EQ7-P4qR"
   },
   "source": [
    "また，以下の16および17行目のようなクラス内の変数の値を改変するような関数を定義することも可能です．これを実行すると出力のように，`mydog.age` が `6` から `8` に変化します．"
   ]
  },
  {
   "cell_type": "code",
   "execution_count": null,
   "metadata": {
    "id": "vC0QaQsOPix3"
   },
   "outputs": [],
   "source": [
    "#!/usr/bin/env python3\n",
    "\n",
    "def main():\n",
    "    mydog = Dog(\"Ken\", 6)\n",
    "    print(mydog.age)\n",
    "    mydog.year_pass(2)\n",
    "    print(mydog.age)\n",
    "\n",
    "class Dog:\n",
    "    def __init__(self, name, age):\n",
    "        self.name = name\n",
    "        self.age  = age\n",
    "        self.hometown = \"Sendai\"\n",
    "    def sit(self):\n",
    "        print(\"{0}, which is ({1}) years old is now sitting.\".format(self.name, self.age))\n",
    "    def year_pass(self, years):\n",
    "        self.age = self.age + years\n",
    "\n",
    "if __name__ == \"__main__\":\n",
    "    main()"
   ]
  },
  {
   "cell_type": "markdown",
   "metadata": {
    "id": "mXLJxhoKkCf_"
   },
   "source": [
    "### クラス変数"
   ]
  },
  {
   "cell_type": "markdown",
   "metadata": {
    "id": "6OmANSYfkJG4"
   },
   "source": [
    "`インスタンス名.変数名` もしくは `self.変数名` とすると，インスタンスが保持する変数にアクセスすることができましたが，そうではなく，クラスから生成されたすべてのインスタンスで値が共有されるような変数を作ることができます．そのような変数をクラス変数と呼びます．クラス変数を作成するには，単にクラスの定義部で変数に値を代入します．クラス変数にアクセスするには， `クラス名.変数名` とします．別のやり方として，インスタンス変数に同じ名前の変数がない場合には，`インスタンス名.変数名` と書いてもクラス変数にアクセスすることができます（ただし同名のインスタンス変数がある場合には，そちらにアクセスしますので注意が必要です）．"
   ]
  },
  {
   "cell_type": "code",
   "execution_count": null,
   "metadata": {
    "id": "8DQHt51lKR09"
   },
   "outputs": [],
   "source": [
    "#!/usr/bin/env python3\n",
    "\n",
    "def main():\n",
    "    mydog = Dog(\"Ken\", 6)\n",
    "    yourdog = Dog(\"Peko\", 4)\n",
    "    print(Dog.type) # クラス名.変数名で参照できる\n",
    "    print(yourdog.type)\n",
    "\n",
    "class Dog:\n",
    "    type = \"dog\" # クラス変数．\n",
    "    def __init__(self, name, age):\n",
    "        self.name = name\n",
    "        self.age  = age\n",
    "    def sit(self):\n",
    "        print(\"{0} is now sitting.\".format(self.name))\n",
    "\n",
    "if __name__ == \"__main__\":\n",
    "    main()"
   ]
  },
  {
   "cell_type": "markdown",
   "metadata": {
    "id": "F302MLf1k-bk"
   },
   "source": [
    "### プライベート変数"
   ]
  },
  {
   "cell_type": "markdown",
   "metadata": {
    "id": "0ATUdj7Be8JQ"
   },
   "source": [
    "オブジェクト指向プログラミングでは，インスタンスへの外部からのアクセスを適切に制限することで，モジュールごとの権限と役割分担を明確にすることができます．例えば，あるモジュールがすべてのデータにアクセス可能だとすると，本来そのモジュールが行うべきではない処理まで，そのモジュールに実装されてしまう恐れがあり，役割分担が崩壊する可能性があります．データにアクセス制限がかかっている場合，そのデータを使う処理は，そのデータにアクセス可能なモジュールに依頼するしかなくなり，適切な役割分担が維持されます．\n",
    "\n",
    "クラスにおいて，外部からのアクセスが禁止されている変数をプライベート変数と呼びます．また，外部からのアクセスが禁止されているメソッドをプライベートメソッドと呼びます．\n",
    "\n",
    "Pythonでは，プライベート変数やプライベートメソッドを作ることはできません．つまり，どの変数やメソッドも外部からアクセス可能です．\n",
    "ただし，変数やメソッドの名前を変えることで，プライベートとして扱われるべき変数やメソッドを区別するという慣習があります．実装を行う人がプライベートとして扱われるべき変数等への外部からのアクセスを行わないようにすることで，本来の目的を達成することができます．Pythonの慣習では，プライベートとして扱われるべき変数やメソッドの先頭文字を以下のようにアンダースコア（_）にします．"
   ]
  },
  {
   "cell_type": "code",
   "execution_count": null,
   "metadata": {
    "id": "VQWTmjEzk-bl"
   },
   "outputs": [],
   "source": [
    "#!/usr/bin/env python3\n",
    "\n",
    "def main():\n",
    "    score_math = PrivateScore(55)\n",
    "    print(score_math.is_passed())\n",
    "\n",
    "class PrivateScore:\n",
    "    def __init__(self, score):\n",
    "        self._score = score # プライベート変数\n",
    "    def is_passed(self):\n",
    "        if self._score >= 60:\n",
    "            return True\n",
    "        else:\n",
    "            return False\n",
    "\n",
    "if __name__ == \"__main__\":\n",
    "    main()"
   ]
  },
  {
   "cell_type": "markdown",
   "metadata": {
    "id": "ARK3hoZtmWea"
   },
   "source": [
    "### 継承"
   ]
  },
  {
   "cell_type": "markdown",
   "metadata": {
    "id": "dHW_U71PwB4r"
   },
   "source": [
    "あるクラスのインスタンスを複数生成する際，特定のインスタンスのみ処理を変更したり，処理を追加したりする必要が生じることがあります．その場合，そのインスタンス用に新しくクラスを作ることもできますが，元のクラスと大部分が同じである場合，同じコードが大量に複製されることになり，コードが無駄に長くなります．同じ処理を行うコードが複数箇所に存在する場合，不具合を修正する場合にもすべての箇所を修正しないといけなくなるため，正しく修正することが難しくなります．このような場合の別の方法として，元のクラスからの修正部分のみを修正するという方法があります．このような方法を継承と呼び，修正のベースとなる元のクラスを基底クラス（もしくは親クラス），新しく作られるクラスを派生クラス（もしくは子クラス）と呼びます．"
   ]
  },
  {
   "cell_type": "markdown",
   "metadata": {
    "id": "5T_hjdbx7Xm9"
   },
   "source": [
    "```{note}\n",
    "基底クラスに複数個のクラスを指定することができます．そのような継承を多重継承と呼びます．\n",
    "```"
   ]
  },
  {
   "cell_type": "markdown",
   "metadata": {
    "id": "q907yWvw8GYx"
   },
   "source": [
    "継承を行う際は，派生クラスを定義するときにそのクラス名の次に括弧を書き，その括弧内に基底クラスの名前を書きます．そして，クラス定義の中には，新規に追加するメソッドと基底クラスから変更を行うメソッドについてのみ定義を追加します．以下のように行います．"
   ]
  },
  {
   "cell_type": "code",
   "execution_count": null,
   "metadata": {
    "id": "1yxvfnrB8Fjm"
   },
   "outputs": [],
   "source": [
    "#!/usr/bin/env python3\n",
    "\n",
    "def main():\n",
    "    mydog = Dog(\"Ken\", 6)\n",
    "    yourdog = TrainedDog(\"Peko\", 4)\n",
    "    mydog.sit()\n",
    "    yourdog.trick()\n",
    "    yourdog.sit()\n",
    "\n",
    "class Dog:\n",
    "    def __init__(self, name, age):\n",
    "        self.name = name\n",
    "        self.age  = age\n",
    "    def sit(self):\n",
    "        print(\"{0} is now sitting.\".format(self.name))\n",
    "\n",
    "class TrainedDog(Dog): # クラス名の次に「(基底クラス名)」を追加する\n",
    "    def trick(self):\n",
    "        for i in range(self.age):\n",
    "            print(\"bow\")\n",
    "\n",
    "if __name__ == \"__main__\":\n",
    "    main()"
   ]
  },
  {
   "cell_type": "markdown",
   "metadata": {
    "id": "lYng9H8O9y6w"
   },
   "source": [
    "```{note}\n",
    "派生クラスである `TrainedDog` の定義には `sit()` は含まれていません．しかし，基底クラスである `Dog` を継承しているので `TrainedDog` から生成したインスタンスでは `sit()` を利用できています．\n",
    "```"
   ]
  },
  {
   "cell_type": "markdown",
   "metadata": {
    "id": "pfss9-aY-ONf"
   },
   "source": [
    "### オーバーライド"
   ]
  },
  {
   "cell_type": "markdown",
   "metadata": {
    "id": "O3A73f0y-UjD"
   },
   "source": [
    "これまでに，基底クラスに新たなメソッドを追加する方法である継承を紹介しました．これに対して，派生クラスで基底クラスのメソッドを書き換えることをオーバーライドと言います．オーバーライドは，派生クラスの定義をする際に，基底クラスで定義されているメソッドを再定義することで実現できます．以下のように行います．"
   ]
  },
  {
   "cell_type": "code",
   "execution_count": null,
   "metadata": {
    "id": "TdXcooiXXpUM"
   },
   "outputs": [],
   "source": [
    "#!/usr/bin/env python3\n",
    "\n",
    "def main():\n",
    "    mydog = Dog(\"Ken\", 6)\n",
    "    yourdog = TrainedDog(\"Peko\", 4)\n",
    "    mydog.sit()\n",
    "    yourdog.sit()\n",
    "\n",
    "class Dog:\n",
    "    def __init__(self, name, age):\n",
    "        self.name = name\n",
    "        self.age  = age\n",
    "    def sit(self):\n",
    "        print(\"{0} is now sitting.\".format(self.name))\n",
    "\n",
    "class TrainedDog(Dog):\n",
    "    def sit(self):\n",
    "        print(\"{0} is now sitting and giving its paw.\".format(self.name))\n",
    "\n",
    "if __name__ == \"__main__\":\n",
    "    main()"
   ]
  },
  {
   "cell_type": "markdown",
   "metadata": {
    "id": "2UdLESdyYV6w"
   },
   "source": [
    "派生クラスから生成したインスタンスの `sit()` の挙動が基底クラスのものから変化しているのがわかります．このとき，基底クラスの `sit()` は変化していません．"
   ]
  },
  {
   "cell_type": "markdown",
   "metadata": {
    "id": "HnJdUotkgpph"
   },
   "source": [
    "```{note}\n",
    "派生クラスで，派生クラスにおいて利用するメソッドを書き換えるのであって，派生クラスで書き換えたメソッドが基底クラスのメソッドを書き換える（明らかに危険な行為）わけではありません．)\n",
    "```"
   ]
  },
  {
   "cell_type": "markdown",
   "metadata": {
    "id": "VhlFEBVpYnpE"
   },
   "source": [
    "次に，派生クラスにおいてインスタンス変数を増やします．これを実現するためには，コンストラクタ `__init__()` をオーバーライドする必要があります．このとき，既に基底クラスで定義したインスタンス変数をそのまま利用するためにコンストラクタを呼び出します．基底クラスは `super()` を使って呼び出すことができます．以下のように行います．"
   ]
  },
  {
   "cell_type": "code",
   "execution_count": null,
   "metadata": {
    "id": "KgmyNRdecxsO"
   },
   "outputs": [],
   "source": [
    "#!/usr/bin/env python3\n",
    "\n",
    "def main():\n",
    "    yourdog = TrainedDog(\"Peko\", 4, \"Ben\")\n",
    "    yourdog.sit()\n",
    "\n",
    "class Dog:\n",
    "    def __init__(self, name, age):\n",
    "        self.name = name\n",
    "        self.age  = age\n",
    "    def sit(self):\n",
    "        print(\"{0} is now sitting.\".format(self.name))\n",
    "\n",
    "class TrainedDog(Dog):\n",
    "    def __init__(self, name, age, trainer):\n",
    "        super().__init__(name, age) # この super() は基底クラスを意味する\n",
    "        self.trainer = trainer # 新たなるインスタンス変数\n",
    "    \n",
    "    def sit(self):\n",
    "        print(\"{0} is now sitting and giving its paw to {1}.\".format(self.name, self.trainer))\n",
    "\n",
    "if __name__ == \"__main__\":\n",
    "    main()"
   ]
  },
  {
   "cell_type": "markdown",
   "metadata": {
    "id": "_rfC8Kj03omW"
   },
   "source": [
    "```{note}\n",
    "終わりです．\n",
    "```"
   ]
  }
 ],
 "metadata": {
  "colab": {
   "authorship_tag": "ABX9TyP6gD0BG8EusFp71aVmWZ6L",
   "collapsed_sections": [],
   "name": "2-python.ipynb",
   "provenance": [],
   "toc_visible": true
  },
  "kernelspec": {
   "display_name": "Python 3 (ipykernel)",
   "language": "python",
   "name": "python3"
  },
  "language_info": {
   "codemirror_mode": {
    "name": "ipython",
    "version": 3
   },
   "file_extension": ".py",
   "mimetype": "text/x-python",
   "name": "python",
   "nbconvert_exporter": "python",
   "pygments_lexer": "ipython3",
   "version": "3.7.7"
  }
 },
 "nbformat": 4,
 "nbformat_minor": 1
}
