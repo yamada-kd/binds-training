{
 "cells": [
  {
   "cell_type": "markdown",
   "metadata": {
    "id": "qYlGzlhhpV8T"
   },
   "source": [
    "## 数値計算と描画ライブラリ"
   ]
  },
  {
   "cell_type": "markdown",
   "metadata": {
    "id": "wWUK_JlIRKLv"
   },
   "source": [
    "### NumPy のインポート"
   ]
  },
  {
   "cell_type": "markdown",
   "metadata": {
    "id": "G2JTc9B2u6eP"
   },
   "source": [
    "NumPy とは Python で利用可能な数値計算のライブラリです．さまざまな計算をコマンド一発で行うことができます．NumPy は以下のようにしてインポートします．読み込んだ NumPy には `np` という略称を与えることが普通です．"
   ]
  },
  {
   "cell_type": "code",
   "execution_count": null,
   "metadata": {
    "executionInfo": {
     "elapsed": 379,
     "status": "ok",
     "timestamp": 1645850414624,
     "user": {
      "displayName": "Kazunori Yamada",
      "photoUrl": "https://lh3.googleusercontent.com/a/default-user=s64",
      "userId": "02505806892387628048"
     },
     "user_tz": -540
    },
    "id": "9caFDQD5u7GK"
   },
   "outputs": [],
   "source": [
    "#!/usr/bin/env python3\n",
    "import numpy as np\n",
    " \n",
    "def main():\n",
    "    pass\n",
    " \n",
    "if __name__ == \"__main__\":\n",
    "    main()"
   ]
  },
  {
   "cell_type": "markdown",
   "metadata": {
    "id": "Ou54J1GSu5lH"
   },
   "source": [
    "### ベクトルの基本的な計算"
   ]
  },
  {
   "cell_type": "markdown",
   "metadata": {
    "id": "8vyX9tMc2-N0"
   },
   "source": [
    "ベクトルは以下のように生成します．"
   ]
  },
  {
   "cell_type": "code",
   "execution_count": null,
   "metadata": {
    "id": "1Sfrz00w28dk"
   },
   "outputs": [],
   "source": [
    "#!/usr/bin/env python3\n",
    "import numpy as np\n",
    " \n",
    "def main():\n",
    "    print(np.array([1, 2, 3]))\n",
    " \n",
    "if __name__ == \"__main__\":\n",
    "    main()"
   ]
  },
  {
   "cell_type": "markdown",
   "metadata": {
    "id": "Cp3gVDtj4NYJ"
   },
   "source": [
    "要素の参照は普通の Python 配列と同じようにできます．もちろんゼロオリジンです．"
   ]
  },
  {
   "cell_type": "code",
   "execution_count": null,
   "metadata": {
    "id": "UPZCL7Xk4Tap"
   },
   "outputs": [],
   "source": [
    "#!/usr/bin/env python3\n",
    "import numpy as np\n",
    " \n",
    "def main():\n",
    "    na = np.array([1, 2, 3])\n",
    "    print(na[0])\n",
    " \n",
    "if __name__ == \"__main__\":\n",
    "    main()"
   ]
  },
  {
   "cell_type": "markdown",
   "metadata": {
    "id": "f_MhoqAf3KVP"
   },
   "source": [
    "ベクトルの四則計算は以下のようにします．NumPy は基本的に要素ごとに（element-wise）値を計算します．"
   ]
  },
  {
   "cell_type": "code",
   "execution_count": null,
   "metadata": {
    "id": "7KDrCwHE3Il5"
   },
   "outputs": [],
   "source": [
    "#!/usr/bin/env python3\n",
    "import numpy as np\n",
    " \n",
    "def main():\n",
    "    na = np.array([1, 2, 3])\n",
    "    nb = np.array([5, 7, 9])\n",
    "    print(na + nb)\n",
    "    print(na - nb)\n",
    "    print(na * nb)\n",
    "    print(nb / na)\n",
    " \n",
    "if __name__ == \"__main__\":\n",
    "    main()"
   ]
  },
  {
   "cell_type": "markdown",
   "metadata": {
    "id": "jNu3_0ZQ5mzI"
   },
   "source": [
    "コピーをする際は気を使わなければならない点があります．あるベクトルから別のベクトル変数を生成，つまり，コピーでベクトルを生成した場合，その生成したベクトルを元のベクトルと別のものとして扱いたい場合は以下のようにしなければなりません．以下では，8行目と9行目で元のベクトルとコピーで生成されたベクトルの要素をそれぞれ別の値で変更していますが，それぞれ別の値にて要素が置換されていることがわかります．"
   ]
  },
  {
   "cell_type": "code",
   "execution_count": null,
   "metadata": {
    "id": "eEObaENI4yOq"
   },
   "outputs": [],
   "source": [
    "#!/usr/bin/env python3\n",
    "import numpy as np\n",
    " \n",
    "def main():\n",
    "    na = np.array([1, 1])\n",
    "    nb = na.copy()\n",
    "    print(na, nb)\n",
    "    na[0] = 2\n",
    "    nb[0] = 3\n",
    "    print(na, nb)\n",
    " \n",
    "if __name__ == \"__main__\":\n",
    "    main()"
   ]
  },
  {
   "cell_type": "markdown",
   "metadata": {
    "id": "EusViho88jHP"
   },
   "source": [
    "一方で，以下のように `=` を使ってコピー（のようなこと）をすると生成されたベクトルは元のベクトルの参照となってしまい，（この場合の）意図している操作は実現されません．上の挙動とこの挙動は把握していないと結構危険です．"
   ]
  },
  {
   "cell_type": "code",
   "execution_count": null,
   "metadata": {
    "id": "_jZzalCi-Tdp"
   },
   "outputs": [],
   "source": [
    "#!/usr/bin/env python3\n",
    "import numpy as np\n",
    " \n",
    "def main():\n",
    "    na = np.array([1, 1])\n",
    "    nb = na\n",
    "    print(na, nb)\n",
    "    na[0] = 2\n",
    "    nb[0] = 3\n",
    "    print(na, nb)\n",
    " \n",
    "if __name__ == \"__main__\":\n",
    "    main()"
   ]
  },
  {
   "cell_type": "markdown",
   "metadata": {
    "id": "qE5FNb0C-1pJ"
   },
   "source": [
    "### 行列の基本的な計算"
   ]
  },
  {
   "cell_type": "markdown",
   "metadata": {
    "id": "E4Y-nMgP_bDA"
   },
   "source": [
    "行列を生成するためにも，`np.array()` を利用します．さらに，行列のサイズは `.shape` によって確認することができます．"
   ]
  },
  {
   "cell_type": "code",
   "execution_count": null,
   "metadata": {
    "id": "CPlbC4WM_Fd9"
   },
   "outputs": [],
   "source": [
    "#!/usr/bin/env python3\n",
    "import numpy as np\n",
    " \n",
    "def main():\n",
    "    na = np.array([[1, 2], [3, 4]])\n",
    "    print(na)\n",
    "    print(na.shape)\n",
    " \n",
    "if __name__ == \"__main__\":\n",
    "    main()"
   ]
  },
  {
   "cell_type": "markdown",
   "metadata": {
    "id": "zJiMPnykIPCw"
   },
   "source": [
    "行列の要素には以下のようにしてアクセスします．この場合，1行1列目の値にアクセスしています．"
   ]
  },
  {
   "cell_type": "code",
   "execution_count": null,
   "metadata": {
    "id": "p27Jq3tsIQQD"
   },
   "outputs": [],
   "source": [
    "#!/usr/bin/env python3\n",
    "import numpy as np\n",
    " \n",
    "def main():\n",
    "    na = np.array([[1, 2], [3, 4]])\n",
    "    print(na[0,0])\n",
    " \n",
    "if __name__ == \"__main__\":\n",
    "    main()"
   ]
  },
  {
   "cell_type": "markdown",
   "metadata": {
    "id": "S5vvwQ36_xJn"
   },
   "source": [
    "NumPy 行列は以下のようなアクセスの方法があります．行ごとまたは列ごとのアクセスです．これは多用します．"
   ]
  },
  {
   "cell_type": "code",
   "execution_count": null,
   "metadata": {
    "id": "1w9JbZ5i_7AI"
   },
   "outputs": [],
   "source": [
    "#!/usr/bin/env python3\n",
    "import numpy as np\n",
    " \n",
    "def main():\n",
    "    na = np.array([[1, 2], [3, 4]])\n",
    "    print(na[0,:]) # all elements of row 1\n",
    "    print(na[:,1]) # all elements of column 2\n",
    "\n",
    "if __name__ == \"__main__\":\n",
    "    main()"
   ]
  },
  {
   "cell_type": "markdown",
   "metadata": {
    "id": "zyHe1cU0Non8"
   },
   "source": [
    "以下のようにすると行列に関する様々な統計値を得ることができます．"
   ]
  },
  {
   "cell_type": "code",
   "execution_count": null,
   "metadata": {
    "id": "X41d70OHNo3o"
   },
   "outputs": [],
   "source": [
    "#!/usr/bin/env python3\n",
    "import numpy as np\n",
    " \n",
    "def main():\n",
    "    na = np.array([[1, 2], [3, 4]])\n",
    "    print(na.max())\n",
    "    print(na.min())\n",
    "    print(na.sum())\n",
    "    print(na.mean())\n",
    "    print(na.var())\n",
    "    print(na.std())\n",
    "\n",
    "if __name__ == \"__main__\":\n",
    "    main()"
   ]
  },
  {
   "cell_type": "markdown",
   "metadata": {
    "id": "0V52wFh_OAob"
   },
   "source": [
    "```{note}\n",
    "全知全能なんですね．\n",
    "```"
   ]
  },
  {
   "cell_type": "markdown",
   "metadata": {
    "id": "zPdB7h0HI8cr"
   },
   "source": [
    "以下の `np.zeros()` や `np.ones()` を用いると引数で指定したサイズの，全要素が0または1の行列を生成することができます．"
   ]
  },
  {
   "cell_type": "code",
   "execution_count": null,
   "metadata": {
    "id": "iFnFmuwlJLwg"
   },
   "outputs": [],
   "source": [
    "#!/usr/bin/env python3\n",
    "import numpy as np\n",
    " \n",
    "def main():\n",
    "    print(np.zeros((3,3)))\n",
    "    print(np.ones((4,4)))\n",
    "\n",
    "if __name__ == \"__main__\":\n",
    "    main()"
   ]
  },
  {
   "cell_type": "markdown",
   "metadata": {
    "id": "mV52BqjvLaqx"
   },
   "source": [
    "四則計算は以下のようにします．これもやはり，element-wise な計算です．"
   ]
  },
  {
   "cell_type": "code",
   "execution_count": null,
   "metadata": {
    "id": "vPIwJNN7LaEO"
   },
   "outputs": [],
   "source": [
    "#!/usr/bin/env python3\n",
    "import numpy as np\n",
    " \n",
    "def main():\n",
    "    na = np.array([[1, 2], [3, 4]])\n",
    "    nb = np.array([[5, 6], [7, 8]])\n",
    "    print(na + nb)\n",
    "    print(nb - na)\n",
    "    print(na * nb)\n",
    "    print(nb / na)\n",
    "\n",
    "if __name__ == \"__main__\":\n",
    "    main()"
   ]
  },
  {
   "cell_type": "markdown",
   "metadata": {
    "id": "4TfXRxQ_NFSh"
   },
   "source": [
    "行列の掛け算は以下のようにします．"
   ]
  },
  {
   "cell_type": "code",
   "execution_count": null,
   "metadata": {
    "id": "snzonl_uNFfM"
   },
   "outputs": [],
   "source": [
    "#!/usr/bin/env python3\n",
    "import numpy as np\n",
    " \n",
    "def main():\n",
    "    na = np.array([[1, 2], [3, 4]])\n",
    "    nb = np.array([[5, 6], [7, 8]])\n",
    "    print(np.dot(na, nb))\n",
    "\n",
    "if __name__ == \"__main__\":\n",
    "    main()"
   ]
  },
  {
   "cell_type": "markdown",
   "metadata": {
    "id": "f-CbbyfMJbdK"
   },
   "source": [
    "以下のようにすると一様分布に従う乱数を生成することができます．以下の例は一様分布のものですが，NumPy には一様分布以外にもたくさんの分布が用意されています．引数で指定するのは行列のサイズです．計算機実験をする際にこのようなランダムな値を生成することがあります．そんな中，Python や NumPy に限らず計算機実験をする際に気を付けなければならないことに「乱数のタネを固定する」ということがあります．計算機実験の再現性を得るためにとても重要なので絶対に忘れないようにすべきです．乱数のタネは3行目で行っています．ここでは `0` を設定しています．"
   ]
  },
  {
   "cell_type": "code",
   "execution_count": null,
   "metadata": {
    "id": "X0WUWaXzJb7g"
   },
   "outputs": [],
   "source": [
    "#!/usr/bin/env python3\n",
    "import numpy as np\n",
    "np.random.seed(0)\n",
    " \n",
    "def main():\n",
    "    print(np.random.rand(3, 3))\n",
    "\n",
    "if __name__ == \"__main__\":\n",
    "    main()"
   ]
  },
  {
   "cell_type": "markdown",
   "metadata": {
    "id": "g2dyoKNlKsFf"
   },
   "source": [
    "```{attention}\n",
    "機械学習の学習前の予測器の初期値は乱数です．再現性を確保するため乱数のタネを指定しないで実験をはじめることは絶対にないように気をつけなければなりません．\n",
    "```"
   ]
  },
  {
   "cell_type": "markdown",
   "metadata": {
    "id": "zVLL8NPkJcsl"
   },
   "source": [
    "以下のようにすると行列式と逆行列を計算することができます．"
   ]
  },
  {
   "cell_type": "code",
   "execution_count": null,
   "metadata": {
    "id": "cQj3HA01Jc4h"
   },
   "outputs": [],
   "source": [
    "#!/usr/bin/env python3\n",
    "import numpy as np\n",
    " \n",
    "def main():\n",
    "    na = np.array([[4, 15, 4], [-11, 5, 6], [2, 4, 8]])\n",
    "    print(np.linalg.det(na)) # determinant of matrix\n",
    "    print(np.linalg.inv(na)) # inverse matrix\n",
    "\n",
    "if __name__ == \"__main__\":\n",
    "    main()"
   ]
  },
  {
   "cell_type": "markdown",
   "metadata": {
    "id": "bX-kaTWdJdDQ"
   },
   "source": [
    "固有値分解は以下のようにします．"
   ]
  },
  {
   "cell_type": "code",
   "execution_count": null,
   "metadata": {
    "id": "-eAfL5T9JdNW"
   },
   "outputs": [],
   "source": [
    "#!/usr/bin/env python3\n",
    "import numpy as np\n",
    " \n",
    "def main():\n",
    "    na = np.array([[3, 4, 1, 4], [1, 2, 1, 1], [1, 1, 2, 1], [1, 1, 1, 2]])\n",
    "    eigenvalue, eigenvector = np.linalg.eig(na)\n",
    "    print(eigenvalue)\n",
    "    print(eigenvector)\n",
    "\n",
    "if __name__ == \"__main__\":\n",
    "    main()"
   ]
  },
  {
   "cell_type": "markdown",
   "metadata": {
    "id": "Ag6LWINQJdW_"
   },
   "source": [
    "以下のようにすると「行列の要素の冪乗」を計算できます．"
   ]
  },
  {
   "cell_type": "code",
   "execution_count": null,
   "metadata": {
    "id": "uWcl1vkuTEfR"
   },
   "outputs": [],
   "source": [
    "#!/usr/bin/env python3\n",
    "import numpy as np\n",
    " \n",
    "def main():\n",
    "    na = np.array([[3, 4, 1, 4], [1, 2, 1, 1], [1, 1, 2, 1], [1, 1, 1, 2]])\n",
    "    print(na ** 2)\n",
    "\n",
    "if __name__ == \"__main__\":\n",
    "    main()"
   ]
  },
  {
   "cell_type": "markdown",
   "metadata": {
    "id": "72Th9ILzJdrA"
   },
   "source": [
    "一方で，「行列の冪乗」は以下のように計算します．"
   ]
  },
  {
   "cell_type": "code",
   "execution_count": null,
   "metadata": {
    "id": "8anIkRArTFLI"
   },
   "outputs": [],
   "source": [
    "#!/usr/bin/env python3\n",
    "import numpy as np\n",
    " \n",
    "def main():\n",
    "    na = np.array([[3, 4, 1, 4], [1, 2, 1, 1], [1, 1, 2, 1], [1, 1, 1, 2]])\n",
    "    print(np.linalg.matrix_power(na, 2))\n",
    "\n",
    "if __name__ == \"__main__\":\n",
    "    main()"
   ]
  },
  {
   "cell_type": "markdown",
   "metadata": {
    "id": "2mmtzBtCTJwl"
   },
   "source": [
    "行列の冪乗でも，整数以外の冪指数を用いたい場合は別の方法が必要です．例えば，行列の平方根（2分の1乗）は以下のようにしなければ計算できません．"
   ]
  },
  {
   "cell_type": "code",
   "execution_count": null,
   "metadata": {
    "id": "nyoXOdL_TIiC"
   },
   "outputs": [],
   "source": [
    "#!/usr/bin/env python3\n",
    "import numpy as np\n",
    " \n",
    "def main():\n",
    "    na = np.array([[3, 4, 1, 4], [1, 2, 1, 1], [1, 1, 2, 1], [1, 1, 1, 2]])\n",
    "    eigenvalue, eigenvector = np.linalg.eig(na)\n",
    "    print(np.dot(np.dot(eigenvector, (np.diag(eigenvalue)) ** (1/2)), np.linalg.inv(eigenvector)))\n",
    "\n",
    "if __name__ == \"__main__\":\n",
    "    main()"
   ]
  },
  {
   "cell_type": "markdown",
   "metadata": {
    "id": "xP8FIqO5Jakh"
   },
   "source": [
    "### ブロードキャスト"
   ]
  },
  {
   "cell_type": "markdown",
   "metadata": {
    "id": "nqrBwMpYTJ_k"
   },
   "source": [
    "NumPy は「行列にスカラを足す」，このような異様な計算をしても結果を返してくれます．以下の6行目では，行列にスカラを足しています．ここでは，最初に生成した4行4列の行列と同じサイズの，全要素が2からなる行列を自動で生成し，その行列と最初の4行4列の行列の和を計算しています．このような，対象となる行列のサイズに合せて，スカラから行列を生成することを「ブロードキャスト」と言います．この機能は非常に便利で様々な局面で使用することがあります．"
   ]
  },
  {
   "cell_type": "code",
   "execution_count": null,
   "metadata": {
    "id": "QnUWex3eTFvt"
   },
   "outputs": [],
   "source": [
    "#!/usr/bin/env python3\n",
    "import numpy as np\n",
    " \n",
    "def main():\n",
    "    na = np.array([[3, 4, 1, 4], [1, 2, 1, 1], [1, 1, 2, 1], [1, 1, 1, 2]])\n",
    "    print(na + 2)\n",
    "\n",
    "if __name__ == \"__main__\":\n",
    "    main()"
   ]
  },
  {
   "cell_type": "markdown",
   "metadata": {
    "id": "OHezms7YW3Ba"
   },
   "source": [
    "### 特殊な操作"
   ]
  },
  {
   "cell_type": "markdown",
   "metadata": {
    "id": "RSlalUlMTKcJ"
   },
   "source": [
    "以下のようにすると配列の順番を逆向きにして用いることができます．魔法ですね．最初の要素（0）から最後の要素（-1）まで逆向きに（-）連続して（1）いることを意味します．"
   ]
  },
  {
   "cell_type": "code",
   "execution_count": null,
   "metadata": {
    "id": "nMEa4N_ETF-b"
   },
   "outputs": [],
   "source": [
    "#!/usr/bin/env python3\n",
    "import numpy as np\n",
    " \n",
    "def main():\n",
    "    na = np.array([1, 2, 3, 4, 5, 6, 7])\n",
    "    print(na[::-1])\n",
    "\n",
    "if __name__ == \"__main__\":\n",
    "    main()"
   ]
  },
  {
   "cell_type": "markdown",
   "metadata": {
    "id": "7nxeufhIW768"
   },
   "source": [
    "以下のようにすると指定した条件に対する bool 配列を得ることができます．"
   ]
  },
  {
   "cell_type": "code",
   "execution_count": null,
   "metadata": {
    "id": "FKxVQ4vZW-bH"
   },
   "outputs": [],
   "source": [
    "#!/usr/bin/env python3\n",
    "import numpy as np\n",
    " \n",
    "def main():\n",
    "    na = np.array([1, 2, 3, 4, 5, 6, 7])\n",
    "    print(na > 3)\n",
    "\n",
    "if __name__ == \"__main__\":\n",
    "    main()"
   ]
  },
  {
   "cell_type": "markdown",
   "metadata": {
    "id": "_-zK8q1KW8DG"
   },
   "source": [
    "これを利用すると条件に合う要素のみに選択的にアクセスすることができます．以下では条件に合う要素を単に出力しているだけですが，例えば，条件に合う値のみを0に置き換えるとか，そのような操作ができます．"
   ]
  },
  {
   "cell_type": "code",
   "execution_count": null,
   "metadata": {
    "id": "wY_wX0ZLW-36"
   },
   "outputs": [],
   "source": [
    "#!/usr/bin/env python3\n",
    "import numpy as np\n",
    " \n",
    "def main():\n",
    "    na = np.array([1, 2, 3, 4, 5, 6, 7])\n",
    "    print(na[na > 3])\n",
    "\n",
    "if __name__ == \"__main__\":\n",
    "    main()"
   ]
  },
  {
   "cell_type": "markdown",
   "metadata": {
    "id": "N5p0NrSdYGYd"
   },
   "source": [
    "以下のように書けば，目的に合う値のインデックスを出力させることもできます．"
   ]
  },
  {
   "cell_type": "markdown",
   "metadata": {
    "id": "2FCCvtyrYGYd"
   },
   "source": [
    "#!/usr/bin/env python3\n",
    "import numpy as np\n",
    " \n",
    "def main():\n",
    "    na = np.array([1, 2, 3, 4, 5, 6, 3])\n",
    "    print(np.where(na == 3))\n",
    "\n",
    "if __name__ == \"__main__\":\n",
    "    main()"
   ]
  },
  {
   "cell_type": "markdown",
   "metadata": {},
   "source": [
    "```{note}\n",
    "終わりです．\n",
    "```"
   ]
  }
 ],
 "metadata": {
  "colab": {
   "authorship_tag": "ABX9TyP6gD0BG8EusFp71aVmWZ6L",
   "collapsed_sections": [],
   "name": "2-python.ipynb",
   "provenance": [],
   "toc_visible": true
  },
  "kernelspec": {
   "display_name": "Python 3 (ipykernel)",
   "language": "python",
   "name": "python3"
  },
  "language_info": {
   "codemirror_mode": {
    "name": "ipython",
    "version": 3
   },
   "file_extension": ".py",
   "mimetype": "text/x-python",
   "name": "python",
   "nbconvert_exporter": "python",
   "pygments_lexer": "ipython3",
   "version": "3.7.7"
  }
 },
 "nbformat": 4,
 "nbformat_minor": 1
}
